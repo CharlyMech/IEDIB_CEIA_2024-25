{
  "nbformat": 4,
  "nbformat_minor": 0,
  "metadata": {
    "colab": {
      "provenance": []
    },
    "kernelspec": {
      "name": "python3",
      "display_name": "Python 3"
    },
    "language_info": {
      "name": "python"
    }
  },
  "cells": [
    {
      "cell_type": "markdown",
      "source": [
        "#Lliurament 3. Regressió"
      ],
      "metadata": {
        "id": "qop2ndfQaBmY"
      }
    },
    {
      "cell_type": "markdown",
      "source": [
        "Aquesta és la tasca del tercer lliurament de Sistemes d'Aprenentatge Automàtic.\n",
        "\n",
        "Aplicarem a unes mateixes dades tres mètodes de regressió: regressió lineal simple, regressió robusta amb RANSAC i regressió amb arbres.\n",
        "\n",
        "Té setze apartats preguntes que puntuen tots igual: $0.625$ punts cadascun.\n",
        "\n",
        "Preneu com a guia el següent **[quadern de regressió](https://colab.research.google.com/drive/1EBCxdZ-VD_xPzKIbuLg1NSZj74hKWXiw?usp=sharing)**."
      ],
      "metadata": {
        "id": "tlRCqh_ht1Q1"
      }
    },
    {
      "cell_type": "markdown",
      "source": [
        "##1. Preparació de les dades\n",
        "\n",
        "a) Carregau el conjunt de dades Boston Housing.\n",
        "\n",
        "b) Considerau $x$ el nombre de cambres i $y$ el preu de l'habitatge.\n",
        "\n",
        "c) Representau la gràfica d'$y$ en funció de $x$ sense escalar.\n",
        "\n",
        "d) Obteniu versions escalades de les variables $x$ i $y$, amb els noms $x\\_std$ i $y\\_std$.\n"
      ],
      "metadata": {
        "id": "q_szyrgOEMWM"
      }
    },
    {
      "cell_type": "markdown",
      "source": [
        "##2. Regressió lineal"
      ],
      "metadata": {
        "id": "GLEwMME3uR17"
      }
    },
    {
      "cell_type": "markdown",
      "source": [
        "a) Ajustau un predictor lineal a les variables d'entrada i sortida escalades.\n",
        "\n",
        "b) Obteniu el valor de l'entrada escalada $x\\_std$ quan $x=6$ cambres.\n",
        "\n",
        "c) Amb el model de predicció, obteniu el valor de la sortida escalada $y\\_std$.\n",
        "\n",
        "d) Desescalau la sortida per obtenir el preu. Quin és el preu predit per a un habitatge de $6$ cambres? Contrastau el vostre resultat a la gràfica de l'apartat 1c, per confirmar que té sentit."
      ],
      "metadata": {
        "id": "yRmWq9BeubRi"
      }
    },
    {
      "cell_type": "markdown",
      "source": [
        "##3. RANSAC\n",
        "\n",
        "Hi ha una sèrie de dades fora del núvol central. Per això és adequat usar un sistema de regressió robusta. Proposau valors del llindar per aconseguir diferents proporcions de punts com a *inliers*.\n",
        "\n",
        "a) Obteniu tres llindars (*threshold*) diferents, que ajustin la recta a aproximadament una quarta part dels punts, la meitat dels punts i tres quartes parts dels punts.\n",
        "\n",
        "b) Representau gràficament les tres situacions de l'apartat anterior.\n",
        "\n",
        "c) Obteniu les tres prediccions del preu de l'habitatge de quatre cambres segons els tres models.\n",
        "\n",
        "d) Comentau la diferència entre els tres resultats d'aquesta pregunta i comparau-los també amb el resultat de la pregunta anterior. Se semblen bastant les prediccions? Són molt diferents?"
      ],
      "metadata": {
        "id": "slrIivf616QU"
      }
    },
    {
      "cell_type": "markdown",
      "source": [
        "##4. Regressió amb arbres de decisió\n",
        "\n",
        "a) Ajustau tres arbre de regressió a les mateixes dades que les preguntes anteriors, de forma que obtengueu infraajust, sobreajust i un bon ajust.\n",
        "\n",
        "b) Representau les tres gràfiques dels models superposades al núvol de punts.\n",
        "\n",
        "c) Quin és el preu predit per a un habitatge de 6 cambres amb el model de més bon ajust?\n",
        "\n",
        "d) Comparau aquest resultat amb els dels models lineal simple i RANSAC."
      ],
      "metadata": {
        "id": "cVtkPxfPwjEp"
      }
    }
  ]
}