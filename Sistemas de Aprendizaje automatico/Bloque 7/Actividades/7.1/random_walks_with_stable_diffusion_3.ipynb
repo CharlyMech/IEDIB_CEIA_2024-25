{
 "cells": [
  {
   "cell_type": "markdown",
   "metadata": {
    "id": "aqD0x2jHgTYC"
   },
   "source": [
    "# A walk through latent space with Stable Diffusion 3\n",
    "\n",
    "**Authors:** [Hongyu Chiu](https://github.com/james77777778), Ian Stenbit, [fchollet](https://twitter.com/fchollet), [lukewood](https://twitter.com/luke_wood_ml)<br>\n",
    "**Date created:** 2024/11/11<br>\n",
    "**Last modified:** 2024/11/11<br>\n",
    "**Description:** Explore the latent manifold of Stable Diffusion 3."
   ]
  },
  {
   "cell_type": "markdown",
   "metadata": {
    "id": "0oSv704OgTYD"
   },
   "source": [
    "## Overview\n",
    "\n",
    "Generative image models learn a \"latent manifold\" of the visual world: a\n",
    "low-dimensional vector space where each point maps to an image. Going from such\n",
    "a point on the manifold back to a displayable image is called \"decoding\" -- in\n",
    "the Stable Diffusion model, this is handled by the \"decoder\" model.\n",
    "\n",
    "![Stable Diffusion 3 Medium Architecture](/img/examples/generative/random_walks_with_stable_diffusion_3/mmdit.png)\n",
    "\n",
    "This latent manifold of images is continuous and interpolative, meaning that:\n",
    "\n",
    "1. Moving a little on the manifold only changes the corresponding image a\n",
    "little (continuity).\n",
    "2. For any two points A and B on the manifold (i.e. any two images), it is\n",
    "possible to move from A to B via a path where each intermediate point is also on\n",
    "the manifold (i.e. is also a valid image). Intermediate points would be called\n",
    "\"interpolations\" between the two starting images.\n",
    "\n",
    "Stable Diffusion isn't just an image model, though, it's also a natural language\n",
    "model. It has two latent spaces: the image representation space learned by the\n",
    "encoder used during training, and the prompt latent space which is learned using\n",
    "a combination of pretraining and training-time fine-tuning.\n",
    "\n",
    "_Latent space walking_, or _latent space exploration_, is the process of\n",
    "sampling a point in latent space and incrementally changing the latent\n",
    "representation. Its most common application is generating animations where each\n",
    "sampled point is fed to the decoder and is stored as a frame in the final\n",
    "animation.\n",
    "For high-quality latent representations, this produces coherent-looking\n",
    "animations. These animations can provide insight into the feature map of the\n",
    "latent space, and can ultimately lead to improvements in the training process.\n",
    "One such GIF is displayed below:\n",
    "\n",
    "![dog_to_cat_64.gif](/img/examples/generative/random_walks_with_stable_diffusion_3/dog_to_cat_64.gif)\n",
    "\n",
    "In this guide, we will show how to take advantage of the TextToImage API in\n",
    "KerasHub to perform prompt interpolation and circular walks through Stable\n",
    "Diffusion 3's visual latent manifold, as well as through the text encoder's\n",
    "latent manifold.\n",
    "\n",
    "This guide assumes the reader has a high-level understanding of Stable\n",
    "Diffusion 3. If you haven't already, you should start by reading the\n",
    "[Stable Diffusion 3 in KerasHub](\n",
    "https://keras.io/guides/keras_hub/stable_diffusion_3_in_keras_hub/).\n",
    "\n",
    "It is also worth noting that the preset \"stable_diffusion_3_medium\" excludes the\n",
    "T5XXL text encoder, as it requires significantly more GPU memory. The performace\n",
    "degradation is negligible in most cases. The weights, including T5XXL, will be\n",
    "available on KerasHub soon."
   ]
  },
  {
   "cell_type": "code",
   "execution_count": 1,
   "metadata": {
    "id": "Vm0DImtLgTYE"
   },
   "outputs": [
    {
     "data": {
      "text/plain": [
       "[\"\\x1b[31mERROR: pip's dependency resolver does not currently take into account all the packages that are installed. This behaviour is the source of the following dependency conflicts.\",\n",
       " 'keras-nlp 0.20.0 requires keras-hub==0.20.0, but you have keras-hub 0.21.0.dev0 which is incompatible.\\x1b[0m\\x1b[31m',\n",
       " '\\x1b[0m',\n",
       " '\\x1b[1m[\\x1b[0m\\x1b[34;49mnotice\\x1b[0m\\x1b[1;39;49m]\\x1b[0m\\x1b[39;49m A new release of pip is available: \\x1b[0m\\x1b[31;49m24.0\\x1b[0m\\x1b[39;49m -> \\x1b[0m\\x1b[32;49m25.0.1\\x1b[0m',\n",
       " '\\x1b[1m[\\x1b[0m\\x1b[34;49mnotice\\x1b[0m\\x1b[1;39;49m]\\x1b[0m\\x1b[39;49m To update, run: \\x1b[0m\\x1b[32;49mpip install --upgrade pip\\x1b[0m']"
      ]
     },
     "execution_count": 1,
     "metadata": {},
     "output_type": "execute_result"
    }
   ],
   "source": [
    "!# Use the latest version of KerasHub\n",
    "!!pip install -Uq git+https://github.com/keras-team/keras-hub.git"
   ]
  },
  {
   "cell_type": "code",
   "execution_count": 2,
   "metadata": {
    "id": "4-M7R-JfgTYF"
   },
   "outputs": [
    {
     "name": "stdout",
     "output_type": "stream",
     "text": [
      "Downloading from https://www.kaggle.com/api/v1/models/keras/stablediffusion3/keras/stable_diffusion_3_medium/4/download/config.json...\n"
     ]
    },
    {
     "name": "stderr",
     "output_type": "stream",
     "text": [
      "100%|██████████| 3.12k/3.12k [00:00<00:00, 4.52MB/s]\n"
     ]
    },
    {
     "name": "stdout",
     "output_type": "stream",
     "text": [
      "Downloading from https://www.kaggle.com/api/v1/models/keras/stablediffusion3/keras/stable_diffusion_3_medium/4/download/model.weights.h5...\n"
     ]
    },
    {
     "name": "stderr",
     "output_type": "stream",
     "text": [
      "100%|██████████| 5.57G/5.57G [06:13<00:00, 16.0MB/s]  \n"
     ]
    },
    {
     "name": "stdout",
     "output_type": "stream",
     "text": [
      "Downloading from https://www.kaggle.com/api/v1/models/keras/stablediffusion3/keras/stable_diffusion_3_medium/4/download/preprocessor.json...\n"
     ]
    },
    {
     "name": "stderr",
     "output_type": "stream",
     "text": [
      "100%|██████████| 4.08k/4.08k [00:00<00:00, 1.28MB/s]\n"
     ]
    },
    {
     "name": "stdout",
     "output_type": "stream",
     "text": [
      "Downloading from https://www.kaggle.com/api/v1/models/keras/stablediffusion3/keras/stable_diffusion_3_medium/4/download/assets/clip_l_tokenizer/vocabulary.json...\n"
     ]
    },
    {
     "name": "stderr",
     "output_type": "stream",
     "text": [
      "100%|██████████| 976k/976k [00:00<00:00, 1.53MB/s]\n"
     ]
    },
    {
     "name": "stdout",
     "output_type": "stream",
     "text": [
      "Downloading from https://www.kaggle.com/api/v1/models/keras/stablediffusion3/keras/stable_diffusion_3_medium/4/download/assets/clip_l_tokenizer/merges.txt...\n"
     ]
    },
    {
     "name": "stderr",
     "output_type": "stream",
     "text": [
      "100%|██████████| 512k/512k [00:00<00:00, 924kB/s]\n"
     ]
    },
    {
     "name": "stdout",
     "output_type": "stream",
     "text": [
      "Downloading from https://www.kaggle.com/api/v1/models/keras/stablediffusion3/keras/stable_diffusion_3_medium/4/download/assets/clip_g_tokenizer/vocabulary.json...\n"
     ]
    },
    {
     "name": "stderr",
     "output_type": "stream",
     "text": [
      "100%|██████████| 976k/976k [00:00<00:00, 1.53MB/s]\n"
     ]
    },
    {
     "name": "stdout",
     "output_type": "stream",
     "text": [
      "Downloading from https://www.kaggle.com/api/v1/models/keras/stablediffusion3/keras/stable_diffusion_3_medium/4/download/assets/clip_g_tokenizer/merges.txt...\n"
     ]
    },
    {
     "name": "stderr",
     "output_type": "stream",
     "text": [
      "100%|██████████| 512k/512k [00:00<00:00, 932kB/s]\n"
     ]
    }
   ],
   "source": [
    "import math\n",
    "\n",
    "import keras\n",
    "import keras_hub\n",
    "import matplotlib.pyplot as plt\n",
    "from keras import ops\n",
    "from keras import random\n",
    "from PIL import Image\n",
    "\n",
    "height, width = 512, 512\n",
    "num_steps = 28\n",
    "guidance_scale = 7.0\n",
    "dtype = \"float16\"\n",
    "\n",
    "# Instantiate the Stable Diffusion 3 model and the preprocessor\n",
    "backbone = keras_hub.models.StableDiffusion3Backbone.from_preset(\n",
    "    \"stable_diffusion_3_medium\", image_shape=(height, width, 3), dtype=dtype\n",
    ")\n",
    "preprocessor = keras_hub.models.StableDiffusion3TextToImagePreprocessor.from_preset(\n",
    "    \"stable_diffusion_3_medium\"\n",
    ")"
   ]
  },
  {
   "cell_type": "markdown",
   "metadata": {
    "id": "cEnRgx8SgTYF"
   },
   "source": [
    "Let's define some helper functions for this example."
   ]
  },
  {
   "cell_type": "code",
   "execution_count": 3,
   "metadata": {
    "id": "baijHVIlgTYF"
   },
   "outputs": [],
   "source": [
    "\n",
    "def get_text_embeddings(prompt):\n",
    "    \"\"\"Get the text embeddings for a given prompt.\"\"\"\n",
    "    token_ids = preprocessor.generate_preprocess([prompt])\n",
    "    negative_token_ids = preprocessor.generate_preprocess([\"\"])\n",
    "    (\n",
    "        positive_embeddings,\n",
    "        negative_embeddings,\n",
    "        positive_pooled_embeddings,\n",
    "        negative_pooled_embeddings,\n",
    "    ) = backbone.encode_text_step(token_ids, negative_token_ids)\n",
    "    return (\n",
    "        positive_embeddings,\n",
    "        negative_embeddings,\n",
    "        positive_pooled_embeddings,\n",
    "        negative_pooled_embeddings,\n",
    "    )\n",
    "\n",
    "\n",
    "def decode_to_images(x, height, width):\n",
    "    \"\"\"Concatenate and normalize the images to uint8 dtype.\"\"\"\n",
    "    x = ops.concatenate(x, axis=0)\n",
    "    x = ops.reshape(x, (-1, height, width, 3))\n",
    "    x = ops.clip(ops.divide(ops.add(x, 1.0), 2.0), 0.0, 1.0)\n",
    "    return ops.cast(ops.round(ops.multiply(x, 255.0)), \"uint8\")\n",
    "\n",
    "\n",
    "def generate_with_latents_and_embeddings(\n",
    "    latents, embeddings, num_steps, guidance_scale\n",
    "):\n",
    "    \"\"\"Generate images from latents and text embeddings.\"\"\"\n",
    "\n",
    "    def body_fun(step, latents):\n",
    "        return backbone.denoise_step(\n",
    "            latents,\n",
    "            embeddings,\n",
    "            step,\n",
    "            num_steps,\n",
    "            guidance_scale,\n",
    "        )\n",
    "\n",
    "    latents = ops.fori_loop(0, num_steps, body_fun, latents)\n",
    "    return backbone.decode_step(latents)\n",
    "\n",
    "\n",
    "def export_as_gif(filename, images, frames_per_second=10, no_rubber_band=False):\n",
    "    if not no_rubber_band:\n",
    "        images += images[2:-1][::-1]  # Makes a rubber band: A->B->A\n",
    "    images[0].save(\n",
    "        filename,\n",
    "        save_all=True,\n",
    "        append_images=images[1:],\n",
    "        duration=1000 // frames_per_second,\n",
    "        loop=0,\n",
    "    )\n"
   ]
  },
  {
   "cell_type": "markdown",
   "metadata": {
    "id": "_qu5E-Y0gTYG"
   },
   "source": [
    "We are going to generate images using custom latents and embeddings, so we need\n",
    "to implement the `generate_with_latents_and_embeddings` function. Additionally,\n",
    "it is important to compile this function to speed up the generation process."
   ]
  },
  {
   "cell_type": "code",
   "execution_count": 4,
   "metadata": {
    "id": "93n8CGLfgTYH"
   },
   "outputs": [],
   "source": [
    "if keras.config.backend() == \"torch\":\n",
    "    import torch\n",
    "\n",
    "    @torch.no_grad()\n",
    "    def wrapped_function(*args, **kwargs):\n",
    "        return generate_with_latents_and_embeddings(*args, **kwargs)\n",
    "\n",
    "    generate_function = wrapped_function\n",
    "elif keras.config.backend() == \"tensorflow\":\n",
    "    import tensorflow as tf\n",
    "\n",
    "    generate_function = tf.function(\n",
    "        generate_with_latents_and_embeddings, jit_compile=True\n",
    "    )\n",
    "elif keras.config.backend() == \"jax\":\n",
    "    import itertools\n",
    "\n",
    "    import jax\n",
    "\n",
    "    @jax.jit\n",
    "    def compiled_function(state, *args, **kwargs):\n",
    "        (trainable_variables, non_trainable_variables) = state\n",
    "        mapping = itertools.chain(\n",
    "            zip(backbone.trainable_variables, trainable_variables),\n",
    "            zip(backbone.non_trainable_variables, non_trainable_variables),\n",
    "        )\n",
    "        with keras.StatelessScope(state_mapping=mapping):\n",
    "            return generate_with_latents_and_embeddings(*args, **kwargs)\n",
    "\n",
    "    def wrapped_function(*args, **kwargs):\n",
    "        state = (\n",
    "            [v.value for v in backbone.trainable_variables],\n",
    "            [v.value for v in backbone.non_trainable_variables],\n",
    "        )\n",
    "        return compiled_function(state, *args, **kwargs)\n",
    "\n",
    "    generate_function = wrapped_function\n"
   ]
  },
  {
   "cell_type": "markdown",
   "metadata": {
    "id": "BqR0RuqAgTYH"
   },
   "source": [
    "## Interpolating between text prompts\n",
    "\n",
    "In Stable Diffusion 3, a text prompt is encoded into multiple vectors, which are\n",
    "then used to guide the diffusion process. These latent encoding vectors have\n",
    "shapes of 154x4096 and 2048 for both the positive and negative prompts - quite\n",
    "large! When we input a text prompt into Stable Diffusion 3, we generate images\n",
    "from a single point on this latent manifold.\n",
    "\n",
    "To explore more of this manifold, we can interpolate between two text encodings\n",
    "and generate images at those interpolated points:"
   ]
  },
  {
   "cell_type": "code",
   "execution_count": 5,
   "metadata": {
    "id": "3mOHcAbWgTYI"
   },
   "outputs": [
    {
     "name": "stdout",
     "output_type": "stream",
     "text": [
      "Positive embeddings shape: (1, 154, 4096)\n",
      "Negative embeddings shape: (1, 154, 4096)\n",
      "Positive pooled embeddings shape: (1, 2048)\n",
      "Negative pooled embeddings shape: (1, 2048)\n"
     ]
    }
   ],
   "source": [
    "prompt_1 = \"A cute dog in a beautiful field of lavander colorful flowers \"\n",
    "prompt_1 += \"everywhere, perfect lighting, leica summicron 35mm f2.0, kodak \"\n",
    "prompt_1 += \"portra 400, film grain\"\n",
    "prompt_2 = prompt_1.replace(\"dog\", \"cat\")\n",
    "interpolation_steps = 5\n",
    "\n",
    "encoding_1 = get_text_embeddings(prompt_1)\n",
    "encoding_2 = get_text_embeddings(prompt_2)\n",
    "\n",
    "\n",
    "# Show the size of the latent manifold\n",
    "print(f\"Positive embeddings shape: {encoding_1[0].shape}\")\n",
    "print(f\"Negative embeddings shape: {encoding_1[1].shape}\")\n",
    "print(f\"Positive pooled embeddings shape: {encoding_1[2].shape}\")\n",
    "print(f\"Negative pooled embeddings shape: {encoding_1[3].shape}\")\n"
   ]
  },
  {
   "cell_type": "markdown",
   "metadata": {
    "id": "Fq7at_AKgTYI"
   },
   "source": [
    "In this example, we want to use Spherical Linear Interpolation (slerp) instead\n",
    "of simple linear interpolation. Slerp is commonly used in computer graphics to\n",
    "animate rotations smoothly and can also be applied to interpolate between\n",
    "high-dimensional data points, such as latent vectors used in generative models.\n",
    "\n",
    "The source is from Andrej Karpathy's gist:\n",
    "[https://gist.github.com/karpathy/00103b0037c5aaea32fe1da1af553355](https://gist.github.com/karpathy/00103b0037c5aaea32fe1da1af553355).\n",
    "\n",
    "A more detailed explanation of this method can be found at:\n",
    "[https://en.wikipedia.org/wiki/Slerp](https://en.wikipedia.org/wiki/Slerp)."
   ]
  },
  {
   "cell_type": "code",
   "execution_count": 6,
   "metadata": {
    "id": "WFFFnEtTgTYI"
   },
   "outputs": [],
   "source": [
    "\n",
    "def slerp(v1, v2, num):\n",
    "    ori_dtype = v1.dtype\n",
    "    # Cast to float32 for numerical stability.\n",
    "    v1 = ops.cast(v1, \"float32\")\n",
    "    v2 = ops.cast(v2, \"float32\")\n",
    "\n",
    "    def interpolation(t, v1, v2, dot_threshold=0.9995):\n",
    "        \"\"\"helper function to spherically interpolate two arrays.\"\"\"\n",
    "        dot = ops.sum(\n",
    "            v1 * v2 / (ops.linalg.norm(ops.ravel(v1)) * ops.linalg.norm(ops.ravel(v2)))\n",
    "        )\n",
    "        if ops.abs(dot) > dot_threshold:\n",
    "            v2 = (1 - t) * v1 + t * v2\n",
    "        else:\n",
    "            theta_0 = ops.arccos(dot)\n",
    "            sin_theta_0 = ops.sin(theta_0)\n",
    "            theta_t = theta_0 * t\n",
    "            sin_theta_t = ops.sin(theta_t)\n",
    "            s0 = ops.sin(theta_0 - theta_t) / sin_theta_0\n",
    "            s1 = sin_theta_t / sin_theta_0\n",
    "            v2 = s0 * v1 + s1 * v2\n",
    "        return v2\n",
    "\n",
    "    t = ops.linspace(0, 1, num)\n",
    "    interpolated = ops.stack([interpolation(t[i], v1, v2) for i in range(num)], axis=0)\n",
    "    return ops.cast(interpolated, ori_dtype)\n",
    "\n",
    "\n",
    "interpolated_positive_embeddings = slerp(\n",
    "    encoding_1[0], encoding_2[0], interpolation_steps\n",
    ")\n",
    "interpolated_positive_pooled_embeddings = slerp(\n",
    "    encoding_1[2], encoding_2[2], interpolation_steps\n",
    ")\n",
    "# We don't use negative prompts in this example, so there’s no need to\n",
    "# interpolate them.\n",
    "negative_embeddings = encoding_1[1]\n",
    "negative_pooled_embeddings = encoding_1[3]\n"
   ]
  },
  {
   "cell_type": "markdown",
   "metadata": {
    "id": "lvYAHti-gTYI"
   },
   "source": [
    "Once we've interpolated the encodings, we can generate images from each point.\n",
    "Note that in order to maintain some stability between the resulting images we\n",
    "keep the diffusion latents constant between images."
   ]
  },
  {
   "cell_type": "code",
   "execution_count": 7,
   "metadata": {
    "id": "7XS9Z7rVgTYI"
   },
   "outputs": [
    {
     "name": "stderr",
     "output_type": "stream",
     "text": [
      "WARNING: All log messages before absl::InitializeLog() is called are written to STDERR\n",
      "I0000 00:00:1743748967.738406   74900 service.cc:148] XLA service 0x34b112a10 initialized for platform Host (this does not guarantee that XLA will be used). Devices:\n",
      "I0000 00:00:1743748967.738730   74900 service.cc:156]   StreamExecutor device (0): Host, Default Version\n",
      "2025-04-04 08:42:48.130807: I tensorflow/compiler/mlir/tensorflow/utils/dump_mlir_util.cc:268] disabling MLIR crash reproducer, set env var `MLIR_CRASH_REPRODUCER_DIRECTORY` to enable.\n",
      "I0000 00:00:1743748971.860793   74900 device_compiler.h:188] Compiled cluster using XLA!  This line is logged at most once for the lifetime of the process.\n"
     ]
    },
    {
     "name": "stdout",
     "output_type": "stream",
     "text": [
      "\u001b[1m5/5\u001b[0m \u001b[32m━━━━━━━━━━━━━━━━━━━━\u001b[0m\u001b[37m\u001b[0m \u001b[1m1197s\u001b[0m 239s/step\n"
     ]
    }
   ],
   "source": [
    "latents = random.normal((1, height // 8, width // 8, 16), seed=42)\n",
    "\n",
    "images = []\n",
    "progbar = keras.utils.Progbar(interpolation_steps)\n",
    "for i in range(interpolation_steps):\n",
    "    images.append(\n",
    "        generate_function(\n",
    "            latents,\n",
    "            (\n",
    "                interpolated_positive_embeddings[i],\n",
    "                negative_embeddings,\n",
    "                interpolated_positive_pooled_embeddings[i],\n",
    "                negative_pooled_embeddings,\n",
    "            ),\n",
    "            ops.convert_to_tensor(num_steps),\n",
    "            ops.convert_to_tensor(guidance_scale),\n",
    "        )\n",
    "    )\n",
    "    progbar.update(i + 1, finalize=i == interpolation_steps - 1)"
   ]
  },
  {
   "cell_type": "markdown",
   "metadata": {
    "id": "YDDGfK-TgTYI"
   },
   "source": [
    "Now that we've generated some interpolated images, let's take a look at them!\n",
    "\n",
    "Throughout this tutorial, we're going to export sequences of images as gifs so\n",
    "that they can be easily viewed with some temporal context. For sequences of\n",
    "images where the first and last images don't match conceptually, we rubber-band\n",
    "the gif.\n",
    "\n",
    "If you're running in Colab, you can view your own GIFs by running:\n",
    "\n",
    "```\n",
    "from IPython.display import Image as IImage\n",
    "IImage(\"dog_to_cat_5.gif\")\n",
    "```"
   ]
  },
  {
   "cell_type": "code",
   "execution_count": 8,
   "metadata": {
    "id": "1PVYbQmXgTYI"
   },
   "outputs": [],
   "source": [
    "images = ops.convert_to_numpy(decode_to_images(images, height, width))\n",
    "export_as_gif(\n",
    "    \"dog_to_cat_5.gif\",\n",
    "    [Image.fromarray(image) for image in images],\n",
    "    frames_per_second=2,\n",
    ")"
   ]
  },
  {
   "cell_type": "markdown",
   "metadata": {
    "id": "RbHaq-zegTYJ"
   },
   "source": [
    "The results may seem surprising. Generally, interpolating between prompts\n",
    "produces coherent looking images, and often demonstrates a progressive concept\n",
    "shift between the contents of the two prompts. This is indicative of a high\n",
    "quality representation space, that closely mirrors the natural structure of the\n",
    "visual world.\n",
    "\n",
    "To best visualize this, we should do a much more fine-grained interpolation,\n",
    "using more steps."
   ]
  },
  {
   "cell_type": "code",
   "execution_count": null,
   "metadata": {
    "id": "0gB_6TUEgTYJ"
   },
   "outputs": [
    {
     "name": "stdout",
     "output_type": "stream",
     "text": [
      "\u001b[1m16/16\u001b[0m \u001b[32m━━━━━━━━━━━━━━━━━━━━\u001b[0m\u001b[37m\u001b[0m \u001b[1m12406s\u001b[0m 774s/step\n"
     ]
    }
   ],
   "source": [
    "interpolation_steps = 64\n",
    "batch_size = 4\n",
    "batches = interpolation_steps // batch_size\n",
    "\n",
    "interpolated_positive_embeddings = slerp(\n",
    "    encoding_1[0], encoding_2[0], interpolation_steps\n",
    ")\n",
    "interpolated_positive_pooled_embeddings  = slerp(\n",
    "    encoding_1[2], encoding_2[2], interpolation_steps\n",
    ")\n",
    "positive_embeddings_shape = ops.shape(encoding_1[0])\n",
    "positive_pooled_embeddings_shape = ops.shape(encoding_1[2])\n",
    "interpolated_positive_embeddings = ops.reshape(\n",
    "    interpolated_positive_embeddings,\n",
    "    (\n",
    "        batches,\n",
    "        batch_size,\n",
    "        positive_embeddings_shape[-2],\n",
    "        positive_embeddings_shape[-1],\n",
    "    ),\n",
    ")\n",
    "interpolated_positive_pooled_embeddings = ops.reshape(\n",
    "    interpolated_positive_pooled_embeddings,\n",
    "    (batches, batch_size, positive_pooled_embeddings_shape[-1]),\n",
    ")\n",
    "negative_embeddings = ops.tile(encoding_1[1], (batch_size, 1, 1))\n",
    "negative_pooled_embeddings = ops.tile(encoding_1[3], (batch_size, 1))\n",
    "\n",
    "latents = random.normal((1, height // 8, width // 8, 16), seed=42)\n",
    "latents = ops.tile(latents, (batch_size, 1, 1, 1))\n",
    "\n",
    "images = []\n",
    "progbar = keras.utils.Progbar(batches)\n",
    "for i in range(batches):\n",
    "    images.append(\n",
    "        generate_function(\n",
    "            latents,\n",
    "            (\n",
    "                interpolated_positive_embeddings[i],\n",
    "                negative_embeddings,\n",
    "                interpolated_positive_pooled_embeddings[i],\n",
    "                negative_pooled_embeddings,\n",
    "            ),\n",
    "            ops.convert_to_tensor(num_steps),\n",
    "            ops.convert_to_tensor(guidance_scale),\n",
    "        )\n",
    "    )\n",
    "    progbar.update(i + 1, finalize=i == batches - 1)\n",
    "\n",
    "images = ops.convert_to_numpy(decode_to_images(images, height, width))\n",
    "export_as_gif(\n",
    "    \"dog_to_cat_64.gif\",\n",
    "    [Image.fromarray(image) for image in images],\n",
    "    frames_per_second=2,\n",
    ")"
   ]
  },
  {
   "cell_type": "markdown",
   "metadata": {
    "id": "_bX6SxBVgTYJ"
   },
   "source": [
    "The resulting gif shows a much clearer and more coherent shift between the two\n",
    "prompts. Try out some prompts of your own and experiment!\n",
    "\n",
    "We can even extend this concept for more than one image. For example, we can\n",
    "interpolate between four prompts:"
   ]
  },
  {
   "cell_type": "code",
   "execution_count": null,
   "metadata": {
    "id": "ecQXWE35gTYJ"
   },
   "outputs": [
    {
     "name": "stdout",
     "output_type": "stream",
     "text": [
      "\u001b[1m 2/16\u001b[0m \u001b[32m━━\u001b[0m\u001b[37m━━━━━━━━━━━━━━━━━━\u001b[0m \u001b[1m3:02:15\u001b[0m 781s/step"
     ]
    }
   ],
   "source": [
    "prompt_1 = \"A watercolor painting of a Golden Retriever at the beach\"\n",
    "prompt_2 = \"A still life DSLR photo of a bowl of fruit\"\n",
    "prompt_3 = \"The eiffel tower in the style of starry night\"\n",
    "prompt_4 = \"An architectural sketch of a skyscraper\"\n",
    "\n",
    "interpolation_steps = 8\n",
    "batch_size = 4\n",
    "batches = (interpolation_steps**2) // batch_size\n",
    "\n",
    "encoding_1 = get_text_embeddings(prompt_1)\n",
    "encoding_2 = get_text_embeddings(prompt_2)\n",
    "encoding_3 = get_text_embeddings(prompt_3)\n",
    "encoding_4 = get_text_embeddings(prompt_4)\n",
    "\n",
    "positive_embeddings_shape = ops.shape(encoding_1[0])\n",
    "positive_pooled_embeddings_shape = ops.shape(encoding_1[2])\n",
    "interpolated_positive_embeddings_12 = slerp(\n",
    "    encoding_1[0], encoding_2[0], interpolation_steps\n",
    ")\n",
    "interpolated_positive_embeddings_34 = slerp(\n",
    "    encoding_3[0], encoding_4[0], interpolation_steps\n",
    ")\n",
    "interpolated_positive_embeddings = slerp(\n",
    "    interpolated_positive_embeddings_12,\n",
    "    interpolated_positive_embeddings_34,\n",
    "    interpolation_steps,\n",
    ")\n",
    "interpolated_positive_embeddings = ops.reshape(\n",
    "    interpolated_positive_embeddings,\n",
    "    (\n",
    "        batches,\n",
    "        batch_size,\n",
    "        positive_embeddings_shape[-2],\n",
    "        positive_embeddings_shape[-1],\n",
    "    ),\n",
    ")\n",
    "interpolated_positive_pooled_embeddings_12 = slerp(\n",
    "    encoding_1[2], encoding_2[2], interpolation_steps\n",
    ")\n",
    "interpolated_positive_pooled_embeddings_34 = slerp(\n",
    "    encoding_3[2], encoding_4[2], interpolation_steps\n",
    ")\n",
    "interpolated_positive_pooled_embeddings = slerp(\n",
    "    interpolated_positive_pooled_embeddings_12,\n",
    "    interpolated_positive_pooled_embeddings_34,\n",
    "    interpolation_steps,\n",
    ")\n",
    "interpolated_positive_pooled_embeddings = ops.reshape(\n",
    "    interpolated_positive_pooled_embeddings,\n",
    "    (batches, batch_size, positive_pooled_embeddings_shape[-1]),\n",
    ")\n",
    "negative_embeddings = ops.tile(encoding_1[1], (batch_size, 1, 1))\n",
    "negative_pooled_embeddings = ops.tile(encoding_1[3], (batch_size, 1))\n",
    "\n",
    "latents = random.normal((1, height // 8, width // 8, 16), seed=42)\n",
    "latents = ops.tile(latents, (batch_size, 1, 1, 1))\n",
    "\n",
    "images = []\n",
    "progbar = keras.utils.Progbar(batches)\n",
    "for i in range(batches):\n",
    "    images.append(\n",
    "        generate_function(\n",
    "            latents,\n",
    "            (\n",
    "                interpolated_positive_embeddings[i],\n",
    "                negative_embeddings,\n",
    "                interpolated_positive_pooled_embeddings[i],\n",
    "                negative_pooled_embeddings,\n",
    "            ),\n",
    "            ops.convert_to_tensor(num_steps),\n",
    "            ops.convert_to_tensor(guidance_scale),\n",
    "        )\n",
    "    )\n",
    "    progbar.update(i + 1, finalize=i == batches - 1)\n"
   ]
  },
  {
   "cell_type": "markdown",
   "metadata": {
    "id": "EDME2GbqgTYJ"
   },
   "source": [
    "Let's display the resulting images in a grid to make them easier to interpret."
   ]
  },
  {
   "cell_type": "code",
   "execution_count": null,
   "metadata": {
    "id": "oFv4K3GagTYJ"
   },
   "outputs": [],
   "source": [
    "\n",
    "def plot_grid(images, path, grid_size, scale=2):\n",
    "    fig, axs = plt.subplots(\n",
    "        grid_size, grid_size, figsize=(grid_size * scale, grid_size * scale)\n",
    "    )\n",
    "    fig.tight_layout()\n",
    "    plt.subplots_adjust(wspace=0, hspace=0)\n",
    "    plt.axis(\"off\")\n",
    "    for ax in axs.flat:\n",
    "        ax.axis(\"off\")\n",
    "\n",
    "    for i in range(min(grid_size * grid_size, len(images))):\n",
    "        ax = axs.flat[i]\n",
    "        ax.imshow(images[i])\n",
    "        ax.axis(\"off\")\n",
    "\n",
    "    for i in range(len(images), grid_size * grid_size):\n",
    "        axs.flat[i].axis(\"off\")\n",
    "        axs.flat[i].remove()\n",
    "\n",
    "    plt.savefig(\n",
    "        fname=path,\n",
    "        pad_inches=0,\n",
    "        bbox_inches=\"tight\",\n",
    "        transparent=False,\n",
    "        dpi=60,\n",
    "    )\n",
    "\n",
    "\n",
    "images = ops.convert_to_numpy(decode_to_images(images, height, width))\n",
    "plot_grid(images, \"4-way-interpolation.jpg\", interpolation_steps)"
   ]
  },
  {
   "cell_type": "markdown",
   "metadata": {
    "id": "kaHhbLgfgTYJ"
   },
   "source": [
    "We can also interpolate while allowing diffusion latents to vary by dropping\n",
    "the `seed` parameter:"
   ]
  },
  {
   "cell_type": "code",
   "execution_count": null,
   "metadata": {
    "id": "4IO5Ps-3gTYJ"
   },
   "outputs": [],
   "source": [
    "images = []\n",
    "progbar = keras.utils.Progbar(batches)\n",
    "for i in range(batches):\n",
    "    # Vary diffusion latents for each input.\n",
    "    latents = random.normal((batch_size, height // 8, width // 8, 16))\n",
    "    images.append(\n",
    "        generate_function(\n",
    "            latents,\n",
    "            (\n",
    "                interpolated_positive_embeddings[i],\n",
    "                negative_embeddings,\n",
    "                interpolated_positive_pooled_embeddings[i],\n",
    "                negative_pooled_embeddings,\n",
    "            ),\n",
    "            ops.convert_to_tensor(num_steps),\n",
    "            ops.convert_to_tensor(guidance_scale),\n",
    "        )\n",
    "    )\n",
    "    progbar.update(i + 1, finalize=i == batches - 1)\n",
    "\n",
    "images = ops.convert_to_numpy(decode_to_images(images, height, width))\n",
    "plot_grid(images, \"4-way-interpolation-varying-latent.jpg\", interpolation_steps)"
   ]
  },
  {
   "cell_type": "markdown",
   "metadata": {
    "id": "w4m1fFdLgTYJ"
   },
   "source": [
    "Next up -- let's go for some walks!\n",
    "\n",
    "## A walk around a text prompt\n",
    "\n",
    "Our next experiment will be to go for a walk around the latent manifold\n",
    "starting from a point produced by a particular prompt."
   ]
  },
  {
   "cell_type": "code",
   "execution_count": null,
   "metadata": {
    "id": "mNZjLugbgTYJ"
   },
   "outputs": [],
   "source": [
    "walk_steps = 64\n",
    "batch_size = 4\n",
    "batches = walk_steps // batch_size\n",
    "step_size = 0.01\n",
    "prompt = \"The eiffel tower in the style of starry night\"\n",
    "encoding = get_text_embeddings(prompt)\n",
    "\n",
    "positive_embeddings = encoding[0]\n",
    "positive_pooled_embeddings = encoding[2]\n",
    "negative_embeddings = encoding[1]\n",
    "negative_pooled_embeddings = encoding[3]\n",
    "\n",
    "# The shape of `positive_embeddings`: (1, 154, 4096)\n",
    "# The shape of `positive_pooled_embeddings`: (1, 2048)\n",
    "positive_embeddings_delta = ops.ones_like(positive_embeddings) * step_size\n",
    "positive_pooled_embeddings_delta = ops.ones_like(positive_pooled_embeddings) * step_size\n",
    "positive_embeddings_shape = ops.shape(positive_embeddings)\n",
    "positive_pooled_embeddings_shape = ops.shape(positive_pooled_embeddings)\n",
    "\n",
    "walked_positive_embeddings = []\n",
    "walked_positive_pooled_embeddings = []\n",
    "for step_index in range(walk_steps):\n",
    "    walked_positive_embeddings.append(positive_embeddings)\n",
    "    walked_positive_pooled_embeddings.append(positive_pooled_embeddings)\n",
    "    positive_embeddings += positive_embeddings_delta\n",
    "    positive_pooled_embeddings += positive_pooled_embeddings_delta\n",
    "walked_positive_embeddings = ops.stack(walked_positive_embeddings, axis=0)\n",
    "walked_positive_pooled_embeddings = ops.stack(walked_positive_pooled_embeddings, axis=0)\n",
    "walked_positive_embeddings = ops.reshape(\n",
    "    walked_positive_embeddings,\n",
    "    (\n",
    "        batches,\n",
    "        batch_size,\n",
    "        positive_embeddings_shape[-2],\n",
    "        positive_embeddings_shape[-1],\n",
    "    ),\n",
    ")\n",
    "walked_positive_pooled_embeddings = ops.reshape(\n",
    "    walked_positive_pooled_embeddings,\n",
    "    (batches, batch_size, positive_pooled_embeddings_shape[-1]),\n",
    ")\n",
    "negative_embeddings = ops.tile(encoding_1[1], (batch_size, 1, 1))\n",
    "negative_pooled_embeddings = ops.tile(encoding_1[3], (batch_size, 1))\n",
    "\n",
    "latents = random.normal((1, height // 8, width // 8, 16), seed=42)\n",
    "latents = ops.tile(latents, (batch_size, 1, 1, 1))\n",
    "\n",
    "images = []\n",
    "progbar = keras.utils.Progbar(batches)\n",
    "for i in range(batches):\n",
    "    images.append(\n",
    "        generate_function(\n",
    "            latents,\n",
    "            (\n",
    "                walked_positive_embeddings[i],\n",
    "                negative_embeddings,\n",
    "                walked_positive_pooled_embeddings[i],\n",
    "                negative_pooled_embeddings,\n",
    "            ),\n",
    "            ops.convert_to_tensor(num_steps),\n",
    "            ops.convert_to_tensor(guidance_scale),\n",
    "        )\n",
    "    )\n",
    "    progbar.update(i + 1, finalize=i == batches - 1)\n",
    "\n",
    "images = ops.convert_to_numpy(decode_to_images(images, height, width))\n",
    "export_as_gif(\n",
    "    \"eiffel-tower-starry-night.gif\",\n",
    "    [Image.fromarray(image) for image in images],\n",
    "    frames_per_second=2,\n",
    ")"
   ]
  },
  {
   "cell_type": "markdown",
   "metadata": {
    "id": "H0o4nLD-gTYJ"
   },
   "source": [
    "Perhaps unsurprisingly, walking too far from the encoder's latent manifold\n",
    "produces images that look incoherent. Try it for yourself by setting your own\n",
    "prompt, and adjusting `step_size` to increase or decrease the magnitude\n",
    "of the walk. Note that when the magnitude of the walk gets large, the walk often\n",
    "leads into areas which produce extremely noisy images.\n",
    "\n",
    "## A circular walk through the diffusion latent space for a single prompt\n",
    "\n",
    "Our final experiment is to stick to one prompt and explore the variety of images\n",
    "that the diffusion model can produce from that prompt. We do this by controlling\n",
    "the noise that is used to seed the diffusion process.\n",
    "\n",
    "We create two noise components, `x` and `y`, and do a walk from 0 to 2π, summing\n",
    "the cosine of our `x` component and the sin of our `y` component to produce\n",
    "noise. Using this approach, the end of our walk arrives at the same noise inputs\n",
    "where we began our walk, so we get a \"loopable\" result!"
   ]
  },
  {
   "cell_type": "code",
   "execution_count": null,
   "metadata": {
    "id": "8rpOz89dgTYJ"
   },
   "outputs": [],
   "source": [
    "walk_steps = 64\n",
    "batch_size = 4\n",
    "batches = walk_steps // batch_size\n",
    "prompt = \"An oil paintings of cows in a field next to a windmill in Holland\"\n",
    "encoding = get_text_embeddings(prompt)\n",
    "\n",
    "walk_latent_x = random.normal((1, height // 8, width // 8, 16))\n",
    "walk_latent_y = random.normal((1, height // 8, width // 8, 16))\n",
    "walk_scale_x = ops.cos(ops.linspace(0.0, 2.0, walk_steps) * math.pi)\n",
    "walk_scale_y = ops.sin(ops.linspace(0.0, 2.0, walk_steps) * math.pi)\n",
    "latent_x = ops.tensordot(walk_scale_x, walk_latent_x, axes=0)\n",
    "latent_y = ops.tensordot(walk_scale_y, walk_latent_y, axes=0)\n",
    "latents = ops.add(latent_x, latent_y)\n",
    "latents = ops.reshape(latents, (batches, batch_size, height // 8, width // 8, 16))\n",
    "\n",
    "images = []\n",
    "progbar = keras.utils.Progbar(batches)\n",
    "for i in range(batches):\n",
    "    images.append(\n",
    "        generate_function(\n",
    "            latents[i],\n",
    "            (\n",
    "                ops.tile(encoding[0], (batch_size, 1, 1)),\n",
    "                ops.tile(encoding[1], (batch_size, 1, 1)),\n",
    "                ops.tile(encoding[2], (batch_size, 1)),\n",
    "                ops.tile(encoding[3], (batch_size, 1)),\n",
    "            ),\n",
    "            ops.convert_to_tensor(num_steps),\n",
    "            ops.convert_to_tensor(guidance_scale),\n",
    "        )\n",
    "    )\n",
    "    progbar.update(i + 1, finalize=i == batches - 1)\n",
    "\n",
    "images = ops.convert_to_numpy(decode_to_images(images, height, width))\n",
    "export_as_gif(\n",
    "    \"cows.gif\",\n",
    "    [Image.fromarray(image) for image in images],\n",
    "    frames_per_second=4,\n",
    "    no_rubber_band=True,\n",
    ")"
   ]
  },
  {
   "cell_type": "markdown",
   "metadata": {
    "id": "VLpJ_98wgTYK"
   },
   "source": [
    "Experiment with your own prompts and with different values of the parameters!\n",
    "\n",
    "## Conclusion\n",
    "\n",
    "Stable Diffusion 3 offers a lot more than just single text-to-image generation.\n",
    "Exploring the latent manifold of the text encoder and the latent space of the\n",
    "diffusion model are two fun ways to experience the power of this model, and\n",
    "KerasHub makes it easy!"
   ]
  }
 ],
 "metadata": {
  "accelerator": "GPU",
  "colab": {
   "name": "random_walks_with_stable_diffusion_3",
   "provenance": [],
   "toc_visible": true
  },
  "kernelspec": {
   "display_name": ".venv",
   "language": "python",
   "name": "python3"
  },
  "language_info": {
   "codemirror_mode": {
    "name": "ipython",
    "version": 3
   },
   "file_extension": ".py",
   "mimetype": "text/x-python",
   "name": "python",
   "nbconvert_exporter": "python",
   "pygments_lexer": "ipython3",
   "version": "3.12.3"
  }
 },
 "nbformat": 4,
 "nbformat_minor": 0
}
