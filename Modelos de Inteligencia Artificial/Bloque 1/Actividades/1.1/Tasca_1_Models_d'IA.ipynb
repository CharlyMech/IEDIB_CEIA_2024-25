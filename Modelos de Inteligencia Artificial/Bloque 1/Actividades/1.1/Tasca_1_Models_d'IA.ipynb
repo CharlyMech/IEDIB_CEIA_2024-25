{
  "cells": [
    {
      "cell_type": "markdown",
      "metadata": {
        "id": "SLuA3Igh0_y-"
      },
      "source": [
        "# Tasca 1\n",
        "\n",
        "Aquest quadern és la Tasca 1 de Models d'intel·ligència artificial.\n",
        "\n",
        "Quan l'hàgiu acabada, davallau-la com a .ipynb i lliurau-la al Moodle del mòdul.\n",
        "\n",
        "Recordau que teniu el fòrum de dubtes per resoldre les dificultats que pugueu trobar.\n",
        "\n",
        "Ànim i endavant!"
      ]
    },
    {
      "cell_type": "markdown",
      "metadata": {
        "id": "-7bdM3861z2X"
      },
      "source": [
        "## Pregunta 1\n",
        "\n",
        "   Llegiu l'article Cap a la intel·ligència artificial de Ramon López de Mántaras\n",
        "https://metode.cat/revistes-metode/monografics/cap-a-la-intelligencia-artificial.html\n",
        "   \n",
        "\n",
        "   a) Quin és l'objectiu de la intel·ligència artificial, segons López de Mántaras en aquest article?\n",
        "\n",
        "   b) En quin o quins dels quatre quadrants proposats per Russell i Norvig la situau? (pensar humanament, actuar humanament, pensar racionalment, actuar racionalment) Argumentau-ho.\n",
        "   \n",
        "   c) Discutiu l'argument de Weizenbaum amb què López de Mántaras expressa el seu acord: \"cap màquina hauria de prendre decisions de manera completament autònoma o donar consells que requereixin, entre altres coses, saviesa, producte d’experiències humanes, així com tenir en compte valors humans.\" Trobau-hi arguments a favor i en contra.\n",
        "\n",
        "   d) Ponderau els vostres arguments a favor i en contra i preneu una decisió final sobre el vostre acord o desacord amb Weizenbaum i López de Mántaras.\n",
        "   "
      ]
    },
    {
      "cell_type": "markdown",
      "metadata": {
        "id": "ex_Ulo6m2I2t"
      },
      "source": [
        "## Pregunta 2\n",
        "\n",
        "Comentau una aplicació de la IA del vostre interès. Podeu cercar-la a partir dels temes mencionats als apunts.\n",
        "\n",
        "a) Donau un enllaç a una explicació d'aquesta aplicació (pot ser un article, una entrada d'un blog, una notícia...)\n",
        "\n",
        "b) Descriviu-la breument.\n",
        "\n",
        "c) Justificau per què pensau que és una aplicació rellevant.\n",
        "\n",
        "d) Quins problemes ètics planteja?\n"
      ]
    },
    {
      "cell_type": "markdown",
      "metadata": {
        "id": "DOM5kTT_1Z8O"
      },
      "source": [
        "\n",
        "## Pregunta 3\n",
        "\n",
        "a) Justificau la vostra opinió sobre la proposta per una pausa en la investigació d'IA avançada.\n",
        "\n",
        "https://futureoflife.org/open-letter/pause-giant-ai-experiments/\n",
        "\n",
        "b) Un temps després de la publicació de la carta, el CAIS fa publicar un manifest molt breu de 22 paraules, molt relacionat amb la carta anterior. Amb quines tecnologies compara aquest manifest la IA? En la vostra opinió, la comparació és adequada?\n",
        "\n",
        "https://www.safe.ai/statement-on-ai-risk\n",
        "\n",
        "b) Quins són els tres investigadors en IA que varen rebre el premi Turing el 2019?\n",
        "\n",
        "c) D'aquests tres pioners, quins varen signar el manifest breu?\n",
        "\n",
        "d) Pensau que això és una mostra de la unanimitat o de la divisió d'opinions dins la comunitat d'IA sobre els riscos de la tecnologia?"
      ]
    },
    {
      "cell_type": "markdown",
      "metadata": {
        "id": "EAFM46545d0X"
      },
      "source": [
        "## Pregunta 4\n",
        "\n",
        "Triau un dels textos del número especial sobre intel·ligència artificial https://revistaidees.cat/monografics/intelligencia-artificial/ i comentau-lo responent aquestes qüestions.\n",
        "\n",
        "a) Per què heu triat aquest article?\n",
        "\n",
        "b) Realitzau un perfil de l'autor o autors.\n",
        "\n",
        "c) Resumiu les idees principals que s'hi exposen.\n",
        "\n",
        "d) Justificau el vostre acord o desacord amb el contingut."
      ]
    },
    {
      "cell_type": "markdown",
      "metadata": {
        "id": "gb6xs3_B3MdN"
      },
      "source": [
        "## Pregunta 5\n",
        "\n",
        "Cercau una notícia relacionada amb un impacte social de la IA. Com a exemple, un parell de temes que podem trobar fàcilment a la premsa són: vaga d'actors i guionistes per l'ús d'IA, la generació d'imatges personals falses o l'ús de la veu d'actors coneguts en sistemes automàtics de parla.\n",
        "\n",
        "Comentau-la responent a les qüestions següents.\n",
        "\n",
        "a) Donau l'enllaç a la notícia.\n",
        "\n",
        "b) Amb quins principis de la IA responsable està relacionada?\n",
        "\n",
        "c) Quin conflicte planteja la notícia?\n",
        "\n",
        "d) Quines vies de solució pensau que hi pot haver?\n",
        "\n",
        "e) S'han produït situacions semblants amb tecnologies anteriors a la IA?"
      ]
    }
  ],
  "metadata": {
    "colab": {
      "provenance": []
    },
    "kernelspec": {
      "display_name": "Python 3",
      "name": "python3"
    },
    "language_info": {
      "name": "python"
    }
  },
  "nbformat": 4,
  "nbformat_minor": 0
}
