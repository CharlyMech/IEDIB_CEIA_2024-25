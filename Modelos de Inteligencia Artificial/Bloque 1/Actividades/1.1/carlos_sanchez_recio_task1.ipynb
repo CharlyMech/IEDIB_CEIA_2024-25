{
 "cells": [
  {
   "cell_type": "markdown",
   "metadata": {
    "id": "SLuA3Igh0_y-"
   },
   "source": [
    "# Tarea 1\n",
    "\n",
    "Este cuaderno es la Tarea 1 de Modelos de inteligencia artificial.\n",
    "\n",
    "Cuando la hayáis terminado, descargadla como .ipynb y entregadla en el Moodle del módulo.\n",
    "\n",
    "Recordad que tenéis el foro de dudas para resolver las dificultades que podáis encontrar.\n",
    "\n",
    "¡Ánimo y adelante!"
   ]
  },
  {
   "cell_type": "markdown",
   "metadata": {
    "id": "-7bdM3861z2X"
   },
   "source": [
    "## Pregunta 1\n",
    "\n",
    "#### Leed el artículo [Cap a la intel·ligència artificial](https://metode.cat/revistes-metode/monografics/cap-a-la-intelligencia-artificial.html)\n",
    "\n",
    "#### a) ¿Cuál es el objetivo de la inteligencia artificial, según López de Mántaras en este artículo?\n",
    "\n",
    "   El primer objetivo que menciona el autor es el de construir una IA general capaz de realizar cualquier tipo de tarea, el cual se podría considerar el 'objetivo final' de todos los avances en el campo. Este objetivo principalmente se centra en crear un tipo de inteligencia capaz de imitar o simular el comportamiento humano, como razonar y reflexionar ante cualquier tipo de contexto entre otras características.\n",
    "\n",
    "   En el mismo artículo también menciona el siguiente objetivo, aunque parecido a fin de cuentas con el anterior mencionado, el cual se centra en lo que denomina 'IA fuerte':\n",
    "   \n",
    "   > Atès que podem considerar que l’objectiu de la IA és la recerca de programes capaços de produir conductes intel·ligents\n",
    "\n",
    "Cabe mencionar que esta definición puede ser aplicada a IAs de carácter específico o especializadas.\n",
    "\n",
    "En resumen, para el autor, el objetivo principal de la IA es la construcción de sistemas inteligentes capaces de trabajar de forma autónoma y de imitar comportamientos humanos tales como razonar, decidir y percibir.\n",
    "\n",
    "#### b) ¿En cuál o cuáles de los cuatro cuadrantes propuestos por Russell y Norvig la situáis? (pensar humanamente, actuar humanamente, pensar racionalmente, actuar racionalmente). Argumentad vuestra respuesta.\n",
    "\n",
    "Dado que el autor se centra en la 'imitación humana', el artículo entraría dentro de  **Actuar humanamente** ya que lo menciona de forma bastante explícita en la siguiente frase:\n",
    "\n",
    "> L’objectiu últim de la intel·ligència artificial (IA), aconseguir que una màquina tingui una intel·ligència de tipus general similar a la humana\n",
    "\n",
    "También se podría considerar que entra dentro del marco de **Pensar racionalmente** ya que también lo menciona así en repetidas ocasiones en el artículo que el objetivo final de la IA es crear agentes inteligentes capaces de pensar de forma racional.\n",
    "\n",
    "\n",
    "#### c) Discutid el argumento de Weizenbaum con el que López de Mántaras expresa su acuerdo: \"cap màquina hauria de prendre decisions de manera completament autònoma o donar consells que requereixin, entre altres coses, saviesa, producte d’experiències humanes, així com tenir en compte valors humans\". Encuentra argumentos a favor y en contra.\n",
    "\n",
    "Hablando desde mi punto de vista personal, la frase es bastante acertada dado el tiempo de madurez que tiene o la falta de evolución, pero haciendo una comparativa humana, esta tecnología está 'aprendiendo a andar'. Esta comparación pero puede no resultar muy acertada ya que se compara los conocimientos de GPT-4 con un estudiante universitario.\n",
    "\n",
    "- **A favor**:\n",
    "   - Las respuestas proporcionadas no tienen en consideración emociones o valores humanos ya que no son capaces de experimentarlos o entenderlos, lo cual resulta fundamental.\n",
    "   - Una respuesta basada en sabiduría y empatía requiere de un contexto y sus matices los cuales no pueden ser procesados por una máquina de forma completa.\n",
    "\n",
    "- **En contra**\n",
    "   - Al estar basadas en datos históricos, las máquinas son menos tendentes a cometer errores como los que comete el ser humano.\n",
    "   - En situaciones donde se requieren decisiones rápidas e imparciales, una IA podría tomar mejores decisiones que los humanos, especialmente si los humanos están influenciados por emociones o prejuicios.\n",
    "\n",
    "\n",
    "#### d) Ponderad vuestros argumentos a favor y en contra y tomad una decisión final sobre vuestro acuerdo o desacuerdo con Weizenbaum y López de Mántaras.\n",
    "\n",
    "Es un hecho que las máquinas, y la IA más en concreto, son infinitamente mejores que el ser humano realizando cálculos matemáticos y, actualmente, interpretándo sus resultados para obtener un 'output' (acción o respuesta). Esto, sin embargo, no considero que sea motivo suficiente para 'dejarlo en sus manos' ya que en muchas ocasiones emociones como la empatía o sabiduría evolutiva, juegan un papel mucho más importante que la lógica y los datos puros y duros.\n"
   ]
  },
  {
   "cell_type": "markdown",
   "metadata": {
    "id": "ex_Ulo6m2I2t"
   },
   "source": [
    "## Pregunta 2\n",
    "\n",
    "#### Comentad una aplicación de la IA de vuestro interés. Podéis buscarla a partir de los temas mencionados en los apuntes.\n",
    "\n",
    "#### a) Proporcionad un enlace a una explicación de esta aplicación (puede ser un artículo, una entrada de blog, una noticia...)\n",
    "\n",
    "- [Spotify Track Neural Recommender System](https://medium.com/stanford-cs224w/spotify-track-neural-recommender-system-51d266e31e16)\n",
    "- [Spotify uses TensorFlow machine learning for suggestions](https://jonahnz.com/articles/spotify-using-tensorflow-machine-learning-to-suggest-music-and-playlists/)\n",
    "- [Cómo funcionan las recomendaciones en Spotify](https://www.spotify.com/es/safetyandprivacy/understanding-recommendations)\n",
    "\n",
    "#### b) Describidla brevemente.\n",
    "\n",
    "En mi caso me resulta tremendamente interesante el campo de las recomendaciones, en este caso en Spotify, basado en gustos, acciones, tendencias, predicciones, etc. No es algo exclusivo de Spotify, X (former Twitter), Amazon, Aliexpress, etc, utilizan estas herramientas para generar recomendaciones para cada usuario.\n",
    "\n",
    "#### c) Justificad por qué creéis que es una aplicación relevante.\n",
    "\n",
    "En el mundo en el que estamos actualmente, las personas quieren las cosas de forma directa, sin tener que estar buscando de forma excesiva. Estos algoritmos y modelos de IA hacen que el usuario tenga que estar menos tiempo buscando ese algo que había pensado. Además que con la cantidad de datos (podríamos llamarlos 'items', como canciones, productos, posts, etc) que se maneja en internet, el problema más importante para el usuario es cuál y no el qué.\n",
    "\n",
    "#### d) ¿Qué problemas éticos plantea?\n",
    "\n",
    "El principal motivo ético que veo que plantea va directamente relacionado con la privacidad de los datos de los usuarios. ¿A medida que uso la app, ésta recoge información sin mi consentiemiento? Bueno, realmente le hemos dado permiso cuando aceptamos los términos y condiciones (que nadie leemos). \n",
    "\n",
    "Independientemente, da que pensar cuánta información extraen de nuestras búsquedas, clicks, 'likes', etc. Pareciera como si todo tuviera un valor numérico que tuviera como fin un cálculo para recomendarme la mejor cafetera en Amazon."
   ]
  },
  {
   "cell_type": "markdown",
   "metadata": {
    "id": "DOM5kTT_1Z8O"
   },
   "source": [
    "## Pregunta 3\n",
    "\n",
    "#### a) Justificad vuestra opinión sobre la propuesta para una pausa en la investigación de IA avanzada. \n",
    "[Pause Giant AI Experiments](https://futureoflife.org/open-letter/pause-giant-ai-experiments/)\n",
    "\n",
    "Personalmente opino que la vista que otorgan sobre el tema es un tanto apocalíptica, como si de una película de ciencia ficción se tratara. Aún así es cierto que los avances en este campo están siendo exponenciales y dan un tanto de vértigo. La IA aporta grandes beneficios donde el humano tiende a errar por lo que nos hace mejores profesionales y nos ayuda a crecer, siendo un factor pero el uso que se le de a ésta. \n",
    "\n",
    "Divergiendo un poco del tema, es una tendencia usar IA para todo, hasta el punto que estudiantes que se encuentran en etapas de desarrollo, no reciben el estímulo de razonar por si mismos porque 'ya me lo hace ChatGPT'. De igual forma sucede con profesionales como los programadores. Es una **herramienta**, no existe para hacer tu trabajo o tus deberes. \n",
    "\n",
    "#### b) Un tiempo después de la publicación de la carta, el CAIS publicó un manifiesto muy breve de 22 palabras, relacionado con la carta anterior. ¿Con qué tecnologías compara este manifiesto a la IA? En vuestra opinión, ¿es adecuada la comparación? [Statement on a risk](https://www.safe.ai/statement-on-ai-risk)\n",
    "\n",
    "Las tecnologías con las que compara la IA son las armas nucleares o las tecnologías nucleares. Además las compara con catástrofes como las pandemias, poniéndolas en una categoría de riesgo mundial. \n",
    "\n",
    "Opino lo mismo que he mencionado en el apartado anterior, considero que se debería tener cierta regulación al respecto ya que son herramientas tremendamente potentes, pero sin tenerle miedo al progreso. Considero que hay muy pocas probabilidades que 'se nos vaya de las manos' y la ciencia ficción deje de ser ficción.\n",
    "\n",
    "Me gustaría dejar esta opinión un tanto en el aire hasta finales de este curso ya que acabamos de comenzar en la materia y puede que estas palabras que digo ahora, no sean las mismas de aquí a 9 meses aproximadamente. \n",
    "\n",
    "#### b) ¿Cuáles son los tres investigadores en IA que recibieron el premio Turing en 2019?\n",
    "\n",
    "Correccion: 2018. En 2019 fueron 2 investigadores. \n",
    "\n",
    "**2018**\n",
    "- Yoshua Bengio\n",
    "- Geoffrey Hinton\n",
    "- Yan LeCun\n",
    "\n",
    "**2019**\n",
    "- Edwin Catmull\n",
    "- Pat Hanrahan\n",
    "\n",
    "#### c) De estos tres pioneros, ¿quiénes firmaron el manifiesto breve?\n",
    "\n",
    "Refiriéndose a los galardonados en 2018, firmaron el manifiesto Yoshua Bengio y Geoffrey Hinton, además de otras entidades relevantes en el ámbito de la IA y la tecnología en general. \n",
    "\n",
    "#### d) ¿Creéis que esto es una muestra de la unanimidad o de la división de opiniones dentro de la comunidad de IA sobre los riesgos de la tecnología?\n",
    "\n",
    "No considero que 'unanimidad' sea la aproximación más acertada ya que hay muchas personas en el mundo metidas de lleno en este sector. Lo que si que es cierto es que las personas que firmaron dicho manifiesto son tremendamente importantes en el sector tecnológico por lo que si que es a tener en cuenta el propósito de éste dadas dichas firmas. \n",
    "\n",
    "Evidentemente como dice el enunciado, que personas tan relevantes firmen dicho manifiesto puede generar una ruptura o división de opiniones ya que, y hablo desde mi punto de vista personal, llega a generar dudas de si realmente representan un riesgo. "
   ]
  },
  {
   "cell_type": "markdown",
   "metadata": {
    "id": "EAFM46545d0X"
   },
   "source": [
    "## Pregunta 4\n",
    "\n",
    "#### Elegid uno de los textos del número especial sobre inteligencia artificial [Revista idees](https://revistaidees.cat/monografics/intelligencia-artificial/) y comentadlo respondiendo a estas cuestiones.\n",
    "\n",
    "El artículo elegido fue: [L’ecosistema d’startups d’intel·ligència artificial a Espanya](https://revistaidees.cat/lecosistema-de-startups-dia-a-espanya/)\n",
    "\n",
    "#### a) ¿Por qué elegisteis este artículo?\n",
    "\n",
    "Soy una persona un tanto inquieta, desde que se programar, me encanta crear mis propias soluciones (aunque existan ya en el mercado), lo cual me ha llevado a plantearme el formar una. A corto plazo no tiene nada que ver con el secto de la inteligencia artificial, pero a largo plazo lo tendrá y será muy relevante.\n",
    "\n",
    "#### b) Realizad un perfil del autor o autores.\n",
    "\n",
    "Enlace al perfil del autor: [Daniel Villatoro](https://revistaidees.cat/autors/daniel-villatoro/), [Perfil en LinkedIn](https://www.linkedin.com/in/danielvillatoro/?originalSubdomain=es).\n",
    "\n",
    "En el perfil del autor en la revista se puede observar el largo recorrido que ha tenido, siendo un entendido en ambos conceptos principales de este artículo: empresas e inteligencia artificial. Antes de adentrarse en el mundo empresarial como tal, ha asistido a instituciones de gran renombre como **IIIA-CSIC** entre otras, dando a entender su conocimiento preciso sobre el sector y la tecnología. Además, antes de formar su empresa (como cofundador), ha trabajado en instituciones, también importantes, las cuales le habrán aportado grandes conocimientos sobre economía y empresas.\n",
    "\n",
    "#### c) Resumid las ideas principales que se exponen.\n",
    "\n",
    "Al comenzamiento del artículo se menciona un panorama general sobre el crecimiento de empresas potenciadas con IA en Europa contra las grandes potencias, que no sorprende que sean EEUU y China. Tras este breve contexto, se centra en el panorama europeo y más en concreto en el español, aportando datos sobre el crecimiento del sector.\n",
    "\n",
    "Es más que evidente que España se encuentra muy por detrás en cuanto a tecnología (en general, no únicamente IA) se refiere dado que no está en las prioridades del país (aunque se niegue esta afirmación). Dentro de lo malo, este sector se encuentra en un crecimiento más que evidente, situando a ciudades como Barcelona como una de las mejores ciudades como 'nido de startups'.\n",
    "\n",
    "#### d) Justificad vuestro acuerdo o desacuerdo con el contenido.\n",
    "\n",
    "Llevo varios años repitiendo muchos de los argumentos expuestos en este artículo, no únicamente en el ámbito tecnológico si no también en cuanto a las facilidades generales que se aportan a las empresas o los objetivos como país de cara a crear una economía fuerte y constante internamente, que no dependa única y exclusivamente de terceros.\n",
    "\n",
    "Volviendo al ámbito tecnológico, recuerdo el dato que me saltó las alarmas y que me hizo investigar al respecto del tema para llegar a la opinión que tengo actualmente: el uso excesivo de IPv4 sobre IPv6 en España ([Link a un artículo en Xataka](https://www.xataka.com/servicios/espana-peores-paises-uso-ipv6-telefonica-primera-operadora-intentar-cambiarlo)). Puede que esto en concreto sea una nimiedad y que no tenga una relevancia severa en cuanto a progreso se refiere (lo dudo), pero es solo la punta del iceberg. Completamente en acuerdo con el autor con que no se reciben suficientes ayudas por parte del gobierno para la fomentación del crecimiento tecnológico (pero de verdad, no los planes actuales), resultando así en un estancamiento o lástre en el crecimiento de estas empresas prometedoras y evolución de la tecnología."
   ]
  },
  {
   "cell_type": "markdown",
   "metadata": {
    "id": "gb6xs3_B3MdN"
   },
   "source": [
    "## Pregunta 5\n",
    "\n",
    "#### Buscad una noticia relacionada con un impacto social de la IA. Como ejemplo, un par de temas que podemos encontrar fácilmente en la prensa son: huelga de actores y guionistas por el uso de IA, la generación de imágenes personales falsas o el uso de la voz de actores conocidos en sistemas automáticos de voz.\n",
    "\n",
    "#### Comentadla respondiendo a las siguientes cuestiones.\n",
    "\n",
    "#### a) Proporcionad el enlace a la noticia.\n",
    "\n",
    "Se trata de una noticia un tanto vieja, pero recuerdo haberla visto y quedar impactado en su momento: [Google fires engineer who contended its AI technology was sentient](https://edition.cnn.com/2022/07/23/business/google-ai-engineer-fired-sentient/index.html)\n",
    "\n",
    "#### b) ¿Con qué principios de la IA responsable está relacionada?\n",
    "\n",
    "Si tuviera que decir uno, diría que entraría dentro del **principio de explicabilidad**, aunque de no ser cierta esta noticia, no entraría dentro de ninguno.\n",
    "\n",
    "#### c) ¿Qué conflicto plantea la noticia?\n",
    "\n",
    "Más que conflicto, plantearía la siguiente pregunta: en caso de ser cierto, ¿cómo se ha llegado al punto de crear un ente tecnológico consciente y cómo se puede manejar? Esta noticia puede resultar un tanto sensacionalista, pero hace que uno se plantee la pregunta de si de verdad es posible llegar hasta ese punto. ¿Cómo supo que era sensible o consciente dicho chat bot? ¿Qué sucedió a partir de ese momento?\n",
    "\n",
    "Es sabido que estas grandes empresas tienen una serie de cláusulas de confidencialidad muy estrictas y no es el primer caso sabido en el que se rompen y el profesinal queda despedido. Lo que me alarmó de esta noticia fue la sensación de alarma o miedo que parecía transmitir, como si se fuera de las manos.\n",
    "\n",
    "#### d) ¿Qué vías de solución creéis que puede haber?\n",
    "\n",
    "Vuelvo a remarcar que en caso de ser cierta la noticia, creo que no estaríamos preparados para un caso como ese por lo que no se me ocurre ninguna solución o conozco de casos similares en los que se haya podido tratar una situación similar.\n",
    "\n",
    "#### e) ¿Se han producido situaciones similares con tecnologías anteriores a la IA?\n",
    "\n",
    "Si con anteriores a la IA se refiere a antes de su aparición o auge y sin tener que ver con la tecnología de forma directa, es evidente que si, el ser humano crea vida todos los días. Si descartamos ese dato, nos estaríamos adentrando en un camino un tanto oscuro y turbio de experimentos poco éticos los cuales no descarto que hayan sucedido durante periodos como la Guerra Fría o similares."
   ]
  }
 ],
 "metadata": {
  "colab": {
   "provenance": []
  },
  "kernelspec": {
   "display_name": "Python 3 (ipykernel)",
   "language": "python",
   "name": "python3"
  },
  "language_info": {
   "codemirror_mode": {
    "name": "ipython",
    "version": 3
   },
   "file_extension": ".py",
   "mimetype": "text/x-python",
   "name": "python",
   "nbconvert_exporter": "python",
   "pygments_lexer": "ipython3",
   "version": "3.11.4"
  }
 },
 "nbformat": 4,
 "nbformat_minor": 4
}
