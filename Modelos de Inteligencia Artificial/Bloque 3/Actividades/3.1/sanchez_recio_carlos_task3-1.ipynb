{
 "cells": [
  {
   "cell_type": "markdown",
   "metadata": {},
   "source": [
    "# Section 1\n",
    "\n",
    "### Training assistant expert system\n",
    "\n",
    "This expert system will take some parameters from the user (height, weight, if he/she trains strength and cardio, etc) and will recommend some tips based in the input.\n",
    "\n",
    "*NOTICE* the input and output might miss information, this is just a simple example to show how CLIPSPY library works for expert systems.\n"
   ]
  },
  {
   "cell_type": "markdown",
   "metadata": {},
   "source": [
    "1. Import library's dependencies and create template and rules"
   ]
  },
  {
   "cell_type": "code",
   "execution_count": 11,
   "metadata": {},
   "outputs": [],
   "source": [
    "from clips import Environment, Symbol\n",
    "\n",
    "TEMPLATE_STRING = '''\n",
    "   (deftemplate training\n",
    "      (slot weekly_freq (type INTEGER))\n",
    "      (slot intensity (type INTEGER))\n",
    "      (slot strength_training (type INTEGER))\n",
    "      (slot cardio_training (type INTEGER))\n",
    "      (slot objective (type SYMBOL))\n",
    "      (slot calories (type FLOAT))\n",
    "   )\n",
    "'''\n",
    "\n",
    "RULE_LOSE_WEIGHT = '''\n",
    "   (defrule lose-weight\n",
    "      \"Start incorporating a caloric deficit to the diet.\"\n",
    "      (training (objective lose))\n",
    "      =>\n",
    "      (printout t \"- Start eating healty, incorporating a caloric deficit (e.g. -300kcals) alongside a consistent training routine.\" crlf)\n",
    "   )\n",
    "'''\n",
    "\n",
    "RULE_MAINTAIN_WEIGHT = '''\n",
    "   (defrule maintain-weight\n",
    "      \"Maintain current weight with a balanced diet.\"\n",
    "      (training (objective maintain) (calories ?c))\n",
    "      =>\n",
    "      (printout t \"- Maintain your current weight by eating approximately: \" ?c \"kcal per day with healty diet and training.\" crlf)\n",
    "   )\n",
    "'''\n",
    "\n",
    "RULE_GAIN_WEIGHT = '''\n",
    "   (defrule lose-weight\n",
    "      \"Start incorporating a caloric habit to the diet.\"\n",
    "      (training (objective gain))\n",
    "      =>\n",
    "      (printout t \"- Start a bulk (caloric habit (e.g. +300kcals)) alongside strength training and less cardio.\" crlf)\n",
    "   )\n",
    "'''\n",
    "\n",
    "RULE_START_TRAINING = '''\n",
    "   (defrule recommend-training\n",
    "      \"Recommend start training.\"\n",
    "      (training (weekly_freq 0))\n",
    "      =>\n",
    "      (printout t \"- Start training at least 3 times a week, combining cardio, light weighted strength training and eat healthy.\" crlf)\n",
    "   )\n",
    "'''\n",
    "\n",
    "RULE_MORE_STRENGTH = '''\n",
    "   (defrule recommend-more-strength\n",
    "      \"Recommend adding strength training to the routine.\"\n",
    "      (training (strength_training 0) (weekly_freq ?f &: (< ?f 3) &: (> ?f 0)))\n",
    "      =>\n",
    "      (printout t \"- You should incorporate strength training into your routine to build muscle.\" crlf)\n",
    "   )\n",
    "'''\n",
    "\n",
    "RULE_MORE_CARDIO = '''\n",
    "   (defrule recommend-more-cardio\n",
    "      \"Recommend adding cardio training to the routine.\"\n",
    "      (training (cardio_training 0) (weekly_freq ?f &: (< ?f 3) &: (> ?f 0)))\n",
    "      =>\n",
    "      (printout t \"- You should incorporate cardio training into your routine to improve cardio vascular health and breathing technique.\" crlf)\n",
    "   )\n",
    "'''\n",
    "\n",
    "env = Environment()\n",
    "# These rules are very basic and might be incomplete for a real case\n",
    "env.build(TEMPLATE_STRING)\n",
    "env.build(RULE_START_TRAINING)\n",
    "env.build(RULE_MORE_STRENGTH)\n",
    "env.build(RULE_MORE_CARDIO)\n",
    "env.build(RULE_LOSE_WEIGHT)\n",
    "env.build(RULE_MAINTAIN_WEIGHT)\n",
    "env.build(RULE_GAIN_WEIGHT)\n",
    "\n",
    "template = env.find_template('training')"
   ]
  },
  {
   "cell_type": "markdown",
   "metadata": {},
   "source": [
    "2. Additional functions to make calculus and check input data"
   ]
  },
  {
   "cell_type": "code",
   "execution_count": 12,
   "metadata": {},
   "outputs": [],
   "source": [
    "def calculate_bmr(weight, height, age, gender):\n",
    "   base = 10 * weight + 6.25 * height - 5 * age\n",
    "   return base + 5 if gender == 'male' else base - 161\n",
    "\n",
    "def validate_training_data(gender, weekly_freq, intensity, strength_training, cardio_training, objective):\n",
    "   valid_objectives = ['lose', 'maintain', 'gain']\n",
    "   valid_genders = ['male', 'female']\n",
    "   if gender not in valid_genders:\n",
    "      raise ValueError(f'Gender must be one of {valid_genders}, got {gender}.')\n",
    "   if not (0 <= weekly_freq <= 7):\n",
    "      raise ValueError(f'Weekly frequency value must be between 0 and 7, got {weekly_freq}.')\n",
    "   if not (0 <= intensity <= 10):\n",
    "      raise ValueError(f'Intensity value must be between 0 and 10, got {intensity}.')\n",
    "   if strength_training not in [0, 1]:\n",
    "      raise ValueError(f'Strenght training value must be 0 or 1, got {strength_training}.')\n",
    "   if cardio_training not in [0, 1]:\n",
    "      raise ValueError(f'Cardio training value must be 0 or 1, got {cardio_training}.')\n",
    "   if objective not in valid_objectives:\n",
    "      raise ValueError(f'Objective value must be one of {valid_objectives}, got {objective}.')"
   ]
  },
  {
   "cell_type": "markdown",
   "metadata": {},
   "source": [
    "3. Execute the required instructions to get user's input"
   ]
  },
  {
   "cell_type": "code",
   "execution_count": 9,
   "metadata": {},
   "outputs": [
    {
     "name": "stdout",
     "output_type": "stream",
     "text": [
      "- Welcome to your personal training assistant! -\n",
      "Please fill the following information (look carefully the suitable answers)\n",
      "Please fill in your details:\n",
      "- Your calorie intake: ~1825.0\n",
      "Asserted fact: (training (weekly_freq 4) (intensity 7) (strength_training 1) (cardio_training 0) (objective maintain) (calories 1825.0))\n",
      "\n",
      "Here you have your recommendations:\n",
      "- Maintain your current weight by eating approximately: 1825.0kcal per day with healty diet and training.\n"
     ]
    }
   ],
   "source": [
    "print('- Welcome to your personal training assistant! -')\n",
    "print('Please fill the following information (look carefully the suitable answers)')\n",
    "\n",
    "print('Please fill in your details:')\n",
    "try:\n",
    "\tweight = float(input('Enter your weight (kg): '))\n",
    "\theight = float(input('Enter your height (cm): '))\n",
    "\tage = int(input('Enter your age (years): '))\n",
    "\tgender = input('Enter your gender (male/female): ').strip().lower()\n",
    "\tweekly_freq = int(input('Enter weekly training frequency (0-7): '))\n",
    "\tintensity = int(input('Enter intensity level (1-10): '))\n",
    "\tstrength_training = int(input('Strength training? (1 for Yes, 0 for No): '))\n",
    "\tcardio_training = int(input('Cardio training? (1 for Yes, 0 for No): '))\n",
    "\tobjective = input('Enter your goal (lose/manitain/gain): ').strip().lower()\n",
    "\tvalidate_training_data(gender, weekly_freq, intensity, strength_training, cardio_training, objective)\n",
    "\n",
    "\tcalories = calculate_bmr(weight = weight, height = height, age = age, gender = gender)\n",
    "\n",
    "\tprint(f'- Your calorie intake: ~{calories}')\n",
    "\n",
    "\tfact = template.assert_fact(\n",
    "\t\tweekly_freq=weekly_freq,\n",
    "\t\tintensity=intensity,\n",
    "\t\tstrength_training=strength_training,\n",
    "\t\tcardio_training=cardio_training,\n",
    "\t\tobjective=Symbol(objective),\n",
    "\t\tcalories=calories\n",
    "\t)\n",
    "\tprint(f\"Asserted fact: {fact}\")\n",
    "\tprint('\\nHere you have your recommendations:')\n",
    "\tenv.run()\n",
    "except ValueError as v_error:\n",
    "\tprint(f'Invalid input: {v_error}')"
   ]
  },
  {
   "cell_type": "code",
   "execution_count": 13,
   "metadata": {},
   "outputs": [
    {
     "name": "stdout",
     "output_type": "stream",
     "text": [
      "- Start a bulk (caloric habit (e.g. +300kcals)) alongside strength training and less cardio.\n"
     ]
    },
    {
     "data": {
      "text/plain": [
       "1"
      ]
     },
     "execution_count": 13,
     "metadata": {},
     "output_type": "execute_result"
    }
   ],
   "source": [
    "# Alternaively, you can use this no to use the input method (but then the input check will not be performed)\n",
    "fact = template.assert_fact(\n",
    "   weekly_freq=4,\n",
    "   intensity=7,\n",
    "   strength_training=1,\n",
    "   cardio_training=0,\n",
    "   objective=Symbol('gain'),\n",
    "   calories=calculate_bmr(weight=82, height=180, age=25, gender='male'),\n",
    ")\n",
    "\n",
    "env.run()"
   ]
  },
  {
   "cell_type": "markdown",
   "metadata": {},
   "source": [
    "### Alternative for this notebook\n",
    "\n",
    "For this first section, you can also execute the `main.py` file in the [repository](https://github.com/CharlyMech/IEDIB_CEIA_2024-25/tree/main/Modelos%20de%20Inteligencia%20Artificial/Bloque%203/Actividades/3.1) following the instructions enumerated in the `README.md` file. You'll see that is a little bit different but it works the same way as this notebook. This notebook's code has been modified from that repository for explanation purposes."
   ]
  },
  {
   "cell_type": "markdown",
   "metadata": {},
   "source": [
    "# Section 2\n",
    "\n",
    "Create a new agent to solve one of the [arcprize.org](https://arcprize.org/) problems following these instructions: \n",
    "* Define the input and output grids.\n",
    "* Construct the auxiliary functions you need to solve the problem. In the puzzle problem, these functions found the horizontal, vertical and square pieces.\n",
    "* Construct a solution function using the auxiliary functions from the previous ones.\n",
    "* Check that the solution to the training inputs are the corresponding outputs.\n",
    "* Check that the solution to the test input corresponds to the solution on the web."
   ]
  },
  {
   "cell_type": "markdown",
   "metadata": {},
   "source": [
    "For this exercise I decided to create an agent to solve the last one of the puzzles at the web."
   ]
  },
  {
   "cell_type": "code",
   "execution_count": 2,
   "metadata": {},
   "outputs": [],
   "source": [
    "import numpy as np\n",
    "\n",
    "def split_matrix(matrix, separator=-1):\n",
    "\tseparator_index = np.where(matrix[0] == separator)[0][0]\n",
    "\n",
    "\tleft = matrix[:, :separator_index]\n",
    "\tright = matrix[:, separator_index + 1:]\n",
    "\n",
    "\treturn left, right\n",
    "\n",
    "def get_union(left, right):\n",
    "\treturn np.logical_and(left, right)\n"
   ]
  },
  {
   "cell_type": "code",
   "execution_count": 3,
   "metadata": {},
   "outputs": [],
   "source": [
    "first_example = np.array([\n",
    "\t[1, 0, 0, -1, 0, 1, 0],\n",
    "\t[0, 1, 0, -1, 1, 1, 1],\n",
    "\t[1, 0, 0, -1, 0, 0, 0]\n",
    "])\n",
    "first_left, first_right = split_matrix(first_example)\n",
    "first_solution = get_union(first_left, first_right)\n",
    "\n",
    "second_example = np.array([\n",
    "\t[1, 1, 0, -1, 0, 1, 0],\n",
    "\t[0, 0, 1, -1, 1, 1, 1],\n",
    "\t[1, 1, 0, -1, 0, 1, 0]\n",
    "])\n",
    "second_left, second_right = split_matrix(second_example)\n",
    "second_solution = get_union(second_left, second_right)\n",
    "\n",
    "third_example = np.array([\n",
    "\t[0, 0, 1, -1, 0, 0, 0],\n",
    "\t[1, 1, 0, -1, 1, 0, 1],\n",
    "\t[0, 1, 1, -1, 1, 0, 1]\n",
    "])\n",
    "third_left, third_right = split_matrix(third_example)\n",
    "third_solution = get_union(third_left, third_right)\n",
    "\n",
    "test = np.array([\n",
    "\t[1, 0, 1, -1, 1, 0, 1],\n",
    "\t[0, 1, 0, -1, 1, 0, 1],\n",
    "\t[1, 0, 1, -1, 0, 1, 0]\n",
    "])\n",
    "test_left, test_right = split_matrix(test)\n",
    "test_solution = get_union(test_left, test_right)"
   ]
  },
  {
   "cell_type": "code",
   "execution_count": 4,
   "metadata": {},
   "outputs": [
    {
     "name": "stdout",
     "output_type": "stream",
     "text": [
      "First example solution: \n",
      "[[False False False]\n",
      " [False  True False]\n",
      " [False False False]]\n",
      "Second example solution: \n",
      "[[False  True False]\n",
      " [False False  True]\n",
      " [False  True False]]\n",
      "Third example solution: \n",
      "[[False False False]\n",
      " [ True False False]\n",
      " [False False  True]]\n",
      "Test example solution: \n",
      "[[ True False  True]\n",
      " [False False False]\n",
      " [False False False]]\n"
     ]
    }
   ],
   "source": [
    "print('First example solution: ')\n",
    "print(first_solution)\n",
    "\n",
    "print('Second example solution: ')\n",
    "print(second_solution)\n",
    "\n",
    "print('Third example solution: ')\n",
    "print(third_solution)\n",
    "\n",
    "print('Test example solution: ')\n",
    "print(test_solution)"
   ]
  },
  {
   "cell_type": "markdown",
   "metadata": {},
   "source": [
    "Now plot the results using `matplotlib` and a modified method from the previous exercise in block 2."
   ]
  },
  {
   "cell_type": "code",
   "execution_count": 8,
   "metadata": {},
   "outputs": [
    {
     "data": {
      "image/png": "[encoded data removed]",
      "text/plain": [
       "<Figure size 300x300 with 1 Axes>"
      ]
     },
     "metadata": {},
     "output_type": "display_data"
    },
    {
     "data": {
      "image/png": "[encoded data removed]",
      "text/plain": [
       "<Figure size 300x300 with 1 Axes>"
      ]
     },
     "metadata": {},
     "output_type": "display_data"
    },
    {
     "data": {
      "image/png": "[encoded data removed]",
      "text/plain": [
       "<Figure size 300x300 with 1 Axes>"
      ]
     },
     "metadata": {},
     "output_type": "display_data"
    },
    {
     "data": {
      "image/png": "[encoded data removed]",
      "text/plain": [
       "<Figure size 300x300 with 1 Axes>"
      ]
     },
     "metadata": {},
     "output_type": "display_data"
    }
   ],
   "source": [
    "import matplotlib.pyplot as plt\n",
    "import matplotlib.colors as mcolors\n",
    "\n",
    "def plot_solution(grid, title):\n",
    "\trows, cols = grid.shape\n",
    "\tplt.figure(figsize=(cols, rows)) \n",
    "\tcmap = mcolors.ListedColormap(['#000000', '#F83B30'])\n",
    "\tbounds = [0, 0.5, 1]\n",
    "\tnorm = mcolors.BoundaryNorm(bounds, cmap.N)\n",
    "\n",
    "\tplt.imshow(grid, cmap=cmap, norm=norm, origin='upper')\n",
    "\t# Add grid lines\n",
    "\tfor r in range(rows + 1):\n",
    "\t\tplt.axhline(r - 0.5, color='white', linewidth=0.5)\n",
    "\tfor c in range(cols + 1):\n",
    "\t\tplt.axvline(c - 0.5, color='white', linewidth=0.5)\n",
    "\n",
    "\t# Remove ticks from axis\n",
    "\tplt.xticks(np.arange(cols), [])\n",
    "\tplt.yticks(np.arange(rows), [])\n",
    "\tplt.tick_params(which='both', bottom=False, left=False)\n",
    "\tplt.title(title)\n",
    "\tplt.show()\n",
    "\n",
    "plot_solution(first_solution, 'First example solution')\n",
    "plot_solution(second_solution, 'Second example solution')\n",
    "plot_solution(third_solution, 'Third example solution')\n",
    "plot_solution(test_solution, 'Test solution')"
   ]
  }
 ],
 "metadata": {
  "kernelspec": {
   "display_name": ".venv",
   "language": "python",
   "name": "python3"
  },
  "language_info": {
   "codemirror_mode": {
    "name": "ipython",
    "version": 3
   },
   "file_extension": ".py",
   "mimetype": "text/x-python",
   "name": "python",
   "nbconvert_exporter": "python",
   "pygments_lexer": "ipython3",
   "version": "3.12.3"
  }
 },
 "nbformat": 4,
 "nbformat_minor": 2
}
