{
 "cells": [
  {
   "cell_type": "code",
   "execution_count": null,
   "metadata": {},
   "outputs": [],
   "source": [
    "%pip install -r requirements.txt"
   ]
  },
  {
   "cell_type": "markdown",
   "metadata": {},
   "source": [
    "# NLTK (_Natural Language Toolkit_)"
   ]
  },
  {
   "cell_type": "code",
   "execution_count": null,
   "metadata": {},
   "outputs": [
    {
     "name": "stderr",
     "output_type": "stream",
     "text": [
      "[nltk_data] Downloading package punkt_tab to\n",
      "[nltk_data]     /Users/carlos/nltk_data...\n"
     ]
    },
    {
     "name": "stdout",
     "output_type": "stream",
     "text": [
      "['Aquest', 'és', 'un', 'exemple', 'bàsic', '.']\n"
     ]
    },
    {
     "name": "stderr",
     "output_type": "stream",
     "text": [
      "[nltk_data]   Unzipping tokenizers/punkt_tab.zip.\n",
      "[nltk_data] Downloading package punkt to /Users/carlos/nltk_data...\n",
      "[nltk_data]   Package punkt is already up-to-date!\n"
     ]
    }
   ],
   "source": [
    "import nltk\n",
    "from nltk.tokenize import word_tokenize\n",
    "\n",
    "nltk.download('punkt_tab') # FIX: https://stackoverflow.com/questions/37101114/what-to-download-in-order-to-make-nltk-tokenize-word-tokenize-work\n",
    "nltk.download('punkt')\n",
    "\n",
    "text = \"Aquest és un exemple bàsic.\"\n",
    "tokens = word_tokenize(text)\n",
    "print(tokens)"
   ]
  },
  {
   "cell_type": "markdown",
   "metadata": {},
   "source": [
    "# spaCy"
   ]
  },
  {
   "cell_type": "code",
   "execution_count": null,
   "metadata": {},
   "outputs": [],
   "source": [
    "!python -m spacy download ca_core_news_sm"
   ]
  },
  {
   "cell_type": "code",
   "execution_count": 4,
   "metadata": {},
   "outputs": [
    {
     "name": "stdout",
     "output_type": "stream",
     "text": [
      "Aquest -> PRON\n",
      "és -> AUX\n",
      "un -> DET\n",
      "exemple -> NOUN\n",
      "amb -> ADP\n",
      "spaCy -> PROPN\n",
      ". -> PUNCT\n"
     ]
    }
   ],
   "source": [
    "import spacy\n",
    "\n",
    "nlp = spacy.load(\"ca_core_news_sm\")\n",
    "text = \"Aquest és un exemple amb spaCy.\"\n",
    "doc = nlp(text)\n",
    "\n",
    "for token in doc:\n",
    "    print(f\"{token.text} -> {token.pos_}\")"
   ]
  },
  {
   "cell_type": "markdown",
   "metadata": {},
   "source": [
    "# Stanza"
   ]
  },
  {
   "cell_type": "code",
   "execution_count": 7,
   "metadata": {},
   "outputs": [
    {
     "name": "stderr",
     "output_type": "stream",
     "text": [
      "Downloading https://raw.githubusercontent.com/stanfordnlp/stanza-resources/main/resources_1.10.0.json: 424kB [00:00, 90.5MB/s]                    \n",
      "2025-02-05 22:47:36 INFO: Downloaded file to /Users/carlos/stanza_resources/resources.json\n",
      "2025-02-05 22:47:36 INFO: Downloading default packages for language: en (English) ...\n",
      "Downloading https://huggingface.co/stanfordnlp/stanza-en/resolve/v1.10.0/models/default.zip: 100%|██████████| 526M/526M [00:11<00:00, 46.4MB/s] \n",
      "2025-02-05 22:47:49 INFO: Downloaded file to /Users/carlos/stanza_resources/en/default.zip\n",
      "2025-02-05 22:47:50 INFO: Finished downloading models and saved to /Users/carlos/stanza_resources\n",
      "2025-02-05 22:47:50 INFO: Checking for updates to resources.json in case models have been updated.  Note: this behavior can be turned off with download_method=None or download_method=DownloadMethod.REUSE_RESOURCES\n",
      "Downloading https://raw.githubusercontent.com/stanfordnlp/stanza-resources/main/resources_1.10.0.json: 424kB [00:03, 134kB/s]                     \n",
      "2025-02-05 22:48:01 INFO: Downloaded file to /Users/carlos/stanza_resources/resources.json\n",
      "2025-02-05 22:48:02 INFO: Loading these models for language: en (English):\n",
      "============================================\n",
      "| Processor    | Package                   |\n",
      "--------------------------------------------\n",
      "| tokenize     | combined                  |\n",
      "| mwt          | combined                  |\n",
      "| pos          | combined_charlm           |\n",
      "| lemma        | combined_nocharlm         |\n",
      "| constituency | ptb3-revised_charlm       |\n",
      "| depparse     | combined_charlm           |\n",
      "| sentiment    | sstplus_charlm            |\n",
      "| ner          | ontonotes-ww-multi_charlm |\n",
      "============================================\n",
      "\n",
      "2025-02-05 22:48:02 INFO: Using device: cpu\n",
      "2025-02-05 22:48:02 INFO: Loading: tokenize\n",
      "2025-02-05 22:48:03 INFO: Loading: mwt\n",
      "2025-02-05 22:48:03 INFO: Loading: pos\n",
      "2025-02-05 22:48:04 INFO: Loading: lemma\n",
      "2025-02-05 22:48:04 INFO: Loading: constituency\n",
      "2025-02-05 22:48:05 INFO: Loading: depparse\n",
      "2025-02-05 22:48:05 INFO: Loading: sentiment\n",
      "2025-02-05 22:48:05 INFO: Loading: ner\n",
      "2025-02-05 22:48:07 INFO: Done loading processors!\n"
     ]
    },
    {
     "name": "stdout",
     "output_type": "stream",
     "text": [
      "This -> PRON\n",
      "is -> AUX\n",
      "an -> DET\n",
      "example -> NOUN\n",
      "with -> ADP\n",
      "Stanza -> PROPN\n",
      ". -> PUNCT\n"
     ]
    }
   ],
   "source": [
    "import stanza\n",
    "\n",
    "# stanza.download('ca')\n",
    "# nlp = stanza.Pipeline('ca')\n",
    "stanza.download('en')\n",
    "nlp = stanza.Pipeline('en')\n",
    "\n",
    "# text = \"Aquest és un exemple amb Stanza.\"\n",
    "text = \"This is an example with Stanza.\"\n",
    "doc = nlp(text)\n",
    "\n",
    "for sentence in doc.sentences:\n",
    "    for word in sentence.words:\n",
    "        print(f\"{word.text} -> {word.upos}\")"
   ]
  }
 ],
 "metadata": {
  "kernelspec": {
   "display_name": ".venv",
   "language": "python",
   "name": "python3"
  },
  "language_info": {
   "codemirror_mode": {
    "name": "ipython",
    "version": 3
   },
   "file_extension": ".py",
   "mimetype": "text/x-python",
   "name": "python",
   "nbconvert_exporter": "python",
   "pygments_lexer": "ipython3",
   "version": "3.10.15"
  }
 },
 "nbformat": 4,
 "nbformat_minor": 2
}
