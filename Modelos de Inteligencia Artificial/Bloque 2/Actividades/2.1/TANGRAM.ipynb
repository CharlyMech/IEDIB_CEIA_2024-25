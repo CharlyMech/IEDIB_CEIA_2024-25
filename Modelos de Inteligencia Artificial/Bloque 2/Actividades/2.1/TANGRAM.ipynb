{
  "cells": [
    {
      "cell_type": "markdown",
      "metadata": {
        "id": "q6M-WM8Wn-6y"
      },
      "source": [
        "# TANGRAM"
      ]
    },
    {
      "cell_type": "code",
      "execution_count": 1,
      "metadata": {
        "id": "0sjjZAQZqCYa"
      },
      "outputs": [],
      "source": [
        "import numpy as np"
      ]
    },
    {
      "cell_type": "markdown",
      "metadata": {
        "id": "kq1J1yOeqEfm"
      },
      "source": [
        "Aquest quadern conté els elements per resoldre puzzles de tangram com els del cinquè exemple del web arcprize.org\n",
        "\n",
        "Comencem definint una funció que trobi quins quadrats 2x2 encaixen a l'ombra."
      ]
    },
    {
      "cell_type": "code",
      "execution_count": 2,
      "metadata": {
        "id": "brmepyrUoOaC"
      },
      "outputs": [],
      "source": [
        "def fit_squares(grid):\n",
        "  # Retorna una llista de graelles amb un quadrat de 2x2 que encaixa dins l'ombra.\n",
        "  rows,cols=grid.shape\n",
        "\n",
        "  square_list=[]\n",
        "  for r in range(rows-1):\n",
        "    for c in range(cols-1):\n",
        "      if grid[r,c]!=0 and grid[r+1,c]!=0 and grid[r,c+1]!=0 and grid[r+1,c+1]!=0:\n",
        "        h = np.zeros(grid.shape)\n",
        "        h[r,c]=1\n",
        "        h[r+1,c]=1\n",
        "        h[r,c+1]=1\n",
        "        h[r+1,c+1]=1\n",
        "        square_list.append(h)\n",
        "\n",
        "  return square_list"
      ]
    },
    {
      "cell_type": "markdown",
      "metadata": {
        "id": "IfGOl0pHqYDh"
      },
      "source": [
        "La funció següent troba les barres verticals de mida 3x1 que s'ajusten a l'ombra."
      ]
    },
    {
      "cell_type": "code",
      "execution_count": 3,
      "metadata": {
        "id": "7tUryhpjp85T"
      },
      "outputs": [],
      "source": [
        "def fit_vertical_bars(grid):\n",
        "  # Retorna una llista de graelles amb una barra de mida 3x1 dins l'ombra.\n",
        "  rows,cols=grid.shape\n",
        "\n",
        "  v_bar_list = []\n",
        "\n",
        "  for r in range(rows-2):\n",
        "    for c in range(cols):\n",
        "      if grid[r,c]!=0 and grid[r+1,c]!=0 and grid[r+2,c]!=0:\n",
        "        h = np.zeros(grid.shape)\n",
        "        h[r,c]=1\n",
        "        h[r+1,c]=1\n",
        "        h[r+2,c]=1\n",
        "        v_bar_list.append(h)\n",
        "\n",
        "  return v_bar_list"
      ]
    },
    {
      "cell_type": "markdown",
      "metadata": {
        "id": "JKbPNydAqd7E"
      },
      "source": [
        "A continuació definim la graella que s'ha de resoldre."
      ]
    },
    {
      "cell_type": "code",
      "execution_count": 4,
      "metadata": {
        "colab": {
          "base_uri": "https://localhost:8080/"
        },
        "id": "QGQNy9oZqT4W",
        "outputId": "c85dcdc7-442d-4e28-8155-84dc75307bc6"
      },
      "outputs": [
        {
          "name": "stdout",
          "output_type": "stream",
          "text": [
            "[[0 0 0 0 0 0 0 0 0 0]\n",
            " [0 1 1 1 1 1 1 0 0 0]\n",
            " [0 1 1 1 1 1 1 0 0 0]\n",
            " [0 0 0 1 0 0 1 0 0 0]\n",
            " [0 0 0 0 1 1 1 0 0 0]\n",
            " [0 0 0 0 1 1 1 0 0 0]\n",
            " [0 0 0 0 1 0 0 0 0 0]\n",
            " [0 0 0 0 0 0 0 0 0 0]]\n"
          ]
        }
      ],
      "source": [
        "#Això és el segon exemple, que es pot resoldre sense peces horitzontals\n",
        "\n",
        "graella_ombra = np.array([[0,0,0,0,0,0,0,0,0,0],\n",
        "                          [0,1,1,1,1,1,1,0,0,0],\n",
        "                          [0,1,1,1,1,1,1,0,0,0],\n",
        "                          [0,0,0,1,0,0,1,0,0,0],\n",
        "                          [0,0,0,0,1,1,1,0,0,0],\n",
        "                          [0,0,0,0,1,1,1,0,0,0],\n",
        "                          [0,0,0,0,1,0,0,0,0,0],\n",
        "                          [0,0,0,0,0,0,0,0,0,0]\n",
        "                          ])\n",
        "\n",
        "print(graella_ombra)"
      ]
    },
    {
      "cell_type": "code",
      "execution_count": 5,
      "metadata": {
        "colab": {
          "base_uri": "https://localhost:8080/"
        },
        "id": "FYMTeNO3qapz",
        "outputId": "b661705a-02a1-456f-c77b-3f479da57426"
      },
      "outputs": [
        {
          "data": {
            "text/plain": [
              "array([[[0., 0., 0., 0., 0., 0., 0., 0., 0., 0.],\n",
              "        [0., 1., 1., 0., 0., 0., 0., 0., 0., 0.],\n",
              "        [0., 1., 1., 0., 0., 0., 0., 0., 0., 0.],\n",
              "        [0., 0., 0., 0., 0., 0., 0., 0., 0., 0.],\n",
              "        [0., 0., 0., 0., 0., 0., 0., 0., 0., 0.],\n",
              "        [0., 0., 0., 0., 0., 0., 0., 0., 0., 0.],\n",
              "        [0., 0., 0., 0., 0., 0., 0., 0., 0., 0.],\n",
              "        [0., 0., 0., 0., 0., 0., 0., 0., 0., 0.]],\n",
              "\n",
              "       [[0., 0., 0., 0., 0., 0., 0., 0., 0., 0.],\n",
              "        [0., 0., 1., 1., 0., 0., 0., 0., 0., 0.],\n",
              "        [0., 0., 1., 1., 0., 0., 0., 0., 0., 0.],\n",
              "        [0., 0., 0., 0., 0., 0., 0., 0., 0., 0.],\n",
              "        [0., 0., 0., 0., 0., 0., 0., 0., 0., 0.],\n",
              "        [0., 0., 0., 0., 0., 0., 0., 0., 0., 0.],\n",
              "        [0., 0., 0., 0., 0., 0., 0., 0., 0., 0.],\n",
              "        [0., 0., 0., 0., 0., 0., 0., 0., 0., 0.]],\n",
              "\n",
              "       [[0., 0., 0., 0., 0., 0., 0., 0., 0., 0.],\n",
              "        [0., 0., 0., 1., 1., 0., 0., 0., 0., 0.],\n",
              "        [0., 0., 0., 1., 1., 0., 0., 0., 0., 0.],\n",
              "        [0., 0., 0., 0., 0., 0., 0., 0., 0., 0.],\n",
              "        [0., 0., 0., 0., 0., 0., 0., 0., 0., 0.],\n",
              "        [0., 0., 0., 0., 0., 0., 0., 0., 0., 0.],\n",
              "        [0., 0., 0., 0., 0., 0., 0., 0., 0., 0.],\n",
              "        [0., 0., 0., 0., 0., 0., 0., 0., 0., 0.]],\n",
              "\n",
              "       [[0., 0., 0., 0., 0., 0., 0., 0., 0., 0.],\n",
              "        [0., 0., 0., 0., 1., 1., 0., 0., 0., 0.],\n",
              "        [0., 0., 0., 0., 1., 1., 0., 0., 0., 0.],\n",
              "        [0., 0., 0., 0., 0., 0., 0., 0., 0., 0.],\n",
              "        [0., 0., 0., 0., 0., 0., 0., 0., 0., 0.],\n",
              "        [0., 0., 0., 0., 0., 0., 0., 0., 0., 0.],\n",
              "        [0., 0., 0., 0., 0., 0., 0., 0., 0., 0.],\n",
              "        [0., 0., 0., 0., 0., 0., 0., 0., 0., 0.]],\n",
              "\n",
              "       [[0., 0., 0., 0., 0., 0., 0., 0., 0., 0.],\n",
              "        [0., 0., 0., 0., 0., 1., 1., 0., 0., 0.],\n",
              "        [0., 0., 0., 0., 0., 1., 1., 0., 0., 0.],\n",
              "        [0., 0., 0., 0., 0., 0., 0., 0., 0., 0.],\n",
              "        [0., 0., 0., 0., 0., 0., 0., 0., 0., 0.],\n",
              "        [0., 0., 0., 0., 0., 0., 0., 0., 0., 0.],\n",
              "        [0., 0., 0., 0., 0., 0., 0., 0., 0., 0.],\n",
              "        [0., 0., 0., 0., 0., 0., 0., 0., 0., 0.]],\n",
              "\n",
              "       [[0., 0., 0., 0., 0., 0., 0., 0., 0., 0.],\n",
              "        [0., 0., 0., 0., 0., 0., 0., 0., 0., 0.],\n",
              "        [0., 0., 0., 0., 0., 0., 0., 0., 0., 0.],\n",
              "        [0., 0., 0., 0., 0., 0., 0., 0., 0., 0.],\n",
              "        [0., 0., 0., 0., 1., 1., 0., 0., 0., 0.],\n",
              "        [0., 0., 0., 0., 1., 1., 0., 0., 0., 0.],\n",
              "        [0., 0., 0., 0., 0., 0., 0., 0., 0., 0.],\n",
              "        [0., 0., 0., 0., 0., 0., 0., 0., 0., 0.]],\n",
              "\n",
              "       [[0., 0., 0., 0., 0., 0., 0., 0., 0., 0.],\n",
              "        [0., 0., 0., 0., 0., 0., 0., 0., 0., 0.],\n",
              "        [0., 0., 0., 0., 0., 0., 0., 0., 0., 0.],\n",
              "        [0., 0., 0., 0., 0., 0., 0., 0., 0., 0.],\n",
              "        [0., 0., 0., 0., 0., 1., 1., 0., 0., 0.],\n",
              "        [0., 0., 0., 0., 0., 1., 1., 0., 0., 0.],\n",
              "        [0., 0., 0., 0., 0., 0., 0., 0., 0., 0.],\n",
              "        [0., 0., 0., 0., 0., 0., 0., 0., 0., 0.]],\n",
              "\n",
              "       [[0., 0., 0., 0., 0., 0., 0., 0., 0., 0.],\n",
              "        [0., 0., 0., 1., 0., 0., 0., 0., 0., 0.],\n",
              "        [0., 0., 0., 1., 0., 0., 0., 0., 0., 0.],\n",
              "        [0., 0., 0., 1., 0., 0., 0., 0., 0., 0.],\n",
              "        [0., 0., 0., 0., 0., 0., 0., 0., 0., 0.],\n",
              "        [0., 0., 0., 0., 0., 0., 0., 0., 0., 0.],\n",
              "        [0., 0., 0., 0., 0., 0., 0., 0., 0., 0.],\n",
              "        [0., 0., 0., 0., 0., 0., 0., 0., 0., 0.]],\n",
              "\n",
              "       [[0., 0., 0., 0., 0., 0., 0., 0., 0., 0.],\n",
              "        [0., 0., 0., 0., 0., 0., 1., 0., 0., 0.],\n",
              "        [0., 0., 0., 0., 0., 0., 1., 0., 0., 0.],\n",
              "        [0., 0., 0., 0., 0., 0., 1., 0., 0., 0.],\n",
              "        [0., 0., 0., 0., 0., 0., 0., 0., 0., 0.],\n",
              "        [0., 0., 0., 0., 0., 0., 0., 0., 0., 0.],\n",
              "        [0., 0., 0., 0., 0., 0., 0., 0., 0., 0.],\n",
              "        [0., 0., 0., 0., 0., 0., 0., 0., 0., 0.]],\n",
              "\n",
              "       [[0., 0., 0., 0., 0., 0., 0., 0., 0., 0.],\n",
              "        [0., 0., 0., 0., 0., 0., 0., 0., 0., 0.],\n",
              "        [0., 0., 0., 0., 0., 0., 1., 0., 0., 0.],\n",
              "        [0., 0., 0., 0., 0., 0., 1., 0., 0., 0.],\n",
              "        [0., 0., 0., 0., 0., 0., 1., 0., 0., 0.],\n",
              "        [0., 0., 0., 0., 0., 0., 0., 0., 0., 0.],\n",
              "        [0., 0., 0., 0., 0., 0., 0., 0., 0., 0.],\n",
              "        [0., 0., 0., 0., 0., 0., 0., 0., 0., 0.]],\n",
              "\n",
              "       [[0., 0., 0., 0., 0., 0., 0., 0., 0., 0.],\n",
              "        [0., 0., 0., 0., 0., 0., 0., 0., 0., 0.],\n",
              "        [0., 0., 0., 0., 0., 0., 0., 0., 0., 0.],\n",
              "        [0., 0., 0., 0., 0., 0., 1., 0., 0., 0.],\n",
              "        [0., 0., 0., 0., 0., 0., 1., 0., 0., 0.],\n",
              "        [0., 0., 0., 0., 0., 0., 1., 0., 0., 0.],\n",
              "        [0., 0., 0., 0., 0., 0., 0., 0., 0., 0.],\n",
              "        [0., 0., 0., 0., 0., 0., 0., 0., 0., 0.]],\n",
              "\n",
              "       [[0., 0., 0., 0., 0., 0., 0., 0., 0., 0.],\n",
              "        [0., 0., 0., 0., 0., 0., 0., 0., 0., 0.],\n",
              "        [0., 0., 0., 0., 0., 0., 0., 0., 0., 0.],\n",
              "        [0., 0., 0., 0., 0., 0., 0., 0., 0., 0.],\n",
              "        [0., 0., 0., 0., 1., 0., 0., 0., 0., 0.],\n",
              "        [0., 0., 0., 0., 1., 0., 0., 0., 0., 0.],\n",
              "        [0., 0., 0., 0., 1., 0., 0., 0., 0., 0.],\n",
              "        [0., 0., 0., 0., 0., 0., 0., 0., 0., 0.]]])"
            ]
          },
          "execution_count": 5,
          "metadata": {},
          "output_type": "execute_result"
        }
      ],
      "source": [
        "# Agrupam totes les peces dins una matriu 3D i la mostram\n",
        "\n",
        "sq = fit_squares(graella_ombra)\n",
        "vb = fit_vertical_bars(graella_ombra)\n",
        "block_list = sq+vb\n",
        "\n",
        "peces = np.array(block_list)\n",
        "peces"
      ]
    },
    {
      "cell_type": "code",
      "execution_count": 6,
      "metadata": {
        "colab": {
          "base_uri": "https://localhost:8080/"
        },
        "id": "8O97VNZc2mu5",
        "outputId": "5b71d7d9-6061-4870-b8f7-b1bc8325b45b"
      },
      "outputs": [
        {
          "name": "stdout",
          "output_type": "stream",
          "text": [
            "Hem trobat una solució\n",
            "(1, 0, 0, 1, 0, 0, 1, 1, 1, 0, 0, 1)\n"
          ]
        }
      ],
      "source": [
        "import itertools\n",
        "\n",
        "N = peces.shape[0] # nombre de peces candidates\n",
        "\n",
        "for selector_de_peces in itertools.product([0,1], repeat=N): # cada peça pot ser-hi o no, generam totes les combinacions possibles\n",
        "    suma_de_peces = np.sum(peces[np.array(selector_de_peces, dtype=bool)], axis=0)\n",
        "    if  np.array_equal(suma_de_peces, graella_ombra):\n",
        "      print(\"Hem trobat una solució\")\n",
        "      print(selector_de_peces)"
      ]
    }
  ],
  "metadata": {
    "colab": {
      "provenance": []
    },
    "kernelspec": {
      "display_name": ".venv",
      "language": "python",
      "name": "python3"
    },
    "language_info": {
      "codemirror_mode": {
        "name": "ipython",
        "version": 3
      },
      "file_extension": ".py",
      "mimetype": "text/x-python",
      "name": "python",
      "nbconvert_exporter": "python",
      "pygments_lexer": "ipython3",
      "version": "3.12.3"
    }
  },
  "nbformat": 4,
  "nbformat_minor": 0
}
