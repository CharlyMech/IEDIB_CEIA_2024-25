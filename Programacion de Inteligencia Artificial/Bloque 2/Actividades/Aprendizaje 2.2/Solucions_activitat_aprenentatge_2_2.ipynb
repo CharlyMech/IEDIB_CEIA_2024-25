{
  "cells": [
    {
      "cell_type": "markdown",
      "metadata": {
        "id": "DvSS_CFFacl2"
      },
      "source": [
        "# Programació d'intel·ligència artificial. Solucions activitat d'aprenentatge 2.2\n",
        "\n",
        "Aquesta és una possible solució a l'activitat d'aprenentatge CE_5073 2.2 (segon lliurament de **Programació d'Intel·ligència Artificial**). N'hi poden haver moltes altres solucions igualment vàlides."
      ]
    },
    {
      "cell_type": "markdown",
      "metadata": {
        "id": "gpStVTPja5NB"
      },
      "source": [
        "##Bloc 1: NumPy\n",
        "\n",
        "Emplena el codi corresponent a cada subapartat, tenint en compte que, quan sigui possible, és millor emprar la programació vectoritzada i les funcions universals de NumPy."
      ]
    },
    {
      "cell_type": "markdown",
      "metadata": {
        "id": "Z07rUFLwD8W8"
      },
      "source": [
        "**1.1.** Per començar, importa la llibreria numpy amb el seu nom habitual.\n",
        "\n",
        "A continuació, crea un vector unidimensional de 100 posicions, i emplena'l amb valors aleatoris seguint una distribució normal estàndard. Multiplica després cada valor per 100."
      ]
    },
    {
      "cell_type": "code",
      "execution_count": 1,
      "metadata": {
        "id": "CqAhn9yyaaVF"
      },
      "outputs": [],
      "source": [
        "import numpy as np\n",
        "\n",
        "vector = np.random.randn(100) * 100"
      ]
    },
    {
      "cell_type": "markdown",
      "metadata": {
        "id": "chq_IGmmL6Hb"
      },
      "source": [
        "**1.2.** Arrodoneix tots els valors del vector al nombre enter més proper i fes que tots els valors quedin positius (no s'ha de modificar el valor, només el signe)."
      ]
    },
    {
      "cell_type": "code",
      "execution_count": 2,
      "metadata": {
        "id": "UVwyXQUNL5Tw"
      },
      "outputs": [],
      "source": [
        "vector = np.absolute(np.rint(vector))"
      ]
    },
    {
      "cell_type": "markdown",
      "metadata": {
        "id": "LAle-6-bMpBK"
      },
      "source": [
        "**1.3.** Amb la funció `np.reshape` obté una nova matriu de 25 files i 4 columnes a partir del teu vector unidimensional"
      ]
    },
    {
      "cell_type": "code",
      "execution_count": null,
      "metadata": {
        "colab": {
          "base_uri": "https://localhost:8080/"
        },
        "id": "NHQnhY3uNMmc",
        "outputId": "35334d39-4b75-4c6f-f3fd-53427b53ff58"
      },
      "outputs": [],
      "source": [
        "matriu = np.reshape(vector, (25, 4))\n",
        "matriu"
      ]
    },
    {
      "cell_type": "markdown",
      "metadata": {
        "id": "6GyLjh3rNOO1"
      },
      "source": [
        "**1.4.** Crea una nova matriu amb el doble de l'anterior (per exemple, si el valor d'una posició era 5, en la nova matriu serà 10)"
      ]
    },
    {
      "cell_type": "code",
      "execution_count": null,
      "metadata": {
        "colab": {
          "base_uri": "https://localhost:8080/"
        },
        "id": "_z5QVx0YN_Cn",
        "outputId": "9053706b-738a-49ad-d765-1c39822f5428"
      },
      "outputs": [],
      "source": [
        "matriu2 = matriu * 2\n",
        "matriu2"
      ]
    },
    {
      "cell_type": "markdown",
      "metadata": {
        "id": "Tad8wy2ZOBS9"
      },
      "source": [
        "**1.5.** Crea una nova matriu que sigui la suma, posició a posició, de les matrius dels apartats 1.3 i 1.4"
      ]
    },
    {
      "cell_type": "code",
      "execution_count": null,
      "metadata": {
        "colab": {
          "base_uri": "https://localhost:8080/"
        },
        "id": "EG0go8NgOLGW",
        "outputId": "0c737fb0-adb3-43bc-d58d-be26e1a32f34"
      },
      "outputs": [],
      "source": [
        "matriu3 = matriu + matriu2\n",
        "matriu3"
      ]
    },
    {
      "cell_type": "markdown",
      "metadata": {
        "id": "Cts70KevOQ-9"
      },
      "source": [
        "**1.6.** Canvia el signe de tots els valors de les files 5a a 10a (començant a comptar per 1) de la matriu anterior"
      ]
    },
    {
      "cell_type": "code",
      "execution_count": 6,
      "metadata": {
        "id": "z5oN17YMOgXm"
      },
      "outputs": [],
      "source": [
        "matriu3[4:10] = np.negative(matriu3[4:10])\n"
      ]
    },
    {
      "cell_type": "markdown",
      "metadata": {
        "id": "g-Kn_am3Tb3u"
      },
      "source": [
        "**1.7.** Substitueix per 100 tots els valors de la matriu de l'apartat anterior que siguin més grans que 100"
      ]
    },
    {
      "cell_type": "code",
      "execution_count": null,
      "metadata": {
        "colab": {
          "base_uri": "https://localhost:8080/"
        },
        "id": "YERdgvGwSDQH",
        "outputId": "e0188c63-fdd4-471b-b3d0-d43da7583c60"
      },
      "outputs": [],
      "source": [
        "matriu3[matriu3 > 100] = 100\n",
        "matriu3"
      ]
    },
    {
      "cell_type": "markdown",
      "metadata": {
        "id": "8emj7WYPRaN5"
      },
      "source": [
        "**1.8.** Obté una matriu amb booleans on en cada posició s'indiqui si el valor de la matriu de l'apartat anterior és menor que 50"
      ]
    },
    {
      "cell_type": "code",
      "execution_count": null,
      "metadata": {
        "colab": {
          "base_uri": "https://localhost:8080/"
        },
        "id": "nKT76PYaTMEQ",
        "outputId": "a41923e8-708d-4ad4-e3a1-d95d8fef1b76"
      },
      "outputs": [],
      "source": [
        "matriub = (matriu3 < 50)\n",
        "matriub"
      ]
    },
    {
      "cell_type": "markdown",
      "metadata": {
        "id": "0_8SODmf0jyL"
      },
      "source": [
        "##Bloc 2: pandas\n",
        "\n",
        "Emplena el codi corresponent a cada subapartat, treballant amb la llibreria pandas."
      ]
    },
    {
      "cell_type": "markdown",
      "metadata": {
        "id": "9KwfAEo4pKHo"
      },
      "source": [
        "**2.1.** Per començar, importa la llibreria pandas amb el seu nom habitual.\n",
        "\n",
        "A continuació, carrega en un dataframe el dataset dels allotjaments turístics de Mallorca que pots trobar al Catàleg de Dades Obertes del Govern de les Illes Balears. Pots descarregar una còpia des de https://raw.githubusercontent.com/tnavarrete-iedib/bigdata-24-25/refs/heads/main/mapa-allotjaments-turistics-mallorca.csv"
      ]
    },
    {
      "cell_type": "code",
      "execution_count": 9,
      "metadata": {
        "id": "FMuZMFFTuUxL"
      },
      "outputs": [],
      "source": [
        "import pandas as pd\n",
        "df = pd.read_csv('https://raw.githubusercontent.com/tnavarrete-iedib/bigdata-24-25/refs/heads/main/mapa-allotjaments-turistics-mallorca.csv')"
      ]
    },
    {
      "cell_type": "markdown",
      "metadata": {
        "id": "ZHqo1-HcNjnA"
      },
      "source": [
        "**2.2.** Obté la mitjana i la desviació estàndard per a la columna amb el nombre de places"
      ]
    },
    {
      "cell_type": "code",
      "execution_count": null,
      "metadata": {
        "colab": {
          "base_uri": "https://localhost:8080/"
        },
        "id": "uJ3K-hBHNyLF",
        "outputId": "47ce9fac-b78e-4ff5-c1b7-d66ee97a7b5e"
      },
      "outputs": [],
      "source": [
        "print('Mitjana: ', df['Places'].mean())\n",
        "print('Desviació estàndard: ', df['Places'].std())"
      ]
    },
    {
      "cell_type": "markdown",
      "metadata": {
        "id": "LP0lc1Cd9U6E"
      },
      "source": [
        "**2.3.** Recupera els allotjaments del municipi d'Alcúdia amb més de 1000 places"
      ]
    },
    {
      "cell_type": "code",
      "execution_count": null,
      "metadata": {
        "colab": {
          "base_uri": "https://localhost:8080/",
          "height": 199
        },
        "id": "WxxqUIQZK_Pm",
        "outputId": "b712b3ec-3be5-4694-98f7-7be1c8a7ac55"
      },
      "outputs": [],
      "source": [
        "df[(df['Municipi'] == 'ALCÚDIA') & (df['Places'] > 1000)]"
      ]
    },
    {
      "cell_type": "markdown",
      "metadata": {
        "id": "3xtyorwrpG3R"
      },
      "source": [
        "**2.4** Calcula el nombre d'allotjaments de cada municipi"
      ]
    },
    {
      "cell_type": "code",
      "execution_count": null,
      "metadata": {
        "colab": {
          "base_uri": "https://localhost:8080/",
          "height": 1000
        },
        "id": "6ULPeJ2_uVyZ",
        "outputId": "a21553f0-aa09-400c-c802-ba4338949d47"
      },
      "outputs": [],
      "source": [
        "df[['Municipi','Signatura']].groupby('Municipi').count()"
      ]
    },
    {
      "cell_type": "markdown",
      "metadata": {
        "id": "OtGiG6dK44K4"
      },
      "source": [
        "**2.5** Obté dos objectse Series a partir del teu dataframe, on en els índexs tendrem el nom d'un municipi i en els valors:\n",
        "* en un objecte Series, el nombre total de places del municipi\n",
        "* en l'altre objecte Series, el nombre total d'habitacions del municipi"
      ]
    },
    {
      "cell_type": "code",
      "execution_count": null,
      "metadata": {
        "colab": {
          "base_uri": "https://localhost:8080/"
        },
        "id": "lGXpns6R9Mvc",
        "outputId": "18fb69af-7257-484b-af34-0c1bb67a583c"
      },
      "outputs": [],
      "source": [
        "splaces = df[['Municipi','Places']].groupby('Municipi')['Places'].sum()\n",
        "shabitacions = df[['Municipi','Nombre habitacions']].groupby('Municipi')['Nombre habitacions'].sum()\n",
        "print(splaces)\n",
        "print(shabitacions)"
      ]
    },
    {
      "cell_type": "markdown",
      "metadata": {
        "id": "b0wIwRFs1ykW"
      },
      "source": [
        "**2.6.** A partir d'aquests dos objectes Series, crea'n un altre amb el nombre de places per habitació de cada municipi"
      ]
    },
    {
      "cell_type": "code",
      "execution_count": null,
      "metadata": {
        "colab": {
          "base_uri": "https://localhost:8080/",
          "height": 1000
        },
        "id": "C4pXowb8uWvR",
        "outputId": "24827e1f-ea3c-4156-cb6c-31a3893bcaaa"
      },
      "outputs": [],
      "source": [
        "splaceshabitacio = splaces / shabitacions\n",
        "splaceshabitacio"
      ]
    },
    {
      "cell_type": "markdown",
      "metadata": {
        "id": "R9EXmG5FOLNe"
      },
      "source": [
        "**2.7.** A partir d'aquests tres objectes Series dels apartats anteriors, crea un nou objecte DataFrame amb 4 columnes:\n",
        "* Nom del municipi\n",
        "* Nombre de places\n",
        "* Nombre d'habitacions\n",
        "* Nombre de places per habitació"
      ]
    },
    {
      "cell_type": "code",
      "execution_count": null,
      "metadata": {
        "colab": {
          "base_uri": "https://localhost:8080/",
          "height": 1000
        },
        "id": "8uDFFE45OuBd",
        "outputId": "56475e48-0ad8-414e-b92f-427dd8cab99e"
      },
      "outputs": [],
      "source": [
        "df2 = pd.DataFrame({\n",
        "    'Municipi': splaces.index,\n",
        "    'Total places' : splaces.values,\n",
        "    'Total habitacions' : shabitacions.values,\n",
        "    'Places per habitacio' : splaceshabitacio.values\n",
        "})\n",
        "df2"
      ]
    },
    {
      "cell_type": "markdown",
      "metadata": {
        "id": "flCXcjVnOh6n"
      },
      "source": [
        "**2.8.** Guarda el teu objecte DataFrame en un fitxer CSV al directori 'allotjaments' de la teva unitat de Google Drive.\n",
        "\n",
        "---\n",
        "\n"
      ]
    },
    {
      "cell_type": "code",
      "execution_count": null,
      "metadata": {
        "colab": {
          "base_uri": "https://localhost:8080/"
        },
        "id": "mQio9WLiOg49",
        "outputId": "c5345c75-3f36-412e-d364-39e2a0ac2e6a"
      },
      "outputs": [],
      "source": [
        "from google.colab import drive\n",
        "drive.mount('/drive', force_remount=True)\n",
        "df2.to_csv('/drive/My Drive/dades/allotjaments.csv')"
      ]
    },
    {
      "cell_type": "markdown",
      "metadata": {
        "id": "W1RrLTsx8RPZ"
      },
      "source": [
        "##Bloc 3: Matplotlib\n",
        "\n",
        "A partir del DataFrame dels allotjaments del bloc anterior, representa amb Matplotlib una figura amb tres subplots, organitzats en tres files, un devall de l'altre:\n",
        "* nigul de punts on es relacionen el nombre d'habitacions en l'eix X i el nombre de places en l'eix Y\n",
        "* l'histograma per al nombre de places\n",
        "* l'histograma per al nombre d'habitacions\n",
        "\n",
        "Cada subplot ha de mostrar el seu títol i els seus eixos amb una etiqueta. A més, el gràfic de cada subplot ha d'utilitzar un color diferent.\n",
        "\n",
        "Tots els elements han de quedar disposats de manera que es pugui veure tot de manera correcta."
      ]
    },
    {
      "cell_type": "code",
      "execution_count": null,
      "metadata": {
        "colab": {
          "base_uri": "https://localhost:8080/",
          "height": 1000
        },
        "id": "n4pk5262QCD3",
        "outputId": "6e07a224-e9a9-4e1a-d821-3a5d4701e3c8"
      },
      "outputs": [],
      "source": [
        "import matplotlib.pyplot as plt\n",
        "\n",
        "fig = plt.figure(figsize=(15,15))\n",
        "\n",
        "sub1 = fig.add_subplot(3,1,1)\n",
        "sub2 = fig.add_subplot(3,1,2)\n",
        "sub3 = fig.add_subplot(3,1,3)\n",
        "\n",
        "plt.subplots_adjust(hspace=0.3)\n",
        "fig.set_figheight(20)\n",
        "\n",
        "sub1.set_title('Relació entre habitacions i places')\n",
        "sub1.set_xlabel('Nombre d\\'habitacions')\n",
        "sub1.set_ylabel('Nombre de places')\n",
        "sub1.scatter(df2['Total habitacions'], df2['Total places'], color = 'red')\n",
        "\n",
        "sub2.set_title('Histograma del nombre de places')\n",
        "sub2.set_xlabel('Nombre de places')\n",
        "sub2.set_ylabel('Nombre d\\'allotjaments')\n",
        "sub2.hist(df2['Total places'], color = 'green')\n",
        "\n",
        "sub3.set_title('Histograma del nombre d\\'habitacions')\n",
        "sub3.set_xlabel('Nombre d\\'habitacions')\n",
        "sub3.set_ylabel('Nombre d\\'allotjaments')\n",
        "sub3.hist(df2['Total habitacions'], color = 'blue')\n",
        "\n",
        "plt.show()"
      ]
    }
  ],
  "metadata": {
    "colab": {
      "provenance": []
    },
    "kernelspec": {
      "display_name": ".venv",
      "language": "python",
      "name": "python3"
    },
    "language_info": {
      "codemirror_mode": {
        "name": "ipython",
        "version": 3
      },
      "file_extension": ".py",
      "mimetype": "text/x-python",
      "name": "python",
      "nbconvert_exporter": "python",
      "pygments_lexer": "ipython3",
      "version": "3.12.3"
    }
  },
  "nbformat": 4,
  "nbformat_minor": 0
}
