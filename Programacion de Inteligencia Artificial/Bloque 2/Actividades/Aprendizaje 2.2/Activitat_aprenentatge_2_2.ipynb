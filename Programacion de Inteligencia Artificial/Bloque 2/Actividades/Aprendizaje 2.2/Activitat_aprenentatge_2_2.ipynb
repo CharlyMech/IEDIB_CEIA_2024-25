{
  "cells": [
    {
      "cell_type": "markdown",
      "metadata": {
        "id": "DvSS_CFFacl2"
      },
      "source": [
        "# Programació d'intel·ligència artificial. Activitat d'aprenentatge 2.2\n",
        "\n",
        "Aquest és l'enunciat de l'activitat d'aprenentatge 2.2 de Programació d'Intel·ligència Artificial (segon lliurament). S'hi treballen les tres biblioteques que hem vist en els apunts. Ves responent-les en les cel·les de codi corresponents.\n",
        "\n",
        "En un altra quadern podràs trobar una solució."
      ]
    },
    {
      "cell_type": "markdown",
      "metadata": {
        "id": "gpStVTPja5NB"
      },
      "source": [
        "## Bloc 1: NumPy\n",
        "\n",
        "Emplena el codi corresponent a cada subapartat, tenint en compte que, quan sigui possible, és millor emprar la programació vectoritzada i les funcions universals de NumPy."
      ]
    },
    {
      "cell_type": "markdown",
      "metadata": {
        "id": "Z07rUFLwD8W8"
      },
      "source": [
        "**1.1.** Per començar, importa la llibreria numpy amb el seu nom habitual.\n",
        "\n",
        "A continuació, crea un vector unidimensional de 100 posicions, i emplena'l amb valors aleatoris seguint una distribució normal estàndard. Multiplica després cada valor per 100."
      ]
    },
    {
      "cell_type": "code",
      "execution_count": null,
      "metadata": {
        "id": "CqAhn9yyaaVF"
      },
      "outputs": [],
      "source": [
        "import numpy as np\n",
        "\n",
        "v = np.random.randn(100)\n",
        "v_times_ten = 100 * v\n",
        "v_times_ten"
      ]
    },
    {
      "cell_type": "markdown",
      "metadata": {
        "id": "chq_IGmmL6Hb"
      },
      "source": [
        "**1.2.** Arrodoneix tots els valors del vector al nombre enter més proper i fes que tots els valors quedin positius (no s'ha de modificar el valor, només el signe)."
      ]
    },
    {
      "cell_type": "code",
      "execution_count": null,
      "metadata": {
        "id": "UVwyXQUNL5Tw"
      },
      "outputs": [],
      "source": [
        "v_abs_int = np.rint(np.absolute(v))\n",
        "v_abs_int"
      ]
    },
    {
      "cell_type": "markdown",
      "metadata": {
        "id": "LAle-6-bMpBK"
      },
      "source": [
        "**1.3.** Amb la funció `np.reshape` obté una nova matriu de 25 files i 4 columnes a partir del teu vector unidimensional"
      ]
    },
    {
      "cell_type": "code",
      "execution_count": null,
      "metadata": {
        "id": "NHQnhY3uNMmc"
      },
      "outputs": [],
      "source": [
        "v_reshape = np.reshape(v, (25, 4))\n",
        "v_reshape"
      ]
    },
    {
      "cell_type": "markdown",
      "metadata": {
        "id": "6GyLjh3rNOO1"
      },
      "source": [
        "**1.4.** Crea una nova matriu amb el doble de l'anterior (per exemple, si el valor d'una posició era 5, en la nova matriu serà 10)"
      ]
    },
    {
      "cell_type": "code",
      "execution_count": null,
      "metadata": {
        "id": "_z5QVx0YN_Cn"
      },
      "outputs": [],
      "source": [
        "matrix = np.multiply(v_reshape, 2)\n",
        "matrix"
      ]
    },
    {
      "cell_type": "markdown",
      "metadata": {
        "id": "Tad8wy2ZOBS9"
      },
      "source": [
        "**1.5.** Crea una nova matriu que sigui la suma, posició a posició, de les matrius dels apartats 1.3 i 1.4"
      ]
    },
    {
      "cell_type": "code",
      "execution_count": null,
      "metadata": {
        "id": "EG0go8NgOLGW"
      },
      "outputs": [],
      "source": [
        "sum_matrix = v_reshape + matrix\n",
        "sum_matrix"
      ]
    },
    {
      "cell_type": "markdown",
      "metadata": {
        "id": "Cts70KevOQ-9"
      },
      "source": [
        "**1.6.** Canvia el signe de tots els valors de les files 5a a 10a (començant a comptar per 1) de la matriu anterior"
      ]
    },
    {
      "cell_type": "code",
      "execution_count": null,
      "metadata": {
        "id": "z5oN17YMOgXm"
      },
      "outputs": [],
      "source": [
        "-1*sum_matrix[4:10]"
      ]
    },
    {
      "cell_type": "markdown",
      "metadata": {
        "id": "g-Kn_am3Tb3u"
      },
      "source": [
        "**1.7.** Substitueix per 100 tots els valors de la matriu de l'apartat anterior que siguin més grans que 100"
      ]
    },
    {
      "cell_type": "code",
      "execution_count": null,
      "metadata": {
        "id": "YERdgvGwSDQH"
      },
      "outputs": [],
      "source": [
        "v_times_ten = np.rint(np.absolute(v_times_ten))\n",
        "v_times_ten = np.reshape(v_times_ten, (25, 4))\n",
        "v_times_ten[v_times_ten > 100] = 100\n",
        "v_times_ten"
      ]
    },
    {
      "cell_type": "markdown",
      "metadata": {
        "id": "8emj7WYPRaN5"
      },
      "source": [
        "**1.8.** Obté una matriu amb booleans on en cada posició s'indiqui si el valor de la matriu de l'apartat anterior és menor que 50"
      ]
    },
    {
      "cell_type": "code",
      "execution_count": null,
      "metadata": {
        "id": "nKT76PYaTMEQ"
      },
      "outputs": [],
      "source": [
        "boolean_matrix = v_times_ten<50\n",
        "boolean_matrix"
      ]
    },
    {
      "cell_type": "markdown",
      "metadata": {
        "id": "0_8SODmf0jyL"
      },
      "source": [
        "## Bloc 2: pandas\n",
        "\n",
        "Emplena el codi corresponent a cada subapartat, treballant amb la llibreria pandas."
      ]
    },
    {
      "cell_type": "markdown",
      "metadata": {
        "id": "9KwfAEo4pKHo"
      },
      "source": [
        "**2.1.** Per començar, importa la llibreria pandas amb el seu nom habitual.\n",
        "\n",
        "A continuació, carrega en un dataframe el dataset dels allotjaments turístics de Mallorca que pots trobar al Catàleg de Dades Obertes del Govern de les Illes Balears. Pots descarregar una còpia des de https://raw.githubusercontent.com/tnavarrete-iedib/bigdata-24-25/refs/heads/main/mapa-allotjaments-turistics-mallorca.csv"
      ]
    },
    {
      "cell_type": "code",
      "execution_count": null,
      "metadata": {
        "id": "FMuZMFFTuUxL"
      },
      "outputs": [],
      "source": [
        "import pandas as pd\n",
        "\n",
        "data = pd.read_csv('https://raw.githubusercontent.com/tnavarrete-iedib/bigdata-24-25/refs/heads/main/mapa-allotjaments-turistics-mallorca.csv')\n",
        "data"
      ]
    },
    {
      "cell_type": "markdown",
      "metadata": {
        "id": "ZHqo1-HcNjnA"
      },
      "source": [
        "**2.2.** Obté la mitjana i la desviació estàndard per a la columna amb el nombre de places"
      ]
    },
    {
      "cell_type": "code",
      "execution_count": null,
      "metadata": {
        "id": "uJ3K-hBHNyLF"
      },
      "outputs": [],
      "source": [
        "print(f'Media: {data['Places'].mean()} - Desviación: {data['Places'].std()}')"
      ]
    },
    {
      "cell_type": "markdown",
      "metadata": {
        "id": "LP0lc1Cd9U6E"
      },
      "source": [
        "**2.3.** Recupera els allotjaments del municipi d'Alcúdia amb més de 1000 places"
      ]
    },
    {
      "cell_type": "code",
      "execution_count": null,
      "metadata": {
        "id": "WxxqUIQZK_Pm"
      },
      "outputs": [],
      "source": [
        "data[(data['Municipi'] == 'ALCÚDIA') & (data['Places'] > 1000)]"
      ]
    },
    {
      "cell_type": "markdown",
      "metadata": {
        "id": "3xtyorwrpG3R"
      },
      "source": [
        "**2.4** Calcula el nombre d'allotjaments de cada municipi"
      ]
    },
    {
      "cell_type": "code",
      "execution_count": null,
      "metadata": {
        "id": "6ULPeJ2_uVyZ"
      },
      "outputs": [],
      "source": [
        "data[['Municipi', 'Signatura']].groupby('Municipi').count()"
      ]
    },
    {
      "cell_type": "markdown",
      "metadata": {
        "id": "OtGiG6dK44K4"
      },
      "source": [
        "**2.5** Obté dos objectse Series a partir del teu dataframe, on en els índexs tendrem el nom d'un municipi i en els valors:\n",
        "* en un objecte Series, el nombre total de places del municipi\n",
        "* en l'altre objecte Series, el nombre total d'habitacions del municipi"
      ]
    },
    {
      "cell_type": "code",
      "execution_count": null,
      "metadata": {
        "id": "lGXpns6R9Mvc"
      },
      "outputs": [],
      "source": [
        "places_serie = data[['Municipi', 'Places']].groupby('Municipi')['Places'].sum()\n",
        "print('--- Places ---')\n",
        "print(places_serie)\n",
        "\n",
        "rooms_serie = data[['Municipi', 'Nombre habitacions']].groupby('Municipi')['Nombre habitacions'].sum()\n",
        "print('--- Rooms ---')\n",
        "print(rooms_serie)"
      ]
    },
    {
      "cell_type": "markdown",
      "metadata": {
        "id": "b0wIwRFs1ykW"
      },
      "source": [
        "**2.6.** A partir d'aquests dos objectes Series, crea'n un altre amb el nombre de places per habitació de cada municipi"
      ]
    },
    {
      "cell_type": "code",
      "execution_count": null,
      "metadata": {
        "id": "C4pXowb8uWvR"
      },
      "outputs": [],
      "source": [
        "places_per_room = places_serie / rooms_serie\n",
        "print(places_per_room)"
      ]
    },
    {
      "cell_type": "markdown",
      "metadata": {
        "id": "R9EXmG5FOLNe"
      },
      "source": [
        "**2.7.** A partir d'aquests tres objectes Series dels apartats anteriors, crea un nou objecte DataFrame amb 4 columnes:\n",
        "* Nom del municipi\n",
        "* Nombre de places\n",
        "* Nombre d'habitacions\n",
        "* Nombre de places per habitació"
      ]
    },
    {
      "cell_type": "code",
      "execution_count": 16,
      "metadata": {
        "id": "8uDFFE45OuBd"
      },
      "outputs": [],
      "source": [
        "full_data = pd.DataFrame({\n",
        "\t'Municipios': places_per_room.index,\n",
        "\t'Total plazas': places_serie.values,\n",
        "\t'Total habitaciones': rooms_serie.values,\n",
        "\t'Plazas por habitación': places_per_room.values\n",
        "})"
      ]
    },
    {
      "cell_type": "markdown",
      "metadata": {
        "id": "flCXcjVnOh6n"
      },
      "source": [
        "**2.8.** Guarda el teu objecte DataFrame en un fitxer CSV al directori 'allotjaments' de la teva unitat de Google Drive.\n",
        "\n",
        "---\n",
        "\n"
      ]
    },
    {
      "cell_type": "code",
      "execution_count": 19,
      "metadata": {
        "id": "mQio9WLiOg49"
      },
      "outputs": [],
      "source": [
        "# Alternative -> Save it in my local system:\n",
        "full_data.to_csv('./full_data.csv', index=False)"
      ]
    },
    {
      "cell_type": "markdown",
      "metadata": {
        "id": "W1RrLTsx8RPZ"
      },
      "source": [
        "## Bloc 3: Matplotlib\n",
        "\n",
        "A partir del DataFrame dels allotjaments del bloc anterior, representa amb Matplotlib una figura amb tres subplots, organitzats en tres files, un devall de l'altre:\n",
        "* nigul de punts on es relacionen el nombre d'habitacions en l'eix X i el nombre de places en l'eix Y\n",
        "* l'histograma per al nombre de places\n",
        "* l'histograma per al nombre d'habitacions\n",
        "\n",
        "Cada subplot ha de mostrar el seu títol i els seus eixos amb una etiqueta. A més, el gràfic de cada subplot ha d'utilitzar un color diferent.\n",
        "\n",
        "Tots els elements han de quedar disposats de manera que es pugui veure tot de manera correcta."
      ]
    },
    {
      "cell_type": "code",
      "execution_count": null,
      "metadata": {
        "id": "n4pk5262QCD3"
      },
      "outputs": [],
      "source": [
        "import matplotlib.pyplot as plt\n",
        "\n",
        "plot = plt.figure(figsize=(10, 20))\n",
        "\n",
        "fig1 = plot.add_subplot(3,1,1)\n",
        "fig2 = plot.add_subplot(3,1,2)\n",
        "fig3 = plot.add_subplot(3,1,3)\n",
        "\n",
        "plt.subplots_adjust(hspace=0.3)\n",
        "plot.set_figheight(20)\n",
        "\n",
        "fig1.set_title('Habitaciones por plazas')\n",
        "fig1.set_xlabel('Habitaciones')\n",
        "fig1.set_ylabel('Plazas')\n",
        "fig1.scatter(full_data['Total habitaciones'], full_data['Total plazas'], color = 'red')\n",
        "\n",
        "fig2.set_title('Histograma de cantidad de plazas')\n",
        "fig2.set_xlabel('Plazas')\n",
        "fig2.set_ylabel('Alojamientos')\n",
        "fig2.hist(full_data['Total plazas'], color = 'green')\n",
        "\n",
        "fig3.set_title('Histograma del número de habitaciones')\n",
        "fig3.set_xlabel('Número de habitaciones')\n",
        "fig3.set_ylabel('Número de alojamientos')\n",
        "fig3.hist(full_data['Total habitaciones'], color = 'blue')\n",
        "\n",
        "plot.show()"
      ]
    }
  ],
  "metadata": {
    "colab": {
      "provenance": []
    },
    "kernelspec": {
      "display_name": ".venv",
      "language": "python",
      "name": "python3"
    },
    "language_info": {
      "codemirror_mode": {
        "name": "ipython",
        "version": 3
      },
      "file_extension": ".py",
      "mimetype": "text/x-python",
      "name": "python",
      "nbconvert_exporter": "python",
      "pygments_lexer": "ipython3",
      "version": "3.12.3"
    }
  },
  "nbformat": 4,
  "nbformat_minor": 0
}
