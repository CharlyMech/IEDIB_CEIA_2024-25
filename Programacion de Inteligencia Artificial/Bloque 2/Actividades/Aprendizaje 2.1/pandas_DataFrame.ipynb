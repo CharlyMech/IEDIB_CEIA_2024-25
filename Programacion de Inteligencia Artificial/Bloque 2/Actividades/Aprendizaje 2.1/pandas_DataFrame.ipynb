{
  "cells": [
    {
      "cell_type": "markdown",
      "metadata": {
        "id": "VS5um_2TtNfM"
      },
      "source": [
        "# Estructures de dades pandas\n",
        "\n",
        "## DataFrame\n",
        "\n",
        "Un DataFrame representa una taula rectangular de dades i conté una col·lecció ordenada de columnes, que poden ser cada una d'un tipus diferent (numèric, cadena, booleà, etc.). El DataFrame té un índex de filera i un altre de columna. El podem veure com un diccionari de Series que comparteixen totes un mateix índex.\n",
        "\n",
        "Internament, les dades s'emmagatzemen com un o més blocs bidimensionals més que no com a list, dict, o qualsevol altra col·lecció de vectors unidimensionals.\n",
        "\n",
        "Tot i que un DataFrame és bidimensional, es pot fer servir per representar dades multidimensionals en format tabular usant indexat jeràrquic. Això és un element important en algunes de les característiques més avançades de gestió de dades de pandas.\n",
        "\n",
        "Hi ha moltes formes de construir un DataFrame. Una de les més freqüents és a partir d'un diccionari de llistes o vectors NumPy de la mateixa longitud.\n"
      ]
    },
    {
      "cell_type": "code",
      "execution_count": null,
      "metadata": {
        "colab": {
          "base_uri": "https://localhost:8080/",
          "height": 175
        },
        "id": "asHIOw7ttKaG",
        "outputId": "49a5a265-b019-4579-eee8-c0cda7e5079c"
      },
      "outputs": [],
      "source": [
        "import pandas as pd\n",
        "\n",
        "dades = {\n",
        "    'illa': ['Mallorca', 'Menorca', 'Eivissa', 'Formentera'],\n",
        "    'superficie': [3620, 692, 577, 83],\n",
        "    'poblacio': [ 923608, 94885, 147914, 11708]\n",
        "}\n",
        "\n",
        "df = pd.DataFrame(dades)\n",
        "df"
      ]
    },
    {
      "cell_type": "markdown",
      "metadata": {
        "id": "bf4bWKKgviVo"
      },
      "source": [
        "El DataFrame resultat té l'índex assignat automàticament, com a les sèries, i les columnes es mostren en ordre.\n",
        "\n",
        "En conjunts de dades grans, podem veure només unes primeres fileres amb el mètode `head`, passant-hi com a paràmetre quantes en volem veure. El valor per defecte, quan no es passa paràmetre, és 5."
      ]
    },
    {
      "cell_type": "code",
      "execution_count": null,
      "metadata": {
        "colab": {
          "base_uri": "https://localhost:8080/",
          "height": 143
        },
        "id": "t-FtFETIvx4Z",
        "outputId": "1bb6ee03-5294-42fb-f4e6-373237696463"
      },
      "outputs": [],
      "source": [
        "df.head(3)"
      ]
    },
    {
      "cell_type": "markdown",
      "metadata": {
        "id": "5XuIigmywEZv"
      },
      "source": [
        "Si especificam un ordre de columnes particular, el DataFrame s'hi ajustarà."
      ]
    },
    {
      "cell_type": "code",
      "execution_count": null,
      "metadata": {
        "colab": {
          "base_uri": "https://localhost:8080/",
          "height": 175
        },
        "id": "hLU3dxciwJ_s",
        "outputId": "1dadc347-3fa4-478d-8a2c-9d2c82bbc0d6"
      },
      "outputs": [],
      "source": [
        "pd.DataFrame(dades, columns=['illa','poblacio','superficie'])"
      ]
    },
    {
      "cell_type": "markdown",
      "metadata": {
        "id": "lOQGEn8cwZ7-"
      },
      "source": [
        "Si demanam una columna que no hi és, es crea amb valors nuls (NaN)."
      ]
    },
    {
      "cell_type": "code",
      "execution_count": null,
      "metadata": {
        "colab": {
          "base_uri": "https://localhost:8080/",
          "height": 175
        },
        "id": "p3ZcUZ7Lweiu",
        "outputId": "60ddd86b-77fe-4963-c7ae-43a05eb04b5b"
      },
      "outputs": [],
      "source": [
        "df2 = pd.DataFrame(dades, columns=['illa','poblacio','superficie','densitat'], index=['u','dos','tres','quatre'])\n",
        "df2"
      ]
    },
    {
      "cell_type": "code",
      "execution_count": null,
      "metadata": {
        "colab": {
          "base_uri": "https://localhost:8080/"
        },
        "id": "vPh55QIKwqw3",
        "outputId": "fa6ef1de-966d-43fc-f9b4-2eeefc9e5908"
      },
      "outputs": [],
      "source": [
        "df2.columns"
      ]
    },
    {
      "cell_type": "markdown",
      "metadata": {
        "id": "gFJsJhskw4sS"
      },
      "source": [
        "Una columna d'un DataFrame es pot retornar com a Series amb notació de diccionari o com a atribut, amb el mateix resultat."
      ]
    },
    {
      "cell_type": "code",
      "execution_count": null,
      "metadata": {
        "colab": {
          "base_uri": "https://localhost:8080/"
        },
        "id": "_yBK3gDmxAoK",
        "outputId": "3c48c6e5-f0b6-4059-d046-bd14d3a2ef2f"
      },
      "outputs": [],
      "source": [
        "df2['poblacio']"
      ]
    },
    {
      "cell_type": "code",
      "execution_count": null,
      "metadata": {
        "colab": {
          "base_uri": "https://localhost:8080/"
        },
        "id": "K9rxMWStxEpF",
        "outputId": "98816fed-6394-4d0b-cefe-99bd429880da"
      },
      "outputs": [],
      "source": [
        "df2.poblacio"
      ]
    },
    {
      "cell_type": "markdown",
      "metadata": {
        "id": "JPwrddFoxRCe"
      },
      "source": [
        "Observem que `frame['columna']` funciona per a qualsevol nom de columna, mentre que `frame.columna` només si columna és un nom de variable vàlid en Python."
      ]
    },
    {
      "cell_type": "markdown",
      "metadata": {
        "id": "vZFTcvEjH8nN"
      },
      "source": [
        "La Series de retorn té el mateix índex que el DataFrame, i el seu atribute `name` pren el valor adequat."
      ]
    },
    {
      "cell_type": "markdown",
      "metadata": {
        "id": "GecWbIvaIx-C"
      },
      "source": [
        "Les fileres es poden obtenir per posició o per nom amb l'atribut especial `loc`."
      ]
    },
    {
      "cell_type": "code",
      "execution_count": null,
      "metadata": {
        "colab": {
          "base_uri": "https://localhost:8080/"
        },
        "id": "3vENyhCxI6_U",
        "outputId": "bc19e19c-acf6-422d-83c2-a2b1bf8bfdd4"
      },
      "outputs": [],
      "source": [
        "df2.loc['dos']"
      ]
    },
    {
      "cell_type": "markdown",
      "metadata": {
        "id": "YAyIECDyKE3R"
      },
      "source": [
        "Les columnes es poden modificar per assignació. Per exemple, la columna buida densitat pot rebre un escalar o un vector de valors."
      ]
    },
    {
      "cell_type": "code",
      "execution_count": null,
      "metadata": {
        "colab": {
          "base_uri": "https://localhost:8080/",
          "height": 175
        },
        "id": "AetZS7ngKMlh",
        "outputId": "051cd9cb-7be3-4142-ae99-b862e8e3297a"
      },
      "outputs": [],
      "source": [
        "df2.densitat = 100\n",
        "df2"
      ]
    },
    {
      "cell_type": "code",
      "execution_count": null,
      "metadata": {
        "colab": {
          "base_uri": "https://localhost:8080/",
          "height": 175
        },
        "id": "D9Teuey_KVpk",
        "outputId": "9e21ddaa-c2e2-4c89-8d69-a349a9acddf8"
      },
      "outputs": [],
      "source": [
        "df2.densitat = [255,\t137, 256, 140]\n",
        "df2"
      ]
    },
    {
      "cell_type": "markdown",
      "metadata": {
        "id": "2IG6FmGfLlLC"
      },
      "source": [
        "Quan s'assignen llistes o vectors a una columna, la longitud dels valors ha d'encaixar amb la longitud del DataFrame. Si s'assigna una sèrie, les etiquetes s'alinearan exactament amb les del DataFrame, inserint valors NaN a qualsevol buit."
      ]
    },
    {
      "cell_type": "code",
      "execution_count": null,
      "metadata": {
        "colab": {
          "base_uri": "https://localhost:8080/",
          "height": 175
        },
        "id": "RfXtr_QKL14V",
        "outputId": "3a2fa4d6-9b56-41ca-fa35-c6cc9e0a4fa8"
      },
      "outputs": [],
      "source": [
        "densitat = pd.Series([255,137], index=['u','dos'])\n",
        "\n",
        "df2.densitat = densitat\n",
        "df2"
      ]
    },
    {
      "cell_type": "markdown",
      "metadata": {
        "id": "eUWHt_XGMauv"
      },
      "source": [
        "Quan s'assigna una columna que no existeix se n'assigna una de nova. El mot reservat `del` esborra columnes com en un `dict`."
      ]
    },
    {
      "cell_type": "markdown",
      "metadata": {
        "id": "i6b5E_BHMkZP"
      },
      "source": [
        "Creem dues columnes noves, per classificar les illes en Gimnèsies i Pitiüses."
      ]
    },
    {
      "cell_type": "code",
      "execution_count": null,
      "metadata": {
        "colab": {
          "base_uri": "https://localhost:8080/",
          "height": 175
        },
        "id": "a2Mn0ieqMo_A",
        "outputId": "71ba5cd0-8535-4268-c030-110462026c93"
      },
      "outputs": [],
      "source": [
        "df2['Gimnèsies']=[True, True, False, False]\n",
        "\n",
        "df2['Pitiüses']=[False, False, True, True]\n",
        "\n",
        "df2\n",
        "\n",
        "\n"
      ]
    },
    {
      "cell_type": "markdown",
      "metadata": {
        "id": "0bMLWvR9RrXt"
      },
      "source": [
        "Si en qualque moment decidim que una columna no ens interessa, la podem esborrar."
      ]
    },
    {
      "cell_type": "code",
      "execution_count": null,
      "metadata": {
        "colab": {
          "base_uri": "https://localhost:8080/",
          "height": 175
        },
        "id": "tTygJqRZRvR-",
        "outputId": "6e415876-1c80-4614-fb20-44b3b35e7649"
      },
      "outputs": [],
      "source": [
        "del df2['Gimnèsies']\n",
        "\n",
        "df2"
      ]
    },
    {
      "cell_type": "markdown",
      "metadata": {
        "id": "ciwyRXAlR_9g"
      },
      "source": [
        "Una altra forma habitual que prenen les dades és com a diccionari de diccionaris imbricat."
      ]
    },
    {
      "cell_type": "code",
      "execution_count": null,
      "metadata": {
        "colab": {
          "base_uri": "https://localhost:8080/"
        },
        "id": "a9RQFvUvSG2g",
        "outputId": "7fc4fd6f-42da-4eeb-a348-5835804fb93d"
      },
      "outputs": [],
      "source": [
        "dades = {\n",
        "    'Mallorca': {'poblacio': 923608, 'superficie': 3620},\n",
        "    'Menorca': {'poblacio': 94885\t, 'superficie': 692},\n",
        "    'Eivissa': {'poblacio': 147914, 'superficie': 577},\n",
        "    'Formentera': {'poblacio': 11708, 'superficie': 83}\n",
        "}\n",
        "\n",
        "dades"
      ]
    },
    {
      "cell_type": "markdown",
      "metadata": {
        "id": "gtVtaPU9S4Zd"
      },
      "source": [
        "Si el diccionari imbricat es passa com a paràmetre al DataFrame, pandas interpretarà les claus externes del diccionari com a columnes i les claus internes com a índexs de columna."
      ]
    },
    {
      "cell_type": "code",
      "execution_count": null,
      "metadata": {
        "colab": {
          "base_uri": "https://localhost:8080/",
          "height": 112
        },
        "id": "oDyxaSkQTDmv",
        "outputId": "43624a58-ffb7-42dd-86f5-ff10b2045e37"
      },
      "outputs": [],
      "source": [
        "df3 = pd.DataFrame(dades)\n",
        "\n",
        "df3"
      ]
    },
    {
      "cell_type": "markdown",
      "metadata": {
        "id": "7eyQAXkHTO1f"
      },
      "source": [
        "Es pot transposar un DataFrame (intercanviar fileres i columnes) amb una sintaxi similar a la dels vectors NumPy."
      ]
    },
    {
      "cell_type": "code",
      "execution_count": null,
      "metadata": {
        "colab": {
          "base_uri": "https://localhost:8080/",
          "height": 175
        },
        "id": "NwZ5KFaoTVij",
        "outputId": "11fdfb9d-3231-42ed-ff39-f74647e625c6"
      },
      "outputs": [],
      "source": [
        "df3.T"
      ]
    },
    {
      "cell_type": "markdown",
      "metadata": {
        "id": "sc6zxlbfTcl4"
      },
      "source": [
        "Les claus dels diccionaris interiors es combinen i ordenen per formar l'índex del resultat.\n",
        "\n",
        "Però això no és així si s'especifica un índex explícit."
      ]
    },
    {
      "cell_type": "code",
      "execution_count": null,
      "metadata": {
        "colab": {
          "base_uri": "https://localhost:8080/",
          "height": 143
        },
        "id": "K5vxyTfwT4YM",
        "outputId": "f0846dd8-ed36-4a5c-f6db-e9bce21b72c4"
      },
      "outputs": [],
      "source": [
        "pd.DataFrame(dades, index=['poblacio', 'superficie', 'densitat'])"
      ]
    },
    {
      "cell_type": "markdown",
      "metadata": {
        "id": "GGqDBe7GUDaM"
      },
      "source": [
        "Els diccionaris de sèries es tracten d'una forma semblant."
      ]
    },
    {
      "cell_type": "code",
      "execution_count": null,
      "metadata": {
        "colab": {
          "base_uri": "https://localhost:8080/",
          "height": 112
        },
        "id": "HbNsAG8xV6wS",
        "outputId": "6c808c5b-f750-4d90-ecf0-c3eb050a7113"
      },
      "outputs": [],
      "source": [
        "pdata = {\n",
        "    'Mallorca': df3['Mallorca'][:], # complet\n",
        "    'Menorca': df3['Menorca'][:1]   # només el primer camp\n",
        "    }\n",
        "\n",
        "pd.DataFrame(pdata)"
      ]
    },
    {
      "cell_type": "markdown",
      "metadata": {
        "id": "8p_JeNyHWbas"
      },
      "source": [
        "Aquesta és una taula dels paràmetres que pot rebre el constructor de DataFrame\n",
        "\n",
        "|Tipus|Explicació|\n",
        "|-----|----------|\n",
        "|ndarray 2D| Una matriu de dades, amb etiquetes opcionals de fileres i columnes|\n",
        "|dict de vectors, llistes o tuples| Cada seqüència -de la mateixa longitud totes- esdevé una columna del DataFrame|\n",
        "|vector de registres estructurat NumPy| Com el cas dict de vectors|\n",
        "|dict de Series| Cada valor esdevé una columna; els índexs de cada Series s'uneixen per formar els índexs de filera del resultat, si no es passen índexs.|\n",
        "|dict de dicts| Cada diccionari interior esdevé una columna; les claus s'uneixen per formar l'índex de fileres com en el cas `dict` de `Series`|\n",
        "|Llista de dict o Series|Cada element esdevé una filera en el DataFrame; la unió de claus de diccionari o Series esdevenen les etiquetes de columna del DataFrame|\n",
        "|Llista de llistes o tuples| Com el cas ndarray 2D|\n",
        "|Un altre DataFrame|Es fan servir els índexs del DataFrame, llevat que se'n passin uns altres|\n",
        "|MaskedArray de NumPy| Com el cas ndarray 2D, però els valors emmascarats queden NaN al DataFrame resultat|"
      ]
    },
    {
      "cell_type": "markdown",
      "metadata": {
        "id": "mULsBCi4Ykkf"
      },
      "source": [
        "Si en un DataFrame l'índex i les columnes tenen posats l'atribut `name`, es mostraran."
      ]
    },
    {
      "cell_type": "code",
      "execution_count": null,
      "metadata": {
        "colab": {
          "base_uri": "https://localhost:8080/",
          "height": 143
        },
        "id": "k4HflIkpYx7A",
        "outputId": "883eee45-c1e2-41fa-cd9e-ff8eb5e78ce7"
      },
      "outputs": [],
      "source": [
        "df3.index.name = \"paràmetre\"\n",
        "df3.columns.name = \"illa\"\n",
        "\n",
        "df3"
      ]
    },
    {
      "cell_type": "markdown",
      "metadata": {
        "id": "UftwOMB1ZCyx"
      },
      "source": [
        "Com amb les Series, l'atribut values retorna les dades contingudes al DataFrame com un ndarray bidimensional."
      ]
    },
    {
      "cell_type": "code",
      "execution_count": null,
      "metadata": {
        "colab": {
          "base_uri": "https://localhost:8080/"
        },
        "id": "uUTCtj5VZMmK",
        "outputId": "8ddbe194-053a-436c-f8dc-a2810627bc7d"
      },
      "outputs": [],
      "source": [
        "df3.values"
      ]
    },
    {
      "cell_type": "markdown",
      "metadata": {
        "id": "CUVknoR-ZRTZ"
      },
      "source": [
        "Si les columnes del DataFrame són de diferents tipus, el dtype del vector de valors es triarà per adaptar-se a totes les columnes.\n",
        "\n",
        "A les cel·les següents, veim que df3 té el tipus de les dades \"enter de 64 bits\", mentre que df2 el té \"objecte\", perquè són de diferents tipus."
      ]
    },
    {
      "cell_type": "code",
      "execution_count": null,
      "metadata": {
        "id": "FPhGrCMnZzxf"
      },
      "outputs": [],
      "source": [
        "df3.values"
      ]
    },
    {
      "cell_type": "code",
      "execution_count": null,
      "metadata": {
        "colab": {
          "base_uri": "https://localhost:8080/"
        },
        "id": "ECBalhiaZiVl",
        "outputId": "b5cc314a-3517-40b6-f3dc-02e86caa89b3"
      },
      "outputs": [],
      "source": [
        "df3.values.dtype"
      ]
    },
    {
      "cell_type": "code",
      "execution_count": null,
      "metadata": {
        "id": "zTI9DrClZ04G"
      },
      "outputs": [],
      "source": [
        "df2.values"
      ]
    },
    {
      "cell_type": "code",
      "execution_count": null,
      "metadata": {
        "colab": {
          "base_uri": "https://localhost:8080/"
        },
        "id": "IfFaLeyCZesW",
        "outputId": "b7a592f7-646f-4252-e1f1-5854d80134b1"
      },
      "outputs": [],
      "source": [
        "df2.values.dtype"
      ]
    }
  ],
  "metadata": {
    "colab": {
      "provenance": []
    },
    "kernelspec": {
      "display_name": ".venv",
      "language": "python",
      "name": "python3"
    },
    "language_info": {
      "codemirror_mode": {
        "name": "ipython",
        "version": 3
      },
      "file_extension": ".py",
      "mimetype": "text/x-python",
      "name": "python",
      "nbconvert_exporter": "python",
      "pygments_lexer": "ipython3",
      "version": "3.12.3"
    }
  },
  "nbformat": 4,
  "nbformat_minor": 0
}
