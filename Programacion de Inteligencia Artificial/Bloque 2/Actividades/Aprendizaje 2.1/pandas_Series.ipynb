{
  "cells": [
    {
      "cell_type": "markdown",
      "metadata": {
        "id": "cnfwBveYj8T8"
      },
      "source": [
        "# Estructures de dades de pandas\n",
        "\n",
        "## Sèries\n",
        "\n",
        "Una sèrie (*Series*) és un objecte vectorial unidimensional que conté una seqüència de valors (de tipus semblants als tipus NumPy) i un vector associat d'etiquetes de dades, anomenat índex. La `Series` més simple es forma a partir d'un vector de dades."
      ]
    },
    {
      "cell_type": "code",
      "execution_count": null,
      "metadata": {
        "colab": {
          "base_uri": "https://localhost:8080/"
        },
        "id": "Wbnr2KGOHl4X",
        "outputId": "4125066d-f0fa-4207-9758-b10403c9a42b"
      },
      "outputs": [],
      "source": [
        "import pandas as pd\n",
        "\n",
        "obj = pd.Series([5, 7, -3, 1])\n",
        "obj"
      ]
    },
    {
      "cell_type": "markdown",
      "metadata": {
        "id": "qRgtXjQfkjbX"
      },
      "source": [
        "La representació en cadena d'una sèrie mostra l'índex a l'esquerra (en aquest cas, de 0 a 3) i els valors a la dreta, els que hem introduït a la creació. Com que no hem especificat cap índex per a les dades, es fa servir el valor per defecte: de 0 a N-1, on N és la longitud de les dades. Podem consultar per separat els **valors** i l'**índex** de la sèrie."
      ]
    },
    {
      "cell_type": "code",
      "execution_count": null,
      "metadata": {
        "colab": {
          "base_uri": "https://localhost:8080/"
        },
        "id": "figc-Gypk97Z",
        "outputId": "d5ee6d5e-cedf-4854-d2df-60141702594c"
      },
      "outputs": [],
      "source": [
        "obj.values"
      ]
    },
    {
      "cell_type": "code",
      "execution_count": null,
      "metadata": {
        "colab": {
          "base_uri": "https://localhost:8080/"
        },
        "id": "lysqoOUXk_t5",
        "outputId": "4a890cf6-c4be-4fc7-9290-352a9eff2940"
      },
      "outputs": [],
      "source": [
        "obj.index"
      ]
    },
    {
      "cell_type": "markdown",
      "metadata": {
        "id": "yEOueQ1AlHFN"
      },
      "source": [
        "De vegades interessarà crear una sèrie amb un índex que identifiqui cada punt de dades amb una etiqueta, entera o no. A l'exemple següent utilitzarem caràcters."
      ]
    },
    {
      "cell_type": "code",
      "execution_count": null,
      "metadata": {
        "colab": {
          "base_uri": "https://localhost:8080/"
        },
        "id": "QZ-dK9dNlRwD",
        "outputId": "139027f7-3373-4b5d-bc0e-ba824727bb3d"
      },
      "outputs": [],
      "source": [
        "obj2 = pd.Series([3,7,-5,1],index=['d','b','a','c'])\n",
        "obj2"
      ]
    },
    {
      "cell_type": "code",
      "execution_count": null,
      "metadata": {
        "colab": {
          "base_uri": "https://localhost:8080/"
        },
        "id": "uhknZ14slix1",
        "outputId": "42fd21c3-23c0-4eef-99c1-f0378cdfbc92"
      },
      "outputs": [],
      "source": [
        "obj2.index"
      ]
    },
    {
      "cell_type": "markdown",
      "metadata": {
        "id": "5hyF_9Umlted"
      },
      "source": [
        "Podem usar etiquetes a l'índex per seleccionar valors individuals o bé conjunts de valors. Vegem-ho."
      ]
    },
    {
      "cell_type": "code",
      "execution_count": null,
      "metadata": {
        "colab": {
          "base_uri": "https://localhost:8080/"
        },
        "id": "5f6lrSBSltG9",
        "outputId": "3184020f-4767-417a-ace5-515b706ff24b"
      },
      "outputs": [],
      "source": [
        "obj2['a']"
      ]
    },
    {
      "cell_type": "code",
      "execution_count": null,
      "metadata": {
        "colab": {
          "base_uri": "https://localhost:8080/"
        },
        "id": "ELppc7Zwl2tW",
        "outputId": "e136293a-8fd3-485a-de3e-970868965f19"
      },
      "outputs": [],
      "source": [
        "obj2[['a','b','c']]"
      ]
    },
    {
      "cell_type": "markdown",
      "metadata": {
        "id": "PiZClGpVl-R3"
      },
      "source": [
        "Aquí, `['a','b','c']` s'interpreta com a llista d'índexs, tot i que conté cadenes de caràcters (*strings*) en comptes d'enters."
      ]
    },
    {
      "cell_type": "markdown",
      "metadata": {
        "id": "iohMbIcCmNB5"
      },
      "source": [
        "Quan utilitzem funcions NumPy o operacions de tipus NumPy, com per exemple filtrar amb un vector booleà, multiplicació per un escalar, o aplicació de funcions matemàtiques, es preservarà la relació índex-valor."
      ]
    },
    {
      "cell_type": "code",
      "execution_count": null,
      "metadata": {
        "colab": {
          "base_uri": "https://localhost:8080/"
        },
        "id": "FylALsDmmZmd",
        "outputId": "2446cb4d-80dc-47cb-d2c1-d286c6ad5bfb"
      },
      "outputs": [],
      "source": [
        "obj2 [ obj2 > 0]"
      ]
    },
    {
      "cell_type": "code",
      "execution_count": null,
      "metadata": {
        "colab": {
          "base_uri": "https://localhost:8080/"
        },
        "id": "XgiFWuNwmds-",
        "outputId": "33a1d469-1f49-4f39-d2af-aeb0390f8752"
      },
      "outputs": [],
      "source": [
        "2 * obj2"
      ]
    },
    {
      "cell_type": "code",
      "execution_count": null,
      "metadata": {
        "colab": {
          "base_uri": "https://localhost:8080/"
        },
        "id": "nZSbqi72mitt",
        "outputId": "29310150-ce5a-424d-fafa-6ae09694fa88"
      },
      "outputs": [],
      "source": [
        "import numpy as np\n",
        "\n",
        "# translates to: e^x where 'x' is the item to apply the method\n",
        "np.exp( obj2 )"
      ]
    },
    {
      "cell_type": "markdown",
      "metadata": {
        "id": "RwnN74XUmqHL"
      },
      "source": [
        "També podem pensar les sèries com un diccionari ordenat, de longitud fixa, ja que és un mapejat dels valors dels índexs als valors de les dades. La sèrie es pot usar en molts de contextos on podríem fer servir un diccionari (`dict`)."
      ]
    },
    {
      "cell_type": "code",
      "execution_count": null,
      "metadata": {
        "colab": {
          "base_uri": "https://localhost:8080/"
        },
        "id": "brqQEusxm8-8",
        "outputId": "5bbf538b-20c9-45fa-ed4f-0c109d30161f"
      },
      "outputs": [],
      "source": [
        "'b' in obj2"
      ]
    },
    {
      "cell_type": "code",
      "execution_count": null,
      "metadata": {
        "colab": {
          "base_uri": "https://localhost:8080/"
        },
        "id": "4bPBmVCZnRl3",
        "outputId": "f37dc0b4-2803-4ce1-edff-27d64ecbf5ff"
      },
      "outputs": [],
      "source": [
        "'e' in obj2"
      ]
    },
    {
      "cell_type": "markdown",
      "metadata": {
        "id": "tqjXPNeZnVng"
      },
      "source": [
        "Si tenim unes dades com a diccionari Python, es pot crear una sèrie passant com a paràmetre el diccionari."
      ]
    },
    {
      "cell_type": "code",
      "execution_count": null,
      "metadata": {
        "colab": {
          "base_uri": "https://localhost:8080/"
        },
        "id": "5Iy9iEwUnbe3",
        "outputId": "c112db9f-70f9-4fe3-f999-30372b308eec"
      },
      "outputs": [],
      "source": [
        "superficies = {'Mallorca': 3620, 'Menorca': 692, 'Eivissa': 577, 'Formentera': 83}\n",
        "\n",
        "obj3 = pd.Series(superficies)\n",
        "\n",
        "obj3"
      ]
    },
    {
      "cell_type": "markdown",
      "metadata": {
        "id": "b_zRygQto9Gf"
      },
      "source": [
        "Podem definir en quin ordre volem els índexs. Definim un nou vector per als índexs."
      ]
    },
    {
      "cell_type": "code",
      "execution_count": null,
      "metadata": {
        "colab": {
          "base_uri": "https://localhost:8080/"
        },
        "id": "WnEgG8tRoiPu",
        "outputId": "13ee0b4a-5791-4da4-a82f-b31b0626e6ea"
      },
      "outputs": [],
      "source": [
        "illes = ['Menorca', 'Eivissa', 'Formentera', 'Cabrera']\n",
        "obj4 = pd.Series (superficies, index=illes)\n",
        "obj4"
      ]
    },
    {
      "cell_type": "markdown",
      "metadata": {
        "id": "wrABFeaOpMTC"
      },
      "source": [
        "Observem dues coses: Mallorca ha quedat fora de la sèrie perquè no era a la llista d'índexs, i el valor de Cabrera és nul (NaN, Not A Number) perquè no formava part de la sèrie original.\n",
        "\n",
        "Podem comprovar si ha valors nuls com aquest amb les funcions de pandas `isnull` i `notnull`."
      ]
    },
    {
      "cell_type": "code",
      "execution_count": null,
      "metadata": {
        "colab": {
          "base_uri": "https://localhost:8080/"
        },
        "id": "3LQBZNsJpL-i",
        "outputId": "01a5da3a-9780-46c0-80ea-fd53748c666e"
      },
      "outputs": [],
      "source": [
        "pd.isnull(obj4)\n",
        "# ~pd.isnull(obj4) # -> opposite expression or the same as notnull"
      ]
    },
    {
      "cell_type": "code",
      "execution_count": null,
      "metadata": {
        "colab": {
          "base_uri": "https://localhost:8080/"
        },
        "id": "_bagftj0ptOl",
        "outputId": "900343d0-3682-4dae-d4b0-47ed87c9361a"
      },
      "outputs": [],
      "source": [
        "pd.notnull(obj4)"
      ]
    },
    {
      "cell_type": "markdown",
      "metadata": {
        "id": "XEOc4cQYp2o1"
      },
      "source": [
        "Aquestes dues funcions també estan disponibles com a mètodes de `Series`."
      ]
    },
    {
      "cell_type": "code",
      "execution_count": null,
      "metadata": {
        "colab": {
          "base_uri": "https://localhost:8080/"
        },
        "id": "rXLfh3LDp2WW",
        "outputId": "3e70fbad-078b-4616-dcc6-a91d9830e045"
      },
      "outputs": [],
      "source": [
        "obj4.isnull()"
      ]
    },
    {
      "cell_type": "code",
      "execution_count": null,
      "metadata": {
        "colab": {
          "base_uri": "https://localhost:8080/"
        },
        "id": "8qWV9V_Np973",
        "outputId": "405a7db3-b0c2-4561-a38a-22c625f212d1"
      },
      "outputs": [],
      "source": [
        "obj4.notnull()"
      ]
    },
    {
      "cell_type": "markdown",
      "metadata": {
        "id": "wxoAxvv3qeNy"
      },
      "source": [
        "Una característica interessant de Series és que s'alinea automàticament per índex, en les operacions aritmètiques."
      ]
    },
    {
      "cell_type": "code",
      "execution_count": null,
      "metadata": {
        "colab": {
          "base_uri": "https://localhost:8080/"
        },
        "id": "_nMa6AxMqqbT",
        "outputId": "e22d68a0-899c-41eb-9048-a253018fc6d2"
      },
      "outputs": [],
      "source": [
        "obj3"
      ]
    },
    {
      "cell_type": "code",
      "execution_count": null,
      "metadata": {
        "colab": {
          "base_uri": "https://localhost:8080/"
        },
        "id": "2AuqLq9eqqPI",
        "outputId": "a4e721d1-1e68-409a-f958-dd3b80f19e2f"
      },
      "outputs": [],
      "source": [
        "obj4"
      ]
    },
    {
      "cell_type": "code",
      "execution_count": null,
      "metadata": {
        "colab": {
          "base_uri": "https://localhost:8080/"
        },
        "id": "sL6oiHgwqjNi",
        "outputId": "061408ee-bb22-49f9-be97-b8d121faa5da"
      },
      "outputs": [],
      "source": [
        "obj3 + obj4"
      ]
    },
    {
      "cell_type": "markdown",
      "metadata": {
        "id": "m6x0_oWjqxOM"
      },
      "source": [
        "Aquesta suma és semblant a les operacions de **join** en bases de dades.\n",
        "\n",
        "Tant la sèrie com l'índex tenen un nom, que s'integra amb altres funcions de pandas."
      ]
    },
    {
      "cell_type": "code",
      "execution_count": 9,
      "metadata": {
        "id": "rYLMOLS-rIAm"
      },
      "outputs": [],
      "source": [
        "obj3.name='superficies'"
      ]
    },
    {
      "cell_type": "code",
      "execution_count": 10,
      "metadata": {
        "id": "_f6TFmoEr8MS"
      },
      "outputs": [],
      "source": [
        "obj3.index.name = 'illes'"
      ]
    },
    {
      "cell_type": "code",
      "execution_count": null,
      "metadata": {
        "colab": {
          "base_uri": "https://localhost:8080/"
        },
        "id": "NQh7UKk-sKT0",
        "outputId": "542d0952-4bc4-434a-cc93-d4c10854274b"
      },
      "outputs": [],
      "source": [
        "obj3"
      ]
    },
    {
      "cell_type": "markdown",
      "metadata": {
        "id": "c91_vwvlscul"
      },
      "source": [
        "Es pot canviar l'índex d'una sèrie per assignació."
      ]
    },
    {
      "cell_type": "code",
      "execution_count": null,
      "metadata": {
        "colab": {
          "base_uri": "https://localhost:8080/"
        },
        "id": "Kcp5vAGMsgHG",
        "outputId": "fa89a266-a225-446e-cb94-da5259991349"
      },
      "outputs": [],
      "source": [
        "obj3.index = ['Ma','Me','Ei','Fo']\n",
        "obj3.index.name = 'illes_codi'\n",
        "obj3"
      ]
    }
  ],
  "metadata": {
    "colab": {
      "provenance": []
    },
    "kernelspec": {
      "display_name": ".venv",
      "language": "python",
      "name": "python3"
    },
    "language_info": {
      "codemirror_mode": {
        "name": "ipython",
        "version": 3
      },
      "file_extension": ".py",
      "mimetype": "text/x-python",
      "name": "python",
      "nbconvert_exporter": "python",
      "pygments_lexer": "ipython3",
      "version": "3.12.3"
    }
  },
  "nbformat": 4,
  "nbformat_minor": 0
}
