{
  "cells": [
    {
      "cell_type": "markdown",
      "metadata": {
        "id": "StpPJoZwOlb8"
      },
      "source": [
        "# Operacions d'anàlisi amb pandas"
      ]
    },
    {
      "cell_type": "markdown",
      "metadata": {
        "id": "scwITTQ6Ix6e"
      },
      "source": [
        "## Operacions de lectura de dades\n",
        "\n",
        "pandas proporciona diverses funcions per generar un dataframe a partir d'un arxiu de dades, amb diferents tipus de format:\n",
        "`read_csv` per a fitxers CSV, `read_excel` per a fitxers Excel,\n",
        "`read_json` per a fitxers JSON o `read_xml` per a fitxers XML són els més habituals.\n",
        "Per referenciar el fitxer pot emprar-se un path relatiu o bé una URL.\n",
        "\n",
        "Anam a treballar amb el conjunt de dades dels municipis de les Illes Balears, que podem trobar al Catàleg de Dades Obertes del Govern de les Illes Balears. L'enllaç per descarregar-lo en CSV és https://catalegdades.caib.cat/api/views/wwhu-ywi8/rows.csv"
      ]
    },
    {
      "cell_type": "code",
      "execution_count": null,
      "metadata": {
        "colab": {
          "base_uri": "https://localhost:8080/",
          "height": 206
        },
        "id": "tWGQ-7RzJtS6",
        "outputId": "b8cb8841-0a28-4e2b-f42c-d2d9e2672efa"
      },
      "outputs": [],
      "source": [
        "import pandas as pd\n",
        "\n",
        "# municipis = pd.read_csv('https://catalegdades.caib.cat/api/views/wwhu-ywi8/rows.csv') # ? Old, not working\n",
        "municipis = pd.read_csv('https://opendata-ajuntament.barcelona.cat/data/cataleg.csv?public=true')\n",
        "municipis.head()"
      ]
    },
    {
      "cell_type": "markdown",
      "metadata": {
        "id": "_IykfiBmMPVg"
      },
      "source": [
        "## Operacions amb columnes\n",
        "\n",
        "Entre d'altres, podem eliminar les columnes que no ens interessen amb el mètode DataFrame.drop. Ho farem amb beginLifespanVersion, endLifespanVersion, CODNUT3 i the_geom.\n",
        "Una manera és especificant amb axis=1 que ens referim a columnes.\n",
        "L'altra és especificant l'argument columnes.\n",
        "\n",
        "En qualsevol dels dos casos, com és habitual en pandas, l'operació no té efecte sobre el dataframe original.\n",
        "És per això que, si volem modificar el dataframe, li hem d'assignar el resultat del mètode, o bé hem d'utilitzar l'argument inplace=True."
      ]
    },
    {
      "cell_type": "code",
      "execution_count": null,
      "metadata": {
        "colab": {
          "base_uri": "https://localhost:8080/",
          "height": 206
        },
        "id": "tkFxFzl_OI35",
        "outputId": "1592ab9e-e924-4fd3-c793-cbec0b25660e"
      },
      "outputs": [],
      "source": [
        "\n",
        "# ? Replace beginLifespanVersion & endLifespanVersion with title_es & title_en for the new csv\n",
        "# Una manera d'esborrar columnes (amb axis=1 i assignació):\n",
        "# municipis = municipis.drop(['beginLifespanVersion', 'endLifespanVersion'], axis=1)\n",
        "municipis = municipis.drop(['title_es', 'title_en'], axis=1)\n",
        "\n",
        "# ? Replace CODNUT3 & the_geom with 2022 & 2023 for the new csv\n",
        "# I una altra (amb els arguments columns i inplace):\n",
        "# municipis.drop(columns=['CODNUT3', 'the_geom'], inplace=True)\n",
        "municipis.drop(columns=['2022', '2023'], inplace=True)\n",
        "\n",
        "\"\"\" \n",
        "\tIf the key does not exists, KeyError will be thrown so may be convenient to wrap it with try-except\n",
        "\"\"\"\n",
        "\n",
        "municipis.head()"
      ]
    },
    {
      "cell_type": "markdown",
      "metadata": {
        "id": "loFj4OSQVenL"
      },
      "source": [
        "Una altra manera és seleccionar només les columnes que ens interessen i en quin ordre. Suposem que només ens interessen el nom, l'illa i l'àrea en hectàrees."
      ]
    },
    {
      "cell_type": "code",
      "execution_count": null,
      "metadata": {
        "colab": {
          "base_uri": "https://localhost:8080/",
          "height": 206
        },
        "id": "zhOV-EfsVp1U",
        "outputId": "56e9e4da-bf8b-4c8e-afd4-74289f62c6bc"
      },
      "outputs": [],
      "source": [
        "# municipis = municipis[['NOM', 'NOM_CONSELL_ILLA', 'AREA_HA']] # ? Old, replace with name, date_published and package_count columns\n",
        "municipis = municipis[['name', 'date_published', 'package_count']]\n",
        "municipis.head()"
      ]
    },
    {
      "cell_type": "markdown",
      "metadata": {
        "id": "qGx_Z5itPNUR"
      },
      "source": [
        "I també podem afegir noves columnes, entre d'altres maneres, mitjançant el mètode DataFrame.insert. Hem d'especificar la posició de la nova columna, el seu nom, la llista amb els seus valors (o un valor per defecte per a tots) i es permeten valors repetits (per defecte, sí).\n",
        "Afegirem una columna CAPITAL, després del nom de l'illa i li donarem el valor escalar False a totes les cel·les d'aquesta columna."
      ]
    },
    {
      "cell_type": "code",
      "execution_count": null,
      "metadata": {
        "colab": {
          "base_uri": "https://localhost:8080/",
          "height": 206
        },
        "id": "5Us6Az-qSXzq",
        "outputId": "60e992bf-1804-4829-b420-100a47067f66"
      },
      "outputs": [],
      "source": [
        "municipis.insert(3, 'on_going', False, True)\n",
        "municipis.head()\n"
      ]
    },
    {
      "cell_type": "markdown",
      "metadata": {
        "id": "WDUk3AMfY_VD"
      },
      "source": [
        "I ara li posarem True a la cel·la corresponent a Palma. És la fila que té índex 47, ja veurem més tard com fer seleccions."
      ]
    },
    {
      "cell_type": "code",
      "execution_count": null,
      "metadata": {
        "colab": {
          "base_uri": "https://localhost:8080/"
        },
        "id": "dqR917aXWyJJ",
        "outputId": "65a0505c-091f-4f37-f158-c8bc87ab67ec"
      },
      "outputs": [],
      "source": [
        "municipis.loc[1,'on_going'] = True\n",
        "municipis.loc[1]"
      ]
    },
    {
      "cell_type": "markdown",
      "metadata": {
        "id": "1dAaoQ0Aacoz"
      },
      "source": [
        "Per últim, podem canviar el nom d'una columna mitjançant DataFrame.rename. Aquí també hem d'assignar el resultat al dataframe o bé utilitzar inplace=True"
      ]
    },
    {
      "cell_type": "code",
      "execution_count": null,
      "metadata": {
        "colab": {
          "base_uri": "https://localhost:8080/",
          "height": 206
        },
        "id": "8_523rWlai70",
        "outputId": "974c244e-b1d9-4fd6-9cab-af46faa18f0a"
      },
      "outputs": [],
      "source": [
        "# municipis = municipis.rename(columns={'NOM_CONSELL_ILLA': 'ILLA', 'AREA_HA': 'HECTAREES'})\n",
        "municipis = municipis.rename(columns={'date_published': 'date'})\n",
        "municipis.head()"
      ]
    },
    {
      "cell_type": "markdown",
      "metadata": {
        "id": "tIifsPY5crCU"
      },
      "source": [
        "## Operacions estadístiques\n",
        "En el lliurament 2 de Sistemes de Big Data es veuen diversos indicadors estadístics. Allà hem emprat fonamentalment NumPy, perquè hem fet feina amb dades unidimensionals. Però també podem emprar pandas: tant Series com DataFrame proporcionen un conjunt de mètodes que fan càlculs estadístics.\n",
        "Vegem, per exemple, quina és la superfície mitjana dels municipis, mitjançant el mètode mean."
      ]
    },
    {
      "cell_type": "code",
      "execution_count": null,
      "metadata": {
        "colab": {
          "base_uri": "https://localhost:8080/"
        },
        "id": "4RFsmv-4dKFi",
        "outputId": "c0d274de-6709-4be3-cfa0-31766fa20d2e"
      },
      "outputs": [],
      "source": [
        "# municipis['HECTAREES'].mean()\n",
        "municipis['package_count'].mean()"
      ]
    },
    {
      "cell_type": "markdown",
      "metadata": {
        "id": "eF7gvi0Ud3NT"
      },
      "source": [
        "Vegem la desviació estàndard (mètode std) i la variància (var) d'aquesta columna HECTAREES."
      ]
    },
    {
      "cell_type": "code",
      "execution_count": null,
      "metadata": {
        "colab": {
          "base_uri": "https://localhost:8080/"
        },
        "id": "MYkNn0R-dNNR",
        "outputId": "16dd6914-de8c-44e2-f348-8e1594aa4a01"
      },
      "outputs": [],
      "source": [
        "# print('Desviació estàndard: {0}, variància: {1}'.format(municipis['HECTAREES'].std(), municipis['HECTAREES'].var()))\n",
        "print('Desviació estàndard: {0}, variància: {1}'.format(municipis['package_count'].std(), municipis['package_count'].var()))"
      ]
    },
    {
      "cell_type": "markdown",
      "metadata": {
        "id": "nNyLLiP8jOvF"
      },
      "source": [
        "Els valors mínim i màxim:"
      ]
    },
    {
      "cell_type": "code",
      "execution_count": null,
      "metadata": {
        "colab": {
          "base_uri": "https://localhost:8080/"
        },
        "id": "J0uno1G9duPa",
        "outputId": "bd907f71-1622-4cdf-d999-108bce3cd2ab"
      },
      "outputs": [],
      "source": [
        "# print('Mínim: {0}, màxim: {1}'.format(municipis['HECTAREES'].min(), municipis['HECTAREES'].max()))\n",
        "print('Mínim: {0}, màxim: {1}'.format(municipis['package_count'].min(), municipis['package_count'].max()))"
      ]
    },
    {
      "cell_type": "markdown",
      "metadata": {
        "id": "VkUdCrqVsa8B"
      },
      "source": [
        "I la superfície total de tots els municipis"
      ]
    },
    {
      "cell_type": "code",
      "execution_count": null,
      "metadata": {
        "colab": {
          "base_uri": "https://localhost:8080/"
        },
        "id": "-9xwEHFnse7I",
        "outputId": "1dd36761-bf2a-407b-c14b-f6ca03cbb2d8"
      },
      "outputs": [],
      "source": [
        "# municipis['HECTAREES'].sum()\n",
        "municipis['package_count'].sum()"
      ]
    },
    {
      "cell_type": "markdown",
      "metadata": {
        "id": "2BRRcx4HZRTq"
      },
      "source": [
        "## Operacions de selecció\n",
        "Podem seleccionar un conjunt de files que satisfacin una condició.\n",
        "Ho feim de la forma:\n",
        "\n",
        "`dataframe[condició]`\n",
        "\n",
        "Per exemple, si volem seleccionar el municipi de Palma, la condició és:\n",
        "\n",
        "`municipis['NOM'] == 'Palma'`"
      ]
    },
    {
      "cell_type": "code",
      "execution_count": null,
      "metadata": {
        "colab": {
          "base_uri": "https://localhost:8080/",
          "height": 81
        },
        "id": "erDeU8kTbEti",
        "outputId": "3a6cc655-2292-41fb-b269-cadd54f40c70"
      },
      "outputs": [],
      "source": [
        "# municipis[municipis['NOM'] == 'Palma']\n",
        "municipis[municipis['name'] == 'accidents-causes-gu-bcn']"
      ]
    },
    {
      "cell_type": "markdown",
      "metadata": {
        "id": "FzwHbWLEhttL"
      },
      "source": [
        "Podem emprar el mètode isin per seleccionar entre una llista de valors. Per exemple, si volem els municipis de les illes d'Eivissa i Formentera:"
      ]
    },
    {
      "cell_type": "code",
      "execution_count": null,
      "metadata": {
        "colab": {
          "base_uri": "https://localhost:8080/",
          "height": 238
        },
        "id": "k1LdBfOgh2yW",
        "outputId": "3b76a9b6-8782-412f-e0a7-f429cb925ee7"
      },
      "outputs": [],
      "source": [
        "# municipis[ municipis['ILLA'].isin( ['Eivissa', 'Formentera']) ]\n",
        "municipis[ municipis['date'].isin( ['2015-11-19', '2015-06-10']) ]"
      ]
    },
    {
      "cell_type": "markdown",
      "metadata": {
        "id": "qlKgb_aNb5cL"
      },
      "source": [
        "Vegem els municipis amb més de 100 km2 de superfície (10.000 hectàrees)"
      ]
    },
    {
      "cell_type": "code",
      "execution_count": null,
      "metadata": {
        "colab": {
          "base_uri": "https://localhost:8080/",
          "height": 614
        },
        "id": "8V0H__mLcHii",
        "outputId": "3c6d4fb5-706e-42cb-e260-b0051234abe8"
      },
      "outputs": [],
      "source": [
        "# municipis[municipis['HECTAREES'] > 10000]\n",
        "municipis[municipis['package_count'] > 50]"
      ]
    },
    {
      "cell_type": "markdown",
      "metadata": {
        "id": "3eaaeVJVLtmn"
      },
      "source": [
        "Podem emprar els operadors lògics & (i lògica), | (o lògica) per a especificar múltiples condicions. Per exemple, els que tenen més de 100 km2 però menys de 200"
      ]
    },
    {
      "cell_type": "code",
      "execution_count": null,
      "metadata": {
        "colab": {
          "base_uri": "https://localhost:8080/",
          "height": 520
        },
        "id": "CpBaERMiMDts",
        "outputId": "5d93add1-8b42-40a0-cf87-2c58e7db81e3"
      },
      "outputs": [],
      "source": [
        "# municipis[(municipis['HECTAREES'] > 10000) & (municipis['HECTAREES'] < 20000)]\n",
        "municipis[(municipis['package_count'] > 50) & (municipis['package_count'] < 70)]"
      ]
    },
    {
      "cell_type": "markdown",
      "metadata": {
        "id": "lAOzZ6DmggAH"
      },
      "source": [
        "El mètode where està molt relacionat, vegem com funciona:"
      ]
    },
    {
      "cell_type": "code",
      "execution_count": null,
      "metadata": {
        "colab": {
          "base_uri": "https://localhost:8080/",
          "height": 424
        },
        "id": "YCB395xNcLzJ",
        "outputId": "b1101085-4f43-4053-fe88-9317de983292"
      },
      "outputs": [],
      "source": [
        "# municipis.where(municipis['HECTAREES'] > 10000)\n",
        "municipis.where(municipis['package_count'] > 50)"
      ]
    },
    {
      "cell_type": "markdown",
      "metadata": {
        "id": "Te35aWR1haos"
      },
      "source": [
        "També tenim el mètode query que ens permet especificar la condició com una cadena de text de la forma\n",
        "\n",
        "`columna operador valor`"
      ]
    },
    {
      "cell_type": "code",
      "execution_count": null,
      "metadata": {
        "colab": {
          "base_uri": "https://localhost:8080/",
          "height": 614
        },
        "id": "KtI2jM9VhKQb",
        "outputId": "25608507-296d-49be-ae70-08b335ab3d90"
      },
      "outputs": [],
      "source": [
        "# municipis.query('HECTAREES > 10000')\n",
        "municipis.query('package_count > 50')"
      ]
    },
    {
      "cell_type": "markdown",
      "metadata": {
        "id": "ZmFAcfYM9-rj"
      },
      "source": [
        "## Operacions d'ordenació\n",
        "\n",
        "Per ordenar un dataframe per una columna, podem emprar el mètode sort_values, especificant amb l'argument by el nom de la columna. Per exemple, per ordenar alfabèticament els nostres municipis:"
      ]
    },
    {
      "cell_type": "code",
      "execution_count": null,
      "metadata": {
        "colab": {
          "base_uri": "https://localhost:8080/",
          "height": 424
        },
        "id": "6jwefKpY-R58",
        "outputId": "24c42ad1-f3fc-42f1-cc52-e47cdd96ebe9"
      },
      "outputs": [],
      "source": [
        "# municipis.sort_values(by = 'NOM', ascending=False)\n",
        "municipis.sort_values(by = 'date', ascending=False)"
      ]
    },
    {
      "cell_type": "markdown",
      "metadata": {
        "id": "46zUxubW_JC6"
      },
      "source": [
        "Igual que amb altres mètodes, això no afecta el dataframe original. Podem emprar inplace=True o una assignació si volem canviar l'ordre. De totes formes, això no modificarà els índexs.\n",
        "\n",
        "Podem especificar diverses columnes, mitjançant una llista en lloc d'un únic nom de columna.\n",
        "\n",
        "També podem especificar si volem l'ordre invers amb l'argument ascending=False.\n",
        "\n",
        "Fins i tot podem determinar quin algorisme es farà servir per a l'ordenació (quicksort, mergesort o heapsort), mitjançant l'atribut kind.\n",
        "\n",
        "Per exemple, vegem com ordenar de més superfície a menys."
      ]
    },
    {
      "cell_type": "code",
      "execution_count": null,
      "metadata": {
        "colab": {
          "base_uri": "https://localhost:8080/",
          "height": 424
        },
        "id": "LvqZPux1AQ9j",
        "outputId": "26b12f1a-f04f-4101-b647-09aa145dacc4"
      },
      "outputs": [],
      "source": [
        "# municipis.sort_values(by = 'HECTAREES', ascending=False)\n",
        "municipis.sort_values(by = 'package_count', ascending=False)"
      ]
    },
    {
      "cell_type": "markdown",
      "metadata": {
        "id": "gBk4w_tAjhZO"
      },
      "source": [
        "## Operacions d'agrupació\n",
        "Ens queda una operació molt habitual quan analitzam dades: agrupar els valors comuns d'una columna. Per exemple, volem saber la superfície total de cada illa (la suma de tots els seus municipis):\n",
        "\n",
        "* Primer, seleccionam només les columnes que han d'intervenir: ILLA i HECTAREES.\n",
        "* Segon, agrupam per ILLA mitjançant el mètode groupby.\n",
        "* Tercer, aplciam una funció d'agregació, en aquest cas, la suma."
      ]
    },
    {
      "cell_type": "code",
      "execution_count": null,
      "metadata": {
        "colab": {
          "base_uri": "https://localhost:8080/",
          "height": 206
        },
        "id": "tnT9JL-2k3mU",
        "outputId": "89d04161-aa96-4666-b6bd-85b5861ef531"
      },
      "outputs": [],
      "source": [
        "# municipis[['ILLA', 'HECTAREES']].groupby(\"ILLA\").sum()\n",
        "municipis[['date', 'package_count']].groupby(\"date\").sum()"
      ]
    },
    {
      "cell_type": "markdown",
      "metadata": {
        "id": "Vjx6q4N1m9eg"
      },
      "source": [
        "Podem utilitzar altres funcions d'agregació com la mitjana (mean) o el número d'instàncies (count)"
      ]
    },
    {
      "cell_type": "code",
      "execution_count": null,
      "metadata": {
        "colab": {
          "base_uri": "https://localhost:8080/",
          "height": 206
        },
        "id": "0duSt73DnDhJ",
        "outputId": "162448f3-30b6-4b22-839a-e351d2eb1111"
      },
      "outputs": [],
      "source": [
        "# municipis[['ILLA', 'HECTAREES']].groupby(\"ILLA\").count().rename(columns={'HECTAREES': 'NOMBRE DE MUNICIPIS'})\n",
        "municipis[['date', 'package_count']].groupby(\"date\").count().rename(columns={'package_count': 'COUNT'})"
      ]
    },
    {
      "cell_type": "markdown",
      "metadata": {
        "id": "Pz_Y85VG0UFU"
      },
      "source": [
        "El mètode groupby no retorna un dataframe, sinó un objecte pandas.api.typing.DataFrameGroupBy. Podem accedir a l'array amb els valors del seu índex (les illes en aquest cas):"
      ]
    },
    {
      "cell_type": "code",
      "execution_count": null,
      "metadata": {
        "colab": {
          "base_uri": "https://localhost:8080/"
        },
        "id": "i_0hXGP20x1s",
        "outputId": "b50e2704-53d4-426a-effa-cf013c807841"
      },
      "outputs": [],
      "source": [
        "# municipis_illes = municipis[['ILLA', 'HECTAREES']].groupby(\"ILLA\").count().rename(columns={'HECTAREES': 'NOMBRE DE MUNICIPIS'})\n",
        "municipis_mod = municipis[['date', 'package_count']].groupby(\"date\").count().rename(columns={'package_count': 'COUNT'})\n",
        "municipis_mod.index.values"
      ]
    },
    {
      "cell_type": "markdown",
      "metadata": {
        "id": "xpFME7gT1AO6"
      },
      "source": [
        "I a l'array amb els seus valors (el nombre de municipis en aquest cas):"
      ]
    },
    {
      "cell_type": "code",
      "execution_count": null,
      "metadata": {
        "colab": {
          "base_uri": "https://localhost:8080/"
        },
        "id": "AlnaKMxS1Gd5",
        "outputId": "199c0dfd-2c0d-4861-ca96-ff2b9229b573"
      },
      "outputs": [],
      "source": [
        "# municipis_illes.values\n",
        "municipis_mod.values"
      ]
    },
    {
      "cell_type": "markdown",
      "metadata": {
        "id": "s5gOPZSjntW7"
      },
      "source": [
        "## Operacions d'escriptura de dades\n",
        "De la mateixa manera que podem carregar les dades d'un fitxer a un dataframe, podem fer l'operació inversa. Per exemple, el mètode to_csv exporta un dataframe a un fitxer CSV."
      ]
    },
    {
      "cell_type": "markdown",
      "metadata": {
        "id": "V4qV4jveoFHr"
      },
      "source": [
        "Per fer-ho des de Colab, hem de muntar la nostra unitat de Google Drive. En l'exemple, es crea el fitxer municipis.csv al directori dades (ha d'existir prèviament) de la meva unitat de Drive."
      ]
    },
    {
      "cell_type": "code",
      "execution_count": null,
      "metadata": {
        "colab": {
          "base_uri": "https://localhost:8080/"
        },
        "id": "gwBB3vjSqYhB",
        "outputId": "b093f695-a9df-4a6f-f380-80d61ff24825"
      },
      "outputs": [],
      "source": [
        "#montam la nostra unitat de Google Drive\n",
        "from google.colab import drive\n",
        "drive.mount('/drive', force_remount=True)\n",
        "municipis.to_csv('/drive/My Drive/dades/municipis.csv')"
      ]
    },
    {
      "cell_type": "markdown",
      "metadata": {
        "id": "4rd7ViEoohTK"
      },
      "source": [
        "## Aclariment final: Series\n",
        "Tot i que aquí hem treballat amb DataFrame, la majoria d'operacions que hem vist (excepte, lògicament, les que fan referència a columnes), es poden aplicar també a Series.\n",
        "\n",
        "De fet, algunes d'elles, com les estadístiques, les hem aplicat directament sobre una columna, que és, en realitat, un objecte Series.\n",
        "\n",
        "Per exemple, anam a obtenir un objecte Series a partir de la columna HECTAREES i calcular-ne la mitjana."
      ]
    },
    {
      "cell_type": "code",
      "execution_count": null,
      "metadata": {
        "colab": {
          "base_uri": "https://localhost:8080/"
        },
        "id": "Mbvr4LxHo9rA",
        "outputId": "ad3a575a-024e-469f-bd8b-992ca5a9eb65"
      },
      "outputs": [],
      "source": [
        "superficies = municipis['HECTAREES']\n",
        "type(superficies)"
      ]
    },
    {
      "cell_type": "code",
      "execution_count": null,
      "metadata": {
        "colab": {
          "base_uri": "https://localhost:8080/"
        },
        "id": "EP3kQS6WpaEQ",
        "outputId": "82fe1cd1-e013-4359-f984-b2457c09688b"
      },
      "outputs": [],
      "source": [
        "superficies.mean()"
      ]
    }
  ],
  "metadata": {
    "colab": {
      "provenance": []
    },
    "kernelspec": {
      "display_name": ".venv",
      "language": "python",
      "name": "python3"
    },
    "language_info": {
      "codemirror_mode": {
        "name": "ipython",
        "version": 3
      },
      "file_extension": ".py",
      "mimetype": "text/x-python",
      "name": "python",
      "nbconvert_exporter": "python",
      "pygments_lexer": "ipython3",
      "version": "3.12.3"
    }
  },
  "nbformat": 4,
  "nbformat_minor": 0
}
