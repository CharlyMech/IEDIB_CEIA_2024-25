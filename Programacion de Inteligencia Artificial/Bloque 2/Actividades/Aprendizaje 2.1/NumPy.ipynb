{
  "cells": [
    {
      "cell_type": "markdown",
      "metadata": {
        "id": "gtLawssdMb78"
      },
      "source": [
        "## Importació de la llibreria NumPy\n",
        "\n",
        "Per treballar amb la llibreria NumPy és recomanable sempre usar la importació següent:\n",
        "\n",
        "\n"
      ]
    },
    {
      "cell_type": "code",
      "execution_count": 1,
      "metadata": {
        "id": "TkufI2cjMumD"
      },
      "outputs": [],
      "source": [
        "import numpy as np"
      ]
    },
    {
      "cell_type": "markdown",
      "metadata": {
        "id": "Qtkt56SGMqNN"
      },
      "source": [
        "Es podria fer també `import numpy as *`, però és perillós. La raó és que hi ha moltes funcions dins NumPy que tenen el mateix nom que les funcions predefinides en Python (com `min` i `max`)."
      ]
    },
    {
      "cell_type": "markdown",
      "metadata": {
        "id": "YBpXPoZ-TfQt"
      },
      "source": [
        "## El tipus ndarray de NumPy\n",
        "\n",
        "Una de les característiques clau de NumPy és el seu objecte array n-dimensional, **ndarray**, que és un contenidor ràpid i flexible per a grans conjunts de dades en Python. Els ndarrays permeten fer operacions matemàtiques en blocs sencers de dades, amb una sintaxi semblant a les operacions equivalents entre elements escalars.\n",
        "\n",
        "La forma més fàcil de crear un ndarray és mitjançant la funció `array`. Aquesta funció accepta qualsevol objecte de seqüència (inclosos altres ndarrays) i produeix un nou array NumPy (ndarray) que conté les dades que s'hi han passat. Per exemple, una llista és un bon candidat per convertir."
      ]
    },
    {
      "cell_type": "code",
      "execution_count": 2,
      "metadata": {
        "colab": {
          "base_uri": "https://localhost:8080/"
        },
        "id": "tN4YRzxmgFLv",
        "outputId": "e7e64a66-2c69-4da8-ff7f-a4af47932384"
      },
      "outputs": [
        {
          "data": {
            "text/plain": [
              "array([ 6. ,  7.5,  9. , 12. ])"
            ]
          },
          "execution_count": 2,
          "metadata": {},
          "output_type": "execute_result"
        }
      ],
      "source": [
        "data1 = [6, 7.5 , 9, 12]\n",
        "arr1 = np.array(data1)\n",
        "arr1"
      ]
    },
    {
      "cell_type": "markdown",
      "metadata": {
        "id": "dpOnGtZsgVzW"
      },
      "source": [
        "També podem emprar seqüències niades, com per exemple una llista de llistes igual de llargues (que ja vàrem veure en el lliurament anterior que equivalen a una matriu), es convertiran a un ndarray multidimensional."
      ]
    },
    {
      "cell_type": "code",
      "execution_count": 3,
      "metadata": {
        "colab": {
          "base_uri": "https://localhost:8080/"
        },
        "id": "C_yXJTmRgapW",
        "outputId": "645b248c-84c7-4da4-e583-ae4aa8311647"
      },
      "outputs": [
        {
          "data": {
            "text/plain": [
              "array([[1, 2, 3],\n",
              "       [5, 6, 7]])"
            ]
          },
          "execution_count": 3,
          "metadata": {},
          "output_type": "execute_result"
        }
      ],
      "source": [
        "data2 = [ [1, 2, 3] , [5, 6, 7] ]\n",
        "arr2 = np.array(data2)\n",
        "arr2"
      ]
    },
    {
      "cell_type": "markdown",
      "metadata": {
        "id": "yS36dy37gplQ"
      },
      "source": [
        "Com que aquí data és una llista de llistes, el vector NumPy corresponent té dues dimensions, amb la forma deduïda de les dades. Ho podem confirmar inspeccionant els atributs `ndim` i `shape`."
      ]
    },
    {
      "cell_type": "code",
      "execution_count": 4,
      "metadata": {
        "colab": {
          "base_uri": "https://localhost:8080/"
        },
        "id": "NLX3RlVng0YS",
        "outputId": "59ea56fb-2387-4e5f-ab04-33332969aa26"
      },
      "outputs": [
        {
          "data": {
            "text/plain": [
              "2"
            ]
          },
          "execution_count": 4,
          "metadata": {},
          "output_type": "execute_result"
        }
      ],
      "source": [
        "arr2.ndim"
      ]
    },
    {
      "cell_type": "code",
      "execution_count": 5,
      "metadata": {
        "colab": {
          "base_uri": "https://localhost:8080/"
        },
        "id": "pFz0kkCoV4VS",
        "outputId": "3ae1f4af-0a2d-4ee2-f842-f6b1abff5dc3"
      },
      "outputs": [
        {
          "data": {
            "text/plain": [
              "(2, 3)"
            ]
          },
          "execution_count": 5,
          "metadata": {},
          "output_type": "execute_result"
        }
      ],
      "source": [
        "arr2.shape"
      ]
    },
    {
      "cell_type": "markdown",
      "metadata": {
        "id": "dxlkFiL5jXBY"
      },
      "source": [
        "Si no és que s'indica expressament (ho veurem llavors), np.array intenta trobar un bon tipus de dades per a l'array que crea. El tipus de dada es desa en un objecte de metadades especial, `dtype`. Per exemple, vegem els tipus dels exemples anteriors."
      ]
    },
    {
      "cell_type": "code",
      "execution_count": 6,
      "metadata": {
        "colab": {
          "base_uri": "https://localhost:8080/"
        },
        "id": "T0NyggVtj0zM",
        "outputId": "00d38ba5-4f14-4eeb-bf18-d34f20b1cef1"
      },
      "outputs": [
        {
          "data": {
            "text/plain": [
              "dtype('float64')"
            ]
          },
          "execution_count": 6,
          "metadata": {},
          "output_type": "execute_result"
        }
      ],
      "source": [
        "arr1.dtype"
      ]
    },
    {
      "cell_type": "code",
      "execution_count": 7,
      "metadata": {
        "colab": {
          "base_uri": "https://localhost:8080/"
        },
        "id": "vJS6-fOOJmhL",
        "outputId": "1f144b90-1de0-4241-8670-5b7e9573913a"
      },
      "outputs": [
        {
          "data": {
            "text/plain": [
              "dtype('int64')"
            ]
          },
          "execution_count": 7,
          "metadata": {},
          "output_type": "execute_result"
        }
      ],
      "source": [
        "arr2.dtype"
      ]
    },
    {
      "cell_type": "markdown",
      "metadata": {
        "id": "JAf7MPr8kFSs"
      },
      "source": [
        "A més de np.array, hi ha diverses altres funcions que creen nous vectors. Per exemple, `zeros` i `ones` creen arrays de zeros i uns respectivament, d'una determinada longitud o forma. La funció `empty` crera un vector sense inicialitzar els seus valors a cap valor particular. Per crear un vector multidimensional amb aquests mètodes, es passa una tupla com a forma."
      ]
    },
    {
      "cell_type": "code",
      "execution_count": 8,
      "metadata": {
        "colab": {
          "base_uri": "https://localhost:8080/"
        },
        "id": "tC_FH5W1kncX",
        "outputId": "59572e16-dbf8-47dd-981b-87ba295c3344"
      },
      "outputs": [
        {
          "data": {
            "text/plain": [
              "array([[0., 0., 0., 0., 0., 0.],\n",
              "       [0., 0., 0., 0., 0., 0.],\n",
              "       [0., 0., 0., 0., 0., 0.]])"
            ]
          },
          "execution_count": 8,
          "metadata": {},
          "output_type": "execute_result"
        }
      ],
      "source": [
        "np.zeros((3,6))"
      ]
    },
    {
      "cell_type": "code",
      "execution_count": 11,
      "metadata": {
        "colab": {
          "base_uri": "https://localhost:8080/"
        },
        "id": "gnz_5vmqoVkN",
        "outputId": "ccd0805a-4999-477a-f4d1-d2d4d88732eb"
      },
      "outputs": [
        {
          "data": {
            "text/plain": [
              "array([[[1.55040433e-316, 0.00000000e+000],\n",
              "        [5.72880579e-317, 5.83329474e-317],\n",
              "        [6.69005144e-310, 6.69005144e-310]],\n",
              "\n",
              "       [[6.69005144e-310, 6.69005144e-310],\n",
              "        [5.58749511e-317, 6.69005144e-310],\n",
              "        [6.69005144e-310, 6.69005144e-310]]])"
            ]
          },
          "execution_count": 11,
          "metadata": {},
          "output_type": "execute_result"
        }
      ],
      "source": [
        "np.empty((2,3,2))"
      ]
    },
    {
      "cell_type": "markdown",
      "metadata": {
        "id": "P09f1ImnoaoY"
      },
      "source": [
        "No podem suposar que `empty` donarà un array de zeros. Moltes vegades donarà valors indeterminats."
      ]
    },
    {
      "cell_type": "markdown",
      "metadata": {
        "id": "sw0QCijlJ_wR"
      },
      "source": [
        "També podem crear un ndarray amb nombres aleatoris, mitjançant el mètode np.random.randn, passant-li per paràmetre la mida de cada dimensió."
      ]
    },
    {
      "cell_type": "code",
      "execution_count": 12,
      "metadata": {
        "colab": {
          "base_uri": "https://localhost:8080/"
        },
        "id": "MoIS3sruUMjB",
        "outputId": "c106697d-2b4b-4127-9c4b-66e64b441b11"
      },
      "outputs": [
        {
          "data": {
            "text/plain": [
              "array([[-0.05318366,  0.92804613, -0.08767425],\n",
              "       [ 0.95112259, -0.46821268, -0.38588498]])"
            ]
          },
          "execution_count": 12,
          "metadata": {},
          "output_type": "execute_result"
        }
      ],
      "source": [
        "import numpy as np\n",
        "\n",
        "data = np.random.randn(2,3)\n",
        "\n",
        "data"
      ]
    },
    {
      "cell_type": "markdown",
      "metadata": {
        "id": "vx1N8a-QolJG"
      },
      "source": [
        "La funció `arange` és una versió vectorial de la funció predefinida `range`."
      ]
    },
    {
      "cell_type": "code",
      "execution_count": 13,
      "metadata": {
        "colab": {
          "base_uri": "https://localhost:8080/"
        },
        "id": "Z_j_dLCUoq02",
        "outputId": "fc16ee87-f79a-4aed-e677-06b4bdc5ba7f"
      },
      "outputs": [
        {
          "data": {
            "text/plain": [
              "array([0, 1, 2, 3, 4, 5, 6, 7, 8, 9])"
            ]
          },
          "execution_count": 13,
          "metadata": {},
          "output_type": "execute_result"
        }
      ],
      "source": [
        "np.arange(0,10)"
      ]
    },
    {
      "cell_type": "markdown",
      "metadata": {
        "id": "CPTxSGpwVQ5h"
      },
      "source": [
        "Això crea un ndarray començant per 0 (inclòs) i fins al 10 (sense incloure'l):\n",
        "\n",
        "`array([0, 1, 2, 3, 4, 5, 6, 7, 8, 9])`\n"
      ]
    },
    {
      "cell_type": "markdown",
      "metadata": {
        "id": "gfls5Pihpyk-"
      },
      "source": [
        "A continuació tenim una taula de les funcions típiques de creació de vectors. Com que NumPy està centrat en la computació numèrica, el tipus de des, si no s'especifica el contrari, serà en molts de casos `float64` (coma flotant).\n",
        "\n",
        "|Funció|Descripció|\n",
        "|------|----------|\n",
        "|array|Converteix les dades d'entrada a un ndarray, deduint el dtype. Per defecte copia les dades d'entrada|\n",
        "|asarray|Converteix l'entrada a ndarray, però no la copia si l'entrada ja és un ndarray|\n",
        "|arange|Com la funció range predefinida però retorna un ndarray en comptes d'una list|\n",
        "|ones, ones_like|Produeix un vector tot d'uns amb la forma i dtype donats; ones_like pren un altre array i en produeix un d'uns amb la mateixa forma i dtype|\n",
        "|zeros, zeros_like| Com ones i ones_like però amb zeros en lloc d'uns|\n",
        "|empty, empty_like| Crea vectors nous reservant-hi memòria, però no els inicialitza ni amb zeros ni amb uns com zeros o ones|\n",
        "|full, full_like| Produeix un vector de la forma i dtype donats amb tots els valors plens del valor de farciment indicat|\n",
        "|eye, identity| Crea una matriu identitat NxN (1 a la diagonal i 0 fora)|"
      ]
    },
    {
      "cell_type": "markdown",
      "metadata": {
        "id": "QsC8sNDyG18k"
      },
      "source": [
        "Per donar una idea de com NumPy permet les operacions en bloc amb una sintaxi semblant als valors escalars d'objectes Python, realitzem unes operacions matemàtiques, multiplicació per un escalar i suma."
      ]
    },
    {
      "cell_type": "markdown",
      "metadata": {
        "id": "TE4CCq7XrO2c"
      },
      "source": [
        "## Tipus de dades en els ndarrays\n",
        "\n",
        "El tipus de dades o `dtype` és un objecte especial que conté la informació (o metadades, dades sobre dades) que el ndarray necessita per interpretar un bocí de memòria com un tipus concret de dades."
      ]
    },
    {
      "cell_type": "code",
      "execution_count": 14,
      "metadata": {
        "id": "KNKfr2Kergx3"
      },
      "outputs": [],
      "source": [
        "arr = np.array([1.0, 2.0, 3.0])\n"
      ]
    },
    {
      "cell_type": "code",
      "execution_count": 15,
      "metadata": {
        "colab": {
          "base_uri": "https://localhost:8080/"
        },
        "id": "ZJoM4OSoaqCF",
        "outputId": "ea7cb1af-0867-447b-b34f-6ba85fe762bc"
      },
      "outputs": [
        {
          "data": {
            "text/plain": [
              "dtype('float64')"
            ]
          },
          "execution_count": 15,
          "metadata": {},
          "output_type": "execute_result"
        }
      ],
      "source": [
        "arr.dtype"
      ]
    },
    {
      "cell_type": "markdown",
      "metadata": {
        "id": "aoF_fxTo6Szj"
      },
      "source": [
        "Els dtypes donen flexibilitat a NumPy per interactuar amb dades que venen d'altres sistemes. En la majoria de casos directament fan un mapejat a la representació de disc o memòria, cosa que facilita llegir i escriure fluxos de bits de dades al disc, i també connectar-se a codi llegit en un llenguatge de baix nivell com C o Fortran. Els dtypes numèrics s'anomenen de la mateixa forma, un nom de tipus, com `float` o `int`, seguir del nombre de bits per element. Un valor de coma flotant de doble precisió usa 8 bytes o 64 bits. Per tant, en Python se'n diu `float64`."
      ]
    },
    {
      "cell_type": "markdown",
      "metadata": {
        "id": "Rkx2x1UBg-Uw"
      },
      "source": [
        "Podem convertir (fer un *cast*) d'un vector d'un dtype a un altre usant el mètode `astype` de `ndarray`."
      ]
    },
    {
      "cell_type": "code",
      "execution_count": 19,
      "metadata": {
        "colab": {
          "base_uri": "https://localhost:8080/"
        },
        "id": "SW7UR9NrhHV7",
        "outputId": "4617c7e9-14bd-48bd-f2d3-86809dacd8e4"
      },
      "outputs": [
        {
          "data": {
            "text/plain": [
              "dtype('int64')"
            ]
          },
          "execution_count": 19,
          "metadata": {},
          "output_type": "execute_result"
        }
      ],
      "source": [
        "import numpy as np\n",
        "\n",
        "arr = np.array([1,2,3,4])\n",
        "arr.dtype"
      ]
    },
    {
      "cell_type": "code",
      "execution_count": 17,
      "metadata": {
        "colab": {
          "base_uri": "https://localhost:8080/"
        },
        "id": "Gcx745Pl6SMT",
        "outputId": "b13c246b-54cd-42e3-ec96-3e275a0d6087"
      },
      "outputs": [
        {
          "data": {
            "text/plain": [
              "dtype('float64')"
            ]
          },
          "execution_count": 17,
          "metadata": {},
          "output_type": "execute_result"
        }
      ],
      "source": [
        "float_arr = arr.astype(np.float64)\n",
        "float_arr.dtype"
      ]
    },
    {
      "cell_type": "markdown",
      "metadata": {
        "id": "Zixt7gUPhYDM"
      },
      "source": [
        "En aquest exemple, els enters s'han convertit a nombres reals amb coma flotant. Si convertim nombres de coma flotant a enters, la part decimal es truncarà."
      ]
    },
    {
      "cell_type": "code",
      "execution_count": null,
      "metadata": {
        "colab": {
          "base_uri": "https://localhost:8080/"
        },
        "id": "ZqoGSoyWhjb0",
        "outputId": "76ce7a96-4da9-4a2d-df10-7c812ce2a9e7"
      },
      "outputs": [
        {
          "data": {
            "text/plain": [
              "array([1.2, 3.4, 5.6, 7.8])"
            ]
          },
          "execution_count": 16,
          "metadata": {},
          "output_type": "execute_result"
        }
      ],
      "source": [
        "arr = np.array([1.2, 3.4, 5.6, 7.8])\n",
        "arr"
      ]
    },
    {
      "cell_type": "code",
      "execution_count": null,
      "metadata": {
        "colab": {
          "base_uri": "https://localhost:8080/"
        },
        "id": "iLw2_ZLLhs2N",
        "outputId": "e1140ae7-02c0-48a7-f01b-1bd494159144"
      },
      "outputs": [
        {
          "data": {
            "text/plain": [
              "array([1, 3, 5, 7], dtype=int32)"
            ]
          },
          "execution_count": 17,
          "metadata": {},
          "output_type": "execute_result"
        }
      ],
      "source": [
        "arr.astype(np.int32)"
      ]
    },
    {
      "cell_type": "markdown",
      "metadata": {
        "id": "oj7a5mTzhxbE"
      },
      "source": [
        "I si tenim un vector de cadenes de caràcters que representen nombres, podem usar `astype` per convertir-los a nombres."
      ]
    },
    {
      "cell_type": "code",
      "execution_count": 23,
      "metadata": {
        "colab": {
          "base_uri": "https://localhost:8080/"
        },
        "id": "yUeul3Heh6eO",
        "outputId": "76346644-8321-4674-c561-2c41574b9aa4"
      },
      "outputs": [
        {
          "data": {
            "text/plain": [
              "dtype('S4')"
            ]
          },
          "execution_count": 23,
          "metadata": {},
          "output_type": "execute_result"
        }
      ],
      "source": [
        "numeric_strings = np.array([1.25,-5.5,50], dtype=np.bytes_)\n",
        "numeric_strings.dtype"
      ]
    },
    {
      "cell_type": "code",
      "execution_count": 24,
      "metadata": {
        "colab": {
          "base_uri": "https://localhost:8080/"
        },
        "id": "B5rQnxQ9iHRY",
        "outputId": "63f1262f-d749-402a-ceb7-32b2dfa63d37"
      },
      "outputs": [
        {
          "name": "stdout",
          "output_type": "stream",
          "text": [
            "[ 1.25 -5.5  50.  ]\n"
          ]
        }
      ],
      "source": [
        "ns=numeric_strings.astype(float)\n",
        "print(ns)"
      ]
    },
    {
      "cell_type": "code",
      "execution_count": null,
      "metadata": {
        "colab": {
          "base_uri": "https://localhost:8080/"
        },
        "id": "-_UgAi1xiO-v",
        "outputId": "58324797-c411-43d3-aae2-cfa904b4c210"
      },
      "outputs": [
        {
          "data": {
            "text/plain": [
              "dtype('float64')"
            ]
          },
          "execution_count": 20,
          "metadata": {},
          "output_type": "execute_result"
        }
      ],
      "source": [
        "ns.dtype"
      ]
    },
    {
      "cell_type": "markdown",
      "metadata": {
        "id": "dA9zPmiep11g"
      },
      "source": [
        "Si la conversió falla per qualque raó, saltarà un `ValueError`. Tot i que abans hàgim escrit `float`, NumPy fa la conversió del tipus Python `float` al seu `dtype` equivalent, `float64`."
      ]
    },
    {
      "cell_type": "markdown",
      "metadata": {
        "id": "mXLThV-OqrDi"
      },
      "source": [
        "També podem fer servir l'atribut `dtype` d'un altre vector."
      ]
    },
    {
      "cell_type": "code",
      "execution_count": null,
      "metadata": {
        "colab": {
          "base_uri": "https://localhost:8080/"
        },
        "id": "9D0mLf8QqywE",
        "outputId": "3defaa57-510d-42e0-b059-f74f535b13f3"
      },
      "outputs": [
        {
          "data": {
            "text/plain": [
              "array([0., 1., 2., 3., 4., 5., 6., 7., 8., 9.])"
            ]
          },
          "execution_count": 21,
          "metadata": {},
          "output_type": "execute_result"
        }
      ],
      "source": [
        "int_array = np.arange(10)\n",
        "calibres = np.array ([.22, .270, .357, .380, .44, .50], dtype=np.float64)\n",
        "\n",
        "int_array.astype(calibres.dtype)"
      ]
    },
    {
      "cell_type": "markdown",
      "metadata": {
        "id": "cpOFM1pXrUyg"
      },
      "source": [
        "També hi ha abreviatures que es poden usar per referir-nos a un `dtype`."
      ]
    },
    {
      "cell_type": "code",
      "execution_count": null,
      "metadata": {
        "colab": {
          "base_uri": "https://localhost:8080/"
        },
        "id": "uDW6pfrvrbEP",
        "outputId": "54ff9bfc-2124-4465-e511-31c87a7517b2"
      },
      "outputs": [
        {
          "data": {
            "text/plain": [
              "array([ 858993459, 1072902963,  858993459, 1074475827, 1717986918,\n",
              "       1075209830,  858993459, 1075786547], dtype=uint32)"
            ]
          },
          "execution_count": 22,
          "metadata": {},
          "output_type": "execute_result"
        }
      ],
      "source": [
        "empty_uint32 = np.empty(8,dtype='u4')\n",
        "\n",
        "empty_uint32"
      ]
    },
    {
      "cell_type": "markdown",
      "metadata": {
        "id": "y1Y5EyzVrmyQ"
      },
      "source": [
        "Quan s'invoca `astype` sempre es crea un nou vector, una còpia de les dades, fins i tot si el nou `dtype` és igual que l'antic."
      ]
    },
    {
      "cell_type": "markdown",
      "metadata": {
        "id": "GThM90xpsONc"
      },
      "source": [
        "## Aritmètica amb vectors NumPy\n",
        "\n",
        "Els vectors o arrays són importants perquè permeten expressar operacions per lots (*batches*) sense escriure cap bucle `for`. En NumPy d'això se'n diu **vectorització**. Qualsevol operació aritmètica entre vectors de la mateixa mida aplica l'operació element a element. Vegem-ho amb un exemple.\n",
        "\n",
        "Per ser un especialista en Python, cal dominar la programació i el pensament orientat als arrays de NumPy.\n",
        "\n",
        "Vegem algunes operacions vectorials."
      ]
    },
    {
      "cell_type": "markdown",
      "metadata": {
        "id": "P0Hq7zQdUUCb"
      },
      "source": [
        "Podem multiplicar un array per un escalar (un número, per exemple 10). Això multiplicarà cada un dels valors per aquest número. El resultat serà un altre array."
      ]
    },
    {
      "cell_type": "code",
      "execution_count": null,
      "metadata": {
        "colab": {
          "base_uri": "https://localhost:8080/"
        },
        "id": "fz89E2shUYfJ",
        "outputId": "d59dfc0a-a1c0-4fa6-d617-784316f69455"
      },
      "outputs": [
        {
          "data": {
            "text/plain": [
              "array([[10, 20, 30],\n",
              "       [40, 50, 60]])"
            ]
          },
          "execution_count": 23,
          "metadata": {},
          "output_type": "execute_result"
        }
      ],
      "source": [
        "data = [ [1, 2, 3] , [4, 5, 6] ]\n",
        "arr1 = np.array(data)\n",
        "arr2 = 10 * arr1\n",
        "arr2"
      ]
    },
    {
      "cell_type": "markdown",
      "metadata": {
        "id": "gHoQsECKc5jr"
      },
      "source": [
        "Tenim disponibles altres operacions amb escalars, com per exemple la divisió (/), elevar a un exponent (**), etc."
      ]
    },
    {
      "cell_type": "code",
      "execution_count": null,
      "metadata": {
        "colab": {
          "base_uri": "https://localhost:8080/"
        },
        "id": "HWOP-FyrdWLS",
        "outputId": "2e10e042-fbdb-4197-b939-145ead1b6184"
      },
      "outputs": [
        {
          "data": {
            "text/plain": [
              "array([[1.        , 0.5       , 0.33333333],\n",
              "       [0.25      , 0.2       , 0.16666667]])"
            ]
          },
          "execution_count": 24,
          "metadata": {},
          "output_type": "execute_result"
        }
      ],
      "source": [
        "1/arr1"
      ]
    },
    {
      "cell_type": "code",
      "execution_count": null,
      "metadata": {
        "colab": {
          "base_uri": "https://localhost:8080/"
        },
        "id": "B63Wy0rDdjG6",
        "outputId": "29f86194-61b5-4fe5-9560-1bdfcf44e2ff"
      },
      "outputs": [
        {
          "data": {
            "text/plain": [
              "array([[ 1,  4,  9],\n",
              "       [16, 25, 36]])"
            ]
          },
          "execution_count": 25,
          "metadata": {},
          "output_type": "execute_result"
        }
      ],
      "source": [
        "arr1 **2"
      ]
    },
    {
      "cell_type": "markdown",
      "metadata": {
        "id": "jbTlQvVvbw_j"
      },
      "source": [
        "A continuació, vegem com podem sumar dos arrays (dues matrius de dues dimensions en aquest cas), de la mateixa mida. Se sumarà el valor de cada posició, obtenint-se una nova matriu."
      ]
    },
    {
      "cell_type": "code",
      "execution_count": null,
      "metadata": {
        "colab": {
          "base_uri": "https://localhost:8080/"
        },
        "id": "YBQGAbZXUatR",
        "outputId": "757cd195-0483-4de1-9455-4c2f9181081c"
      },
      "outputs": [
        {
          "data": {
            "text/plain": [
              "array([[11, 22, 33],\n",
              "       [44, 55, 66]])"
            ]
          },
          "execution_count": 26,
          "metadata": {},
          "output_type": "execute_result"
        }
      ],
      "source": [
        "arr3 = arr1 + arr2\n",
        "arr3"
      ]
    },
    {
      "cell_type": "markdown",
      "metadata": {
        "id": "ZOmWzZcncLbr"
      },
      "source": [
        "Igual que amb la suma, podem restar (-), multiplicar (*) o dividir (/) posició a posició dues matrius"
      ]
    },
    {
      "cell_type": "code",
      "execution_count": null,
      "metadata": {
        "colab": {
          "base_uri": "https://localhost:8080/"
        },
        "id": "AtQqpZVhssKf",
        "outputId": "d6429217-8938-40ed-ce50-6bcf67634e16"
      },
      "outputs": [
        {
          "data": {
            "text/plain": [
              "array([[ 10,  40,  90],\n",
              "       [160, 250, 360]])"
            ]
          },
          "execution_count": 27,
          "metadata": {},
          "output_type": "execute_result"
        }
      ],
      "source": [
        "arr4 = arr1 * arr2\n",
        "arr4"
      ]
    },
    {
      "cell_type": "code",
      "execution_count": null,
      "metadata": {
        "colab": {
          "base_uri": "https://localhost:8080/"
        },
        "id": "AcehiR_Ps5XY",
        "outputId": "afb3f95f-6bc4-4b6b-e974-7d111a51dc4a"
      },
      "outputs": [
        {
          "data": {
            "text/plain": [
              "array([[ -1,  18,  57],\n",
              "       [116, 195, 294]])"
            ]
          },
          "execution_count": 28,
          "metadata": {},
          "output_type": "execute_result"
        }
      ],
      "source": [
        "arr5 = arr4 - arr3\n",
        "arr5"
      ]
    },
    {
      "cell_type": "markdown",
      "metadata": {
        "id": "Gl4VG_K3tTCj"
      },
      "source": [
        "La comparació de vectors de la mateixa mida dona com a resultat un vector booleà, també de la mateixa mida."
      ]
    },
    {
      "cell_type": "code",
      "execution_count": null,
      "metadata": {
        "colab": {
          "base_uri": "https://localhost:8080/"
        },
        "id": "zYoL5991tjFr",
        "outputId": "81125950-c427-4c19-9fcf-b77d7213221d"
      },
      "outputs": [
        {
          "data": {
            "text/plain": [
              "array([[False,  True,  True],\n",
              "       [ True,  True,  True]])"
            ]
          },
          "execution_count": 29,
          "metadata": {},
          "output_type": "execute_result"
        }
      ],
      "source": [
        "arr4 > arr3"
      ]
    },
    {
      "cell_type": "markdown",
      "metadata": {
        "id": "Re_kbgQKZxyP"
      },
      "source": [
        "## Rendiment de les operacions vectoritzades\n",
        "\n",
        "Ara farem una comparació del rendiment de NumPy respecte de la llista de Python equivalent, ambdues amb una dimensió i un milió de posicions."
      ]
    },
    {
      "cell_type": "code",
      "execution_count": 26,
      "metadata": {
        "id": "cTXPeN_fZxyW"
      },
      "outputs": [],
      "source": [
        "my_array = np.arange(1000000)\n",
        "my_list  = list(range(1000000))\n"
      ]
    },
    {
      "cell_type": "markdown",
      "metadata": {
        "id": "4YkoDMB6ZxyX"
      },
      "source": [
        "Multipliquem cada llista per 2 i observem la diferència en els temps d'execució."
      ]
    },
    {
      "cell_type": "code",
      "execution_count": 27,
      "metadata": {
        "colab": {
          "base_uri": "https://localhost:8080/"
        },
        "id": "Tz8iKYbAZxyX",
        "outputId": "0c1836cb-efd0-4f01-a21e-54655dd647e6"
      },
      "outputs": [
        {
          "name": "stdout",
          "output_type": "stream",
          "text": [
            "CPU times: user 15.2 ms, sys: 17.1 ms, total: 32.4 ms\n",
            "Wall time: 28.6 ms\n"
          ]
        }
      ],
      "source": [
        "%time for _ in range(10): my_double_array= my_array * 2"
      ]
    },
    {
      "cell_type": "code",
      "execution_count": 28,
      "metadata": {
        "colab": {
          "base_uri": "https://localhost:8080/"
        },
        "id": "Gb9VgtVrZxyX",
        "outputId": "8f55e00a-e133-4c6d-e134-09e615c87f8b"
      },
      "outputs": [
        {
          "name": "stdout",
          "output_type": "stream",
          "text": [
            "CPU times: user 475 ms, sys: 209 ms, total: 685 ms\n",
            "Wall time: 687 ms\n"
          ]
        }
      ],
      "source": [
        "%time for _ in range(10): my_double_list = [2*x for x in my_list]"
      ]
    },
    {
      "cell_type": "markdown",
      "metadata": {
        "id": "HxbBTVWMZxyX"
      },
      "source": [
        "Els algorismes basats en NumPy són entre 10 i 100 vegades més ràpids (o més) que els seus corresponents Python i a més fan servir més poca memòria."
      ]
    },
    {
      "cell_type": "markdown",
      "metadata": {
        "id": "D5HD-EEweMZ8"
      },
      "source": [
        "## Funcions universals\n",
        "\n",
        "Una funció universal (***unfunc***) és l'equivalent dels operadors vectoritzats que hem vist abans. Així doncs, una ufunc permet fer una operació de manera vectoritzada, element a element, sobre ndarrays . Això dona una solució més ràpida que programar uns bucles per recórrer i operar tots els elements dels ndarrays que volem operar."
      ]
    },
    {
      "cell_type": "code",
      "execution_count": null,
      "metadata": {
        "colab": {
          "base_uri": "https://localhost:8080/"
        },
        "id": "BCLDb2kseQuD",
        "outputId": "4bf249bd-dd94-421a-c163-b0fc8b38c2aa"
      },
      "outputs": [
        {
          "data": {
            "text/plain": [
              "array([[11, 22, 33],\n",
              "       [44, 55, 66]])"
            ]
          },
          "execution_count": 33,
          "metadata": {},
          "output_type": "execute_result"
        }
      ],
      "source": [
        "a = np.array([[1, 2, 3], [4, 5, 6]])\n",
        "b = np.array([[10, 20, 30], [40, 50, 60]])\n",
        "c = np.add(a,b)\n",
        "c"
      ]
    },
    {
      "cell_type": "markdown",
      "metadata": {
        "id": "0AFWb3tNtyRV"
      },
      "source": [
        "No totes les ufuncs son binàries, és a dir, que tenen dos ndarrays com a arguments. També n'hi ha d'unàries, amb un únic argument. Per exemple, la ufunc negative retorna el valor negatiu de tots els elements d'un ndarray."
      ]
    },
    {
      "cell_type": "code",
      "execution_count": null,
      "metadata": {
        "colab": {
          "base_uri": "https://localhost:8080/"
        },
        "id": "YnxDHqd6tzer",
        "outputId": "27da4d79-6023-4788-aad3-fd1726dfd919"
      },
      "outputs": [
        {
          "data": {
            "text/plain": [
              "array([[-1,  2, -3],\n",
              "       [ 4, -5,  6]])"
            ]
          },
          "execution_count": 34,
          "metadata": {},
          "output_type": "execute_result"
        }
      ],
      "source": [
        "d = np.array([[1, -2, 3], [-4, 5, -6]])\n",
        "e = np.negative(d)\n",
        "e"
      ]
    },
    {
      "cell_type": "markdown",
      "metadata": {
        "id": "jGJGNzdnxPMM"
      },
      "source": [
        "Tenim diverses ufuncs per a operacions de comparació: greater, greater_equal, less, less_equal, not_equal i equal."
      ]
    },
    {
      "cell_type": "code",
      "execution_count": null,
      "metadata": {
        "colab": {
          "base_uri": "https://localhost:8080/"
        },
        "id": "I7z7kVyIxUCD",
        "outputId": "50d9f0e6-451a-481a-8b2e-77a4135f50fa"
      },
      "outputs": [
        {
          "data": {
            "text/plain": [
              "array([[False,  True,  True],\n",
              "       [ True, False,  True]])"
            ]
          },
          "execution_count": 35,
          "metadata": {},
          "output_type": "execute_result"
        }
      ],
      "source": [
        "f = np.array([[1, 9, 5], [3, 8, 7]])\n",
        "g = np.array([[6, 2, 4], [1, 9, 5]])\n",
        "h = np.greater(f,g)\n",
        "h"
      ]
    },
    {
      "cell_type": "markdown",
      "metadata": {
        "id": "Mi5esGoEyJWN"
      },
      "source": [
        "Vegem també la ufunc maximum (i minimum), que no hem de confondre amb la funció max (i min) de Python (amb llistes, no amb ndarrays)."
      ]
    },
    {
      "cell_type": "code",
      "execution_count": null,
      "metadata": {
        "colab": {
          "base_uri": "https://localhost:8080/"
        },
        "id": "LUaLWoQNySW7",
        "outputId": "e1e99848-2131-41f9-d790-cd2083066201"
      },
      "outputs": [
        {
          "data": {
            "text/plain": [
              "array([[6, 9, 5],\n",
              "       [3, 9, 7]])"
            ]
          },
          "execution_count": 36,
          "metadata": {},
          "output_type": "execute_result"
        }
      ],
      "source": [
        "h = np.maximum(f,g)\n",
        "h"
      ]
    },
    {
      "cell_type": "code",
      "execution_count": null,
      "metadata": {
        "colab": {
          "base_uri": "https://localhost:8080/"
        },
        "id": "5fpAfc1wyxn0",
        "outputId": "f1afa6d8-400b-4239-d9d1-68946e0b469b"
      },
      "outputs": [
        {
          "data": {
            "text/plain": [
              "[[6, 2, 4], [1, 9, 5]]"
            ]
          },
          "execution_count": 37,
          "metadata": {},
          "output_type": "execute_result"
        }
      ],
      "source": [
        "f = [[1, 9, 5], [3, 8, 7]]\n",
        "g = [[6, 2, 4], [1, 9, 5]]\n",
        "h = max(f,g)\n",
        "h"
      ]
    },
    {
      "cell_type": "markdown",
      "metadata": {
        "id": "Cv0KYW6Kz2cq"
      },
      "source": [
        "No hem de confondre les ufuncs maximum i minimum de NumPy amb les funcions max i min de Python, que no són vectoritzades. Ni tampoc amb les funcions max i min de Numpy, que retornen l'element màxim i mínim d'un ndarray."
      ]
    },
    {
      "cell_type": "code",
      "execution_count": null,
      "metadata": {
        "colab": {
          "base_uri": "https://localhost:8080/"
        },
        "id": "AVYe9OO00HsR",
        "outputId": "fdc331b9-5481-4ff1-d1d9-548f50de8440"
      },
      "outputs": [
        {
          "data": {
            "text/plain": [
              "9"
            ]
          },
          "execution_count": 38,
          "metadata": {},
          "output_type": "execute_result"
        }
      ],
      "source": [
        "f = [[1, 9, 5], [3, 8, 7]]\n",
        "maxim = np.max(f)\n",
        "maxim"
      ]
    },
    {
      "cell_type": "markdown",
      "metadata": {
        "id": "dhs1VQF30M83"
      },
      "source": [
        "Podem recuperar tota la fila (amb axis=0) o tota la columna (axis=1) del màxim."
      ]
    },
    {
      "cell_type": "code",
      "execution_count": null,
      "metadata": {
        "colab": {
          "base_uri": "https://localhost:8080/"
        },
        "id": "u9JjKwve0WZY",
        "outputId": "a6259a00-600c-4c09-caee-cc891b91e205"
      },
      "outputs": [
        {
          "data": {
            "text/plain": [
              "array([3, 9, 7])"
            ]
          },
          "execution_count": 39,
          "metadata": {},
          "output_type": "execute_result"
        }
      ],
      "source": [
        "filamaxim = np.max(f, axis=0)\n",
        "filamaxim"
      ]
    },
    {
      "cell_type": "markdown",
      "metadata": {
        "id": "v4rnFRZR2BCw"
      },
      "source": [
        "Vegem un exemple de multiplicació de dues matrius:"
      ]
    },
    {
      "cell_type": "code",
      "execution_count": null,
      "metadata": {
        "colab": {
          "base_uri": "https://localhost:8080/"
        },
        "id": "Xd709qmG2E47",
        "outputId": "08327b0c-0c90-448c-fad7-ceb7b7945f2c"
      },
      "outputs": [
        {
          "data": {
            "text/plain": [
              "array([[19, 22],\n",
              "       [43, 50]])"
            ]
          },
          "execution_count": 40,
          "metadata": {},
          "output_type": "execute_result"
        }
      ],
      "source": [
        "a = np.array([[1,2],[3,4]])\n",
        "b = np.array([[5,6],[7,8]])\n",
        "c = np.matmul(a,b)\n",
        "c"
      ]
    },
    {
      "cell_type": "markdown",
      "metadata": {
        "id": "w2YkXy1BVM-p"
      },
      "source": [
        "Aquest seria l'algorisme no vectoritzat per a la multiplicació de matrius:"
      ]
    },
    {
      "cell_type": "code",
      "execution_count": null,
      "metadata": {
        "colab": {
          "base_uri": "https://localhost:8080/"
        },
        "id": "sIuoZZWWT7hh",
        "outputId": "e7a51f78-a9c9-4f52-c30a-66d3a0edfa04"
      },
      "outputs": [
        {
          "data": {
            "text/plain": [
              "[[19, 22], [43, 50]]"
            ]
          },
          "execution_count": 41,
          "metadata": {},
          "output_type": "execute_result"
        }
      ],
      "source": [
        "a = [[1,2],[3,4]]\n",
        "b = [[5,6],[7,8]]\n",
        "files_a = len(a)\n",
        "files_b = len(b)\n",
        "columnes_a = len(a[0])\n",
        "columnes_b = len(b[0])\n",
        "assert columnes_a == files_b, '''El número de columnes\n",
        " de la matriu a\n",
        " ha de ser igual que\n",
        " el número de columnes\n",
        " de la matriu b'''\n",
        "\n",
        "# Omplim la matriu resultat (c) amb None\n",
        "c = []\n",
        "for i in range(files_b):\n",
        "    c.append([])\n",
        "    for j in range(columnes_b):\n",
        "        c[i].append(None)\n",
        "\n",
        "# Calculam els valors amb un triple bucle\n",
        "for k in range(columnes_b):\n",
        "    for i in range(files_a):\n",
        "        suma = 0\n",
        "        for j in range(columnes_a):\n",
        "            suma += a[i][j]*b[j][k]\n",
        "        c[i][k] = suma\n",
        "\n",
        "c"
      ]
    },
    {
      "cell_type": "markdown",
      "metadata": {
        "id": "T5sZ3g0JbTwK"
      },
      "source": [
        "Des de Python 3.5 s'ha afegit l'operador @, que és l'equivalent de la ufunc matmul."
      ]
    },
    {
      "cell_type": "code",
      "execution_count": null,
      "metadata": {
        "colab": {
          "base_uri": "https://localhost:8080/"
        },
        "id": "DluxmhBAWofh",
        "outputId": "72f9cc96-d97d-4c2c-e413-0dffa8c066c2"
      },
      "outputs": [
        {
          "data": {
            "text/plain": [
              "array([[19, 22],\n",
              "       [43, 50]])"
            ]
          },
          "execution_count": 42,
          "metadata": {},
          "output_type": "execute_result"
        }
      ],
      "source": [
        "a = np.array([[1,2],[3,4]])\n",
        "b = np.array([[5,6],[7,8]])\n",
        "c = a @ b\n",
        "c"
      ]
    },
    {
      "cell_type": "markdown",
      "metadata": {
        "id": "JB7jEX7xd734"
      },
      "source": [
        "## Generació de nombres aleatoris\n",
        "\n",
        "El mòdul numpy.random complementa el mòdul random predefinit a Python integrat amb funcions per generar de manera eficient matrius senceres de valors de mostra, a partir de molts tipus de distribucions de probabilitat. Veurem més detalls sobre distribucions de probabilitat al lliurament 2 del mòdul de Sistemes de Big Data. De moment, simplement ens quedam és que determinen la manera en què es van generant les seqüències de nombres aleatoris.\n",
        "\n",
        "Dues de les més habituals són la distribució uniforme (numpy.random.rand) i la distribució normal o gaussiana (numpy.random.randn). Qualsevol de les dues generarà un nombre real (amb decimals) aleatori entre -1 i +1."
      ]
    },
    {
      "cell_type": "markdown",
      "metadata": {
        "id": "q1FwSnxXfXCJ"
      },
      "source": [
        "Vegem un exemple que fa servir np.random.randn per generar un ndarray de dues dimensions, amb 2 files i 3 columnes:"
      ]
    },
    {
      "cell_type": "code",
      "execution_count": null,
      "metadata": {
        "colab": {
          "base_uri": "https://localhost:8080/"
        },
        "id": "LOU0S7FseIGq",
        "outputId": "fc8686be-d506-4f7f-c37d-e371335009e6"
      },
      "outputs": [
        {
          "data": {
            "text/plain": [
              "array([[-2.40563113, -0.35874647, -0.72350123],\n",
              "       [-0.21829633, -0.09097627,  1.09391126]])"
            ]
          },
          "execution_count": 43,
          "metadata": {},
          "output_type": "execute_result"
        }
      ],
      "source": [
        "arr = np.random.randn(2,3)\n",
        "arr"
      ]
    },
    {
      "cell_type": "markdown",
      "metadata": {
        "id": "LuLQ4LURuHOw"
      },
      "source": [
        "## Indexació i selecció\n",
        "\n",
        "La indexació en NumPy és un tema complex, ja que hi ha moltes formes en què podem voler triar un subconjunt de les nostres dades. Els vectors unidimensionals són senzills, s'assemblen a les llistes de Python."
      ]
    },
    {
      "cell_type": "code",
      "execution_count": null,
      "metadata": {
        "colab": {
          "base_uri": "https://localhost:8080/"
        },
        "id": "KHVLmc7buX_k",
        "outputId": "ae50f814-d886-4e5b-edc5-f3146d869f93"
      },
      "outputs": [
        {
          "data": {
            "text/plain": [
              "array([0, 1, 2, 3, 4, 5, 6, 7, 8, 9])"
            ]
          },
          "execution_count": 44,
          "metadata": {},
          "output_type": "execute_result"
        }
      ],
      "source": [
        "arr = np.arange(10)\n",
        "arr"
      ]
    },
    {
      "cell_type": "code",
      "execution_count": null,
      "metadata": {
        "colab": {
          "base_uri": "https://localhost:8080/"
        },
        "id": "xObkhoJzuexL",
        "outputId": "1184b817-4a91-4248-f96c-1bfbf0822114"
      },
      "outputs": [
        {
          "data": {
            "text/plain": [
              "5"
            ]
          },
          "execution_count": 45,
          "metadata": {},
          "output_type": "execute_result"
        }
      ],
      "source": [
        "arr[5]"
      ]
    },
    {
      "cell_type": "code",
      "execution_count": null,
      "metadata": {
        "colab": {
          "base_uri": "https://localhost:8080/"
        },
        "id": "Ornt1QuYumNc",
        "outputId": "321bf81b-4dc7-4b2f-da23-9889ee43bc75"
      },
      "outputs": [
        {
          "data": {
            "text/plain": [
              "array([5, 6, 7])"
            ]
          },
          "execution_count": 46,
          "metadata": {},
          "output_type": "execute_result"
        }
      ],
      "source": [
        "arr[5:8]"
      ]
    },
    {
      "cell_type": "code",
      "execution_count": null,
      "metadata": {
        "colab": {
          "base_uri": "https://localhost:8080/"
        },
        "id": "Oq1Pe7igur8j",
        "outputId": "6114e979-a7bf-48ad-aa70-d316580e14f1"
      },
      "outputs": [
        {
          "data": {
            "text/plain": [
              "array([ 0,  1,  2,  3,  4, 12, 12, 12,  8,  9])"
            ]
          },
          "execution_count": 47,
          "metadata": {},
          "output_type": "execute_result"
        }
      ],
      "source": [
        "arr[5:8]=12\n",
        "arr"
      ]
    },
    {
      "cell_type": "markdown",
      "metadata": {
        "id": "eUzWioePuw-V"
      },
      "source": [
        "Com veim, si assignam un valor escalar a una selecció, a una llesca, com quan escrivim `arr[5:8]=12`, el valor es propaga a tota la selecció. Una distinció important respecte de les llistes predefinides de Python és que les seleccions són vistes del vector original. Això significa que les dades no es copien, i qualsevol modificació de la vista quedarà reflectida en el vector original.\n",
        "\n",
        "Per veure'n un exemple, primer cream una llesca d'un vector."
      ]
    },
    {
      "cell_type": "code",
      "execution_count": null,
      "metadata": {
        "colab": {
          "base_uri": "https://localhost:8080/"
        },
        "id": "_HdXIfuhvTAX",
        "outputId": "e95160c0-62cb-4f16-dd69-0ba83cd27ff9"
      },
      "outputs": [
        {
          "data": {
            "text/plain": [
              "array([12, 12, 12])"
            ]
          },
          "execution_count": 48,
          "metadata": {},
          "output_type": "execute_result"
        }
      ],
      "source": [
        "arr_slice = arr[5:8]\n",
        "arr_slice"
      ]
    },
    {
      "cell_type": "markdown",
      "metadata": {
        "id": "hm9_vX86ulXu"
      },
      "source": [
        "Ara, quan feim modificacions damunt `arr_slice`, els canvis afecten a l'original `arr`."
      ]
    },
    {
      "cell_type": "code",
      "execution_count": null,
      "metadata": {
        "colab": {
          "base_uri": "https://localhost:8080/"
        },
        "id": "fSEhq5vqvm_N",
        "outputId": "fac1166b-dff0-40dc-cd68-b37a70a50c68"
      },
      "outputs": [
        {
          "data": {
            "text/plain": [
              "array([  0,   1,   2,   3,   4,  12, 123,  12,   8,   9])"
            ]
          },
          "execution_count": 49,
          "metadata": {},
          "output_type": "execute_result"
        }
      ],
      "source": [
        "arr_slice[1]=123\n",
        "arr"
      ]
    },
    {
      "cell_type": "markdown",
      "metadata": {
        "id": "YAIdjlYCBQj7"
      },
      "source": [
        "La selecció *nua* `[:]` assignarà tots els valors del vector.\n"
      ]
    },
    {
      "cell_type": "code",
      "execution_count": null,
      "metadata": {
        "colab": {
          "base_uri": "https://localhost:8080/"
        },
        "id": "1dC-OGbwBgoY",
        "outputId": "b280073d-4e24-4e21-cee7-e14df228ba70"
      },
      "outputs": [
        {
          "data": {
            "text/plain": [
              "array([ 0,  1,  2,  3,  4, 64, 64, 64,  8,  9])"
            ]
          },
          "execution_count": 50,
          "metadata": {},
          "output_type": "execute_result"
        }
      ],
      "source": [
        "arr_slice[:] = 64\n",
        "arr"
      ]
    },
    {
      "cell_type": "markdown",
      "metadata": {
        "id": "u-zKtLaWBl6h"
      },
      "source": [
        "Aquest comportament pot ser sorprenent, sobretot comparat amb d'altres llenguatges que tendeixen més a copiar les dades. Però com que NumPy està orientat a treballar amb vectors molt grans, té molt de sentit no copiar les dades tan sovint.\n",
        "\n",
        "Si en comptes d'una vista volem una còpia d'una secció, podem copiar explícitament el vector. Per exemple, podem fer `arr[5:8].copy()`."
      ]
    },
    {
      "cell_type": "markdown",
      "metadata": {
        "id": "-0_g1vPHB_KW"
      },
      "source": [
        "Amb vectors de més dimensions, tenim moltes més opcions. En un vector bidimensional (una matriu), els elements en cada índex ja no són escalars sinó vectors unidimensionals."
      ]
    },
    {
      "cell_type": "code",
      "execution_count": null,
      "metadata": {
        "colab": {
          "base_uri": "https://localhost:8080/"
        },
        "id": "tG4oFdcvCJp-",
        "outputId": "253d1652-010a-45b3-b752-85bc051cbebf"
      },
      "outputs": [
        {
          "data": {
            "text/plain": [
              "array([7, 8, 9])"
            ]
          },
          "execution_count": 51,
          "metadata": {},
          "output_type": "execute_result"
        }
      ],
      "source": [
        "arr2d = np.array ([[1, 2, 3],[4, 5, 6],[7, 8, 9]])\n",
        "arr2d[2]"
      ]
    },
    {
      "cell_type": "markdown",
      "metadata": {
        "id": "awpBqCw-CWSQ"
      },
      "source": [
        "D'aquesta forma, es pot accedir als elements de forma recursiva. Però això pot ser massa, de forma que també es pot passar una llista d'índexs separats per comes. Així, els dos fragments següents són equivalents."
      ]
    },
    {
      "cell_type": "code",
      "execution_count": null,
      "metadata": {
        "colab": {
          "base_uri": "https://localhost:8080/"
        },
        "id": "JkbnT8INCimY",
        "outputId": "e52a45a5-68f5-4f55-96b4-9a9d9ca02fa1"
      },
      "outputs": [
        {
          "data": {
            "text/plain": [
              "3"
            ]
          },
          "execution_count": 52,
          "metadata": {},
          "output_type": "execute_result"
        }
      ],
      "source": [
        "arr2d[0][2]"
      ]
    },
    {
      "cell_type": "markdown",
      "metadata": {
        "id": "TC5u_84uCyqr"
      },
      "source": [
        "És útil que pensem el primer índex com l'índex de filera i el segon índex com a índex de columna."
      ]
    },
    {
      "cell_type": "markdown",
      "metadata": {
        "id": "sDuNdEE-ERXs"
      },
      "source": [
        "En els vectors multidimensionals, quan s'ometen els darrers índexs, l'objecte retornat serà un ndarray de menors dimensions que conté totes les dades al llarg de les dimensions més altes. Un exemple:"
      ]
    },
    {
      "cell_type": "code",
      "execution_count": null,
      "metadata": {
        "colab": {
          "base_uri": "https://localhost:8080/"
        },
        "id": "HXcRkBnPEkLV",
        "outputId": "d9315014-ed0b-4447-d7c0-3e320e2027db"
      },
      "outputs": [
        {
          "data": {
            "text/plain": [
              "array([[[ 1,  2,  3],\n",
              "        [ 4,  5,  6]],\n",
              "\n",
              "       [[ 7,  8,  9],\n",
              "        [10, 11, 12]]])"
            ]
          },
          "execution_count": 54,
          "metadata": {},
          "output_type": "execute_result"
        }
      ],
      "source": [
        "arr3d = np.array([[[1,2,3],[4,5,6]],[[7,8,9],[10,11,12]]])\n",
        "arr3d"
      ]
    },
    {
      "cell_type": "markdown",
      "metadata": {
        "id": "EEebOFudE5CR"
      },
      "source": [
        "`arr3d[0]` és un vector 2x3. Vegem-lo."
      ]
    },
    {
      "cell_type": "code",
      "execution_count": null,
      "metadata": {
        "colab": {
          "base_uri": "https://localhost:8080/"
        },
        "id": "y5kLOiEbFEof",
        "outputId": "b83ac498-5d9c-4507-8088-21b35ec02a50"
      },
      "outputs": [
        {
          "data": {
            "text/plain": [
              "array([[1, 2, 3],\n",
              "       [4, 5, 6]])"
            ]
          },
          "execution_count": 55,
          "metadata": {},
          "output_type": "execute_result"
        }
      ],
      "source": [
        "arr3d[0]"
      ]
    },
    {
      "cell_type": "markdown",
      "metadata": {
        "id": "dBVLqnwvMLnL"
      },
      "source": [
        "A `arr3d[0]` tant s'hi poden assignar escalars com vectors."
      ]
    },
    {
      "cell_type": "code",
      "execution_count": null,
      "metadata": {
        "colab": {
          "base_uri": "https://localhost:8080/"
        },
        "id": "pXnQqgKKMSDG",
        "outputId": "5ff21755-4c53-4046-9267-5fc8a7da98d1"
      },
      "outputs": [
        {
          "data": {
            "text/plain": [
              "array([[[42, 42, 42],\n",
              "        [42, 42, 42]],\n",
              "\n",
              "       [[ 7,  8,  9],\n",
              "        [10, 11, 12]]])"
            ]
          },
          "execution_count": 56,
          "metadata": {},
          "output_type": "execute_result"
        }
      ],
      "source": [
        "old_values = arr3d[0].copy()\n",
        "arr3d[0] = 42\n",
        "arr3d"
      ]
    },
    {
      "cell_type": "code",
      "execution_count": null,
      "metadata": {
        "colab": {
          "base_uri": "https://localhost:8080/"
        },
        "id": "MIgbEctxMZ4L",
        "outputId": "9563e9ab-92cd-4a26-d8fb-d6c6e5417e48"
      },
      "outputs": [
        {
          "data": {
            "text/plain": [
              "array([[[ 1,  2,  3],\n",
              "        [ 4,  5,  6]],\n",
              "\n",
              "       [[ 7,  8,  9],\n",
              "        [10, 11, 12]]])"
            ]
          },
          "execution_count": 57,
          "metadata": {},
          "output_type": "execute_result"
        }
      ],
      "source": [
        "arr3d[0] = old_values\n",
        "arr3d"
      ]
    },
    {
      "cell_type": "markdown",
      "metadata": {
        "id": "W7Sm9Q21MqX4"
      },
      "source": [
        "D'una forma semblant, `arr3d[1,0]` dona tots els valors amb índexs que comencen amb `(1,0)`, formant un vector unidimensional."
      ]
    },
    {
      "cell_type": "code",
      "execution_count": null,
      "metadata": {
        "colab": {
          "base_uri": "https://localhost:8080/"
        },
        "id": "IBFyRS0GN88g",
        "outputId": "511948cb-8b51-4400-f385-6fc245d4ec47"
      },
      "outputs": [
        {
          "data": {
            "text/plain": [
              "array([7, 8, 9])"
            ]
          },
          "execution_count": 58,
          "metadata": {},
          "output_type": "execute_result"
        }
      ],
      "source": [
        "arr3d[1, 0]"
      ]
    },
    {
      "cell_type": "markdown",
      "metadata": {
        "id": "LIlusB0GOBeA"
      },
      "source": [
        "Aquesta expressió és igual que si haguéssim indexat en dues passes."
      ]
    },
    {
      "cell_type": "code",
      "execution_count": null,
      "metadata": {
        "colab": {
          "base_uri": "https://localhost:8080/"
        },
        "id": "h2VuT4uCOElw",
        "outputId": "5be4d3e9-26f9-42d5-90dd-fa75571b729e"
      },
      "outputs": [
        {
          "data": {
            "text/plain": [
              "array([[ 7,  8,  9],\n",
              "       [10, 11, 12]])"
            ]
          },
          "execution_count": 59,
          "metadata": {},
          "output_type": "execute_result"
        }
      ],
      "source": [
        "x=arr3d[1]\n",
        "x"
      ]
    },
    {
      "cell_type": "code",
      "execution_count": null,
      "metadata": {
        "colab": {
          "base_uri": "https://localhost:8080/"
        },
        "id": "ZZkwzKRlOHd_",
        "outputId": "25b9efbc-4307-47ac-825b-8571908b943a"
      },
      "outputs": [
        {
          "data": {
            "text/plain": [
              "array([7, 8, 9])"
            ]
          },
          "execution_count": 60,
          "metadata": {},
          "output_type": "execute_result"
        }
      ],
      "source": [
        "x[0]"
      ]
    },
    {
      "cell_type": "markdown",
      "metadata": {
        "id": "Hka67CZNOOe_"
      },
      "source": [
        "### Indexació amb seleccions"
      ]
    },
    {
      "cell_type": "markdown",
      "metadata": {
        "id": "IzDqkFq6OVQY"
      },
      "source": [
        "Igual com els objectes unidimensionals com les llistes Python, els ndarrays es poden seleccionar amb la sintaxi habitual."
      ]
    },
    {
      "cell_type": "code",
      "execution_count": null,
      "metadata": {
        "colab": {
          "base_uri": "https://localhost:8080/"
        },
        "id": "f15Ld9j_ORPQ",
        "outputId": "2f6950c5-8d3a-468f-c375-4a6e0fe39365"
      },
      "outputs": [
        {
          "data": {
            "text/plain": [
              "array([ 0,  1,  2,  3,  4, 64, 64, 64,  8,  9])"
            ]
          },
          "execution_count": 61,
          "metadata": {},
          "output_type": "execute_result"
        }
      ],
      "source": [
        "arr"
      ]
    },
    {
      "cell_type": "code",
      "execution_count": null,
      "metadata": {
        "colab": {
          "base_uri": "https://localhost:8080/"
        },
        "id": "1KMA4oS3OgzZ",
        "outputId": "1d220469-3bdc-4b9f-d000-a0712496f538"
      },
      "outputs": [
        {
          "data": {
            "text/plain": [
              "array([ 1,  2,  3,  4, 64])"
            ]
          },
          "execution_count": 62,
          "metadata": {},
          "output_type": "execute_result"
        }
      ],
      "source": [
        "arr[1:6]"
      ]
    },
    {
      "cell_type": "markdown",
      "metadata": {
        "id": "ftD1m6-ZOkCi"
      },
      "source": [
        "Tornem al vector bidimensional d'abans, arr2d. Seleccionar dins aquest vector és una mica diferent:"
      ]
    },
    {
      "cell_type": "code",
      "execution_count": null,
      "metadata": {
        "colab": {
          "base_uri": "https://localhost:8080/"
        },
        "id": "eB3LPCyiOs7z",
        "outputId": "13903128-2160-467b-8237-1c660fdd3757"
      },
      "outputs": [
        {
          "data": {
            "text/plain": [
              "array([[1, 2, 3],\n",
              "       [4, 5, 6],\n",
              "       [7, 8, 9]])"
            ]
          },
          "execution_count": 63,
          "metadata": {},
          "output_type": "execute_result"
        }
      ],
      "source": [
        "arr2d"
      ]
    },
    {
      "cell_type": "code",
      "execution_count": null,
      "metadata": {
        "colab": {
          "base_uri": "https://localhost:8080/"
        },
        "id": "pn9_6lDfPLWu",
        "outputId": "eb81428c-617b-46d1-d075-2cd4a9bf8e26"
      },
      "outputs": [
        {
          "data": {
            "text/plain": [
              "array([[1, 2, 3],\n",
              "       [4, 5, 6]])"
            ]
          },
          "execution_count": 64,
          "metadata": {},
          "output_type": "execute_result"
        }
      ],
      "source": [
        "arr2d[:2]"
      ]
    },
    {
      "cell_type": "markdown",
      "metadata": {
        "id": "ZYXhgwjFPOoG"
      },
      "source": [
        "Veim que ha seleccionat al llarg de l'eix 0, el primer eix. És útil interpretar l'expressió `arr2d[:2]` com \"seleccionar les primeres dues fileres d'`arr2d`\".\n",
        "\n",
        "Es poden passar múltiples seccions igual que es poden passar múltiples índexs."
      ]
    },
    {
      "cell_type": "code",
      "execution_count": null,
      "metadata": {
        "colab": {
          "base_uri": "https://localhost:8080/"
        },
        "id": "_ebbcEZwPhRQ",
        "outputId": "cca4d0a8-5629-4c39-e0b9-114221f0e854"
      },
      "outputs": [
        {
          "data": {
            "text/plain": [
              "array([[2, 3],\n",
              "       [5, 6]])"
            ]
          },
          "execution_count": 65,
          "metadata": {},
          "output_type": "execute_result"
        }
      ],
      "source": [
        "arr2d[:2, 1:]"
      ]
    },
    {
      "cell_type": "markdown",
      "metadata": {
        "id": "RbmoBT36PkTw"
      },
      "source": [
        "Quan se selecciona així, sempre s'obtenen vistes del mateix nombre de dimensions. Quan es mesclen índexs i seleccions, s'obtenen seleccions de dimensió més petita."
      ]
    },
    {
      "cell_type": "code",
      "execution_count": null,
      "metadata": {
        "colab": {
          "base_uri": "https://localhost:8080/"
        },
        "id": "4kylGyelRhKs",
        "outputId": "09451bd8-daf3-4c54-df23-9a36fce2665f"
      },
      "outputs": [
        {
          "data": {
            "text/plain": [
              "array([4, 5])"
            ]
          },
          "execution_count": 66,
          "metadata": {},
          "output_type": "execute_result"
        }
      ],
      "source": [
        "arr2d[1, :2]"
      ]
    },
    {
      "cell_type": "markdown",
      "metadata": {
        "id": "cKs47PfeTSuv"
      },
      "source": [
        "D'una forma semblant, podem seleccionar la tercera columna però només les primeres dues fileres així:"
      ]
    },
    {
      "cell_type": "code",
      "execution_count": null,
      "metadata": {
        "colab": {
          "base_uri": "https://localhost:8080/"
        },
        "id": "-KM3H4mwTZGX",
        "outputId": "eb0f22f9-d105-4752-90bc-388b2ab28a83"
      },
      "outputs": [
        {
          "data": {
            "text/plain": [
              "array([3, 6])"
            ]
          },
          "execution_count": 67,
          "metadata": {},
          "output_type": "execute_result"
        }
      ],
      "source": [
        "arr2d[:2, 2]"
      ]
    },
    {
      "cell_type": "markdown",
      "metadata": {
        "id": "MvNE3cD5Tflv"
      },
      "source": [
        "Quan es posen només els dos punts (:) significa l'eix sencer, de forma que podem seleccionar només eixos de dimensió més alta així:"
      ]
    },
    {
      "cell_type": "code",
      "execution_count": null,
      "metadata": {
        "colab": {
          "base_uri": "https://localhost:8080/"
        },
        "id": "S28NcqgoTo_B",
        "outputId": "1934e698-a066-4f15-a267-4ad9a047a1af"
      },
      "outputs": [
        {
          "data": {
            "text/plain": [
              "array([[1],\n",
              "       [4],\n",
              "       [7]])"
            ]
          },
          "execution_count": 68,
          "metadata": {},
          "output_type": "execute_result"
        }
      ],
      "source": [
        "arr2d[:,:1]"
      ]
    },
    {
      "cell_type": "markdown",
      "metadata": {
        "id": "bHGsTKKtTuDq"
      },
      "source": [
        "L'exemple anterior pren qualsevol filera (:) de les columnes abans de la 1."
      ]
    },
    {
      "cell_type": "markdown",
      "metadata": {
        "id": "KSzZbpBlUAyl"
      },
      "source": [
        "Naturalment, assignar a una expressió de selecció assigna a tota la selecció. El següent exemple assigna fins a la filera 2 des de la columna 1. Recordem que es comença a comptar des de 0."
      ]
    },
    {
      "cell_type": "code",
      "execution_count": null,
      "metadata": {
        "colab": {
          "base_uri": "https://localhost:8080/"
        },
        "id": "TIqK_OfZUTyl",
        "outputId": "e23833ed-d459-4f92-a728-03d831bd3c4c"
      },
      "outputs": [
        {
          "data": {
            "text/plain": [
              "array([[1, 0, 0],\n",
              "       [4, 0, 0],\n",
              "       [7, 8, 9]])"
            ]
          },
          "execution_count": 69,
          "metadata": {},
          "output_type": "execute_result"
        }
      ],
      "source": [
        "arr2d[:2, 1:] = 0\n",
        "arr2d"
      ]
    },
    {
      "cell_type": "markdown",
      "metadata": {
        "id": "Yj4G38zeUaGH"
      },
      "source": [
        "## Indexació booleana"
      ]
    },
    {
      "cell_type": "markdown",
      "metadata": {
        "id": "K4_w9JHJUd19"
      },
      "source": [
        "Considerem un exemple en què tenim unes dades en un vector i un vector de noms amb duplicats. Aquí farem servir la funció `randn` de `numpy.random` per generar dades que segueixen la distribució normal, gaussiana."
      ]
    },
    {
      "cell_type": "code",
      "execution_count": 29,
      "metadata": {
        "colab": {
          "base_uri": "https://localhost:8080/"
        },
        "id": "oltfOmS3UvT4",
        "outputId": "976a1d6d-70f6-44a3-de44-b02d365b8151"
      },
      "outputs": [
        {
          "data": {
            "text/plain": [
              "array(['Bob', 'Joe', 'Will', 'Bob', 'Will', 'Joe', 'Joe'], dtype='<U4')"
            ]
          },
          "execution_count": 29,
          "metadata": {},
          "output_type": "execute_result"
        }
      ],
      "source": [
        "names = np.array(['Bob','Joe','Will','Bob','Will','Joe','Joe'])\n",
        "data = np.random.randn(7,4) # 7 fileres, 4 columnes\n",
        "\n",
        "names"
      ]
    },
    {
      "cell_type": "code",
      "execution_count": 31,
      "metadata": {
        "colab": {
          "base_uri": "https://localhost:8080/"
        },
        "id": "E3IasFitVHS5",
        "outputId": "5a354e1d-468a-4b46-e2cf-d1f6417fce8f"
      },
      "outputs": [
        {
          "data": {
            "text/plain": [
              "array([[ 0.14680824, -1.02550592,  0.13009768, -0.12074684],\n",
              "       [ 1.2035884 ,  0.72739114,  0.41992154, -0.53143583],\n",
              "       [-0.25151511, -0.9901162 , -1.21596652,  0.4273099 ],\n",
              "       [-0.6022233 ,  0.49791957, -1.31792985,  0.03925397],\n",
              "       [ 0.00257582, -0.59875316,  1.72803375, -1.26257809],\n",
              "       [ 1.35866618,  0.64340454, -1.04910903,  0.9513003 ],\n",
              "       [ 0.15086963,  0.0966097 , -1.00327747, -0.97887275]])"
            ]
          },
          "execution_count": 31,
          "metadata": {},
          "output_type": "execute_result"
        }
      ],
      "source": [
        "data"
      ]
    },
    {
      "cell_type": "markdown",
      "metadata": {
        "id": "0reYq1t6VQ3q"
      },
      "source": [
        "Suposem que cada nom correspon a una filera al vector de dades i volem seleccionar totes les fileres que corresponen al nom \"Bob\". Igual com les operacions aritmètiques, les comparacions, com per exemple `==`, són vectoritzades. Per tant, comparar `names` amb la cadena `'Bob'` dona un vector booleà."
      ]
    },
    {
      "cell_type": "code",
      "execution_count": 32,
      "metadata": {
        "colab": {
          "base_uri": "https://localhost:8080/"
        },
        "id": "14N0JcimXIDm",
        "outputId": "885e07c4-4def-4087-b6d7-9c83843859be"
      },
      "outputs": [
        {
          "data": {
            "text/plain": [
              "array([ True, False, False,  True, False, False, False])"
            ]
          },
          "execution_count": 32,
          "metadata": {},
          "output_type": "execute_result"
        }
      ],
      "source": [
        "names == 'Bob'"
      ]
    },
    {
      "cell_type": "markdown",
      "metadata": {
        "id": "vzoBohoLXMxm"
      },
      "source": [
        "A més, aquest vector booleà es pot passar com a paràmetre per indexar el vector."
      ]
    },
    {
      "cell_type": "code",
      "execution_count": 33,
      "metadata": {
        "colab": {
          "base_uri": "https://localhost:8080/"
        },
        "id": "Qq-IGd9oXQ_v",
        "outputId": "fde1da89-5aae-4a3a-f306-bf2d406d7ef3"
      },
      "outputs": [
        {
          "data": {
            "text/plain": [
              "array([[ 0.14680824, -1.02550592,  0.13009768, -0.12074684],\n",
              "       [-0.6022233 ,  0.49791957, -1.31792985,  0.03925397]])"
            ]
          },
          "execution_count": 33,
          "metadata": {},
          "output_type": "execute_result"
        }
      ],
      "source": [
        "data[names=='Bob']"
      ]
    },
    {
      "cell_type": "markdown",
      "metadata": {
        "id": "tP6dd9jdXWXJ"
      },
      "source": [
        "Això sí, el vector booleà ha de ser de la mateixa mida que el vector que indexa. Fins i tot es poden combinar vectors booleans amb enters o seleccions.\n",
        "\n",
        "La selecció booleana no funciona si el vector booleà no és de la mida correcta."
      ]
    },
    {
      "cell_type": "markdown",
      "metadata": {
        "id": "J5szeMUGXpc5"
      },
      "source": [
        "En els exemples següents, seleccionam de les fileres on `names=='Bob'` i indexam també les columnes."
      ]
    },
    {
      "cell_type": "code",
      "execution_count": 34,
      "metadata": {
        "colab": {
          "base_uri": "https://localhost:8080/"
        },
        "id": "6li73DDwXwIp",
        "outputId": "0d2f2f4a-98ff-4449-bf9d-d7cde93cf102"
      },
      "outputs": [
        {
          "data": {
            "text/plain": [
              "array([[ 0.13009768, -0.12074684],\n",
              "       [-1.31792985,  0.03925397]])"
            ]
          },
          "execution_count": 34,
          "metadata": {},
          "output_type": "execute_result"
        }
      ],
      "source": [
        "data[names=='Bob', 2:]"
      ]
    },
    {
      "cell_type": "code",
      "execution_count": 35,
      "metadata": {
        "colab": {
          "base_uri": "https://localhost:8080/"
        },
        "id": "xPhZSCtQX5Hq",
        "outputId": "5c2b3715-b576-4163-f818-070f54938573"
      },
      "outputs": [
        {
          "data": {
            "text/plain": [
              "array([-0.12074684,  0.03925397])"
            ]
          },
          "execution_count": 35,
          "metadata": {},
          "output_type": "execute_result"
        }
      ],
      "source": [
        "data[names=='Bob',3]"
      ]
    },
    {
      "cell_type": "markdown",
      "metadata": {
        "id": "jDcadbC_X_iU"
      },
      "source": [
        "Per seleccionar-ho tot llevat de `'Bob'`, podem usar `!=` (és diferent de) o negar la condició amb `~` (no).\n",
        "(Si no ho heu fet abans, aquest caràcter es pot obtenir al teclat amb AltGr + 4)"
      ]
    },
    {
      "cell_type": "code",
      "execution_count": 37,
      "metadata": {
        "colab": {
          "base_uri": "https://localhost:8080/"
        },
        "id": "dN_F4zDFYQ8V",
        "outputId": "2f34f532-0ed5-428e-c3d8-0a586c77afb3"
      },
      "outputs": [
        {
          "data": {
            "text/plain": [
              "array([False,  True,  True, False,  True,  True,  True])"
            ]
          },
          "execution_count": 37,
          "metadata": {},
          "output_type": "execute_result"
        }
      ],
      "source": [
        "names != 'Bob'"
      ]
    },
    {
      "cell_type": "code",
      "execution_count": 38,
      "metadata": {
        "colab": {
          "base_uri": "https://localhost:8080/"
        },
        "id": "C5bDkUwAYUut",
        "outputId": "c799f5d3-232e-4bea-d2bd-8a7225da72ff"
      },
      "outputs": [
        {
          "data": {
            "text/plain": [
              "array([[ 1.2035884 ,  0.72739114,  0.41992154, -0.53143583],\n",
              "       [-0.25151511, -0.9901162 , -1.21596652,  0.4273099 ],\n",
              "       [ 0.00257582, -0.59875316,  1.72803375, -1.26257809],\n",
              "       [ 1.35866618,  0.64340454, -1.04910903,  0.9513003 ],\n",
              "       [ 0.15086963,  0.0966097 , -1.00327747, -0.97887275]])"
            ]
          },
          "execution_count": 38,
          "metadata": {},
          "output_type": "execute_result"
        }
      ],
      "source": [
        "data[~(names=='Bob')]"
      ]
    },
    {
      "cell_type": "markdown",
      "metadata": {
        "id": "1WKI_bf-Ywi4"
      },
      "source": [
        "Aquest operador de negació també pot ser útil quan es vol invertir una condició general."
      ]
    },
    {
      "cell_type": "code",
      "execution_count": 39,
      "metadata": {
        "colab": {
          "base_uri": "https://localhost:8080/"
        },
        "id": "Fs-Vj3VPY17h",
        "outputId": "4b06698b-1cc1-4083-f420-fe8e268ffdc9"
      },
      "outputs": [
        {
          "data": {
            "text/plain": [
              "array([[ 1.2035884 ,  0.72739114,  0.41992154, -0.53143583],\n",
              "       [-0.25151511, -0.9901162 , -1.21596652,  0.4273099 ],\n",
              "       [ 0.00257582, -0.59875316,  1.72803375, -1.26257809],\n",
              "       [ 1.35866618,  0.64340454, -1.04910903,  0.9513003 ],\n",
              "       [ 0.15086963,  0.0966097 , -1.00327747, -0.97887275]])"
            ]
          },
          "execution_count": 39,
          "metadata": {},
          "output_type": "execute_result"
        }
      ],
      "source": [
        "cond = names == 'Bob'\n",
        "data[~cond]"
      ]
    },
    {
      "cell_type": "markdown",
      "metadata": {
        "id": "w80uFstJZCz6"
      },
      "source": [
        "Podem seleccionar dos o tres noms per combinar condicions booleanes múltiples, amb els operadors lògics `&` (and) i `|` (or)."
      ]
    },
    {
      "cell_type": "code",
      "execution_count": 40,
      "metadata": {
        "colab": {
          "base_uri": "https://localhost:8080/"
        },
        "id": "-OMYalbNZSKS",
        "outputId": "a9c6fe6c-f91d-415a-acc4-6cac32b6f1d7"
      },
      "outputs": [
        {
          "data": {
            "text/plain": [
              "array([ True, False,  True,  True,  True, False, False])"
            ]
          },
          "execution_count": 40,
          "metadata": {},
          "output_type": "execute_result"
        }
      ],
      "source": [
        "mask = (names == 'Bob') | (names == 'Will')\n",
        "mask"
      ]
    },
    {
      "cell_type": "code",
      "execution_count": 41,
      "metadata": {
        "colab": {
          "base_uri": "https://localhost:8080/"
        },
        "id": "ZtMJIF0WZaeL",
        "outputId": "1b23b8ed-cb61-4b5f-8692-969104f12939"
      },
      "outputs": [
        {
          "data": {
            "text/plain": [
              "array([[ 0.14680824, -1.02550592,  0.13009768, -0.12074684],\n",
              "       [-0.25151511, -0.9901162 , -1.21596652,  0.4273099 ],\n",
              "       [-0.6022233 ,  0.49791957, -1.31792985,  0.03925397],\n",
              "       [ 0.00257582, -0.59875316,  1.72803375, -1.26257809]])"
            ]
          },
          "execution_count": 41,
          "metadata": {},
          "output_type": "execute_result"
        }
      ],
      "source": [
        "data[mask]"
      ]
    },
    {
      "cell_type": "markdown",
      "metadata": {
        "id": "l4Ioc6-eZeoe"
      },
      "source": [
        "Quan se seleccionesn dades d'un vector amb indexació booleana sempre es copien les dades, fins i tot si el vector que es retorna és el mateix.\n",
        "\n",
        "Les paraules reservades de Python `and` i `or` no funcionen amb vectors booleans. S'hi han de fer servir` &` i `|`.\n"
      ]
    },
    {
      "cell_type": "markdown",
      "metadata": {
        "id": "yTwcAv8sZ763"
      },
      "source": [
        "Es poden assignar valors amb vectors booleans. Per exemple, fixem tots els valors negatius al vector `data` a zero."
      ]
    },
    {
      "cell_type": "code",
      "execution_count": 44,
      "metadata": {
        "colab": {
          "base_uri": "https://localhost:8080/"
        },
        "id": "u-ZND1vqaGKY",
        "outputId": "3260c5c8-1275-4e24-c95f-42c62c324f0e"
      },
      "outputs": [
        {
          "data": {
            "text/plain": [
              "array([[0.14680824, 0.        , 0.13009768, 0.        ],\n",
              "       [1.2035884 , 0.72739114, 0.41992154, 0.        ],\n",
              "       [0.        , 0.        , 0.        , 0.4273099 ],\n",
              "       [0.        , 0.49791957, 0.        , 0.03925397],\n",
              "       [0.00257582, 0.        , 1.72803375, 0.        ],\n",
              "       [1.35866618, 0.64340454, 0.        , 0.9513003 ],\n",
              "       [0.15086963, 0.0966097 , 0.        , 0.        ]])"
            ]
          },
          "execution_count": 44,
          "metadata": {},
          "output_type": "execute_result"
        }
      ],
      "source": [
        "data[data<0] = 0\n",
        "data"
      ]
    },
    {
      "cell_type": "markdown",
      "metadata": {
        "id": "YtyTTn89b7s-"
      },
      "source": [
        "També es poden assignar fileres i columnes completes amb un vector booleà unidimensional.\n"
      ]
    },
    {
      "cell_type": "code",
      "execution_count": null,
      "metadata": {
        "colab": {
          "base_uri": "https://localhost:8080/"
        },
        "id": "P8euduxBcK2u",
        "outputId": "11a9d6a1-1989-45c4-d26b-2d6d85428bbc"
      },
      "outputs": [
        {
          "data": {
            "text/plain": [
              "array([[7.00000000e+00, 7.00000000e+00, 7.00000000e+00, 7.00000000e+00],\n",
              "       [6.75867593e-03, 4.19095828e-02, 0.00000000e+00, 9.64947026e-01],\n",
              "       [7.00000000e+00, 7.00000000e+00, 7.00000000e+00, 7.00000000e+00],\n",
              "       [7.00000000e+00, 7.00000000e+00, 7.00000000e+00, 7.00000000e+00],\n",
              "       [7.00000000e+00, 7.00000000e+00, 7.00000000e+00, 7.00000000e+00],\n",
              "       [8.80701567e-01, 0.00000000e+00, 0.00000000e+00, 2.11628128e+00],\n",
              "       [5.87318470e-01, 8.27490935e-01, 0.00000000e+00, 0.00000000e+00]])"
            ]
          },
          "execution_count": 82,
          "metadata": {},
          "output_type": "execute_result"
        }
      ],
      "source": [
        "data[names!='Joe'] = 7\n",
        "\n",
        "data"
      ]
    },
    {
      "cell_type": "markdown",
      "metadata": {
        "id": "hBurIjircTmu"
      },
      "source": [
        "Aquest tipus d'operacions bidimensionals és convenient fer-les amb la llibreria **`pandas`**."
      ]
    }
  ],
  "metadata": {
    "colab": {
      "provenance": []
    },
    "kernelspec": {
      "display_name": ".venv",
      "language": "python",
      "name": "python3"
    },
    "language_info": {
      "codemirror_mode": {
        "name": "ipython",
        "version": 3
      },
      "file_extension": ".py",
      "mimetype": "text/x-python",
      "name": "python",
      "nbconvert_exporter": "python",
      "pygments_lexer": "ipython3",
      "version": "3.12.3"
    }
  },
  "nbformat": 4,
  "nbformat_minor": 0
}
