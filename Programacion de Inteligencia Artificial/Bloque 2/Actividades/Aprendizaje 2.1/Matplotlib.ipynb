{
  "cells": [
    {
      "cell_type": "markdown",
      "metadata": {
        "id": "ea413maonQen"
      },
      "source": [
        "# matplotlib\n",
        "\n",
        "En aquest quadern veurem com realitzar gràfics en Python usant matplotlib.\n",
        "\n",
        "Per començar, importam la llibreria amb la convenció usual, que és dir-ne **plt**."
      ]
    },
    {
      "cell_type": "code",
      "execution_count": 1,
      "metadata": {
        "id": "EVaffu2nH13L"
      },
      "outputs": [],
      "source": [
        "import matplotlib.pyplot as plt"
      ]
    },
    {
      "cell_type": "markdown",
      "metadata": {
        "id": "puID_nRhnmMR"
      },
      "source": [
        "Importarem també **NumPy** com a **np**, per poder operar amb **ndarrays**."
      ]
    },
    {
      "cell_type": "code",
      "execution_count": 2,
      "metadata": {
        "id": "HDa7gVu6nuoO"
      },
      "outputs": [],
      "source": [
        "import numpy as np"
      ]
    },
    {
      "cell_type": "markdown",
      "metadata": {
        "id": "e89dZ_qMnxaj"
      },
      "source": [
        "Cream un vector de zero a nou."
      ]
    },
    {
      "cell_type": "code",
      "execution_count": null,
      "metadata": {
        "colab": {
          "base_uri": "https://localhost:8080/"
        },
        "id": "fkF55fTZn4G5",
        "outputId": "d4bf25df-c234-4d37-b435-b9bb3025e20b"
      },
      "outputs": [],
      "source": [
        "data = np.arange(10)\n",
        "data"
      ]
    },
    {
      "cell_type": "markdown",
      "metadata": {
        "id": "FLp5TxFYn_OR"
      },
      "source": [
        "El representam gràficament."
      ]
    },
    {
      "cell_type": "code",
      "execution_count": null,
      "metadata": {
        "colab": {
          "base_uri": "https://localhost:8080/",
          "height": 447
        },
        "id": "s1xA_--UoBiT",
        "outputId": "ddae78fc-c121-46a1-e71c-9ab88b8a8e17"
      },
      "outputs": [],
      "source": [
        "plt.plot(data)"
      ]
    },
    {
      "cell_type": "markdown",
      "metadata": {
        "id": "2223lumOTe7O"
      },
      "source": [
        "Tenim moltes opcions per personalitzar el nostre gràfic.\n",
        "\n",
        "Per exemple, podem posar-hi un marcador per a cada punt de la recta, canviar el color, a més de posar-li un títol al gràcic i una etiqueta als eixos.\n",
        "\n",
        "Més endavant veurem com podem afegir aquests elements no directament al plot, sinó a zones (subplots) que hàgim definit a dins."
      ]
    },
    {
      "cell_type": "code",
      "execution_count": null,
      "metadata": {
        "colab": {
          "base_uri": "https://localhost:8080/",
          "height": 497
        },
        "id": "NuEPqCdFTj8c",
        "outputId": "c80177af-a1e5-44e9-c673-0962001743b0"
      },
      "outputs": [],
      "source": [
        "plt.title(\"Recta amb pendent 1\", fontsize = 20, loc=\"right\", color=\"r\")\n",
        "plt.xlabel(\"Eix X\")\n",
        "plt.ylabel(\"Eix Y\")\n",
        "plt.plot(data, marker='o', color='r')"
      ]
    },
    {
      "cell_type": "markdown",
      "metadata": {
        "id": "DhZ3YL0poQow"
      },
      "source": [
        "Llibreries com **seaborn** o les funcions gràfiques de **pandas** gestionen molts dels detalls de la realització de gràfics. No obstant això, si volem anar una mica més enllà de les opcions que ofereixen, haurem d'entrar dins l'API de **matplotlib**."
      ]
    },
    {
      "cell_type": "markdown",
      "metadata": {
        "id": "Q_Z9qbfQolpE"
      },
      "source": [
        "## Figures i subplots\n",
        "\n",
        "En matplotlib, els gràfics sempre són dins un objecte **Figure**. Es pot crear una nova figura amb `plt.figure`."
      ]
    },
    {
      "cell_type": "code",
      "execution_count": null,
      "metadata": {
        "colab": {
          "base_uri": "https://localhost:8080/",
          "height": 34
        },
        "id": "Bz1arDqOoy9R",
        "outputId": "d3247143-868d-4f22-d1e6-3410a28e43d9"
      },
      "outputs": [],
      "source": [
        "fig = plt.figure()"
      ]
    },
    {
      "cell_type": "markdown",
      "metadata": {
        "id": "dMlYhASQo5uK"
      },
      "source": [
        "Quan executam la cel·la anterior, veim la informació que s'ha creat una figura, però encara no la tenim representada gràficament. Faran falta un parell de comandes més.\n",
        "\n",
        "`plt.figure` té una sèrie d'opcions. En particular, `figsize` controlarà la mida i relació d'aspecte de la imatge quan s'emmagatzemi al disc.\n",
        "\n",
        "No podem fer cap gràfic amb una figura en blanc. Haurem d'afegir-hi qualque **subplot** amb `add_subplot`."
      ]
    },
    {
      "cell_type": "code",
      "execution_count": null,
      "metadata": {
        "colab": {
          "base_uri": "https://localhost:8080/",
          "height": 234
        },
        "id": "IRneWYMJpp3-",
        "outputId": "a58a5838-8e2f-4be5-9568-ff3666b0df94"
      },
      "outputs": [],
      "source": [
        "fig = plt.figure()\n",
        "ax1 = fig.add_subplot(2,2,1)\n"
      ]
    },
    {
      "cell_type": "markdown",
      "metadata": {
        "id": "tsgG6mDbpuP_"
      },
      "source": [
        "La cel·la anterior indica que la figura contindrà 2x2 subplots, i estam definint-ne el primer.\n",
        "\n",
        "A continuació en construirem dos més, els 2 i 3. Quedarà en blanc la regió corresponent al subplot 4."
      ]
    },
    {
      "cell_type": "code",
      "execution_count": null,
      "metadata": {
        "colab": {
          "base_uri": "https://localhost:8080/",
          "height": 435
        },
        "id": "X2PQWBXApth_",
        "outputId": "69783bf9-3756-4110-f781-b69412df21ad"
      },
      "outputs": [],
      "source": [
        "fig = plt.figure()\n",
        "ax1 = fig.add_subplot(2,2,1)\n",
        "ax2 = fig.add_subplot(2,2,2)\n",
        "ax3 = fig.add_subplot(2,2,3)"
      ]
    },
    {
      "cell_type": "markdown",
      "metadata": {
        "id": "ABDi6yjdqPni"
      },
      "source": [
        "Amb la cel·la següent, definim un histograma (al mòdul de Sistemes de Big Data veim més detalls sobre què és un histograma) amb 20 classes o intervals (bins), un nigul de punts al voltant d'una recta, i un random walk."
      ]
    },
    {
      "cell_type": "code",
      "execution_count": null,
      "metadata": {
        "colab": {
          "base_uri": "https://localhost:8080/",
          "height": 447
        },
        "id": "aFEpWBtAqSqa",
        "outputId": "7be0bd97-e090-4c88-f2ec-86efae77dfdd"
      },
      "outputs": [],
      "source": [
        "fig = plt.figure()\n",
        "ax1 = fig.add_subplot(2,2,1)\n",
        "ax2 = fig.add_subplot(2,2,2)\n",
        "ax3 = fig.add_subplot(2,2,3)\n",
        "\n",
        "_ = ax1.hist(np.random.randn(100), bins = 20, color = 'k', alpha= 0.3)\n",
        "ax2.scatter(np.arange(30), np.arange(30) + 3 * np.random.randn(30))\n",
        "ax3.plot(np.random.randn(50).cumsum(),'k--')"
      ]
    },
    {
      "cell_type": "markdown",
      "metadata": {
        "id": "AhQ-rTBUse92"
      },
      "source": [
        "Crear una figura amb una graella de subgràfics és una tasca molt freqüent. Per això hi ha el mètode `plt.subplots`, que crea una nova figura i retorna un vector NumPy amb els subplots que s'han creat."
      ]
    },
    {
      "cell_type": "code",
      "execution_count": null,
      "metadata": {
        "colab": {
          "base_uri": "https://localhost:8080/",
          "height": 430
        },
        "id": "z5rXSTCkswDt",
        "outputId": "75c0cd83-fedc-49ca-dc60-b2d3a56ce9d9"
      },
      "outputs": [],
      "source": [
        "#Equival a les quatre primeres línies de la cel·la anterior\n",
        "fig, axes = plt.subplots(2,2)\n",
        "\n",
        "# Random walk.\n",
        "# La funció randn extreu d'una gaussiana.\n",
        "# cumsum calcula la suma acumulada\n",
        "axes[1,0].plot(np.random.randn(50).cumsum(),'k--')\n",
        "\n",
        "# recta y=x amb un soroll gaussià\n",
        "axes[0,1].scatter(np.arange(30),np.arange(30)+3*np.random.randn(30))\n",
        "\n",
        "# Capturam el retorn per evitar que mostri les dades.\n",
        "# Podeu experimentar què passa si llevam l'assignació.\n",
        "_ = axes[0,0].hist(np.random.randn(100), bins = 20, color = 'k', alpha= 0.3)\n"
      ]
    },
    {
      "cell_type": "markdown",
      "metadata": {
        "id": "agG6auIE1F7w"
      },
      "source": [
        "Això és molt útil, ja que es pot indexar axes com a vector bidimensional. També es pot indicar que els subplots han de tenir el mateix eix x o y amb sharex o sharey, respectivament. Això és especialment important quan es comparne dades de la mateixa escala. Si no ho feim així, matplotlib autoescala els límits de cada gràfic independentment.\n",
        "\n",
        "Opcions de subplot\n",
        "\n",
        "|Argument|Descripció|\n",
        "|--------|----------|\n",
        "|nrows|nombre de fileres de subgràfics|\n",
        "|ncols|nombre de columnes de subgràfics|\n",
        "|sharex|Tots els gràfics compartiran les mateixes marques a l'eix x|\n",
        "|sharey|Tots els gràfics compartiran les mateixes marques a l'eix y|\n",
        "|subplot_kw|Dict de keywords que es passen a add_subplot per crear cada subgràfic|\n",
        "|**fig_kw|Keywords addicionals quan es crea la figura, com ara `plt.subplots(2,2,figsize=(8,6))`|\n"
      ]
    },
    {
      "cell_type": "markdown",
      "metadata": {
        "id": "fJAfKiI22roS"
      },
      "source": [
        "## Marges al voltant dels gràfics\n",
        "\n",
        "Per defecte matplotlib deixa un cert farciment (*padding*) al voltant dels conjunt dels gràfics i també un espai entre els gràfics. Aquests espais s'especifiquen en relació a l'alçada i amplada del gràfic, de forma que si es reajusta el plot tant per programa com per la interfície d'usuari, el gràfic s'hi adaptarà dinàmicament. Es pot modificar l'espai amb el mètode subplots_adjust de l'objecte Figure, que també està disponible com a funció independent.\n",
        "\n",
        "`subplots_adjust(left=None, bottom=None, right=None, top=None, wspace=None,hspace=None)`\n",
        "\n",
        "Els paràmetres `wspace` i `hspace` controlen el percentatge de l'amplada i l'alçada de la figura que s'utilitzarà com a espai entre els subgràfics. A l'exemple següent, aquest espai es redueix a zero. Podeu modificar-lo per posar-hi més espai. Per exemple, `wspace=.125` correspomdrà a un 12,5%."
      ]
    },
    {
      "cell_type": "code",
      "execution_count": null,
      "metadata": {
        "colab": {
          "base_uri": "https://localhost:8080/",
          "height": 430
        },
        "id": "X5JTPeWo4UQl",
        "outputId": "e8f2906d-93e2-4338-b3b3-a0c24b218b52"
      },
      "outputs": [],
      "source": [
        "fig, axes = plt.subplots(2, 2, sharex=True, sharey=True)\n",
        "for i in range(2):\n",
        "    for j in range(2):\n",
        "        axes[i, j].hist(np.random.randn(500), bins=50, color='k', alpha=0.5)\n",
        "plt.subplots_adjust(wspace=0, hspace=0)"
      ]
    },
    {
      "cell_type": "markdown",
      "metadata": {
        "id": "rVCO9P5rcX3Q"
      },
      "source": [
        "De vegades, però, ens pot interessar canviar la mida de tota la figura que volem representar, mitjançant els mètodes set_figheight i set_figwidth de la figura (en polzades):"
      ]
    },
    {
      "cell_type": "code",
      "execution_count": null,
      "metadata": {
        "colab": {
          "base_uri": "https://localhost:8080/",
          "height": 830
        },
        "id": "gdUsXPHZchL-",
        "outputId": "c5fd1876-b89c-4533-c402-08bee69f2e77"
      },
      "outputs": [],
      "source": [
        "fig, axes = plt.subplots(2, 2, sharex=True, sharey=True)\n",
        "for i in range(2):\n",
        "    for j in range(2):\n",
        "        axes[i, j].hist(np.random.randn(500), bins=50, color='k', alpha=0.5)\n",
        "plt.subplots_adjust(wspace=0, hspace=0)\n",
        "fig.set_figheight(10)\n",
        "fig.set_figwidth(10)"
      ]
    },
    {
      "cell_type": "markdown",
      "metadata": {
        "id": "z-3uxZ0k5Mgo"
      },
      "source": [
        "## Colors, marcadors i estils de línia\n",
        "\n",
        "La funció principal de **matplotlib**, `plot`, accepta vectors de coordenades `x` i `y`; opcionalment, també una cadena abreviada que indica el color i estil de línia.\n",
        "\n",
        "Per exemple, la següent cel·la fa un gràfic verd amb línia discontínua."
      ]
    },
    {
      "cell_type": "code",
      "execution_count": null,
      "metadata": {
        "colab": {
          "base_uri": "https://localhost:8080/",
          "height": 447
        },
        "id": "rnLS5ig75G6V",
        "outputId": "c6b65f88-4cad-4af3-c00d-a0ad31af3919"
      },
      "outputs": [],
      "source": [
        "x=range(30)\n",
        "y=np.random.randn(30).cumsum()\n",
        "plt.plot(x,y,'g--')"
      ]
    },
    {
      "cell_type": "markdown",
      "metadata": {
        "id": "8w1iikxS6Idb"
      },
      "source": [
        "Es pot aconseguir el mateix escrivint-ho de forma més explícita."
      ]
    },
    {
      "cell_type": "code",
      "execution_count": null,
      "metadata": {
        "colab": {
          "base_uri": "https://localhost:8080/",
          "height": 447
        },
        "id": "8a0_RphG6LYS",
        "outputId": "947ef408-13b5-48c6-d1ed-d7283a045008"
      },
      "outputs": [],
      "source": [
        "plt.plot(range(30),np.random.randn(30).cumsum(), color='mediumpurple', linestyle='--')"
      ]
    },
    {
      "cell_type": "markdown",
      "metadata": {
        "id": "f5uGJog275l0"
      },
      "source": [
        "Hi ha una sèrie d'abreviatures per als colors més habituals, i a més sempre podem indicar el color mitjançant el codi hexa."
      ]
    },
    {
      "cell_type": "markdown",
      "metadata": {
        "id": "QEBld7WK97uw"
      },
      "source": [
        "Una paleta molt bàsica de vuit colors la formen els tres primaris, tres secundaris, més el blanc i el negre.\n",
        "\n",
        "|Abreviatura de color| color|\n",
        "|--------------------| -----|\n",
        "|r|vermell|\n",
        "|g|verd|\n",
        "|b|blau|\n",
        "|y|groc|\n",
        "|m|magenta|\n",
        "|c|cian|\n",
        "|w|blanc|\n",
        "|k|negre|\n",
        "\n"
      ]
    },
    {
      "cell_type": "markdown",
      "metadata": {
        "id": "NhSeNOch-1aH"
      },
      "source": [
        "La cel·la següent ens mostra la seva expressió en components R, G i B, en tant per u. Observem que el verd només té el 50% de verd, més suau, i no el 100%."
      ]
    },
    {
      "cell_type": "code",
      "execution_count": null,
      "metadata": {
        "colab": {
          "base_uri": "https://localhost:8080/"
        },
        "id": "SMARePgc8TYZ",
        "outputId": "41bb1526-188f-4448-d197-4b1bedd04f11"
      },
      "outputs": [],
      "source": [
        "import matplotlib.colors as mcolors\n",
        "\n",
        "print(mcolors.BASE_COLORS)"
      ]
    },
    {
      "cell_type": "markdown",
      "metadata": {
        "id": "KnGW9m7A-QHK"
      },
      "source": [
        "Si volem una paleta més matisada, hi ha també disponible la paleta següent.\n",
        "\n"
      ]
    },
    {
      "cell_type": "code",
      "execution_count": null,
      "metadata": {
        "colab": {
          "base_uri": "https://localhost:8080/"
        },
        "id": "POYTUa7N9E8d",
        "outputId": "9c847e6c-b6b8-48f3-9e5d-e95e6aa67396"
      },
      "outputs": [],
      "source": [
        "print(mcolors.TABLEAU_COLORS)"
      ]
    },
    {
      "cell_type": "markdown",
      "metadata": {
        "id": "Woj-zjURSIur"
      },
      "source": [
        "Aquí podeu ampliar la informació sobre [colors](https://matplotlib.org/stable/gallery/color/named_colors.html)."
      ]
    },
    {
      "cell_type": "markdown",
      "metadata": {
        "id": "RjG9KSUwJHvn"
      },
      "source": [
        "A més dels colors, els gràfics poden tenir **marcadors** per destacar els punts de dades. Com que matplotlib crea una línia contínua, interpolant entre els punts, de vegades no queda clar on hi ha els punts que corresponen a les dades. El marcador pot ser part de la cadena de l'estil, que tindrà color, marcador i estil de línia, en aquest ordre.\n",
        "\n",
        "Per exemple, la cel·la següent crea una línia verda, amb cercles als punts i línia discontínua."
      ]
    },
    {
      "cell_type": "code",
      "execution_count": null,
      "metadata": {
        "colab": {
          "base_uri": "https://localhost:8080/",
          "height": 448
        },
        "id": "O16i3WA4Jl6y",
        "outputId": "daa25550-759f-4120-d066-af04869d8548"
      },
      "outputs": [],
      "source": [
        "from numpy.random import randn\n",
        "plt.plot(randn(30).cumsum(),'go--')"
      ]
    },
    {
      "cell_type": "markdown",
      "metadata": {
        "id": "yJdCa7CFJ0qk"
      },
      "source": [
        "Podríem haver escrit el mateix de forma més explícita."
      ]
    },
    {
      "cell_type": "code",
      "execution_count": null,
      "metadata": {
        "colab": {
          "base_uri": "https://localhost:8080/",
          "height": 447
        },
        "id": "pzGf7weeJ0SK",
        "outputId": "237e69d3-35f2-4728-e70c-f5d6f4407734"
      },
      "outputs": [],
      "source": [
        "plt.plot(randn(30).cumsum(),color='g',marker='o', linestyle='dashed')"
      ]
    },
    {
      "cell_type": "markdown",
      "metadata": {
        "id": "EvuKwEMyKICz"
      },
      "source": [
        "En els gràfics de línies, els punts s'interpolen linealment, per defecte. Això es pot modificar amb l'opció `drawstyle`."
      ]
    },
    {
      "cell_type": "code",
      "execution_count": null,
      "metadata": {
        "colab": {
          "base_uri": "https://localhost:8080/",
          "height": 447
        },
        "id": "M9AGrGE3KPnc",
        "outputId": "c3e1a68b-0e73-49ab-e40a-8b4a522d87c7"
      },
      "outputs": [],
      "source": [
        "y=np.random.randn(50).cumsum()\n",
        "\n",
        "plt.plot(y, 'k--', label='Per defecte')\n",
        "plt.plot(y, 'k-', drawstyle = 'steps-post', label='steps-post')\n",
        "\n",
        "#Aquesta opció situa la llegenda al millor lloc possible, segons el gràfic.\n",
        "#Executau la cel·la diverses vegades per observar quin efecte té.\n",
        "plt.legend(loc='best')"
      ]
    },
    {
      "cell_type": "markdown",
      "metadata": {
        "id": "yzrEGzFbLANA"
      },
      "source": [
        "## Marques dels eixos, etiquetes i llegendes\n",
        "\n",
        "La majoria d'opcions dels gràfics es poden aconseguir de dues formes: usant la interfície procedural `pyplot` (matplotlib.pyplot) i l'API matplotlib nativa, més orientada a objectes.\n",
        "\n",
        "La interfície pyplot, dissenyada per a l'ús interactiu, té mètodes com `xlim`, `xticks` i `xticklabels`. Es poden usar de dues formes:\n",
        "\n",
        "\n",
        "*   Cridats sense arguments, retornen el valor actual del paràmetre (per exemple, plt.xlim() retorna el rang de l'eix x).\n",
        "*   Cridats amb arguments, fixen els valors dels paràmetres (per exemple plt.xlim([0,10]) fixarà el rang de l'eix x entre 0 i 10.\n",
        "\n",
        "Tots aquests mètodes actuen sobre l'AxesSubplot actiu o més recent. Cada un correspon a dos mètodes de l'objecte subplot mateix; en el cas de `xlim` són `ax.get_xlim` i `ax.set_xlim`. Quan treballam amb molts de subgràfics, pot ser més pràctic usar els mètodes de les instàncies de cada subplot, per claredat."
      ]
    },
    {
      "cell_type": "markdown",
      "metadata": {
        "id": "_w-Om06NM-um"
      },
      "source": [
        "## Títol, marques d'eixos i etiquetes\n",
        "\n",
        "Creem un gràfic d'un camí aleatori de 1000 passes."
      ]
    },
    {
      "cell_type": "code",
      "execution_count": null,
      "metadata": {
        "colab": {
          "base_uri": "https://localhost:8080/",
          "height": 447
        },
        "id": "yjSljgxiNqjK",
        "outputId": "6d66fe84-20f1-44d9-de12-311a4a858c79"
      },
      "outputs": [],
      "source": [
        "fig = plt.figure()\n",
        "ax = fig.add_subplot(1, 1, 1)\n",
        "_ = ax.plot(np.random.randn(1000).cumsum())"
      ]
    },
    {
      "cell_type": "markdown",
      "metadata": {
        "id": "xDmg2baoN2ci"
      },
      "source": [
        "Ara substituirem els nombres de l'eix de les x per uns textos que descriguin una mena d'etapa, per exemple: zero, u, dos, tres, quatre i cinc."
      ]
    },
    {
      "cell_type": "code",
      "execution_count": null,
      "metadata": {
        "colab": {
          "base_uri": "https://localhost:8080/",
          "height": 446
        },
        "id": "pA-8kGDlOBIq",
        "outputId": "8a087f7e-26ec-4595-f91c-1fbd8277f6ca"
      },
      "outputs": [],
      "source": [
        "fig = plt.figure()\n",
        "ax = fig.add_subplot(1, 1, 1)\n",
        "ax.plot(np.random.randn(1000).cumsum())\n",
        "ticks = ax.set_xticks([0, 250, 500, 750, 1000])\n",
        "labels = ax.set_xticklabels(['zero','u', 'dos', 'tres', 'quatre'], rotation=30, fontsize='small')\n"
      ]
    },
    {
      "cell_type": "markdown",
      "metadata": {
        "id": "vHL9vkIIO2aa"
      },
      "source": [
        "Finalment, afegim un títol al gràfic, a dalt, i un altre com a llegenda de l'eix x, a baix."
      ]
    },
    {
      "cell_type": "code",
      "execution_count": null,
      "metadata": {
        "colab": {
          "base_uri": "https://localhost:8080/",
          "height": 489
        },
        "id": "-J110FECPAX6",
        "outputId": "b296709a-6a95-4789-ba32-c5b66751a1c7"
      },
      "outputs": [],
      "source": [
        "fig = plt.figure()\n",
        "ax = fig.add_subplot(1, 1, 1)\n",
        "ax.plot(np.random.randn(1000).cumsum())\n",
        "ticks = ax.set_xticks([0, 250, 500, 750, 1000])\n",
        "labels = ax.set_xticklabels(['zero','u', 'dos', 'tres', 'quatre'], rotation=30, fontsize='small')\n",
        "ax.set_title('El meu primer gràfic de matplotlib')\n",
        "_=ax.set_xlabel('Etapes')"
      ]
    },
    {
      "cell_type": "markdown",
      "metadata": {
        "id": "nmUAyxBIPZWs"
      },
      "source": [
        "Per a l'eix y, es pot fer el mateix (ho podeu provar a qualsevol cel·la de codi, o creant-ne una altra).\n",
        "\n",
        "També hi ha un mètode set que permet posar totes les propietats de cop. Per a l'exemple d'abans, ho hauríem pogut fer també així."
      ]
    },
    {
      "cell_type": "code",
      "execution_count": null,
      "metadata": {
        "colab": {
          "base_uri": "https://localhost:8080/",
          "height": 489
        },
        "id": "ljO0S8nOPvxW",
        "outputId": "fed36343-b72d-4415-8d3c-f45fc6a7f13a"
      },
      "outputs": [],
      "source": [
        "fig = plt.figure()\n",
        "ax = fig.add_subplot(1, 1, 1)\n",
        "ax.plot(np.random.randn(1000).cumsum())\n",
        "ticks = ax.set_xticks([0, 250, 500, 750, 1000])\n",
        "labels = ax.set_xticklabels(['zero','u', 'dos', 'tres', 'quatre'], rotation=30, fontsize='small')\n",
        "\n",
        "props = {\n",
        "    'title': 'El meu primer gràfic de matplotlib',\n",
        "    'xlabel': 'Etapes',\n",
        "}\n",
        "_=ax.set(**props)\n"
      ]
    },
    {
      "cell_type": "markdown",
      "metadata": {
        "id": "W9f6Ugn8Q0ys"
      },
      "source": [
        "## Llegendes\n",
        "\n",
        "Les llegendes són un element important a l'hora d'identificar gràfics. La manera més senzilla de posar-les és com a paràmetre al moment de generar el gràfic. Per exemple, a continuació generam tres camins aleatoris amb colors de línia diferents, que distingirem justament per la llegenda."
      ]
    },
    {
      "cell_type": "code",
      "execution_count": null,
      "metadata": {
        "colab": {
          "base_uri": "https://localhost:8080/",
          "height": 447
        },
        "id": "KN-j2HBsRGyn",
        "outputId": "c845e307-e93a-4314-9f37-e3311d74be0f"
      },
      "outputs": [],
      "source": [
        "from numpy.random import randn\n",
        "\n",
        "fig = plt.figure(); ax = fig.add_subplot(1, 1, 1)\n",
        "\n",
        "ax.plot(randn(1000).cumsum(), 'tab:red', label='u')\n",
        "ax.plot(randn(1000).cumsum(), 'tab:green', label='dos')\n",
        "ax.plot(randn(1000).cumsum(), 'tab:orange', label='tres')\n",
        "\n",
        "ax.legend(loc='best')\n"
      ]
    },
    {
      "cell_type": "markdown",
      "metadata": {
        "id": "ZPfKwKLfRqyR"
      },
      "source": [
        "Hi ha més opcions per a la posició de la llegenda; les podeu consultar [aquí](https://matplotlib.org/stable/api/_as_gen/matplotlib.pyplot.legend.html)."
      ]
    },
    {
      "cell_type": "markdown",
      "metadata": {
        "id": "UmOZBr7GSxwx"
      },
      "source": [
        "# Anotacions i dibuixos en un subgràfic"
      ]
    },
    {
      "cell_type": "markdown",
      "metadata": {
        "id": "Htard6VbYgFq"
      },
      "source": [
        "A l'exemple següent marcam tres esdeveniments importants sobre el gràfic de l'índex S&P500 de la borsa dels Estats Units. Per això feim servir les anotacions, amb el mètode `annotate`.\n",
        "\n",
        "Observem com les dades dels tres punts crítics s'empaqueten en una llista de tuples, i com les propietats de les fletxes són una estructura de dades diccionari (`dict`)."
      ]
    },
    {
      "cell_type": "code",
      "execution_count": null,
      "metadata": {
        "colab": {
          "base_uri": "https://localhost:8080/",
          "height": 489
        },
        "id": "PVNk0kiNSxMa",
        "outputId": "62dd5c09-b6b0-432e-c2a4-2cda4645e167"
      },
      "outputs": [],
      "source": [
        "import pandas as pd\n",
        "from datetime import datetime\n",
        "\n",
        "fig = plt.figure()\n",
        "ax = fig.add_subplot(1, 1, 1)\n",
        "\n",
        "data = pd.read_csv('https://raw.githubusercontent.com/datasets/s-and-p-500/master/data/data.csv',index_col=0,parse_dates=True)\n",
        "spx=data['SP500']\n",
        "\n",
        "# Ensure the index (dates) is sorted in ascending order # ! CHATGPT\n",
        "spx = spx.sort_index()\n",
        "\n",
        "spx.plot(ax=ax, style='k-')\n",
        "\n",
        "crisis_data = [\n",
        "    (datetime(2007, 10, 11), 'Peak of bull market'),\n",
        "    (datetime(2008, 3, 12), 'Bear Stearns Fails'),\n",
        "    (datetime(2008, 9, 15), 'Lehman Bankruptcy')\n",
        "]\n",
        "\n",
        "for date, label in crisis_data:\n",
        "    ax.annotate(\n",
        "        label,\n",
        "        xy=(date, spx.asof(date) + 75),\n",
        "        xytext=(date, spx.asof(date) + 225),\n",
        "        arrowprops=dict(facecolor='black', headwidth=4, width=2, headlength=4),\n",
        "        horizontalalignment='left',\n",
        "        verticalalignment='top'\n",
        "    )\n",
        "# Zoom in on 2007-2010\n",
        "\n",
        "ax.set_xlim(['1/1/2007', '1/1/2011'])\n",
        "ax.set_ylim([600, 1800])\n",
        "ax.set_title('Important dates in the 2008-2009 financial crisis')"
      ]
    },
    {
      "cell_type": "markdown",
      "metadata": {
        "id": "Xo6tzm8vZAn1"
      },
      "source": [
        "En ocasions, ens pot interessar afegir dibuixos geomètrics als gràfics de matplotlib. Aquí presentam un exemple amb figures senzilles. Observem que el cercle es mostra com una el·lipse, a causa de l'estirament diferent dels eixos x i y."
      ]
    },
    {
      "cell_type": "code",
      "execution_count": null,
      "metadata": {
        "colab": {
          "base_uri": "https://localhost:8080/",
          "height": 452
        },
        "id": "kWJb6mcuYcTP",
        "outputId": "5c0bbacf-5441-460f-9d0b-da733b506866"
      },
      "outputs": [],
      "source": [
        "fig = plt.figure()\n",
        "ax = fig.add_subplot(1, 1, 1)\n",
        "rect = plt.Rectangle((0.2, 0.75), 0.4, 0.15, color='k', alpha=0.3)\n",
        "circ = plt.Circle((0.7, 0.2), 0.15, color='b', alpha=0.3)\n",
        "pgon = plt.Polygon([[0.15, 0.15], [0.35, 0.4], [0.2, 0.6]],\n",
        "color='g', alpha=0.5)\n",
        "ax.add_patch(rect)\n",
        "ax.add_patch(circ)\n",
        "ax.add_patch(pgon)"
      ]
    },
    {
      "cell_type": "markdown",
      "metadata": {
        "id": "IC5HDfDSZhio"
      },
      "source": [
        "# Emmagatzemar els fitxers a disc\n",
        "\n",
        "Es pot desar la figura actual a disc usant plt.savefig. Aquest mètode és equivalent al mètode d'instància savefig en l'objecte de la figura."
      ]
    },
    {
      "cell_type": "markdown",
      "metadata": {
        "id": "D2W1DQFeN9W2"
      },
      "source": [
        "Com que estam fent feina als servidors de Google, tenim dues opcions per guardar el ftxer.\n",
        "\n",
        "1) Podem descarregar el fitxer amb el mètode files.download\n",
        "\n",
        "2) Podem muntar la nostra unitat de Google Drive i guardar-lo allà"
      ]
    },
    {
      "cell_type": "markdown",
      "metadata": {
        "id": "nl2gpdmLOfRM"
      },
      "source": [
        "Opció 1:"
      ]
    },
    {
      "cell_type": "code",
      "execution_count": null,
      "metadata": {
        "colab": {
          "base_uri": "https://localhost:8080/",
          "height": 17
        },
        "id": "TqZwtdjXHnGF",
        "outputId": "45348b70-6f1e-4cd2-f73d-79d76a2b0115"
      },
      "outputs": [],
      "source": [
        "from google.colab import files\n",
        "fig.savefig(\"imatge.png\")\n",
        "files.download(\"imatge.png\")"
      ]
    },
    {
      "cell_type": "markdown",
      "metadata": {
        "id": "QQJAlcaiRAj2"
      },
      "source": [
        "Opció 2:"
      ]
    },
    {
      "cell_type": "code",
      "execution_count": null,
      "metadata": {
        "colab": {
          "base_uri": "https://localhost:8080/"
        },
        "id": "wigsJe_tH-Xs",
        "outputId": "83c733bf-7d44-481a-e845-75213d8b39de"
      },
      "outputs": [],
      "source": [
        "#montam la nostra unitat de Google Drive\n",
        "from google.colab import drive\n",
        "drive.mount('/content/gdrive')\n",
        "\n",
        "#Guardam la imatge a l'arrel de la nostra unitat\n",
        "images_dir = '/content/gdrive/My Drive'\n",
        "fig.savefig(f\"{images_dir}/imatge.png\")"
      ]
    }
  ],
  "metadata": {
    "colab": {
      "provenance": []
    },
    "kernelspec": {
      "display_name": ".venv",
      "language": "python",
      "name": "python3"
    },
    "language_info": {
      "codemirror_mode": {
        "name": "ipython",
        "version": 3
      },
      "file_extension": ".py",
      "mimetype": "text/x-python",
      "name": "python",
      "nbconvert_exporter": "python",
      "pygments_lexer": "ipython3",
      "version": "3.12.3"
    }
  },
  "nbformat": 4,
  "nbformat_minor": 0
}
