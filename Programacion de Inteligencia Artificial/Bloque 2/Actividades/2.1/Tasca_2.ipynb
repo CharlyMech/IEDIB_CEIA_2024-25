{
  "nbformat": 4,
  "nbformat_minor": 0,
  "metadata": {
    "colab": {
      "provenance": []
    },
    "kernelspec": {
      "name": "python3",
      "display_name": "Python 3"
    },
    "language_info": {
      "name": "python"
    }
  },
  "cells": [
    {
      "cell_type": "markdown",
      "source": [
        "# Programació d'intel·ligència artificial. Tasca del Lliurament 2\n",
        "\n",
        "Aquest és l'enunciat de la tasca del segon lliurament de Programació d'Intel·ligència Artificial. Es refereix a les tres llibreries que hi hem tractat: **NumPy**, **pandas**, i **matplotlib**. Consta de tres blocs corresponents a cada una de les llibreries. Cada bloc val un terç de la nota de la tasca.\n",
        "\n",
        "Quan hàgiu acabat de realitzar la tasca, davallau el document .ipynb (menú File, opció Download) i lliurau-lo dins el Moodle de l'aula virtual.\n",
        "\n",
        "Ànims i endavant!"
      ],
      "metadata": {
        "id": "DvSS_CFFacl2"
      }
    },
    {
      "cell_type": "markdown",
      "source": [
        "##Bloc 1: NumPy\n",
        "\n",
        "Emplena el codi corresponent a cada subapartat, tenint en compte que, quan sigui possible, és millor emprar la programació vectoritzada i les funcions universals de NumPy."
      ],
      "metadata": {
        "id": "gpStVTPja5NB"
      }
    },
    {
      "cell_type": "markdown",
      "source": [
        "### 1.1. *`ndarrays`* unidimensionals (vectors)\n"
      ],
      "metadata": {
        "id": "Z07rUFLwD8W8"
      }
    },
    {
      "cell_type": "markdown",
      "source": [
        "**1.1.1.** Per començar, importa la llibreria numpy amb el seu nom habitual.\n",
        "\n",
        "Crea un ndarray unidimensional (vector), anomentat a1, de 10 posicions i omple'l amb els 10 primers nombres naturals (de l'1 al 10), però en ordre invers (del 10 a l'1)"
      ],
      "metadata": {
        "id": "nncrh1jXJZJp"
      }
    },
    {
      "cell_type": "code",
      "execution_count": null,
      "metadata": {
        "id": "CqAhn9yyaaVF"
      },
      "outputs": [],
      "source": [
        "pass"
      ]
    },
    {
      "cell_type": "markdown",
      "source": [
        "**1.1.2.** Crea un altre vector de 10 posicions, a2, i omple'l amb els 10 primers nombres parells."
      ],
      "metadata": {
        "id": "OraK-zNNJiAi"
      }
    },
    {
      "cell_type": "code",
      "source": [
        "pass"
      ],
      "metadata": {
        "id": "Q-7eb8ybKNRS"
      },
      "execution_count": null,
      "outputs": []
    },
    {
      "cell_type": "markdown",
      "source": [
        "**1.1.3.** Multiplica per 5 tots els valors del vector a1."
      ],
      "metadata": {
        "id": "rbASvDeGJiKZ"
      }
    },
    {
      "cell_type": "code",
      "source": [
        "pass"
      ],
      "metadata": {
        "id": "H66mfIoyKOUa"
      },
      "execution_count": null,
      "outputs": []
    },
    {
      "cell_type": "markdown",
      "source": [
        "**1.1.4.** Obté un nou vector, a3, que sigui la suma d'a1 i a2."
      ],
      "metadata": {
        "id": "EEYYz5DRJibQ"
      }
    },
    {
      "cell_type": "code",
      "source": [
        "pass"
      ],
      "metadata": {
        "id": "CWdTypsWKO7S"
      },
      "execution_count": null,
      "outputs": []
    },
    {
      "cell_type": "markdown",
      "source": [
        "**1.1.5.** Obté un nou vector, a4, que sigui la resta d'a1 i a2."
      ],
      "metadata": {
        "id": "rareGAWfJioJ"
      }
    },
    {
      "cell_type": "code",
      "source": [
        "pass"
      ],
      "metadata": {
        "id": "7tMQQe39KPjy"
      },
      "execution_count": null,
      "outputs": []
    },
    {
      "cell_type": "markdown",
      "source": [
        "**1.1.6.** Canvia de signe tots els valors imparells d'a3 i a4."
      ],
      "metadata": {
        "id": "OzJnluijJiyR"
      }
    },
    {
      "cell_type": "code",
      "source": [
        "pass"
      ],
      "metadata": {
        "id": "DGddKysFKQai"
      },
      "execution_count": null,
      "outputs": []
    },
    {
      "cell_type": "markdown",
      "source": [
        "**1.1.7.** Obté un nou vector, a5, que contengui el mínim de cada posició entre els vectors a3 i a4."
      ],
      "metadata": {
        "id": "7YUeTAHDJ6GK"
      }
    },
    {
      "cell_type": "code",
      "source": [
        "pass"
      ],
      "metadata": {
        "id": "vmXL9lzsKRHy"
      },
      "execution_count": null,
      "outputs": []
    },
    {
      "cell_type": "markdown",
      "source": [
        "**1.1.8.** Fes que tots els valors d'a5 siguin positius."
      ],
      "metadata": {
        "id": "yhLeCsMjJ6RJ"
      }
    },
    {
      "cell_type": "code",
      "source": [
        "pass"
      ],
      "metadata": {
        "id": "p4jHZUkjKRti"
      },
      "execution_count": null,
      "outputs": []
    },
    {
      "cell_type": "markdown",
      "source": [
        "###1.2. *`ndarrays`* multidimensionals (matrius)\n"
      ],
      "metadata": {
        "id": "chq_IGmmL6Hb"
      }
    },
    {
      "cell_type": "markdown",
      "source": [
        "**1.2.1.** Crea un ndarray de 2 dimensions (matriu) de 10 files i 4 columnes, anomenada m1 i omple-a amb nombres aleatoris, seguint una distribució normal estàndard."
      ],
      "metadata": {
        "id": "As79s4QoKuOz"
      }
    },
    {
      "cell_type": "code",
      "source": [
        "pass"
      ],
      "metadata": {
        "id": "5E5KUDTdLU9a"
      },
      "execution_count": null,
      "outputs": []
    },
    {
      "cell_type": "markdown",
      "source": [
        "**1.2.2.** Obté una nova matriu, m2. Els valors de les 5 primers files seran el doble dels de les 5 primeres files de m1. Els de les 5 darreres files, el triple."
      ],
      "metadata": {
        "id": "6hRqmDoTKuYB"
      }
    },
    {
      "cell_type": "code",
      "source": [
        "pass"
      ],
      "metadata": {
        "id": "nZfgKO21LWB5"
      },
      "execution_count": null,
      "outputs": []
    },
    {
      "cell_type": "markdown",
      "source": [
        "**1.2.3.** Obté una nova matriu de booleans, mb, que contingui True si a la posició corresponent de m2 hi ha un valor major que 1 o menor que -1, i False en cas contrari."
      ],
      "metadata": {
        "id": "l2_3ocDqKuhJ"
      }
    },
    {
      "cell_type": "code",
      "source": [
        "pass"
      ],
      "metadata": {
        "id": "jP_yQNiGLWsZ"
      },
      "execution_count": null,
      "outputs": []
    },
    {
      "cell_type": "markdown",
      "source": [
        "**1.2.4.** Multiplica per 100 tots els valors de m2 i arrodoneix a l'enter més proper. Fes també que tots els valors siguin positius."
      ],
      "metadata": {
        "id": "fwg-RcC1KuqR"
      }
    },
    {
      "cell_type": "code",
      "source": [
        "pass"
      ],
      "metadata": {
        "id": "-vw__RzWLXcC"
      },
      "execution_count": null,
      "outputs": []
    },
    {
      "cell_type": "markdown",
      "source": [
        "**1.2.5.** A m2 posa el valor 100 en les posicions tals que tinguem True en mb."
      ],
      "metadata": {
        "id": "LfSm6rotKuzq"
      }
    },
    {
      "cell_type": "code",
      "source": [
        "pass"
      ],
      "metadata": {
        "id": "tShJ3MUGLYN5"
      },
      "execution_count": null,
      "outputs": []
    },
    {
      "cell_type": "markdown",
      "source": [
        "**1.2.6.** Obté dues noves matrius de 5 files i 2 columnes, m3 i m4. La matriu m3 ha de tenir els valors de les 5 primers files i les 2 primeres columnes de m2. La matriu m4 ha de tenir els valors de les 5 darreres files i les 2 darreres columnes de m2."
      ],
      "metadata": {
        "id": "2UuleGQ1Ku8r"
      }
    },
    {
      "cell_type": "code",
      "source": [
        "pass"
      ],
      "metadata": {
        "id": "yFaxmFoJLZAq"
      },
      "execution_count": null,
      "outputs": []
    },
    {
      "cell_type": "markdown",
      "source": [
        "**1.2.7.** Obté una nova matriu, m5, amb el màxim dels valors de m3 i m4."
      ],
      "metadata": {
        "id": "4XtV9-avKvHR"
      }
    },
    {
      "cell_type": "code",
      "source": [
        "pass"
      ],
      "metadata": {
        "id": "I6ZjgU2KLZiS"
      },
      "execution_count": null,
      "outputs": []
    },
    {
      "cell_type": "markdown",
      "source": [
        "**1.2.8.** Obté els valors màxims i mínims de la matriu m5."
      ],
      "metadata": {
        "id": "4-vStu0dKvQy"
      }
    },
    {
      "cell_type": "code",
      "source": [
        "pass"
      ],
      "metadata": {
        "id": "f2qVgQng1JwX"
      },
      "execution_count": null,
      "outputs": []
    },
    {
      "cell_type": "markdown",
      "source": [
        "##Bloc 2: pandas\n",
        "\n",
        "Emplena el codi corresponent a cada subapartat, treballant amb la llibreria pandas."
      ],
      "metadata": {
        "id": "0_8SODmf0jyL"
      }
    },
    {
      "cell_type": "markdown",
      "source": [
        "**2.1.** Per començar, importa la llibreria pandas amb el seu nom habitual.\n",
        "\n",
        "A continuació, carrega en un dataframe el dataset de les pel·lícules i sèries de la plataforma Amazon Prime, publicat a Kaggle per OctopusTeam.  Pots obtenir una còpia en format CSV amb les dades actualitzades fins el 22/10/2024 a https://raw.githubusercontent.com/tnavarrete-iedib/bigdata-24-25/refs/heads/main/prime.csv\n",
        "\n",
        "Mostra el nombre de sèries i de pel·lícules del dataframe."
      ],
      "metadata": {
        "id": "9KwfAEo4pKHo"
      }
    },
    {
      "cell_type": "code",
      "source": [
        "pass"
      ],
      "metadata": {
        "id": "FMuZMFFTuUxL"
      },
      "execution_count": null,
      "outputs": []
    },
    {
      "cell_type": "markdown",
      "source": [
        "**2.2.** Obté la mitjana i la desviació estàndard per a les columnes amb la valoració mitjana en IMDB i el nombre de vots en IMDB."
      ],
      "metadata": {
        "id": "ZHqo1-HcNjnA"
      }
    },
    {
      "cell_type": "code",
      "source": [
        "pass"
      ],
      "metadata": {
        "id": "uJ3K-hBHNyLF"
      },
      "execution_count": null,
      "outputs": []
    },
    {
      "cell_type": "markdown",
      "source": [
        "**2.3.** Recupera les 10 sèries llençades el 2024 amb més vots en IMDB, ordenades de més a menys vots."
      ],
      "metadata": {
        "id": "LP0lc1Cd9U6E"
      }
    },
    {
      "cell_type": "code",
      "source": [
        "pass"
      ],
      "metadata": {
        "id": "WxxqUIQZK_Pm"
      },
      "execution_count": null,
      "outputs": []
    },
    {
      "cell_type": "markdown",
      "source": [
        "**2.4.** Recupera les 10 pel·lícules llençades des de l'any 2000 del gènere ciència ficció (poden haver-hi d'altres gèneres també) amb millor valoració, ordenades de més a menys valoració en IMDB."
      ],
      "metadata": {
        "id": "XyGhRHyJ8Q2G"
      }
    },
    {
      "cell_type": "code",
      "source": [
        "pass"
      ],
      "metadata": {
        "id": "GBKFcWQa8uzX"
      },
      "execution_count": null,
      "outputs": []
    },
    {
      "cell_type": "markdown",
      "source": [
        "**2.5.** Calcula el nombre de pel·lícules que s'han llançat cada any des del 2000."
      ],
      "metadata": {
        "id": "3xtyorwrpG3R"
      }
    },
    {
      "cell_type": "code",
      "source": [
        "pass"
      ],
      "metadata": {
        "id": "6ULPeJ2_uVyZ"
      },
      "execution_count": null,
      "outputs": []
    },
    {
      "cell_type": "markdown",
      "source": [
        "**2.6.** Volem agrupar les pel·lícules per any de llançament, des de l'any 2000. Has d'obtenir dos objectse Series, on en els índexs tendrem l'any i en els valors:\n",
        "* en un objecte Series, el nombre total de vots en IMDB\n",
        "* en l'altre objecte Series, la valoració mitjana en IMDB"
      ],
      "metadata": {
        "id": "OtGiG6dK44K4"
      }
    },
    {
      "cell_type": "code",
      "source": [
        "pass"
      ],
      "metadata": {
        "id": "C4pXowb8uWvR"
      },
      "execution_count": null,
      "outputs": []
    },
    {
      "cell_type": "markdown",
      "source": [
        "**2.7.** A partir d'aquests dos objectes Series de l'apartat anterior, crea un nou objecte DataFrame amb 3 columnes:\n",
        "* Any\n",
        "* Vots en IMDB\n",
        "* Valoració mitjana en IMDB"
      ],
      "metadata": {
        "id": "R9EXmG5FOLNe"
      }
    },
    {
      "cell_type": "code",
      "source": [
        "pass"
      ],
      "metadata": {
        "id": "8uDFFE45OuBd"
      },
      "execution_count": null,
      "outputs": []
    },
    {
      "cell_type": "markdown",
      "source": [
        "**2.8.** Guarda el nou objecte DataFrame en un fitxer CSV al directori 'prime' de la teva unitat de Google Drive.\n",
        "\n",
        "---\n",
        "\n"
      ],
      "metadata": {
        "id": "flCXcjVnOh6n"
      }
    },
    {
      "cell_type": "code",
      "source": [
        "pass"
      ],
      "metadata": {
        "id": "mQio9WLiOg49"
      },
      "execution_count": null,
      "outputs": []
    },
    {
      "cell_type": "markdown",
      "source": [
        "##Bloc 3: Matplotlib\n",
        "\n",
        "A partir del DataFrame de les sèries i pel·lícules d'Amazon Prime del bloc anterior, representa amb Matplotlib una figura amb quatre subplots, organitzats en dues files i dues columnes, d'aquesta manera:\n",
        "* Superior esquerra: histograma per al nombre de vots en IMDB\n",
        "* Superior dreta: histograma per a la valoració mitjana en IMDB\n",
        "* Inferior esquerra: nigul de punts on es relacionen el nombre de vots en IMDB amb la valoració mitjana en IMDB.\n",
        "* Inferior dreta: diagrama de punts i línies que mostri la variació per anys de la valoració mitjana en IMDB de les pel·lícules llançades des del 2000 (dataframe de l'apartat 2.7).\n",
        "\n",
        "Cada subplot ha de mostrar el títol corresponent i els eixos han d'incloure marques i una etiqueta descriptiva. A més, el gràfic de cada subplot ha d'utilitzar un color diferent.\n",
        "\n",
        "Tots els elements han de quedar disposats de manera que es pugui veure tot de manera correcta.\n",
        "\n",
        "Finalment, fes que es descarregui una imatge de la teva figura."
      ],
      "metadata": {
        "id": "W1RrLTsx8RPZ"
      }
    },
    {
      "cell_type": "code",
      "source": [
        "pass"
      ],
      "metadata": {
        "id": "n4pk5262QCD3"
      },
      "execution_count": null,
      "outputs": []
    }
  ]
}