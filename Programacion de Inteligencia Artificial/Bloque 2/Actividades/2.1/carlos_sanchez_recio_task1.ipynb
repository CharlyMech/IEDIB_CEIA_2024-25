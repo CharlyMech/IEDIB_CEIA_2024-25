{
  "cells": [
    {
      "cell_type": "markdown",
      "metadata": {
        "id": "DvSS_CFFacl2"
      },
      "source": [
        "# Programació d'intel·ligència artificial. Tasca del Lliurament 2\n",
        "\n",
        "Aquest és l'enunciat de la tasca del segon lliurament de Programació d'Intel·ligència Artificial. Es refereix a les tres llibreries que hi hem tractat: **NumPy**, **pandas**, i **matplotlib**. Consta de tres blocs corresponents a cada una de les llibreries. Cada bloc val un terç de la nota de la tasca.\n",
        "\n",
        "Quan hàgiu acabat de realitzar la tasca, davallau el document .ipynb (menú File, opció Download) i lliurau-lo dins el Moodle de l'aula virtual.\n",
        "\n",
        "Ànims i endavant!"
      ]
    },
    {
      "cell_type": "markdown",
      "metadata": {
        "id": "gpStVTPja5NB"
      },
      "source": [
        "## Bloc 1: NumPy\n",
        "\n",
        "Emplena el codi corresponent a cada subapartat, tenint en compte que, quan sigui possible, és millor emprar la programació vectoritzada i les funcions universals de NumPy."
      ]
    },
    {
      "cell_type": "markdown",
      "metadata": {
        "id": "Z07rUFLwD8W8"
      },
      "source": [
        "### 1.1. *`ndarrays`* unidimensionals (vectors)\n"
      ]
    },
    {
      "cell_type": "markdown",
      "metadata": {
        "id": "nncrh1jXJZJp"
      },
      "source": [
        "**1.1.1.** Per començar, importa la llibreria numpy amb el seu nom habitual.\n",
        "\n",
        "Crea un ndarray unidimensional (vector), anomentat a1, de 10 posicions i omple'l amb els 10 primers nombres naturals (de l'1 al 10), però en ordre invers (del 10 a l'1)"
      ]
    },
    {
      "cell_type": "code",
      "execution_count": 2,
      "metadata": {
        "id": "CqAhn9yyaaVF"
      },
      "outputs": [
        {
          "data": {
            "text/plain": [
              "array([10,  9,  8,  7,  6,  5,  4,  3,  2,  1])"
            ]
          },
          "execution_count": 2,
          "metadata": {},
          "output_type": "execute_result"
        }
      ],
      "source": [
        "import numpy as np\n",
        "\n",
        "a1 = np.arange(10, 0, -1)\n",
        "a1 # just to test in output"
      ]
    },
    {
      "cell_type": "markdown",
      "metadata": {
        "id": "OraK-zNNJiAi"
      },
      "source": [
        "**1.1.2.** Crea un altre vector de 10 posicions, a2, i omple'l amb els 10 primers nombres parells."
      ]
    },
    {
      "cell_type": "code",
      "execution_count": 3,
      "metadata": {
        "id": "Q-7eb8ybKNRS"
      },
      "outputs": [
        {
          "data": {
            "text/plain": [
              "array([ 2,  4,  6,  8, 10, 12, 14, 16, 18, 20])"
            ]
          },
          "execution_count": 3,
          "metadata": {},
          "output_type": "execute_result"
        }
      ],
      "source": [
        "a2 = a1*2 # since the first 10 even numbers are the ones from a1 times 2 (and reverse array)\n",
        "a2 = a2[::-1]\n",
        "a2"
      ]
    },
    {
      "cell_type": "markdown",
      "metadata": {
        "id": "rbASvDeGJiKZ"
      },
      "source": [
        "**1.1.3.** Multiplica per 5 tots els valors del vector a1."
      ]
    },
    {
      "cell_type": "code",
      "execution_count": 4,
      "metadata": {
        "id": "H66mfIoyKOUa"
      },
      "outputs": [
        {
          "data": {
            "text/plain": [
              "array([50, 45, 40, 35, 30, 25, 20, 15, 10,  5])"
            ]
          },
          "execution_count": 4,
          "metadata": {},
          "output_type": "execute_result"
        }
      ],
      "source": [
        "# I'll consider that I need to override the data from ndarrays from now on\n",
        "a1 = a1*5\n",
        "a1"
      ]
    },
    {
      "cell_type": "markdown",
      "metadata": {
        "id": "EEYYz5DRJibQ"
      },
      "source": [
        "**1.1.4.** Obté un nou vector, a3, que sigui la suma d'a1 i a2."
      ]
    },
    {
      "cell_type": "code",
      "execution_count": 5,
      "metadata": {
        "id": "CWdTypsWKO7S"
      },
      "outputs": [
        {
          "data": {
            "text/plain": [
              "array([52, 49, 46, 43, 40, 37, 34, 31, 28, 25])"
            ]
          },
          "execution_count": 5,
          "metadata": {},
          "output_type": "execute_result"
        }
      ],
      "source": [
        "a3 = a1 + a2\n",
        "a3"
      ]
    },
    {
      "cell_type": "markdown",
      "metadata": {
        "id": "rareGAWfJioJ"
      },
      "source": [
        "**1.1.5.** Obté un nou vector, a4, que sigui la resta d'a1 i a2."
      ]
    },
    {
      "cell_type": "code",
      "execution_count": 6,
      "metadata": {
        "id": "7tMQQe39KPjy"
      },
      "outputs": [
        {
          "data": {
            "text/plain": [
              "array([ 48,  41,  34,  27,  20,  13,   6,  -1,  -8, -15])"
            ]
          },
          "execution_count": 6,
          "metadata": {},
          "output_type": "execute_result"
        }
      ],
      "source": [
        "a4 = a1 - a2\n",
        "a4"
      ]
    },
    {
      "cell_type": "markdown",
      "metadata": {
        "id": "OzJnluijJiyR"
      },
      "source": [
        "**1.1.6.** Canvia de signe tots els valors imparells d'a3 i a4."
      ]
    },
    {
      "cell_type": "code",
      "execution_count": 7,
      "metadata": {
        "id": "DGddKysFKQai"
      },
      "outputs": [
        {
          "name": "stdout",
          "output_type": "stream",
          "text": [
            "[ 52 -49  46 -43  40 -37  34 -31  28 -25] [ 48 -41  34 -27  20 -13   6   1  -8  15]\n"
          ]
        }
      ],
      "source": [
        "a3[a3 % 2 != 0] *= -1\n",
        "a4[a4 % 2 != 0] *= -1\n",
        "print(a3, a4)"
      ]
    },
    {
      "cell_type": "markdown",
      "metadata": {
        "id": "7YUeTAHDJ6GK"
      },
      "source": [
        "**1.1.7.** Obté un nou vector, a5, que contengui el mínim de cada posició entre els vectors a3 i a4."
      ]
    },
    {
      "cell_type": "code",
      "execution_count": 8,
      "metadata": {
        "id": "vmXL9lzsKRHy"
      },
      "outputs": [
        {
          "data": {
            "text/plain": [
              "array([ 48, -49,  34, -43,  20, -37,   6, -31,  -8, -25])"
            ]
          },
          "execution_count": 8,
          "metadata": {},
          "output_type": "execute_result"
        }
      ],
      "source": [
        "a5 = np.minimum(a3, a4)\n",
        "a5"
      ]
    },
    {
      "cell_type": "markdown",
      "metadata": {
        "id": "yhLeCsMjJ6RJ"
      },
      "source": [
        "**1.1.8.** Fes que tots els valors d'a5 siguin positius."
      ]
    },
    {
      "cell_type": "code",
      "execution_count": 9,
      "metadata": {
        "id": "p4jHZUkjKRti"
      },
      "outputs": [
        {
          "data": {
            "text/plain": [
              "array([48, 49, 34, 43, 20, 37,  6, 31,  8, 25])"
            ]
          },
          "execution_count": 9,
          "metadata": {},
          "output_type": "execute_result"
        }
      ],
      "source": [
        "a5 = np.abs(a5)\n",
        "a5"
      ]
    },
    {
      "cell_type": "markdown",
      "metadata": {
        "id": "chq_IGmmL6Hb"
      },
      "source": [
        "### 1.2. *`ndarrays`* multidimensionals (matrius)\n"
      ]
    },
    {
      "cell_type": "markdown",
      "metadata": {
        "id": "As79s4QoKuOz"
      },
      "source": [
        "**1.2.1.** Crea un ndarray de 2 dimensions (matriu) de 10 files i 4 columnes, anomenada m1 i omple-a amb nombres aleatoris, seguint una distribució normal estàndard."
      ]
    },
    {
      "cell_type": "code",
      "execution_count": 10,
      "metadata": {
        "id": "5E5KUDTdLU9a"
      },
      "outputs": [
        {
          "data": {
            "text/plain": [
              "array([[ 0.30969775,  2.01858704,  0.14571282, -0.41654449],\n",
              "       [-0.02418853,  1.80958896,  0.30159783,  0.52433836],\n",
              "       [-0.68674685,  1.18212069, -0.60215966,  0.58668262],\n",
              "       [-0.44792494,  0.16232443,  0.54934392, -0.29079508],\n",
              "       [-0.51713488, -1.29165188, -1.04773025, -0.39834363],\n",
              "       [ 1.4224996 , -0.67234516, -0.21523434, -0.58156984],\n",
              "       [-0.0734897 ,  2.26539628,  0.99364117,  0.05572174],\n",
              "       [ 0.30526487,  1.62992718,  2.13641637,  0.52092989],\n",
              "       [ 0.2540835 ,  1.51845697, -0.15920951, -0.44955873],\n",
              "       [-0.4101387 , -0.2136178 ,  0.1281284 , -0.45250668]])"
            ]
          },
          "execution_count": 10,
          "metadata": {},
          "output_type": "execute_result"
        }
      ],
      "source": [
        "m1 = np.random.randn(10,4)\n",
        "m1"
      ]
    },
    {
      "cell_type": "markdown",
      "metadata": {
        "id": "6hRqmDoTKuYB"
      },
      "source": [
        "**1.2.2.** Obté una nova matriu, m2. Els valors de les 5 primers files seran el doble dels de les 5 primeres files de m1. Els de les 5 darreres files, el triple."
      ]
    },
    {
      "cell_type": "code",
      "execution_count": 11,
      "metadata": {
        "id": "nZfgKO21LWB5"
      },
      "outputs": [
        {
          "data": {
            "text/plain": [
              "array([[ 0.6193955 ,  4.03717408,  0.29142564, -0.83308898],\n",
              "       [-0.04837706,  3.61917793,  0.60319567,  1.04867673],\n",
              "       [-1.37349371,  2.36424137, -1.20431932,  1.17336523],\n",
              "       [-0.89584987,  0.32464886,  1.09868784, -0.58159016],\n",
              "       [-1.03426976, -2.58330376, -2.09546049, -0.79668725],\n",
              "       [ 4.2674988 , -2.01703549, -0.64570302, -1.74470951],\n",
              "       [-0.22046909,  6.79618883,  2.98092352,  0.16716522],\n",
              "       [ 0.9157946 ,  4.88978155,  6.4092491 ,  1.56278966],\n",
              "       [ 0.76225049,  4.55537091, -0.47762852, -1.34867618],\n",
              "       [-1.23041609, -0.6408534 ,  0.38438521, -1.35752004]])"
            ]
          },
          "execution_count": 11,
          "metadata": {},
          "output_type": "execute_result"
        }
      ],
      "source": [
        "m2 = np.concatenate((m1[:5] * 2, m1[5:]*3))\n",
        "m2"
      ]
    },
    {
      "cell_type": "markdown",
      "metadata": {
        "id": "l2_3ocDqKuhJ"
      },
      "source": [
        "**1.2.3.** Obté una nova matriu de booleans, mb, que contingui True si a la posició corresponent de m2 hi ha un valor major que 1 o menor que -1, i False en cas contrari."
      ]
    },
    {
      "cell_type": "code",
      "execution_count": 12,
      "metadata": {
        "id": "jP_yQNiGLWsZ"
      },
      "outputs": [
        {
          "data": {
            "text/plain": [
              "array([[False,  True, False, False],\n",
              "       [False,  True, False,  True],\n",
              "       [ True,  True,  True,  True],\n",
              "       [False, False,  True, False],\n",
              "       [ True,  True,  True, False],\n",
              "       [ True,  True, False,  True],\n",
              "       [False,  True,  True, False],\n",
              "       [False,  True,  True,  True],\n",
              "       [False,  True, False,  True],\n",
              "       [ True, False, False,  True]])"
            ]
          },
          "execution_count": 12,
          "metadata": {},
          "output_type": "execute_result"
        }
      ],
      "source": [
        "mb = (m2 < -1) | (m2 > 1)\n",
        "mb"
      ]
    },
    {
      "cell_type": "markdown",
      "metadata": {
        "id": "fwg-RcC1KuqR"
      },
      "source": [
        "**1.2.4.** Multiplica per 100 tots els valors de m2 i arrodoneix a l'enter més proper. Fes també que tots els valors siguin positius."
      ]
    },
    {
      "cell_type": "code",
      "execution_count": 13,
      "metadata": {
        "id": "-vw__RzWLXcC"
      },
      "outputs": [
        {
          "data": {
            "text/plain": [
              "array([[  62.,  404.,   29.,  -83.],\n",
              "       [  -5.,  362.,   60.,  105.],\n",
              "       [-137.,  236., -120.,  117.],\n",
              "       [ -90.,   32.,  110.,  -58.],\n",
              "       [-103., -258., -210.,  -80.],\n",
              "       [ 427., -202.,  -65., -174.],\n",
              "       [ -22.,  680.,  298.,   17.],\n",
              "       [  92.,  489.,  641.,  156.],\n",
              "       [  76.,  456.,  -48., -135.],\n",
              "       [-123.,  -64.,   38., -136.]])"
            ]
          },
          "execution_count": 13,
          "metadata": {},
          "output_type": "execute_result"
        }
      ],
      "source": [
        "m2 = np.rint(m2*100)\n",
        "m2"
      ]
    },
    {
      "cell_type": "markdown",
      "metadata": {
        "id": "LfSm6rotKuzq"
      },
      "source": [
        "**1.2.5.** A m2 posa el valor 100 en les posicions tals que tinguem True en mb."
      ]
    },
    {
      "cell_type": "code",
      "execution_count": 14,
      "metadata": {
        "id": "tShJ3MUGLYN5"
      },
      "outputs": [
        {
          "data": {
            "text/plain": [
              "array([[ 62., 100.,  29., -83.],\n",
              "       [ -5., 100.,  60., 100.],\n",
              "       [100., 100., 100., 100.],\n",
              "       [-90.,  32., 100., -58.],\n",
              "       [100., 100., 100., -80.],\n",
              "       [100., 100., -65., 100.],\n",
              "       [-22., 100., 100.,  17.],\n",
              "       [ 92., 100., 100., 100.],\n",
              "       [ 76., 100., -48., 100.],\n",
              "       [100., -64.,  38., 100.]])"
            ]
          },
          "execution_count": 14,
          "metadata": {},
          "output_type": "execute_result"
        }
      ],
      "source": [
        "m2[mb] = 100\n",
        "m2"
      ]
    },
    {
      "cell_type": "markdown",
      "metadata": {
        "id": "2UuleGQ1Ku8r"
      },
      "source": [
        "**1.2.6.** Obté dues noves matrius de 5 files i 2 columnes, m3 i m4. La matriu m3 ha de tenir els valors de les 5 primers files i les 2 primeres columnes de m2. La matriu m4 ha de tenir els valors de les 5 darreres files i les 2 darreres columnes de m2."
      ]
    },
    {
      "cell_type": "code",
      "execution_count": 15,
      "metadata": {
        "id": "yFaxmFoJLZAq"
      },
      "outputs": [
        {
          "name": "stdout",
          "output_type": "stream",
          "text": [
            "[[ 62. 100.]\n",
            " [ -5. 100.]\n",
            " [100. 100.]\n",
            " [-90.  32.]\n",
            " [100. 100.]] [[-65. 100.]\n",
            " [100.  17.]\n",
            " [100. 100.]\n",
            " [-48. 100.]\n",
            " [ 38. 100.]]\n"
          ]
        }
      ],
      "source": [
        "m3 = m2[:5, :2]\n",
        "m4 = m2[5:, 2:]\n",
        "print(m3, m4)"
      ]
    },
    {
      "cell_type": "markdown",
      "metadata": {
        "id": "4XtV9-avKvHR"
      },
      "source": [
        "**1.2.7.** Obté una nova matriu, m5, amb el màxim dels valors de m3 i m4."
      ]
    },
    {
      "cell_type": "code",
      "execution_count": 16,
      "metadata": {
        "id": "I6ZjgU2KLZiS"
      },
      "outputs": [
        {
          "data": {
            "text/plain": [
              "array([[ 62., 100.],\n",
              "       [100., 100.],\n",
              "       [100., 100.],\n",
              "       [-48., 100.],\n",
              "       [100., 100.]])"
            ]
          },
          "execution_count": 16,
          "metadata": {},
          "output_type": "execute_result"
        }
      ],
      "source": [
        "m5 = np.maximum(m3, m4)\n",
        "m5"
      ]
    },
    {
      "cell_type": "markdown",
      "metadata": {
        "id": "4-vStu0dKvQy"
      },
      "source": [
        "**1.2.8.** Obté els valors màxims i mínims de la matriu m5."
      ]
    },
    {
      "cell_type": "code",
      "execution_count": 17,
      "metadata": {
        "id": "f2qVgQng1JwX"
      },
      "outputs": [
        {
          "name": "stdout",
          "output_type": "stream",
          "text": [
            "MAX: 100.0 - MIN: -48.0\n"
          ]
        }
      ],
      "source": [
        "print(f'MAX: {np.max(m5)} - MIN: {np.min(m5)}')"
      ]
    },
    {
      "cell_type": "markdown",
      "metadata": {
        "id": "0_8SODmf0jyL"
      },
      "source": [
        "## Bloc 2: pandas\n",
        "\n",
        "Emplena el codi corresponent a cada subapartat, treballant amb la llibreria pandas."
      ]
    },
    {
      "cell_type": "markdown",
      "metadata": {
        "id": "9KwfAEo4pKHo"
      },
      "source": [
        "**2.1.** Per començar, importa la llibreria pandas amb el seu nom habitual.\n",
        "\n",
        "A continuació, carrega en un dataframe el dataset de les pel·lícules i sèries de la plataforma Amazon Prime, publicat a Kaggle per OctopusTeam.  Pots obtenir una còpia en format CSV amb les dades actualitzades fins el 22/10/2024 a https://raw.githubusercontent.com/tnavarrete-iedib/bigdata-24-25/refs/heads/main/prime.csv\n",
        "\n",
        "Mostra el nombre de sèries i de pel·lícules del dataframe."
      ]
    },
    {
      "cell_type": "code",
      "execution_count": 18,
      "metadata": {
        "id": "FMuZMFFTuUxL"
      },
      "outputs": [
        {
          "data": {
            "text/html": [
              "<div>\n",
              "<style scoped>\n",
              "    .dataframe tbody tr th:only-of-type {\n",
              "        vertical-align: middle;\n",
              "    }\n",
              "\n",
              "    .dataframe tbody tr th {\n",
              "        vertical-align: top;\n",
              "    }\n",
              "\n",
              "    .dataframe thead th {\n",
              "        text-align: right;\n",
              "    }\n",
              "</style>\n",
              "<table border=\"1\" class=\"dataframe\">\n",
              "  <thead>\n",
              "    <tr style=\"text-align: right;\">\n",
              "      <th></th>\n",
              "      <th>url</th>\n",
              "      <th>title</th>\n",
              "      <th>type</th>\n",
              "      <th>genres</th>\n",
              "      <th>releaseYear</th>\n",
              "      <th>imdbId</th>\n",
              "      <th>imdbAverageRating</th>\n",
              "      <th>imdbNumVotes</th>\n",
              "      <th>availableCountries</th>\n",
              "    </tr>\n",
              "  </thead>\n",
              "  <tbody>\n",
              "    <tr>\n",
              "      <th>0</th>\n",
              "      <td>NaN</td>\n",
              "      <td>Blondie</td>\n",
              "      <td>Movie</td>\n",
              "      <td>Comedy, Family</td>\n",
              "      <td>1938.0</td>\n",
              "      <td>tt0029927</td>\n",
              "      <td>6.9</td>\n",
              "      <td>885.0</td>\n",
              "      <td>US, ZA</td>\n",
              "    </tr>\n",
              "    <tr>\n",
              "      <th>1</th>\n",
              "      <td>NaN</td>\n",
              "      <td>Ariel</td>\n",
              "      <td>Movie</td>\n",
              "      <td>Comedy, Crime, Romance</td>\n",
              "      <td>1988.0</td>\n",
              "      <td>tt0094675</td>\n",
              "      <td>7.4</td>\n",
              "      <td>8723.0</td>\n",
              "      <td>JP</td>\n",
              "    </tr>\n",
              "    <tr>\n",
              "      <th>2</th>\n",
              "      <td>NaN</td>\n",
              "      <td>Four Rooms</td>\n",
              "      <td>Movie</td>\n",
              "      <td>Comedy</td>\n",
              "      <td>1995.0</td>\n",
              "      <td>tt0113101</td>\n",
              "      <td>6.7</td>\n",
              "      <td>112441.0</td>\n",
              "      <td>AT, DE</td>\n",
              "    </tr>\n",
              "    <tr>\n",
              "      <th>3</th>\n",
              "      <td>NaN</td>\n",
              "      <td>Judgment Night</td>\n",
              "      <td>Movie</td>\n",
              "      <td>Action, Crime, Drama</td>\n",
              "      <td>1993.0</td>\n",
              "      <td>tt0107286</td>\n",
              "      <td>6.6</td>\n",
              "      <td>19254.0</td>\n",
              "      <td>US</td>\n",
              "    </tr>\n",
              "    <tr>\n",
              "      <th>4</th>\n",
              "      <td>NaN</td>\n",
              "      <td>Forrest Gump</td>\n",
              "      <td>Movie</td>\n",
              "      <td>Drama, Romance</td>\n",
              "      <td>1994.0</td>\n",
              "      <td>tt0109830</td>\n",
              "      <td>8.8</td>\n",
              "      <td>2311118.0</td>\n",
              "      <td>AT, CU, DE, IN, JP, SN</td>\n",
              "    </tr>\n",
              "    <tr>\n",
              "      <th>...</th>\n",
              "      <td>...</td>\n",
              "      <td>...</td>\n",
              "      <td>...</td>\n",
              "      <td>...</td>\n",
              "      <td>...</td>\n",
              "      <td>...</td>\n",
              "      <td>...</td>\n",
              "      <td>...</td>\n",
              "      <td>...</td>\n",
              "    </tr>\n",
              "    <tr>\n",
              "      <th>47162</th>\n",
              "      <td>NaN</td>\n",
              "      <td>NaN</td>\n",
              "      <td>TV Series</td>\n",
              "      <td>NaN</td>\n",
              "      <td>NaN</td>\n",
              "      <td>NaN</td>\n",
              "      <td>NaN</td>\n",
              "      <td>NaN</td>\n",
              "      <td>BM, GB, GG, IE, LC, TC, US</td>\n",
              "    </tr>\n",
              "    <tr>\n",
              "      <th>47163</th>\n",
              "      <td>NaN</td>\n",
              "      <td>Shutterbugs</td>\n",
              "      <td>TV Series</td>\n",
              "      <td>Animation</td>\n",
              "      <td>2015.0</td>\n",
              "      <td>tt3955674</td>\n",
              "      <td>6.8</td>\n",
              "      <td>7.0</td>\n",
              "      <td>BM, BZ, GH, GI, GY, KE, LC, MW, NG, TC, UG, ZA</td>\n",
              "    </tr>\n",
              "    <tr>\n",
              "      <th>47164</th>\n",
              "      <td>NaN</td>\n",
              "      <td>NaN</td>\n",
              "      <td>TV Series</td>\n",
              "      <td>Mystery</td>\n",
              "      <td>2022.0</td>\n",
              "      <td>NaN</td>\n",
              "      <td>NaN</td>\n",
              "      <td>NaN</td>\n",
              "      <td>BE, DK, FI, IS, NL, NO, SE, US</td>\n",
              "    </tr>\n",
              "    <tr>\n",
              "      <th>47165</th>\n",
              "      <td>NaN</td>\n",
              "      <td>Città misteriose</td>\n",
              "      <td>TV Series</td>\n",
              "      <td>Documentary</td>\n",
              "      <td>2015.0</td>\n",
              "      <td>tt15035732</td>\n",
              "      <td>6.3</td>\n",
              "      <td>7.0</td>\n",
              "      <td>SM, VA</td>\n",
              "    </tr>\n",
              "    <tr>\n",
              "      <th>47166</th>\n",
              "      <td>NaN</td>\n",
              "      <td>NaN</td>\n",
              "      <td>TV Series</td>\n",
              "      <td>NaN</td>\n",
              "      <td>2024.0</td>\n",
              "      <td>NaN</td>\n",
              "      <td>NaN</td>\n",
              "      <td>NaN</td>\n",
              "      <td>GB, GG</td>\n",
              "    </tr>\n",
              "  </tbody>\n",
              "</table>\n",
              "<p>47167 rows × 9 columns</p>\n",
              "</div>"
            ],
            "text/plain": [
              "       url             title       type                  genres  releaseYear  \\\n",
              "0      NaN           Blondie      Movie          Comedy, Family       1938.0   \n",
              "1      NaN             Ariel      Movie  Comedy, Crime, Romance       1988.0   \n",
              "2      NaN        Four Rooms      Movie                  Comedy       1995.0   \n",
              "3      NaN    Judgment Night      Movie    Action, Crime, Drama       1993.0   \n",
              "4      NaN      Forrest Gump      Movie          Drama, Romance       1994.0   \n",
              "...    ...               ...        ...                     ...          ...   \n",
              "47162  NaN               NaN  TV Series                     NaN          NaN   \n",
              "47163  NaN       Shutterbugs  TV Series               Animation       2015.0   \n",
              "47164  NaN               NaN  TV Series                 Mystery       2022.0   \n",
              "47165  NaN  Città misteriose  TV Series             Documentary       2015.0   \n",
              "47166  NaN               NaN  TV Series                     NaN       2024.0   \n",
              "\n",
              "           imdbId  imdbAverageRating  imdbNumVotes  \\\n",
              "0       tt0029927                6.9         885.0   \n",
              "1       tt0094675                7.4        8723.0   \n",
              "2       tt0113101                6.7      112441.0   \n",
              "3       tt0107286                6.6       19254.0   \n",
              "4       tt0109830                8.8     2311118.0   \n",
              "...           ...                ...           ...   \n",
              "47162         NaN                NaN           NaN   \n",
              "47163   tt3955674                6.8           7.0   \n",
              "47164         NaN                NaN           NaN   \n",
              "47165  tt15035732                6.3           7.0   \n",
              "47166         NaN                NaN           NaN   \n",
              "\n",
              "                                   availableCountries  \n",
              "0                                              US, ZA  \n",
              "1                                                  JP  \n",
              "2                                              AT, DE  \n",
              "3                                                  US  \n",
              "4                              AT, CU, DE, IN, JP, SN  \n",
              "...                                               ...  \n",
              "47162                      BM, GB, GG, IE, LC, TC, US  \n",
              "47163  BM, BZ, GH, GI, GY, KE, LC, MW, NG, TC, UG, ZA  \n",
              "47164                  BE, DK, FI, IS, NL, NO, SE, US  \n",
              "47165                                          SM, VA  \n",
              "47166                                          GB, GG  \n",
              "\n",
              "[47167 rows x 9 columns]"
            ]
          },
          "execution_count": 18,
          "metadata": {},
          "output_type": "execute_result"
        }
      ],
      "source": [
        "import pandas as pd\n",
        "\n",
        "f = pd.read_csv('https://raw.githubusercontent.com/tnavarrete-iedib/bigdata-24-25/refs/heads/main/prime.csv')\n",
        "f"
      ]
    },
    {
      "cell_type": "markdown",
      "metadata": {
        "id": "ZHqo1-HcNjnA"
      },
      "source": [
        "**2.2.** Obté la mitjana i la desviació estàndard per a les columnes amb la valoració mitjana en IMDB i el nombre de vots en IMDB."
      ]
    },
    {
      "cell_type": "code",
      "execution_count": 19,
      "metadata": {
        "id": "uJ3K-hBHNyLF"
      },
      "outputs": [
        {
          "name": "stdout",
          "output_type": "stream",
          "text": [
            "IMDB Average rating:\n",
            "AVG: 6.022308909995477 - STD: 1.3282821546818362\n",
            "IMDB num votes:\n",
            "AVG: 17435.074423337857 - STD: 86702.11678261038\n"
          ]
        }
      ],
      "source": [
        "print(f'IMDB Average rating:\\nAVG: {f['imdbAverageRating'].mean()} - STD: {f['imdbAverageRating'].std()}')\n",
        "print(f'IMDB num votes:\\nAVG: {f['imdbNumVotes'].mean()} - STD: {f['imdbNumVotes'].std()}')"
      ]
    },
    {
      "cell_type": "markdown",
      "metadata": {
        "id": "LP0lc1Cd9U6E"
      },
      "source": [
        "**2.3.** Recupera les 10 sèries llençades el 2024 amb més vots en IMDB, ordenades de més a menys vots."
      ]
    },
    {
      "cell_type": "code",
      "execution_count": 20,
      "metadata": {
        "id": "WxxqUIQZK_Pm"
      },
      "outputs": [
        {
          "data": {
            "text/html": [
              "<div>\n",
              "<style scoped>\n",
              "    .dataframe tbody tr th:only-of-type {\n",
              "        vertical-align: middle;\n",
              "    }\n",
              "\n",
              "    .dataframe tbody tr th {\n",
              "        vertical-align: top;\n",
              "    }\n",
              "\n",
              "    .dataframe thead th {\n",
              "        text-align: right;\n",
              "    }\n",
              "</style>\n",
              "<table border=\"1\" class=\"dataframe\">\n",
              "  <thead>\n",
              "    <tr style=\"text-align: right;\">\n",
              "      <th></th>\n",
              "      <th>url</th>\n",
              "      <th>title</th>\n",
              "      <th>type</th>\n",
              "      <th>genres</th>\n",
              "      <th>releaseYear</th>\n",
              "      <th>imdbId</th>\n",
              "      <th>imdbAverageRating</th>\n",
              "      <th>imdbNumVotes</th>\n",
              "      <th>availableCountries</th>\n",
              "    </tr>\n",
              "  </thead>\n",
              "  <tbody>\n",
              "    <tr>\n",
              "      <th>44152</th>\n",
              "      <td>https://www.amazon.com/gp/video/detail/B0CN4HV16N</td>\n",
              "      <td>Fallout</td>\n",
              "      <td>TV Series</td>\n",
              "      <td>Action, Adventure, Drama</td>\n",
              "      <td>2024.0</td>\n",
              "      <td>tt12637874</td>\n",
              "      <td>8.4</td>\n",
              "      <td>264143.0</td>\n",
              "      <td>AD, AE, AG, AL, AR, AT, AU, BA, BB, BE, BG, BH...</td>\n",
              "    </tr>\n",
              "    <tr>\n",
              "      <th>45619</th>\n",
              "      <td>NaN</td>\n",
              "      <td>Indian Police Force</td>\n",
              "      <td>TV Series</td>\n",
              "      <td>Action, Crime, Drama</td>\n",
              "      <td>2024.0</td>\n",
              "      <td>tt19768024</td>\n",
              "      <td>5.1</td>\n",
              "      <td>58325.0</td>\n",
              "      <td>AD, AE, AG, AL, AR, AT, AU, BA, BB, BE, BG, BH...</td>\n",
              "    </tr>\n",
              "    <tr>\n",
              "      <th>44569</th>\n",
              "      <td>https://www.amazon.com/gp/video/detail/B0CLRQGR5G</td>\n",
              "      <td>Mr. &amp; Mrs. Smith</td>\n",
              "      <td>TV Series</td>\n",
              "      <td>Action, Comedy, Crime</td>\n",
              "      <td>2024.0</td>\n",
              "      <td>tt14044212</td>\n",
              "      <td>7.0</td>\n",
              "      <td>45824.0</td>\n",
              "      <td>AD, AE, AG, AL, AR, AT, AU, BA, BB, BE, BG, BH...</td>\n",
              "    </tr>\n",
              "    <tr>\n",
              "      <th>45819</th>\n",
              "      <td>NaN</td>\n",
              "      <td>The Walking Dead: The Ones Who Live</td>\n",
              "      <td>TV Series</td>\n",
              "      <td>Drama, Horror, Thriller</td>\n",
              "      <td>2024.0</td>\n",
              "      <td>tt9859436</td>\n",
              "      <td>7.9</td>\n",
              "      <td>34709.0</td>\n",
              "      <td>AG, AR, BB, BM, BO, BR, BS, CL, CO, CR, DO, EC...</td>\n",
              "    </tr>\n",
              "    <tr>\n",
              "      <th>44880</th>\n",
              "      <td>NaN</td>\n",
              "      <td>Solo Leveling</td>\n",
              "      <td>TV Series</td>\n",
              "      <td>Action, Adventure, Animation</td>\n",
              "      <td>2024.0</td>\n",
              "      <td>tt21209876</td>\n",
              "      <td>8.3</td>\n",
              "      <td>30870.0</td>\n",
              "      <td>JP</td>\n",
              "    </tr>\n",
              "    <tr>\n",
              "      <th>46194</th>\n",
              "      <td>NaN</td>\n",
              "      <td>Those About to Die</td>\n",
              "      <td>TV Series</td>\n",
              "      <td>Action, Drama</td>\n",
              "      <td>2024.0</td>\n",
              "      <td>tt10569934</td>\n",
              "      <td>6.6</td>\n",
              "      <td>17482.0</td>\n",
              "      <td>AD, AT, AU, BE, CA, CH, CI, DE, ES, FR, GB, GF...</td>\n",
              "    </tr>\n",
              "    <tr>\n",
              "      <th>45692</th>\n",
              "      <td>NaN</td>\n",
              "      <td>My Lady Jane</td>\n",
              "      <td>TV Series</td>\n",
              "      <td>Comedy, Drama, Fantasy</td>\n",
              "      <td>2024.0</td>\n",
              "      <td>tt11379456</td>\n",
              "      <td>7.4</td>\n",
              "      <td>16954.0</td>\n",
              "      <td>AD, AE, AG, AL, AR, AT, AU, BA, BB, BE, BG, BH...</td>\n",
              "    </tr>\n",
              "    <tr>\n",
              "      <th>46977</th>\n",
              "      <td>NaN</td>\n",
              "      <td>Maxton Hall: The World Between Us</td>\n",
              "      <td>TV Series</td>\n",
              "      <td>Drama, Romance</td>\n",
              "      <td>2024.0</td>\n",
              "      <td>tt27792190</td>\n",
              "      <td>7.5</td>\n",
              "      <td>14199.0</td>\n",
              "      <td>AD, AE, AG, AL, AR, AT, AU, BA, BB, BE, BG, BH...</td>\n",
              "    </tr>\n",
              "    <tr>\n",
              "      <th>44808</th>\n",
              "      <td>NaN</td>\n",
              "      <td>Batman: Caped Crusader</td>\n",
              "      <td>TV Series</td>\n",
              "      <td>Action, Adventure, Animation</td>\n",
              "      <td>2024.0</td>\n",
              "      <td>tt14681596</td>\n",
              "      <td>7.3</td>\n",
              "      <td>12819.0</td>\n",
              "      <td>AD, AE, AG, AL, AR, AT, AU, BA, BB, BE, BG, BH...</td>\n",
              "    </tr>\n",
              "    <tr>\n",
              "      <th>45849</th>\n",
              "      <td>NaN</td>\n",
              "      <td>Kaiju No. 8</td>\n",
              "      <td>TV Series</td>\n",
              "      <td>Action, Adventure, Animation</td>\n",
              "      <td>2024.0</td>\n",
              "      <td>tt21975436</td>\n",
              "      <td>8.3</td>\n",
              "      <td>11964.0</td>\n",
              "      <td>JP</td>\n",
              "    </tr>\n",
              "  </tbody>\n",
              "</table>\n",
              "</div>"
            ],
            "text/plain": [
              "                                                     url  \\\n",
              "44152  https://www.amazon.com/gp/video/detail/B0CN4HV16N   \n",
              "45619                                                NaN   \n",
              "44569  https://www.amazon.com/gp/video/detail/B0CLRQGR5G   \n",
              "45819                                                NaN   \n",
              "44880                                                NaN   \n",
              "46194                                                NaN   \n",
              "45692                                                NaN   \n",
              "46977                                                NaN   \n",
              "44808                                                NaN   \n",
              "45849                                                NaN   \n",
              "\n",
              "                                     title       type  \\\n",
              "44152                              Fallout  TV Series   \n",
              "45619                  Indian Police Force  TV Series   \n",
              "44569                     Mr. & Mrs. Smith  TV Series   \n",
              "45819  The Walking Dead: The Ones Who Live  TV Series   \n",
              "44880                        Solo Leveling  TV Series   \n",
              "46194                   Those About to Die  TV Series   \n",
              "45692                         My Lady Jane  TV Series   \n",
              "46977    Maxton Hall: The World Between Us  TV Series   \n",
              "44808               Batman: Caped Crusader  TV Series   \n",
              "45849                          Kaiju No. 8  TV Series   \n",
              "\n",
              "                             genres  releaseYear      imdbId  \\\n",
              "44152      Action, Adventure, Drama       2024.0  tt12637874   \n",
              "45619          Action, Crime, Drama       2024.0  tt19768024   \n",
              "44569         Action, Comedy, Crime       2024.0  tt14044212   \n",
              "45819       Drama, Horror, Thriller       2024.0   tt9859436   \n",
              "44880  Action, Adventure, Animation       2024.0  tt21209876   \n",
              "46194                 Action, Drama       2024.0  tt10569934   \n",
              "45692        Comedy, Drama, Fantasy       2024.0  tt11379456   \n",
              "46977                Drama, Romance       2024.0  tt27792190   \n",
              "44808  Action, Adventure, Animation       2024.0  tt14681596   \n",
              "45849  Action, Adventure, Animation       2024.0  tt21975436   \n",
              "\n",
              "       imdbAverageRating  imdbNumVotes  \\\n",
              "44152                8.4      264143.0   \n",
              "45619                5.1       58325.0   \n",
              "44569                7.0       45824.0   \n",
              "45819                7.9       34709.0   \n",
              "44880                8.3       30870.0   \n",
              "46194                6.6       17482.0   \n",
              "45692                7.4       16954.0   \n",
              "46977                7.5       14199.0   \n",
              "44808                7.3       12819.0   \n",
              "45849                8.3       11964.0   \n",
              "\n",
              "                                      availableCountries  \n",
              "44152  AD, AE, AG, AL, AR, AT, AU, BA, BB, BE, BG, BH...  \n",
              "45619  AD, AE, AG, AL, AR, AT, AU, BA, BB, BE, BG, BH...  \n",
              "44569  AD, AE, AG, AL, AR, AT, AU, BA, BB, BE, BG, BH...  \n",
              "45819  AG, AR, BB, BM, BO, BR, BS, CL, CO, CR, DO, EC...  \n",
              "44880                                                 JP  \n",
              "46194  AD, AT, AU, BE, CA, CH, CI, DE, ES, FR, GB, GF...  \n",
              "45692  AD, AE, AG, AL, AR, AT, AU, BA, BB, BE, BG, BH...  \n",
              "46977  AD, AE, AG, AL, AR, AT, AU, BA, BB, BE, BG, BH...  \n",
              "44808  AD, AE, AG, AL, AR, AT, AU, BA, BB, BE, BG, BH...  \n",
              "45849                                                 JP  "
            ]
          },
          "execution_count": 20,
          "metadata": {},
          "output_type": "execute_result"
        }
      ],
      "source": [
        "f[(f['releaseYear'] == 2024) & (f['type'] == 'TV Series')].sort_values('imdbNumVotes', ascending = False)[:10]"
      ]
    },
    {
      "cell_type": "markdown",
      "metadata": {
        "id": "XyGhRHyJ8Q2G"
      },
      "source": [
        "**2.4.** Recupera les 10 pel·lícules llençades des de l'any 2000 del gènere ciència ficció (poden haver-hi d'altres gèneres també) amb millor valoració, ordenades de més a menys valoració en IMDB."
      ]
    },
    {
      "cell_type": "code",
      "execution_count": 34,
      "metadata": {
        "id": "GBKFcWQa8uzX"
      },
      "outputs": [
        {
          "data": {
            "text/html": [
              "<div>\n",
              "<style scoped>\n",
              "    .dataframe tbody tr th:only-of-type {\n",
              "        vertical-align: middle;\n",
              "    }\n",
              "\n",
              "    .dataframe tbody tr th {\n",
              "        vertical-align: top;\n",
              "    }\n",
              "\n",
              "    .dataframe thead th {\n",
              "        text-align: right;\n",
              "    }\n",
              "</style>\n",
              "<table border=\"1\" class=\"dataframe\">\n",
              "  <thead>\n",
              "    <tr style=\"text-align: right;\">\n",
              "      <th></th>\n",
              "      <th>url</th>\n",
              "      <th>title</th>\n",
              "      <th>type</th>\n",
              "      <th>genres</th>\n",
              "      <th>releaseYear</th>\n",
              "      <th>imdbId</th>\n",
              "      <th>imdbAverageRating</th>\n",
              "      <th>imdbNumVotes</th>\n",
              "      <th>availableCountries</th>\n",
              "    </tr>\n",
              "  </thead>\n",
              "  <tbody>\n",
              "    <tr>\n",
              "      <th>5365</th>\n",
              "      <td>NaN</td>\n",
              "      <td>Inception</td>\n",
              "      <td>Movie</td>\n",
              "      <td>Action, Adventure, Sci-Fi</td>\n",
              "      <td>2010.0</td>\n",
              "      <td>tt1375666</td>\n",
              "      <td>8.8</td>\n",
              "      <td>2604741.0</td>\n",
              "      <td>AD, CH, DK, ES, FI, IN, IT, JP, NL, NO, SE, SM...</td>\n",
              "    </tr>\n",
              "    <tr>\n",
              "      <th>18057</th>\n",
              "      <td>NaN</td>\n",
              "      <td>Interstellar</td>\n",
              "      <td>Movie</td>\n",
              "      <td>Adventure, Drama, Sci-Fi</td>\n",
              "      <td>2014.0</td>\n",
              "      <td>tt0816692</td>\n",
              "      <td>8.7</td>\n",
              "      <td>2177976.0</td>\n",
              "      <td>AD, BZ, CH, DK, ES, FI, GY, IN, IT, JP, NI, NO...</td>\n",
              "    </tr>\n",
              "    <tr>\n",
              "      <th>497</th>\n",
              "      <td>NaN</td>\n",
              "      <td>The Prestige</td>\n",
              "      <td>Movie</td>\n",
              "      <td>Drama, Mystery, Sci-Fi</td>\n",
              "      <td>2006.0</td>\n",
              "      <td>tt0482571</td>\n",
              "      <td>8.5</td>\n",
              "      <td>1471907.0</td>\n",
              "      <td>CH, DK, FI, IT, NL, NO, SE, SM, VA</td>\n",
              "    </tr>\n",
              "    <tr>\n",
              "      <th>36953</th>\n",
              "      <td>NaN</td>\n",
              "      <td>What We Left Behind: Looking Back at Star Trek...</td>\n",
              "      <td>Movie</td>\n",
              "      <td>Documentary, Sci-Fi</td>\n",
              "      <td>2018.0</td>\n",
              "      <td>tt6332276</td>\n",
              "      <td>8.3</td>\n",
              "      <td>2281.0</td>\n",
              "      <td>US</td>\n",
              "    </tr>\n",
              "    <tr>\n",
              "      <th>16</th>\n",
              "      <td>NaN</td>\n",
              "      <td>Eternal Sunshine of the Spotless Mind</td>\n",
              "      <td>Movie</td>\n",
              "      <td>Drama, Romance, Sci-Fi</td>\n",
              "      <td>2004.0</td>\n",
              "      <td>tt0338013</td>\n",
              "      <td>8.3</td>\n",
              "      <td>1100379.0</td>\n",
              "      <td>AG, AR, AT, BB, BM, BO, BS, CL, CO, CR, DE, DO...</td>\n",
              "    </tr>\n",
              "    <tr>\n",
              "      <th>37592</th>\n",
              "      <td>NaN</td>\n",
              "      <td>Maanaadu</td>\n",
              "      <td>Movie</td>\n",
              "      <td>Action, Adventure, Sci-Fi</td>\n",
              "      <td>2021.0</td>\n",
              "      <td>tt4983780</td>\n",
              "      <td>8.2</td>\n",
              "      <td>25817.0</td>\n",
              "      <td>GB, GG, IE</td>\n",
              "    </tr>\n",
              "    <tr>\n",
              "      <th>365</th>\n",
              "      <td>NaN</td>\n",
              "      <td>V for Vendetta</td>\n",
              "      <td>Movie</td>\n",
              "      <td>Action, Drama, Sci-Fi</td>\n",
              "      <td>2005.0</td>\n",
              "      <td>tt0434409</td>\n",
              "      <td>8.1</td>\n",
              "      <td>1194401.0</td>\n",
              "      <td>CI, GH, JP, KE, MZ, NE, NG, NL, UG, US, ZA, ZM</td>\n",
              "    </tr>\n",
              "    <tr>\n",
              "      <th>12795</th>\n",
              "      <td>NaN</td>\n",
              "      <td>Mad Max: Fury Road</td>\n",
              "      <td>Movie</td>\n",
              "      <td>Action, Adventure, Sci-Fi</td>\n",
              "      <td>2015.0</td>\n",
              "      <td>tt1392190</td>\n",
              "      <td>8.1</td>\n",
              "      <td>1134953.0</td>\n",
              "      <td>AU, CI, ES, GH, IN, JP, KE, MZ, NE, NG, NZ, UG...</td>\n",
              "    </tr>\n",
              "    <tr>\n",
              "      <th>38398</th>\n",
              "      <td>NaN</td>\n",
              "      <td>Melody on Earth</td>\n",
              "      <td>Movie</td>\n",
              "      <td>Comedy, Drama, Sci-Fi</td>\n",
              "      <td>2018.0</td>\n",
              "      <td>tt8617064</td>\n",
              "      <td>8.0</td>\n",
              "      <td>33.0</td>\n",
              "      <td>GB, GG, JP</td>\n",
              "    </tr>\n",
              "    <tr>\n",
              "      <th>9330</th>\n",
              "      <td>NaN</td>\n",
              "      <td>Her</td>\n",
              "      <td>Movie</td>\n",
              "      <td>Drama, Romance, Sci-Fi</td>\n",
              "      <td>2013.0</td>\n",
              "      <td>tt1798709</td>\n",
              "      <td>8.0</td>\n",
              "      <td>684948.0</td>\n",
              "      <td>AG, AR, BB, BM, BO, BR, BS, CL, CO, CR, DO, EC...</td>\n",
              "    </tr>\n",
              "  </tbody>\n",
              "</table>\n",
              "</div>"
            ],
            "text/plain": [
              "       url                                              title   type  \\\n",
              "5365   NaN                                          Inception  Movie   \n",
              "18057  NaN                                       Interstellar  Movie   \n",
              "497    NaN                                       The Prestige  Movie   \n",
              "36953  NaN  What We Left Behind: Looking Back at Star Trek...  Movie   \n",
              "16     NaN              Eternal Sunshine of the Spotless Mind  Movie   \n",
              "37592  NaN                                           Maanaadu  Movie   \n",
              "365    NaN                                     V for Vendetta  Movie   \n",
              "12795  NaN                                 Mad Max: Fury Road  Movie   \n",
              "38398  NaN                                    Melody on Earth  Movie   \n",
              "9330   NaN                                                Her  Movie   \n",
              "\n",
              "                          genres  releaseYear     imdbId  imdbAverageRating  \\\n",
              "5365   Action, Adventure, Sci-Fi       2010.0  tt1375666                8.8   \n",
              "18057   Adventure, Drama, Sci-Fi       2014.0  tt0816692                8.7   \n",
              "497       Drama, Mystery, Sci-Fi       2006.0  tt0482571                8.5   \n",
              "36953        Documentary, Sci-Fi       2018.0  tt6332276                8.3   \n",
              "16        Drama, Romance, Sci-Fi       2004.0  tt0338013                8.3   \n",
              "37592  Action, Adventure, Sci-Fi       2021.0  tt4983780                8.2   \n",
              "365        Action, Drama, Sci-Fi       2005.0  tt0434409                8.1   \n",
              "12795  Action, Adventure, Sci-Fi       2015.0  tt1392190                8.1   \n",
              "38398      Comedy, Drama, Sci-Fi       2018.0  tt8617064                8.0   \n",
              "9330      Drama, Romance, Sci-Fi       2013.0  tt1798709                8.0   \n",
              "\n",
              "       imdbNumVotes                                 availableCountries  \n",
              "5365      2604741.0  AD, CH, DK, ES, FI, IN, IT, JP, NL, NO, SE, SM...  \n",
              "18057     2177976.0  AD, BZ, CH, DK, ES, FI, GY, IN, IT, JP, NI, NO...  \n",
              "497       1471907.0                 CH, DK, FI, IT, NL, NO, SE, SM, VA  \n",
              "36953        2281.0                                                 US  \n",
              "16        1100379.0  AG, AR, AT, BB, BM, BO, BS, CL, CO, CR, DE, DO...  \n",
              "37592       25817.0                                         GB, GG, IE  \n",
              "365       1194401.0     CI, GH, JP, KE, MZ, NE, NG, NL, UG, US, ZA, ZM  \n",
              "12795     1134953.0  AU, CI, ES, GH, IN, JP, KE, MZ, NE, NG, NZ, UG...  \n",
              "38398          33.0                                         GB, GG, JP  \n",
              "9330       684948.0  AG, AR, BB, BM, BO, BR, BS, CL, CO, CR, DO, EC...  "
            ]
          },
          "execution_count": 34,
          "metadata": {},
          "output_type": "execute_result"
        }
      ],
      "source": [
        "# Searching in the CSV file I noticed that there are 2 possible genre for the described one: Schi-Fi and Science Fiction\n",
        "f[(f['releaseYear'] >= 2000) & (f['type'] == 'Movie') & ((f['genres'].str.contains('Science Fiction', case=False)) | (f['genres'].str.contains('Sci-Fi', case=False)))].sort_values('imdbAverageRating', ascending = False)[:10]"
      ]
    },
    {
      "cell_type": "markdown",
      "metadata": {
        "id": "3xtyorwrpG3R"
      },
      "source": [
        "**2.5.** Calcula el nombre de pel·lícules que s'han llançat cada any des del 2000."
      ]
    },
    {
      "cell_type": "code",
      "execution_count": 22,
      "metadata": {
        "id": "6ULPeJ2_uVyZ"
      },
      "outputs": [
        {
          "data": {
            "text/plain": [
              "releaseYear\n",
              "2000.0     524\n",
              "2001.0     516\n",
              "2002.0     582\n",
              "2003.0     558\n",
              "2004.0     637\n",
              "2005.0     759\n",
              "2006.0     808\n",
              "2007.0     922\n",
              "2008.0     955\n",
              "2009.0    1082\n",
              "2010.0    1146\n",
              "2011.0    1313\n",
              "2012.0    1544\n",
              "2013.0    1931\n",
              "2014.0    2073\n",
              "2015.0    2252\n",
              "2016.0    2425\n",
              "2017.0    2643\n",
              "2018.0    2358\n",
              "2019.0     655\n",
              "2020.0     229\n",
              "2021.0     119\n",
              "2022.0     124\n",
              "2023.0     141\n",
              "2024.0     105\n",
              "dtype: int64"
            ]
          },
          "execution_count": 22,
          "metadata": {},
          "output_type": "execute_result"
        }
      ],
      "source": [
        "f[(f['releaseYear'] >= 2000) & (f['type'] == 'Movie')].groupby('releaseYear').size()"
      ]
    },
    {
      "cell_type": "markdown",
      "metadata": {
        "id": "OtGiG6dK44K4"
      },
      "source": [
        "**2.6.** Volem agrupar les pel·lícules per any de llançament, des de l'any 2000. Has d'obtenir dos objectse Series, on en els índexs tendrem l'any i en els valors:\n",
        "* en un objecte Series, el nombre total de vots en IMDB\n",
        "* en l'altre objecte Series, la valoració mitjana en IMDB"
      ]
    },
    {
      "cell_type": "code",
      "execution_count": 36,
      "metadata": {
        "id": "C4pXowb8uWvR"
      },
      "outputs": [
        {
          "name": "stdout",
          "output_type": "stream",
          "text": [
            "Movie yearly votes:\n",
            "releaseYear\n",
            "2000.0    16401181.0\n",
            "2001.0    17750029.0\n",
            "2002.0    18704791.0\n",
            "2003.0    18507717.0\n",
            "2004.0    22143258.0\n",
            "2005.0    20599881.0\n",
            "2006.0    21669495.0\n",
            "2007.0    24450134.0\n",
            "2008.0    29075591.0\n",
            "2009.0    25880648.0\n",
            "2010.0    27109881.0\n",
            "2011.0    28939339.0\n",
            "2012.0    31933605.0\n",
            "2013.0    34682419.0\n",
            "2014.0    35413300.0\n",
            "2015.0    26866731.0\n",
            "2016.0    28199097.0\n",
            "2017.0    24693376.0\n",
            "2018.0    21507364.0\n",
            "2019.0    19517747.0\n",
            "2020.0     4513403.0\n",
            "2021.0     5978655.0\n",
            "2022.0     7124137.0\n",
            "2023.0     4672335.0\n",
            "2024.0     1471987.0\n",
            "Name: imdbNumVotes, dtype: float64\n",
            "Movie yearly votes:\n",
            "releaseYear\n",
            "2000.0    5.646019\n",
            "2001.0    5.801575\n",
            "2002.0    5.813485\n",
            "2003.0    5.810556\n",
            "2004.0    5.865909\n",
            "2005.0    5.747874\n",
            "2006.0    5.756978\n",
            "2007.0    5.732648\n",
            "2008.0    5.714068\n",
            "2009.0    5.796257\n",
            "2010.0    5.790670\n",
            "2011.0    5.737143\n",
            "2012.0    5.801961\n",
            "2013.0    5.762973\n",
            "2014.0    5.824785\n",
            "2015.0    5.772575\n",
            "2016.0    5.761247\n",
            "2017.0    5.762633\n",
            "2018.0    5.754522\n",
            "2019.0    5.676308\n",
            "2020.0    5.419111\n",
            "2021.0    5.832203\n",
            "2022.0    5.883607\n",
            "2023.0    5.975556\n",
            "2024.0    5.723171\n",
            "Name: imdbAverageRating, dtype: float64\n"
          ]
        }
      ],
      "source": [
        "movie_yearly_votes = f[(f['releaseYear'] >= 2000) & (f['type'] == 'Movie')].groupby('releaseYear')['imdbNumVotes'].sum()\n",
        "print(f'Movie yearly votes:\\n{movie_yearly_votes}')\n",
        "\n",
        "movie_avg_rating = f[(f['releaseYear'] >= 2000) & (f['type'] == 'Movie')].groupby('releaseYear')['imdbAverageRating'].mean()\n",
        "print(f'Movie yearly votes:\\n{movie_avg_rating}')"
      ]
    },
    {
      "cell_type": "markdown",
      "metadata": {
        "id": "R9EXmG5FOLNe"
      },
      "source": [
        "**2.7.** A partir d'aquests dos objectes Series de l'apartat anterior, crea un nou objecte DataFrame amb 3 columnes:\n",
        "* Any\n",
        "* Vots en IMDB\n",
        "* Valoració mitjana en IMDB"
      ]
    },
    {
      "cell_type": "code",
      "execution_count": 42,
      "metadata": {
        "id": "8uDFFE45OuBd"
      },
      "outputs": [
        {
          "data": {
            "text/html": [
              "<div>\n",
              "<style scoped>\n",
              "    .dataframe tbody tr th:only-of-type {\n",
              "        vertical-align: middle;\n",
              "    }\n",
              "\n",
              "    .dataframe tbody tr th {\n",
              "        vertical-align: top;\n",
              "    }\n",
              "\n",
              "    .dataframe thead th {\n",
              "        text-align: right;\n",
              "    }\n",
              "</style>\n",
              "<table border=\"1\" class=\"dataframe\">\n",
              "  <thead>\n",
              "    <tr style=\"text-align: right;\">\n",
              "      <th></th>\n",
              "      <th>Year</th>\n",
              "      <th>IMDB Votes</th>\n",
              "      <th>IMDB Year AVG</th>\n",
              "    </tr>\n",
              "  </thead>\n",
              "  <tbody>\n",
              "    <tr>\n",
              "      <th>0</th>\n",
              "      <td>2000.0</td>\n",
              "      <td>16401181.0</td>\n",
              "      <td>5.646019</td>\n",
              "    </tr>\n",
              "    <tr>\n",
              "      <th>1</th>\n",
              "      <td>2001.0</td>\n",
              "      <td>17750029.0</td>\n",
              "      <td>5.801575</td>\n",
              "    </tr>\n",
              "    <tr>\n",
              "      <th>2</th>\n",
              "      <td>2002.0</td>\n",
              "      <td>18704791.0</td>\n",
              "      <td>5.813485</td>\n",
              "    </tr>\n",
              "    <tr>\n",
              "      <th>3</th>\n",
              "      <td>2003.0</td>\n",
              "      <td>18507717.0</td>\n",
              "      <td>5.810556</td>\n",
              "    </tr>\n",
              "    <tr>\n",
              "      <th>4</th>\n",
              "      <td>2004.0</td>\n",
              "      <td>22143258.0</td>\n",
              "      <td>5.865909</td>\n",
              "    </tr>\n",
              "    <tr>\n",
              "      <th>5</th>\n",
              "      <td>2005.0</td>\n",
              "      <td>20599881.0</td>\n",
              "      <td>5.747874</td>\n",
              "    </tr>\n",
              "    <tr>\n",
              "      <th>6</th>\n",
              "      <td>2006.0</td>\n",
              "      <td>21669495.0</td>\n",
              "      <td>5.756978</td>\n",
              "    </tr>\n",
              "    <tr>\n",
              "      <th>7</th>\n",
              "      <td>2007.0</td>\n",
              "      <td>24450134.0</td>\n",
              "      <td>5.732648</td>\n",
              "    </tr>\n",
              "    <tr>\n",
              "      <th>8</th>\n",
              "      <td>2008.0</td>\n",
              "      <td>29075591.0</td>\n",
              "      <td>5.714068</td>\n",
              "    </tr>\n",
              "    <tr>\n",
              "      <th>9</th>\n",
              "      <td>2009.0</td>\n",
              "      <td>25880648.0</td>\n",
              "      <td>5.796257</td>\n",
              "    </tr>\n",
              "    <tr>\n",
              "      <th>10</th>\n",
              "      <td>2010.0</td>\n",
              "      <td>27109881.0</td>\n",
              "      <td>5.790670</td>\n",
              "    </tr>\n",
              "    <tr>\n",
              "      <th>11</th>\n",
              "      <td>2011.0</td>\n",
              "      <td>28939339.0</td>\n",
              "      <td>5.737143</td>\n",
              "    </tr>\n",
              "    <tr>\n",
              "      <th>12</th>\n",
              "      <td>2012.0</td>\n",
              "      <td>31933605.0</td>\n",
              "      <td>5.801961</td>\n",
              "    </tr>\n",
              "    <tr>\n",
              "      <th>13</th>\n",
              "      <td>2013.0</td>\n",
              "      <td>34682419.0</td>\n",
              "      <td>5.762973</td>\n",
              "    </tr>\n",
              "    <tr>\n",
              "      <th>14</th>\n",
              "      <td>2014.0</td>\n",
              "      <td>35413300.0</td>\n",
              "      <td>5.824785</td>\n",
              "    </tr>\n",
              "    <tr>\n",
              "      <th>15</th>\n",
              "      <td>2015.0</td>\n",
              "      <td>26866731.0</td>\n",
              "      <td>5.772575</td>\n",
              "    </tr>\n",
              "    <tr>\n",
              "      <th>16</th>\n",
              "      <td>2016.0</td>\n",
              "      <td>28199097.0</td>\n",
              "      <td>5.761247</td>\n",
              "    </tr>\n",
              "    <tr>\n",
              "      <th>17</th>\n",
              "      <td>2017.0</td>\n",
              "      <td>24693376.0</td>\n",
              "      <td>5.762633</td>\n",
              "    </tr>\n",
              "    <tr>\n",
              "      <th>18</th>\n",
              "      <td>2018.0</td>\n",
              "      <td>21507364.0</td>\n",
              "      <td>5.754522</td>\n",
              "    </tr>\n",
              "    <tr>\n",
              "      <th>19</th>\n",
              "      <td>2019.0</td>\n",
              "      <td>19517747.0</td>\n",
              "      <td>5.676308</td>\n",
              "    </tr>\n",
              "    <tr>\n",
              "      <th>20</th>\n",
              "      <td>2020.0</td>\n",
              "      <td>4513403.0</td>\n",
              "      <td>5.419111</td>\n",
              "    </tr>\n",
              "    <tr>\n",
              "      <th>21</th>\n",
              "      <td>2021.0</td>\n",
              "      <td>5978655.0</td>\n",
              "      <td>5.832203</td>\n",
              "    </tr>\n",
              "    <tr>\n",
              "      <th>22</th>\n",
              "      <td>2022.0</td>\n",
              "      <td>7124137.0</td>\n",
              "      <td>5.883607</td>\n",
              "    </tr>\n",
              "    <tr>\n",
              "      <th>23</th>\n",
              "      <td>2023.0</td>\n",
              "      <td>4672335.0</td>\n",
              "      <td>5.975556</td>\n",
              "    </tr>\n",
              "    <tr>\n",
              "      <th>24</th>\n",
              "      <td>2024.0</td>\n",
              "      <td>1471987.0</td>\n",
              "      <td>5.723171</td>\n",
              "    </tr>\n",
              "  </tbody>\n",
              "</table>\n",
              "</div>"
            ],
            "text/plain": [
              "      Year  IMDB Votes  IMDB Year AVG\n",
              "0   2000.0  16401181.0       5.646019\n",
              "1   2001.0  17750029.0       5.801575\n",
              "2   2002.0  18704791.0       5.813485\n",
              "3   2003.0  18507717.0       5.810556\n",
              "4   2004.0  22143258.0       5.865909\n",
              "5   2005.0  20599881.0       5.747874\n",
              "6   2006.0  21669495.0       5.756978\n",
              "7   2007.0  24450134.0       5.732648\n",
              "8   2008.0  29075591.0       5.714068\n",
              "9   2009.0  25880648.0       5.796257\n",
              "10  2010.0  27109881.0       5.790670\n",
              "11  2011.0  28939339.0       5.737143\n",
              "12  2012.0  31933605.0       5.801961\n",
              "13  2013.0  34682419.0       5.762973\n",
              "14  2014.0  35413300.0       5.824785\n",
              "15  2015.0  26866731.0       5.772575\n",
              "16  2016.0  28199097.0       5.761247\n",
              "17  2017.0  24693376.0       5.762633\n",
              "18  2018.0  21507364.0       5.754522\n",
              "19  2019.0  19517747.0       5.676308\n",
              "20  2020.0   4513403.0       5.419111\n",
              "21  2021.0   5978655.0       5.832203\n",
              "22  2022.0   7124137.0       5.883607\n",
              "23  2023.0   4672335.0       5.975556\n",
              "24  2024.0   1471987.0       5.723171"
            ]
          },
          "execution_count": 42,
          "metadata": {},
          "output_type": "execute_result"
        }
      ],
      "source": [
        "movie_yearly_data = pd.DataFrame({\n",
        "\t'Year': movie_avg_rating.index,\n",
        "\t'IMDB Votes': movie_yearly_votes.values,\n",
        "\t'IMDB Year AVG': movie_avg_rating.values\n",
        "})\n",
        "f[(f['releaseYear'] == 2025)]\n",
        "movie_yearly_data"
      ]
    },
    {
      "cell_type": "markdown",
      "metadata": {
        "id": "flCXcjVnOh6n"
      },
      "source": [
        "**2.8.** Guarda el nou objecte DataFrame en un fitxer CSV al directori 'prime' de la teva unitat de Google Drive.\n",
        "\n",
        "---\n",
        "\n"
      ]
    },
    {
      "cell_type": "code",
      "execution_count": 25,
      "metadata": {
        "id": "mQio9WLiOg49"
      },
      "outputs": [],
      "source": [
        "# CSV version:\n",
        "\"\"\" \n",
        "movie_yearly_data.to_csv('./movie_yearly_data.csv', index=False)\n",
        "\"\"\"\n",
        "\n"
      ]
    },
    {
      "cell_type": "markdown",
      "metadata": {
        "id": "W1RrLTsx8RPZ"
      },
      "source": [
        "## Bloc 3: Matplotlib\n",
        "\n",
        "A partir del DataFrame de les sèries i pel·lícules d'Amazon Prime del bloc anterior, representa amb Matplotlib una figura amb quatre subplots, organitzats en dues files i dues columnes, d'aquesta manera:\n",
        "* Superior esquerra: histograma per al nombre de vots en IMDB\n",
        "* Superior dreta: histograma per a la valoració mitjana en IMDB\n",
        "* Inferior esquerra: nigul de punts on es relacionen el nombre de vots en IMDB amb la valoració mitjana en IMDB.\n",
        "* Inferior dreta: diagrama de punts i línies que mostri la variació per anys de la valoració mitjana en IMDB de les pel·lícules llançades des del 2000 (dataframe de l'apartat 2.7).\n",
        "\n",
        "Cada subplot ha de mostrar el títol corresponent i els eixos han d'incloure marques i una etiqueta descriptiva. A més, el gràfic de cada subplot ha d'utilitzar un color diferent.\n",
        "\n",
        "Tots els elements han de quedar disposats de manera que es pugui veure tot de manera correcta.\n",
        "\n",
        "Finalment, fes que es descarregui una imatge de la teva figura."
      ]
    },
    {
      "cell_type": "code",
      "execution_count": 64,
      "metadata": {
        "id": "n4pk5262QCD3"
      },
      "outputs": [
        {
          "data": {
            "image/png": "[encoded data removed]",
            "text/plain": [
              "<Figure size 2000x1500 with 4 Axes>"
            ]
          },
          "metadata": {},
          "output_type": "display_data"
        }
      ],
      "source": [
        "import matplotlib.pyplot as plt\n",
        "\n",
        "fig = plt.figure(figsize=(20, 20))\n",
        "\n",
        "sfig1 = fig.add_subplot(2,2,1)\n",
        "sfig2 = fig.add_subplot(2,2,2)\n",
        "sfig3 = fig.add_subplot(2,2,3)\n",
        "sfig4 = fig.add_subplot(2,2,4)\n",
        "plt.subplots_adjust(hspace=0.3)\n",
        "fig.set_figheight(15)\n",
        "\n",
        "\n",
        "sfig1.set_title('A - IMDB votes')\n",
        "sfig1.set_xlabel('Votes')\n",
        "sfig1.hist(f['imdbNumVotes'], edgecolor= 'black')\n",
        "\n",
        "sfig2.set_title('B - Average IMDB')\n",
        "sfig2.set_xlabel('Average IMDB valoration')\n",
        "sfig2.hist(f['imdbAverageRating'], edgecolor= 'black')\n",
        "\n",
        "sfig3.set_title('C - IMDB Votes (x-axis) VS Average (y-axis)')\n",
        "sfig3.set_xlabel('IMDB Votes')\n",
        "sfig3.set_ylabel('Average IMDB rating')\n",
        "sfig3.scatter(f['imdbNumVotes'], f['imdbAverageRating'], edgecolors=['black'])\n",
        "\n",
        "sfig4.set_title('D - Yearly IMDB average valoration per year')\n",
        "sfig4.plot(movie_yearly_data['Year'], movie_yearly_data['IMDB Year AVG'], 'bo-')\n",
        "sfig4.set_xlabel('Year')\n",
        "sfig4.set_ylabel('IMDB Average valoration')\n",
        "\n",
        "plt.savefig('./movie_yearly_data.png') # Save plot in the same directory\n",
        "plt.show()"
      ]
    }
  ],
  "metadata": {
    "colab": {
      "provenance": []
    },
    "kernelspec": {
      "display_name": ".venv",
      "language": "python",
      "name": "python3"
    },
    "language_info": {
      "codemirror_mode": {
        "name": "ipython",
        "version": 3
      },
      "file_extension": ".py",
      "mimetype": "text/x-python",
      "name": "python",
      "nbconvert_exporter": "python",
      "pygments_lexer": "ipython3",
      "version": "3.12.3"
    }
  },
  "nbformat": 4,
  "nbformat_minor": 0
}
