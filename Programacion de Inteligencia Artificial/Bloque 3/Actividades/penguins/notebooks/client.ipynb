{
 "cells": [
  {
   "cell_type": "markdown",
   "metadata": {},
   "source": [
    "# Execute API requests\n",
    "\n",
    "Available models endpoints: \n",
    "\n",
    "- Logistic Recression: `predict_lr`\n",
    "- SVM: `predict_svm`\n",
    "- Decission Tree: `predict_dt`\n",
    "- K-Nearest Neighbors: `predict_knn`\n",
    "\n",
    "Data format for bash (cURL) request\n",
    "\n",
    "```bash\n",
    "curl --request POST \"http://127.0.0.1:8000/[classification model enpoint]\" \\\n",
    "--header \"Content-Type: application/json\" \\\n",
    "--data-raw '{\n",
    "   \"island\": \"Torgersen | Biscoe | Dream\",\n",
    "   \"bill_length_mm\": \"N.N\",\n",
    "   \"bill_depth_mm\": \"N.N\",\n",
    "   \"flipper_length_mm\": \"N.N\",\n",
    "   \"body_mass_g\": \"N.N\",\n",
    "   \"sex\": \"Male | Female\"\n",
    "}'\n",
    "```\n",
    "\n"
   ]
  },
  {
   "cell_type": "markdown",
   "metadata": {},
   "source": [
    "Insted of executing the cURL command in this notebook I decided to create a base data cell and requests for each model with Python. To test how the models works, modify the `data` variable, this will be used in the under requests."
   ]
  },
  {
   "cell_type": "code",
   "execution_count": 21,
   "metadata": {},
   "outputs": [],
   "source": [
    "import requests\n",
    "\n",
    "BASE_URL = \"http://127.0.0.1:8000\"\n",
    "HEADERS = {\"Content-Type\": \"application/json\"}\n",
    "\n",
    "# Modify this data to test the models\n",
    "payload1 = {\n",
    "    'island': 'Biscoe',\n",
    "    'bill_length_mm': 39.1,\n",
    "    'bill_depth_mm': 18.7,\n",
    "    'flipper_length_mm': 181.0,\n",
    "    'body_mass_g': 3750.0,\n",
    "    'sex': 'Female',\n",
    "}\n",
    "\n",
    "payload2 = {\n",
    "    \"island\": \"Dream\",\n",
    "    \"bill_length_mm\": 45.3,\n",
    "    \"bill_depth_mm\": 17.1,\n",
    "    \"flipper_length_mm\": 200.0,\n",
    "    \"body_mass_g\": 4200.0,\n",
    "    \"sex\": \"Male\",\n",
    "}\n",
    "\n",
    "payload3 = {\n",
    "    \"island\": \"Torgersen\",\n",
    "    \"bill_length_mm\": 50.0,\n",
    "    \"bill_depth_mm\": 15.2,\n",
    "    \"flipper_length_mm\": 210.0,\n",
    "    \"body_mass_g\": 5000.0,\n",
    "    \"sex\": \"Male\",\n",
    "}"
   ]
  },
  {
   "cell_type": "markdown",
   "metadata": {},
   "source": [
    "### Logistic Regession request:"
   ]
  },
  {
   "cell_type": "code",
   "execution_count": 22,
   "metadata": {},
   "outputs": [
    {
     "name": "stdout",
     "output_type": "stream",
     "text": [
      "Status Code: 200\n",
      "Response JSON: {'penguin': 'Adelie', 'probability': 0.9992549584180538}\n"
     ]
    }
   ],
   "source": [
    "response = requests.post(f'{BASE_URL}/predict_lr', headers=HEADERS, json=payload1)\n",
    "\n",
    "# Print the response from the server\n",
    "print(\"Status Code:\", response.status_code)\n",
    "print(\"Response JSON:\", response.json())"
   ]
  },
  {
   "cell_type": "code",
   "execution_count": 23,
   "metadata": {},
   "outputs": [
    {
     "name": "stdout",
     "output_type": "stream",
     "text": [
      "Status Code: 200\n",
      "Response JSON: {'penguin': 'Chinstrap', 'probability': 0.7156977992485185}\n"
     ]
    }
   ],
   "source": [
    "response = requests.post(f'{BASE_URL}/predict_lr', headers=HEADERS, json=payload2)\n",
    "\n",
    "# Print the response from the server\n",
    "print(\"Status Code:\", response.status_code)\n",
    "print(\"Response JSON:\", response.json())"
   ]
  },
  {
   "cell_type": "code",
   "execution_count": 24,
   "metadata": {},
   "outputs": [
    {
     "name": "stdout",
     "output_type": "stream",
     "text": [
      "Status Code: 200\n",
      "Response JSON: {'penguin': 'Gentoo', 'probability': 0.9751382186573613}\n"
     ]
    }
   ],
   "source": [
    "response = requests.post(f'{BASE_URL}/predict_lr', headers=HEADERS, json=payload3)\n",
    "\n",
    "# Print the response from the server\n",
    "print(\"Status Code:\", response.status_code)\n",
    "print(\"Response JSON:\", response.json())"
   ]
  },
  {
   "cell_type": "markdown",
   "metadata": {},
   "source": [
    "### SVM"
   ]
  },
  {
   "cell_type": "code",
   "execution_count": 25,
   "metadata": {},
   "outputs": [
    {
     "name": "stdout",
     "output_type": "stream",
     "text": [
      "Status Code: 200\n",
      "Response JSON: {'penguin': 'Adelie', 'probability': 0.9925496889852713}\n"
     ]
    }
   ],
   "source": [
    "response = requests.post(f'{BASE_URL}/predict_svm', headers=HEADERS, json=payload1)\n",
    "\n",
    "# Print the response from the server\n",
    "print(\"Status Code:\", response.status_code)\n",
    "print(\"Response JSON:\", response.json())"
   ]
  },
  {
   "cell_type": "code",
   "execution_count": 26,
   "metadata": {},
   "outputs": [
    {
     "name": "stdout",
     "output_type": "stream",
     "text": [
      "Status Code: 200\n",
      "Response JSON: {'penguin': 'Chinstrap', 'probability': 0.6484139044803195}\n"
     ]
    }
   ],
   "source": [
    "response = requests.post(f'{BASE_URL}/predict_svm', headers=HEADERS, json=payload2)\n",
    "\n",
    "# Print the response from the server\n",
    "print(\"Status Code:\", response.status_code)\n",
    "print(\"Response JSON:\", response.json())"
   ]
  },
  {
   "cell_type": "code",
   "execution_count": 27,
   "metadata": {},
   "outputs": [
    {
     "name": "stdout",
     "output_type": "stream",
     "text": [
      "Status Code: 200\n",
      "Response JSON: {'penguin': 'Gentoo', 'probability': 0.9115485668976322}\n"
     ]
    }
   ],
   "source": [
    "response = requests.post(f'{BASE_URL}/predict_svm', headers=HEADERS, json=payload3)\n",
    "\n",
    "# Print the response from the server\n",
    "print(\"Status Code:\", response.status_code)\n",
    "print(\"Response JSON:\", response.json())"
   ]
  },
  {
   "cell_type": "markdown",
   "metadata": {},
   "source": [
    "### Decission Tree"
   ]
  },
  {
   "cell_type": "code",
   "execution_count": 28,
   "metadata": {},
   "outputs": [
    {
     "name": "stdout",
     "output_type": "stream",
     "text": [
      "Status Code: 200\n",
      "Response JSON: {'penguin': 'Adelie', 'probability': 1.0}\n"
     ]
    }
   ],
   "source": [
    "response = requests.post(f'{BASE_URL}/predict_dt', headers=HEADERS, json=payload1)\n",
    "\n",
    "# Print the response from the server\n",
    "print(\"Status Code:\", response.status_code)\n",
    "print(\"Response JSON:\", response.json())"
   ]
  },
  {
   "cell_type": "code",
   "execution_count": 29,
   "metadata": {},
   "outputs": [
    {
     "name": "stdout",
     "output_type": "stream",
     "text": [
      "Status Code: 200\n",
      "Response JSON: {'penguin': 'Chinstrap', 'probability': 1.0}\n"
     ]
    }
   ],
   "source": [
    "response = requests.post(f'{BASE_URL}/predict_dt', headers=HEADERS, json=payload2)\n",
    "\n",
    "# Print the response from the server\n",
    "print(\"Status Code:\", response.status_code)\n",
    "print(\"Response JSON:\", response.json())"
   ]
  },
  {
   "cell_type": "code",
   "execution_count": 30,
   "metadata": {},
   "outputs": [
    {
     "name": "stdout",
     "output_type": "stream",
     "text": [
      "Status Code: 200\n",
      "Response JSON: {'penguin': 'Gentoo', 'probability': 1.0}\n"
     ]
    }
   ],
   "source": [
    "response = requests.post(f'{BASE_URL}/predict_dt', headers=HEADERS, json=payload3)\n",
    "\n",
    "# Print the response from the server\n",
    "print(\"Status Code:\", response.status_code)\n",
    "print(\"Response JSON:\", response.json())"
   ]
  },
  {
   "cell_type": "markdown",
   "metadata": {},
   "source": [
    "### K-Nearest Neighbors"
   ]
  },
  {
   "cell_type": "code",
   "execution_count": 31,
   "metadata": {},
   "outputs": [
    {
     "name": "stdout",
     "output_type": "stream",
     "text": [
      "Status Code: 200\n",
      "Response JSON: {'penguin': 'Adelie', 'probability': 1.0}\n"
     ]
    }
   ],
   "source": [
    "response = requests.post(f'{BASE_URL}/predict_knn', headers=HEADERS, json=payload1)\n",
    "\n",
    "# Print the response from the server\n",
    "print(\"Status Code:\", response.status_code)\n",
    "print(\"Response JSON:\", response.json())"
   ]
  },
  {
   "cell_type": "code",
   "execution_count": 32,
   "metadata": {},
   "outputs": [
    {
     "name": "stdout",
     "output_type": "stream",
     "text": [
      "Status Code: 200\n",
      "Response JSON: {'penguin': 'Gentoo', 'probability': 0.6666666666666666}\n"
     ]
    }
   ],
   "source": [
    "response = requests.post(f'{BASE_URL}/predict_knn', headers=HEADERS, json=payload2)\n",
    "\n",
    "# Print the response from the server\n",
    "print(\"Status Code:\", response.status_code)\n",
    "print(\"Response JSON:\", response.json())"
   ]
  },
  {
   "cell_type": "code",
   "execution_count": 33,
   "metadata": {},
   "outputs": [
    {
     "name": "stdout",
     "output_type": "stream",
     "text": [
      "Status Code: 200\n",
      "Response JSON: {'penguin': 'Gentoo', 'probability': 1.0}\n"
     ]
    }
   ],
   "source": [
    "response = requests.post(f'{BASE_URL}/predict_knn', headers=HEADERS, json=payload3)\n",
    "\n",
    "# Print the response from the server\n",
    "print(\"Status Code:\", response.status_code)\n",
    "print(\"Response JSON:\", response.json())"
   ]
  }
 ],
 "metadata": {
  "kernelspec": {
   "display_name": ".venv",
   "language": "python",
   "name": "python3"
  },
  "language_info": {
   "codemirror_mode": {
    "name": "ipython",
    "version": 3
   },
   "file_extension": ".py",
   "mimetype": "text/x-python",
   "name": "python",
   "nbconvert_exporter": "python",
   "pygments_lexer": "ipython3",
   "version": "3.13.0"
  }
 },
 "nbformat": 4,
 "nbformat_minor": 2
}
