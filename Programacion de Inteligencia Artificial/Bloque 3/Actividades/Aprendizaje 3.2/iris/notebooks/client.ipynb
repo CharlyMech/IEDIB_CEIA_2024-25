{
 "cells": [
  {
   "cell_type": "markdown",
   "metadata": {},
   "source": [
    "## Requests for Logistic Regression\n",
    "\n",
    "For bash:\n",
    "\n",
    "```bash\n",
    "\tcurl --request POST \"http://127.0.0.1:8000/predict_lr\" \\\n",
    "\t--header \"Content-Type: application/json\" \\\n",
    "\t--data-raw '{\n",
    "    \t\"longitud_petal\": N.N,\n",
    "    \t\"amplada_petal\": N.N\n",
    "\t}'\n",
    "```"
   ]
  },
  {
   "cell_type": "code",
   "execution_count": 1,
   "metadata": {},
   "outputs": [
    {
     "name": "stdout",
     "output_type": "stream",
     "text": [
      "{\n",
      "  \"flor\": \"Iris Setosa\",\n",
      "  \"probabilitat\": 0.7866056818579247\n",
      "}\n"
     ]
    }
   ],
   "source": [
    "!curl --request POST \"http://127.0.0.1:8000/predict_lr\" \\\n",
    "--header \"Content-Type: application/json\" \\\n",
    "--data-raw \"{\\\n",
    "    \\\"longitud_petal\\\": 1.6,\\\n",
    "    \\\"amplada_petal\\\": 0.2\\\n",
    "}\""
   ]
  },
  {
   "cell_type": "code",
   "execution_count": 2,
   "metadata": {},
   "outputs": [
    {
     "name": "stdout",
     "output_type": "stream",
     "text": [
      "{\n",
      "  \"flor\": \"Iris Versicolour\",\n",
      "  \"probabilitat\": 0.9829966957126781\n",
      "}\n"
     ]
    }
   ],
   "source": [
    "!curl --request POST \"http://127.0.0.1:8000/predict_lr\" \\\n",
    "--header \"Content-Type: application/json\" \\\n",
    "--data-raw \"{\\\n",
    "    \\\"longitud_petal\\\": 4.4,\\\n",
    "    \\\"amplada_petal\\\": 1.4\\\n",
    "}\""
   ]
  },
  {
   "cell_type": "code",
   "execution_count": 3,
   "metadata": {},
   "outputs": [
    {
     "name": "stdout",
     "output_type": "stream",
     "text": [
      "{\n",
      "  \"flor\": \"Iris Virginica\",\n",
      "  \"probabilitat\": 0.6228617347843917\n",
      "}\n"
     ]
    }
   ],
   "source": [
    "!curl --request POST \"http://127.0.0.1:8000/predict_lr\" \\\n",
    "--header \"Content-Type: application/json\" \\\n",
    "--data-raw \"{\\\n",
    "    \\\"longitud_petal\\\": 6.7,\\\n",
    "    \\\"amplada_petal\\\": 2.2\\\n",
    "}\""
   ]
  },
  {
   "cell_type": "markdown",
   "metadata": {},
   "source": [
    "## Requests for SVM\n",
    "\n",
    "For bash:\n",
    "\n",
    "```bash\n",
    "\tcurl --request POST \"http://127.0.0.1:8000/predict_svm\" \\\n",
    "\t--header \"Content-Type: application/json\" \\\n",
    "\t--data-raw '{\n",
    "\t\t\"longitud_petal\": N.N,\n",
    "    \t\"amplada_petal\": N.N\n",
    "\t}'\n",
    "```"
   ]
  },
  {
   "cell_type": "code",
   "execution_count": 4,
   "metadata": {},
   "outputs": [
    {
     "name": "stdout",
     "output_type": "stream",
     "text": [
      "{\n",
      "  \"flor\": \"Iris Setosa\",\n",
      "  \"probabilitat\": 0.9580715513108843\n",
      "}\n"
     ]
    }
   ],
   "source": [
    "!curl --request POST \"http://127.0.0.1:8000/predict_svm\" \\\n",
    "--header \"Content-Type: application/json\" \\\n",
    "--data-raw \"{\\\n",
    "    \\\"longitud_petal\\\": 1.6,\\\n",
    "    \\\"amplada_petal\\\": 0.2\\\n",
    "}\""
   ]
  },
  {
   "cell_type": "code",
   "execution_count": 5,
   "metadata": {},
   "outputs": [
    {
     "name": "stdout",
     "output_type": "stream",
     "text": [
      "{\n",
      "  \"flor\": \"Iris Versicolour\",\n",
      "  \"probabilitat\": 0.924673408170966\n",
      "}\n"
     ]
    }
   ],
   "source": [
    "!curl --request POST \"http://127.0.0.1:8000/predict_svm\" \\\n",
    "--header \"Content-Type: application/json\" \\\n",
    "--data-raw \"{\\\n",
    "    \\\"longitud_petal\\\": 4.4,\\\n",
    "    \\\"amplada_petal\\\": 1.4\\\n",
    "}\""
   ]
  },
  {
   "cell_type": "code",
   "execution_count": 6,
   "metadata": {},
   "outputs": [
    {
     "name": "stdout",
     "output_type": "stream",
     "text": [
      "{\n",
      "  \"flor\": \"Iris Virginica\",\n",
      "  \"probabilitat\": 0.9960172694345333\n",
      "}\n"
     ]
    }
   ],
   "source": [
    "!curl --request POST \"http://127.0.0.1:8000/predict_svm\" \\\n",
    "--header \"Content-Type: application/json\" \\\n",
    "--data-raw \"{\\\n",
    "    \\\"longitud_petal\\\": 6.7,\\\n",
    "    \\\"amplada_petal\\\": 2.2\\\n",
    "}\""
   ]
  },
  {
   "cell_type": "markdown",
   "metadata": {},
   "source": [
    "## Requests for Decision Tree\n",
    "\n",
    "For bash:\n",
    "\n",
    "```bash\n",
    "\tcurl --request POST \"http://127.0.0.1:8000/predict_dt\" \\\n",
    "\t--header \"Content-Type: application/json\" \\\n",
    "\t--data-raw '{\n",
    "\t\t\"longitud_petal\": N.N,\n",
    "    \t\"amplada_petal\": N.N\n",
    "\t}'\n",
    "```"
   ]
  },
  {
   "cell_type": "code",
   "execution_count": 7,
   "metadata": {},
   "outputs": [
    {
     "name": "stdout",
     "output_type": "stream",
     "text": [
      "{\n",
      "  \"flor\": \"Iris Setosa\",\n",
      "  \"probabilitat\": 1.0\n",
      "}\n"
     ]
    }
   ],
   "source": [
    "!curl --request POST \"http://127.0.0.1:8000/predict_dt\" \\\n",
    "--header \"Content-Type: application/json\" \\\n",
    "--data-raw \"{\\\n",
    "    \\\"longitud_petal\\\": 1.6,\\\n",
    "    \\\"amplada_petal\\\": 0.2\\\n",
    "}\""
   ]
  },
  {
   "cell_type": "code",
   "execution_count": 8,
   "metadata": {},
   "outputs": [
    {
     "name": "stdout",
     "output_type": "stream",
     "text": [
      "{\n",
      "  \"flor\": \"Iris Versicolour\",\n",
      "  \"probabilitat\": 1.0\n",
      "}\n"
     ]
    }
   ],
   "source": [
    "!curl --request POST \"http://127.0.0.1:8000/predict_dt\" \\\n",
    "--header \"Content-Type: application/json\" \\\n",
    "--data-raw \"{\\\n",
    "    \\\"longitud_petal\\\": 4.4,\\\n",
    "    \\\"amplada_petal\\\": 1.4\\\n",
    "}\""
   ]
  },
  {
   "cell_type": "code",
   "execution_count": 9,
   "metadata": {},
   "outputs": [
    {
     "name": "stdout",
     "output_type": "stream",
     "text": [
      "{\n",
      "  \"flor\": \"Iris Virginica\",\n",
      "  \"probabilitat\": 1.0\n",
      "}\n"
     ]
    }
   ],
   "source": [
    "!curl --request POST \"http://127.0.0.1:8000/predict_dt\" \\\n",
    "--header \"Content-Type: application/json\" \\\n",
    "--data-raw \"{\\\n",
    "    \\\"longitud_petal\\\": 6.7,\\\n",
    "    \\\"amplada_petal\\\": 2.2\\\n",
    "}\""
   ]
  },
  {
   "cell_type": "markdown",
   "metadata": {},
   "source": [
    "## Requests for K-Nearests Neighbor\n",
    "\n",
    "For bash:\n",
    "\n",
    "```bash\n",
    "\tcurl --request POST \"http://127.0.0.1:8000/predict_knn\" \\\n",
    "\t--header \"Content-Type: application/json\" \\\n",
    "\t--data-raw '{\n",
    "\t\t\"longitud_petal\": N.N,\n",
    "    \t\"amplada_petal\": N.N\n",
    "\t}'\n",
    "```"
   ]
  },
  {
   "cell_type": "code",
   "execution_count": 10,
   "metadata": {},
   "outputs": [
    {
     "name": "stdout",
     "output_type": "stream",
     "text": [
      "{\n",
      "  \"flor\": \"Iris Setosa\",\n",
      "  \"probabilitat\": 1.0\n",
      "}\n"
     ]
    }
   ],
   "source": [
    "!curl --request POST \"http://127.0.0.1:8000/predict_knn\" \\\n",
    "--header \"Content-Type: application/json\" \\\n",
    "--data-raw \"{\\\n",
    "    \\\"longitud_petal\\\": 1.6,\\\n",
    "    \\\"amplada_petal\\\": 0.2\\\n",
    "}\""
   ]
  },
  {
   "cell_type": "code",
   "execution_count": 11,
   "metadata": {},
   "outputs": [
    {
     "name": "stdout",
     "output_type": "stream",
     "text": [
      "{\n",
      "  \"flor\": \"Iris Versicolour\",\n",
      "  \"probabilitat\": 1.0\n",
      "}\n"
     ]
    }
   ],
   "source": [
    "!curl --request POST \"http://127.0.0.1:8000/predict_knn\" \\\n",
    "--header \"Content-Type: application/json\" \\\n",
    "--data-raw \"{\\\n",
    "    \\\"longitud_petal\\\": 4.4,\\\n",
    "    \\\"amplada_petal\\\": 1.4\\\n",
    "}\""
   ]
  },
  {
   "cell_type": "code",
   "execution_count": 12,
   "metadata": {},
   "outputs": [
    {
     "name": "stdout",
     "output_type": "stream",
     "text": [
      "{\n",
      "  \"flor\": \"Iris Virginica\",\n",
      "  \"probabilitat\": 1.0\n",
      "}\n"
     ]
    }
   ],
   "source": [
    "!curl --request POST \"http://127.0.0.1:8000/predict_knn\" \\\n",
    "--header \"Content-Type: application/json\" \\\n",
    "--data-raw \"{\\\n",
    "    \\\"longitud_petal\\\": 6.7,\\\n",
    "    \\\"amplada_petal\\\": 2.2\\\n",
    "}\""
   ]
  }
 ],
 "metadata": {
  "kernelspec": {
   "display_name": "practice-case-mdNG740H-py3.13",
   "language": "python",
   "name": "python3"
  },
  "language_info": {
   "codemirror_mode": {
    "name": "ipython",
    "version": 3
   },
   "file_extension": ".py",
   "mimetype": "text/x-python",
   "name": "python",
   "nbconvert_exporter": "python",
   "pygments_lexer": "ipython3",
   "version": "3.13.0"
  }
 },
 "nbformat": 4,
 "nbformat_minor": 2
}
