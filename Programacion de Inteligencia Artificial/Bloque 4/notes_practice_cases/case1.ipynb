{
 "cells": [
  {
   "cell_type": "markdown",
   "metadata": {},
   "source": [
    "Modified code provided by Microsoft at Azure's endpoints consumption. In my case I decided not tu use auth."
   ]
  },
  {
   "cell_type": "code",
   "execution_count": null,
   "metadata": {},
   "outputs": [
    {
     "name": "stdout",
     "output_type": "stream",
     "text": [
      "b'{\"Results\": [494.967363510534]}'\n",
      "------------\n",
      "b'{\"Results\": [1081.5892297384094]}'\n"
     ]
    }
   ],
   "source": [
    "import urllib.request\n",
    "import json\n",
    "import os\n",
    "import ssl\n",
    "\n",
    "def allowSelfSignedHttps(allowed):\n",
    "    # bypass the server certificate verification on client side\n",
    "    if allowed and not os.environ.get('PYTHONHTTPSVERIFY', '') and getattr(ssl, '_create_unverified_context', None):\n",
    "        ssl._create_default_https_context = ssl._create_unverified_context\n",
    "\n",
    "allowSelfSignedHttps(True) # this line is needed if you use self-signed certificate in your scoring service.\n",
    "\n",
    "# Request data goes here\n",
    "# The example below assumes JSON formatting which may be updated\n",
    "# depending on the format your endpoint expects.\n",
    "# More information can be found here:\n",
    "# https://docs.microsoft.com/azure/machine-learning/how-to-deploy-advanced-entry-script\n",
    "\n",
    "def execute_request(data: dict):\n",
    "\tbody = str.encode(json.dumps(data))\n",
    "\turl = 'http://16b1ac2e-cc30-4d2b-bf7f-4a6f06281934.francecentral.azurecontainer.io/score' # Might be down by the time this file is on GitHub\n",
    "\theaders = {'Content-Type':'application/json'}\n",
    "\treq = urllib.request.Request(url, body, headers)\n",
    "\n",
    "\ttry:\n",
    "\t\tresponse = urllib.request.urlopen(req)\n",
    "\t\tresult = response.read()\n",
    "\t\tprint(result)\n",
    "\texcept urllib.error.HTTPError as error:\n",
    "\t\tprint(\"The request failed with status code: \" + str(error.code))\n",
    "\n",
    "\t\t# Print the headers - they include the requert ID and the timestamp, which are useful for debugging the failure\n",
    "\t\tprint(error.info())\n",
    "\t\tprint(error.read().decode(\"utf8\", 'ignore'))\n",
    "\n",
    "\n",
    "data1 = {\n",
    "  \"Inputs\": {\n",
    "    \"data\": [\n",
    "      {\n",
    "        \"day\": 6,\n",
    "        \"mnth\": 1,\n",
    "        \"year\": 2024,\n",
    "        \"season\": 1,\n",
    "        \"holiday\": 1,\n",
    "        \"weekday\": 5,\n",
    "        \"workingday\": 0,\n",
    "        \"weathersit\": 3,\n",
    "        \"temp\": 0.25,\n",
    "        \"atemp\": 0.25,\n",
    "        \"hum\": 0.5,\n",
    "        \"windspeed\": 0.2\n",
    "      }\n",
    "    ]\n",
    "  },\n",
    "  \"GlobalParameters\": 1.0\n",
    "}  \n",
    "execute_request(data1)\n",
    "print(\"------------\")\n",
    "data2 = {\n",
    "  \"Inputs\": {\n",
    "    \"data\": [\n",
    "      {\n",
    "        \"day\": 1,\n",
    "        \"mnth\": 8,\n",
    "        \"year\": 2024,\n",
    "        \"season\": 3,\n",
    "        \"holiday\": 0,\n",
    "        \"weekday\": 4,\n",
    "        \"workingday\": 1,\n",
    "        \"weathersit\": 1,\n",
    "        \"temp\": 0.6,\n",
    "        \"atemp\": 0.6,\n",
    "        \"hum\": 0.7,\n",
    "        \"windspeed\": 0.1\n",
    "      }\n",
    "    ]\n",
    "  },\n",
    "  \"GlobalParameters\": 1.0\n",
    "}  \n",
    "execute_request(data2)"
   ]
  }
 ],
 "metadata": {
  "kernelspec": {
   "display_name": ".venv",
   "language": "python",
   "name": "python3"
  },
  "language_info": {
   "codemirror_mode": {
    "name": "ipython",
    "version": 3
   },
   "file_extension": ".py",
   "mimetype": "text/x-python",
   "name": "python",
   "nbconvert_exporter": "python",
   "pygments_lexer": "ipython3",
   "version": "3.10.15"
  }
 },
 "nbformat": 4,
 "nbformat_minor": 2
}
