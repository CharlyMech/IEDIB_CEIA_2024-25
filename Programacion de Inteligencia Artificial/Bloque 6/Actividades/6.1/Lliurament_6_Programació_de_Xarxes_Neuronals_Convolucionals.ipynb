{
  "nbformat": 4,
  "nbformat_minor": 0,
  "metadata": {
    "colab": {
      "provenance": []
    },
    "kernelspec": {
      "name": "python3",
      "display_name": "Python 3"
    },
    "language_info": {
      "name": "python"
    }
  },
  "cells": [
    {
      "cell_type": "markdown",
      "source": [
        "#Programació d'Intel·ligència Artificial. Lliurament 6\n",
        "\n",
        "Hi ha tres preguntes: la primera de programació de xarxes neuronals convolucionals i la segona d'aplicació a la transferència d'estil.\n",
        "\n",
        "Totes Les preguntes valen 2.5 punts. Dins cada pregunta, tots els apartats tenen el mateix pes."
      ],
      "metadata": {
        "id": "YDWBb8m83dc_"
      }
    },
    {
      "cell_type": "markdown",
      "source": [
        "#Pregunta 1. De xarxes neuronals densament connectades a xarxes convolucionals.\n",
        "\n",
        "En aquesta pregunta, preneu com a referència el següent classificador d'imatges de la web de TensorFlow (https://www.tensorflow.org/tutorials/keras/classification). Modificau la construcció del model seguint les indicacions dels apunts (https://iedib.net/avirtual/mod/book/view.php?id=61663&chapterid=72084).\n",
        "\n",
        "a) Definiu el model com a seqüencial.\n",
        "\n",
        "b) Afegiu una primera capa convolucional. Especificau la mida de l'entrada d'acord amb les imatges (input_size). Quants de filtres té? De quina mida?\n",
        "\n",
        "c) Afegiu una capa de max-pooling 2x2.\n",
        "\n",
        "d) Construïu un segon bloc convolucional, seguint l'esquema dels apunts. Quants de filtres té?\n",
        "\n",
        "e) Quina precisió obté aquest model en el conjunt de test? Millora el resultat respecte del del tutorial?\n",
        "\n"
      ],
      "metadata": {
        "id": "sYfFcbvB3ydq"
      }
    },
    {
      "cell_type": "markdown",
      "source": [
        "# Pregunta 2. Nombre de paràmetres de les capes convolucionals\n",
        "\n",
        "Aquesta pregunta es basa en un exemple de classificació d'imatges a partir de la base de dades MNIST.\n",
        "https://keras.io/examples/vision/mnist_convnet/\n",
        "\n",
        "Executau l'exemple a partir del quadern Colab que se us dona i responeu les qüestions següents.\n",
        "\n",
        "a) Obteniu el nombre de paràmetres entrenables de la primera capa a partir de la mida dels filtres i les imatges d'entrada. Teniu en compte el biaix.\n",
        "\n",
        "b) Quina és la mida de la sortida de la primera capa de max-pooling? Això ho necessitareu a l'apartat següent.\n",
        "\n",
        "c) Obteniu el nombre de paràmetres entrenables de la segona capa ( a partir de la mida de la sortida de la capa anterior de pooling, el nombre de filtres i la seva mida.\n",
        "\n",
        "d) Comprovau si eliminant la capa de Dropout final els resultats de classificació del model empitjoren."
      ],
      "metadata": {
        "id": "8xqXy0nL6_cF"
      }
    },
    {
      "cell_type": "markdown",
      "source": [
        "#Pregunta 3. Transferència d'estil\n",
        "\n",
        "En aquesta pregunta aprendreu a transformar una imatge segons l'estil d'una altra. Per això aplicareu el codi de l'exemple https://www.tensorflow.org/tutorials/generative/style_transfer a unes imatges vostres.\n",
        "\n",
        "a) Triau una imatge d'un animal, extreta per exemple de Wikimedia.\n",
        "\n",
        "b) Triau tres imatges de diversos pintors. Per exemple: Matisse, Monet, Mondrian, Miró o Van Gogh poden donar bon resultat. Afegiu les imatges\n",
        "\n",
        "c) Obteniu la transformació de la imatge original amb els tres estils que heu triat. Quina dona més bon resultat?\n",
        "\n",
        "En aquesta pregunta no és necessari que lliureu el vostre codi, basta inserir les vostres set imatges: una fotografia sense transformar, tres quadres de pintors i tres imatges transformades."
      ],
      "metadata": {
        "id": "eqb-cjnA7_uC"
      }
    },
    {
      "cell_type": "markdown",
      "source": [
        "# Pregunta 4. Exemple de CNN amb keras"
      ],
      "metadata": {
        "id": "IbCTzkrEqmTR"
      }
    },
    {
      "cell_type": "markdown",
      "source": [
        "Triau un exemple sistema de visió utilitzant xarxes neuronals convolucionals implementat en keras del catàleg https://keras.io/examples/vision/ i realitzau quatre activitats, seguint aquest guió.\n",
        "\n",
        "a) Descripció del sistema.\n",
        "\n",
        "b) Quins paràmetres pensau que poden influir en el rendiment.\n",
        "\n",
        "c) Modificació dels valors d'aquests paràmetres.\n",
        "\n",
        "d) Comparació dels resultats obtinguts."
      ],
      "metadata": {
        "id": "-ZO5c6kLqs3X"
      }
    }
  ]
}