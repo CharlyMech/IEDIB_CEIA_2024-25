{
  "cells": [
    {
      "cell_type": "markdown",
      "metadata": {
        "id": "Wx1nesh8tcOc"
      },
      "source": [
        "Este es el enunciado de la primera tarea de **Programación de Inteligencia Artificial**.\n",
        "\n",
        "Hay 12 ejercicios que debes responder en la celda de código que hay debajo de cada enunciado (si lo necesitas, puedes usar más de una).\n",
        "\n",
        "Todos los ejercicios valen lo mismo: sobre un total de 12 puntos, cada ejercicio vale 1 punto.\n"
      ]
    },
    {
      "cell_type": "markdown",
      "metadata": {
        "id": "kLaYJXVKgtyj"
      },
      "source": [
        "# Ejercicio 1\n",
        "\n",
        "Pregunta al usuario en qué posición ha terminado un atleta la prueba de maratón de los Juegos Olímpicos. Debes decir qué premio le corresponde:\n",
        "* Medalla de oro para el primero\n",
        "* Medalla de plata para el segundo\n",
        "* Medalla de bronce para el tercero\n",
        "* Diploma olímpico entre el cuarto y octavo\n",
        "* Ningún premio a partir del noveno\n"
      ]
    },
    {
      "cell_type": "code",
      "execution_count": 43,
      "metadata": {
        "id": "cSrNAzE2gsjV"
      },
      "outputs": [
        {
          "name": "stdout",
          "output_type": "stream",
          "text": [
            "Athlete won THE GOLD MEDAL!\n"
          ]
        }
      ],
      "source": [
        "def get_olympic_price(position: int) -> str:\n",
        "\tolympic_price = 'Athlete won '\n",
        "\tif position == 1:\n",
        "\t\tolympic_price += 'THE GOLD MEDAL!'\n",
        "\telif position == 2:\n",
        "\t\tolympic_price += 'THE SILVER MEDAL!'\n",
        "\telif position == 3:\n",
        "\t\tolympic_price += 'THE BRONZE MEDAL!'\n",
        "\telif position >= 4 and position <= 8:\n",
        "\t\tolympic_price += 'an olympic diploma.'\n",
        "\telif position >= 9:\n",
        "\t\tolympic_price = 'no award has been granted'\n",
        "\telse:\n",
        "\t\treturn 'Please provide a valid input'\n",
        "\t\n",
        "\treturn olympic_price\n",
        "\n",
        "if __name__ == '__main__':\n",
        "\tposition = input('Introduce the athlete final position:')\n",
        "\ttry:\n",
        "\t\tprint(get_olympic_price(int(position)))\n",
        "\texcept (TypeError, ValueError) as e:\n",
        "\t\tprint(f'Invalid input type: {e}')\n"
      ]
    },
    {
      "cell_type": "markdown",
      "metadata": {
        "id": "xE45erbugvXQ"
      },
      "source": [
        "# Ejercicio 2\n",
        "\n",
        "En un sorteo de lotería, el premio mayor ha sido el 12345. Pregunta al usuario cuál es su número y cuántos euros ha jugado. Determina qué cantidad le corresponde de premio:\n",
        "* Premio gordo: ha acertado los 5 números. 10.000 euros por euro jugado\n",
        "* Reintegro: ha acertado el último número, 1 euro por euro jugado\n",
        "* Terminación de 2 cifras: ha acertado las 2 últimas cifras, 10 euros por euro jugado\n",
        "* Terminación de 3 cifras: ha acertado las 3 últimas cifras, 100 euros por euro jugado\n",
        "* Terminación de 4 cifras: ha acertado las 4 últimas cifras, 1.000 euros por euro jugado\n",
        "* Decena de millares: ha acertado la primera cifra, 1 euro por euro jugado\n",
        "* Unidad de millares: ha acertado las 2 primeras cifras, 10 euros por euro jugado\n",
        "* Centena: ha acertado las 3 primeras cifras, 100 euros por euro jugado\n",
        "* Decena: ha acertado las 4 primeras cifras, 1.000 euros por euro jugado\n",
        "\n",
        "Los premios son acumulables."
      ]
    },
    {
      "cell_type": "code",
      "execution_count": 44,
      "metadata": {
        "id": "pDEUdK4vkCc4"
      },
      "outputs": [
        {
          "name": "stdout",
          "output_type": "stream",
          "text": [
            "The prize obtained was 22€\n"
          ]
        }
      ],
      "source": [
        "def get_lottery_reward(user: str, winner: str, games: int) -> str:\n",
        "\tif len(user) != len(winner): \n",
        "\t\tprint(len(user), len(winner))\n",
        "\t\treturn 'The introduced number does not have the right lenght'\n",
        "\t\n",
        "\tprize = 0\n",
        "\tif user == winner:\n",
        "\t\tprize += 10000\n",
        "\t\n",
        "\tfor i in range(len(winner), 1, -1):\n",
        "\t\tif winner[i-len(winner)-1:] == user[i-len(winner)-1:]: \n",
        "\t\t\tprize += 10**(len(winner) - i)\n",
        "\t\n",
        "\tfor i in range(1, len(winner)):\n",
        "\t\tif winner[i:] == user[i:]:\n",
        "\t\t\tprize += 10**(len(winner) - i - 1)\n",
        "\n",
        "\treturn f'The prize obtained was {prize * games}€'\n",
        "\n",
        "if __name__ == '__main__':\n",
        "\twinner = '12345' # Assume that this value will ever be an int even if it's treated as str\n",
        "\ttry:\n",
        "\t\tuser = input('Insert your lottery number: ')\n",
        "\t\tusern_num = int(user) # just to throw the error in case is not int\n",
        "\t\tgames = int(input('How many games did you played? '))\n",
        "\t\tprint(get_lottery_reward(user, winner, games))\n",
        "\texcept (TypeError, ValueError) as e:\n",
        "\t\tprint(f'Invalid input type: {e}')\n"
      ]
    },
    {
      "cell_type": "markdown",
      "metadata": {
        "id": "Ym6GBAp_g5rP"
      },
      "source": [
        "# Ejercicio 3\n",
        "\n",
        "Pide al usuario un número entero y determina si es un número primo (un número que solo es divisible por 1 y por sí mismo)."
      ]
    },
    {
      "cell_type": "code",
      "execution_count": 56,
      "metadata": {
        "id": "vNCi0-qzhVGw"
      },
      "outputs": [
        {
          "name": "stdout",
          "output_type": "stream",
          "text": [
            "Number 37 is a prime number\n"
          ]
        }
      ],
      "source": [
        "from math import sqrt\n",
        "\n",
        "def is_prime(num: int) -> None:\n",
        "\tif num < 2:\n",
        "\t\tprint('Numbers under 2 are can not be prime')\n",
        "\t\n",
        "\tfor i in range(2, int(sqrt(num)) + 1): # Use square root to improve efficiency\n",
        "\t\tif (num % i) == 0: \n",
        "\t\t\tprint(f'Number {num} is not a prime number')\n",
        "\t\t\treturn # break function execution by returning nothing\n",
        "\t\n",
        "\tprint(f'Number {num} is a prime number')\n",
        "\n",
        "if __name__ == '__main__':\n",
        "\ttry:\n",
        "\t\tnum = int(input('Introduce an integer number: '))\n",
        "\t\tis_prime(num)\n",
        "\texcept (TypeError, ValueError) as e:\n",
        "\t\tprint(f'Invalid input type: {e}')\n"
      ]
    },
    {
      "cell_type": "markdown",
      "metadata": {
        "id": "t6kdimEyhBxH"
      },
      "source": [
        "# Ejercicio 4\n",
        "\n",
        "Pide al usuario un número entero entre 1 y 10 e imprime un triángulo como este (para el 5):\n",
        "\n",
        "1 \\\n",
        "2 1 \\\n",
        "3 2 1 \\\n",
        "4 3 2 1 \\\n",
        "5 4 3 2 1"
      ]
    },
    {
      "cell_type": "code",
      "execution_count": 85,
      "metadata": {
        "id": "RKDs-PAQjkj5"
      },
      "outputs": [
        {
          "name": "stdout",
          "output_type": "stream",
          "text": [
            "1\n",
            "2 1\n",
            "3 2 1\n",
            "4 3 2 1\n",
            "5 4 3 2 1\n"
          ]
        }
      ],
      "source": [
        "def print_triangle(rows: int):\n",
        "\tfor r in range(0, rows):\n",
        "\t\tprint(' '.join(map(str, list(range(1, r+2))[::-1])))\n",
        "\n",
        "if __name__ == '__main__':\n",
        "\ttry:\n",
        "\t\trows = int(input('Introduce how many rows to print: '))\n",
        "\t\tprint_triangle(rows)\n",
        "\texcept (TypeError, ValueError) as e:\n",
        "\t\tprint(f'Invalid input type: {e}')\n"
      ]
    },
    {
      "cell_type": "markdown",
      "metadata": {
        "id": "KGWe7Ls_hEFf"
      },
      "source": [
        "# Ejercicio 5\n",
        "\n",
        "Pide al usuario que escriba una frase y guárdala en una lista de caracteres. Elimina de la lista los caracteres que ocupen posiciones impares. Muestra la lista resultante utilizando un iterador.\n"
      ]
    },
    {
      "cell_type": "code",
      "execution_count": 64,
      "metadata": {
        "id": "q63IzNGaigv8"
      },
      "outputs": [
        {
          "name": "stdout",
          "output_type": "stream",
          "text": [
            "1*3*5*"
          ]
        }
      ],
      "source": [
        "def remove_odd_elements(phrase: list) -> list:\n",
        "\treturn list(i for i in phrase if (phrase.index(i) % 2) == 0)\n",
        "\n",
        "def show_with_iterator(lst: list, separator: str):\n",
        "\tseparator = ' ' if separator == '' else separator \n",
        "\titerator = iter(lst)\n",
        "\tfor element in iterator:\n",
        "\t\tprint(element, end=separator)\n",
        "\n",
        "if __name__ == '__main__':\n",
        "\tphrase = list(input('Introduce your phrase: '))\n",
        "\tseparator = input('Desired separator character? ')\n",
        "\tno_odds_phrase_list = remove_odd_elements(phrase)\n",
        "\tshow_with_iterator(no_odds_phrase_list, separator)"
      ]
    },
    {
      "cell_type": "markdown",
      "metadata": {
        "id": "K8JZEID-hGxo"
      },
      "source": [
        "# Ejercicio 6\n",
        "\n",
        "Pide al usuario que escriba una frase y guárdala en una lista de caracteres. Cuenta cuántas veces aparece cada vocal."
      ]
    },
    {
      "cell_type": "code",
      "execution_count": 73,
      "metadata": {
        "id": "jIsepohitUP0"
      },
      "outputs": [
        {
          "name": "stdout",
          "output_type": "stream",
          "text": [
            "{'a': 1, 'e': 2, 'i': 3, 'o': 5, 'u': 1}\n"
          ]
        }
      ],
      "source": [
        "def count_vocals(phrase: str) -> dict:\n",
        "\tvocals = 'aeiou'\n",
        "\tcount_vocals = {}\n",
        "\tphrase = phrase.lower() # I do not set a different case for upper and lower case, both are the same in my consideration\n",
        "\t\n",
        "\tfor char in phrase:\n",
        "\t\tif char in vocals:\n",
        "\t\t\tcount_vocals[char] = count_vocals.get(char, 0) + 1\n",
        "\t\n",
        "\treturn count_vocals\n",
        "\n",
        "if __name__ == '__main__':\n",
        "\tphrase = input('Introduce your phrase: ')\n",
        "\tprint(count_vocals(phrase))"
      ]
    },
    {
      "cell_type": "markdown",
      "metadata": {
        "id": "ANp2RkK_kspq"
      },
      "source": [
        "# Ejercicio 7\n",
        "\n",
        "Vamos a trabajar con una matriz de dos dimensiones. Pide al usuario el número de filas y de columnas que tendrá la matriz. En la primera posición de la matriz colocaremos el valor 2. A partir de aquí, avanzando primero por columnas y luego por filas, en cada celda colocaremos el doble de la celda anterior. Termina imprimiendo el contenido final de la matriz. Veamos un ejemplo, para una matriz de 4 filas y 3 columnas:\n",
        "\n",
        "| | | |\n",
        "| --- | --- | --- |\n",
        "| 2 | 32  | 512 |\n",
        "| 4 | 64 | 1024 |\n",
        "| 8 | 128 | 2048 |\n",
        "| 16 | 256 | 4096 |"
      ]
    },
    {
      "cell_type": "code",
      "execution_count": 98,
      "metadata": {
        "id": "73z9Dmq99TK6"
      },
      "outputs": [
        {
          "name": "stdout",
          "output_type": "stream",
          "text": [
            "(2, 16, 128, 1024)\n",
            "(4, 32, 256, 2048)\n",
            "(8, 64, 512, 4096)\n"
          ]
        }
      ],
      "source": [
        "def transpose_matrix(matrix: list) -> list:\n",
        "\treturn list(zip(*matrix))\n",
        "\n",
        "def generate_base2_matrix(rows: int, cols: int) -> list:\n",
        "\tnext_number = 2 # -> As constant\n",
        "\tmatrix = []\n",
        "\tfor c in range(cols):\n",
        "\t\tcol = []\n",
        "\t\tfor r in range(rows):\n",
        "\t\t\tcol.append(next_number)\n",
        "\t\t\tnext_number *= 2\n",
        "\t\tmatrix.append(col)\n",
        "\n",
        "\treturn transpose_matrix(matrix)\n",
        "\n",
        "def print_matrix(matrix: list) -> None:\n",
        "    for row in matrix:\n",
        "        print(row)\n",
        "\n",
        "if __name__ == '__main__':\n",
        "\ttry:\n",
        "\t\trows = int(input(\"Introduce the number of rows: \"))\n",
        "\t\tcols = int(input(\"Introduce the number of columns: \"))\n",
        "\t\tmatrix = generate_base2_matrix(rows, cols)\n",
        "\t\tprint_matrix(matrix)\n",
        "\texcept (TypeError, ValueError) as e:\n",
        "\t\tprint(f'Invalid input type: {e}')"
      ]
    },
    {
      "cell_type": "markdown",
      "metadata": {
        "id": "PSqvYxs0hLuC"
      },
      "source": [
        "# Ejercicio 8\n",
        "\n",
        "Ahora nos moveremos primero por filas y luego por columnas. Dentro de una fila, cada celda valdrá 10 más que la celda anterior. Cuando cambiamos de fila, en la primera posición multiplicamos por 2 el valor de la celda superior (una fila menos en la misma columna). Y continuamos llenando la fila de la misma manera, sumando 10 a la celda anterior. Veamos un ejemplo, para una matriz de 4 filas y 3 columnas:\n",
        "\n",
        "| | | |\n",
        "| --- | --- | --- |\n",
        "| 2 | 12  | 22 |\n",
        "| 4 | 14 | 24 |\n",
        "| 8 | 18 | 28 |\n",
        "| 16 | 26 | 36 |"
      ]
    },
    {
      "cell_type": "code",
      "execution_count": 105,
      "metadata": {
        "id": "38tOi9UIYsnQ"
      },
      "outputs": [
        {
          "name": "stdout",
          "output_type": "stream",
          "text": [
            "[2, 12, 22]\n",
            "[4, 14, 24]\n",
            "[8, 18, 28]\n",
            "[16, 26, 36]\n"
          ]
        }
      ],
      "source": [
        "def generate_plus10_matrix(rows: int, cols: int) -> list:\n",
        "\tmatrix = [[((2*2**r) + 10*c) for c in range(cols)] for r in range(rows)]\n",
        "\treturn matrix\n",
        "\n",
        "if __name__ == '__main__':\n",
        "\ttry:\n",
        "\t\trows = int(input(\"Introduce the number of rows: \"))\n",
        "\t\tcols = int(input(\"Introduce the number of columns: \"))\n",
        "\t\tmatrix = generate_plus10_matrix(rows, cols)\n",
        "\t\tprint_matrix(matrix)\n",
        "\texcept (TypeError, ValueError) as e:\n",
        "\t\tprint(f'Invalid input type: {e}')"
      ]
    },
    {
      "cell_type": "markdown",
      "metadata": {
        "id": "JdrxBfZ3TRha"
      },
      "source": [
        "# Ejercicio 9\n",
        "\n",
        "Tenemos una lista con cadenas de caracteres. Algunas de estas cadenas contienen números enteros. Por ejemplo:\n",
        "['abc', '12', 'x', '3', '36', 'mn', '48', 'aeiou', '95', '4']\n",
        "\n",
        "Usando una comprensión, genera una lista que contenga los números enteros de la lista anterior. En nuestro ejemplo sería:\n",
        "[12, 3, 36, 48, 95, 4]\n",
        "\n",
        "A continuación, usando también una comprensión, genera una nueva lista que contenga solo los números pares de la anterior. En nuestro ejemplo sería:\n",
        "[12, 36, 48, 4]\n",
        "\n",
        "**Nota:** el método *isdigit* de la clase str retorna True si la cadena contiene un número entero.\n"
      ]
    },
    {
      "cell_type": "code",
      "execution_count": 107,
      "metadata": {
        "id": "gA0IlUHbTR2x"
      },
      "outputs": [
        {
          "name": "stdout",
          "output_type": "stream",
          "text": [
            "Base list: ['abc', '12', 'x', '3', '36', 'mn', '48', 'aeiou', '95', '4']\n",
            "Only digits list: [12, 3, 36, 48, 95, 4]\n",
            "Even digits list: [12, 36, 48, 4]\n"
          ]
        }
      ],
      "source": [
        "if __name__ == '__main__':\n",
        "\tbase = ['abc', '12', 'x', '3', '36', 'mn', '48', 'aeiou', '95', '4']\n",
        "\tonly_digits = [int(item) for item in base if item.isdigit()]\n",
        "\teven_digits = [even for even in only_digits if (even % 2) == 0]\n",
        "\tprint(f'Base list: {base}')\n",
        "\tprint(f'Only digits list: {only_digits}')\n",
        "\tprint(f'Even digits list: {even_digits}')"
      ]
    },
    {
      "cell_type": "markdown",
      "metadata": {
        "id": "g1rlY4TrhKMo"
      },
      "source": [
        "# Ejercicio 10\n",
        "\n",
        "Escribe una función que reciba un diccionario con el código de los 5 módulos del curso de especialización (5071 a 5075) y las calificaciones de un alumno (con decimales). La función debe retornar un diccionario con el nombre de cada módulo y la calificación correspondiente: suspenso (menos de 5), aprobado (entre 5 y 7, sin llegar a 7), notable (entre 7 y 9, sin llegar a 9) o excelente (entre 9 y 10). Haz una llamada a la función con un ejemplo de diccionario y muestra el diccionario resultante.\n"
      ]
    },
    {
      "cell_type": "code",
      "execution_count": 120,
      "metadata": {
        "id": "KqDGmXyKvKf3"
      },
      "outputs": [
        {
          "name": "stdout",
          "output_type": "stream",
          "text": [
            "{5071: 'Passed', 5072: 'Good', 5073: 'Failed', 5074: 'Excellent', 5075: 'Passed'}\n"
          ]
        }
      ],
      "source": [
        "# Define this constant in this scope so I can access it from other code blocks\n",
        "\n",
        "\n",
        "def simplify_grades(data: dict) -> dict:\n",
        "\tformat_grades = data.copy() # so it's not the same memory reference\n",
        "\tfor key, value in format_grades.items():\n",
        "\t\tif value < 0 or value > 10:\n",
        "\t\t\traise Exception('Grades values must be between 0 and 10 both included')\n",
        "\t\telif value < 5:\n",
        "\t\t\tformat_grades[key] = 'Failed'\n",
        "\t\telif value >= 5 and value< 7:\n",
        "\t\t\tformat_grades[key] = 'Passed'\n",
        "\t\telif value >= 7 and value < 9:\n",
        "\t\t\tformat_grades[key] = 'Good'\n",
        "\t\telse:\n",
        "\t\t\tformat_grades[key] = 'Excellent'\n",
        "\t\n",
        "\treturn format_grades\n",
        "\n",
        "if __name__ == '__main__':\n",
        "\tgrades = {\n",
        "\t\t5071: 5.0,\n",
        "\t\t5072: 7.37,\n",
        "\t\t5073: 4.63,\n",
        "\t\t5074: 9.99,\n",
        "\t\t5075: 6.66\n",
        "\t}\n",
        "\ttry:\n",
        "\t\tprint(simplify_grades(grades))\n",
        "\texcept Exception as e:\n",
        "\t\tprint(e)"
      ]
    },
    {
      "cell_type": "markdown",
      "metadata": {
        "id": "K1MkUYDXuFIY"
      },
      "source": [
        "# Ejercicio 11\n",
        "\n",
        "Escribe una función que se llame *mitjana*, que reciba un diccionario como el anterior (con los códigos de los módulos y las calificaciones de un alumno) y que nos retorne la nota media de todos los módulos.\n",
        "\n",
        "A continuación, escribe otra función que se llame *minmax*, que reciba una lista de diccionarios como el anterior y que nos retorne la nota media máxima y la nota media mínima de la lista. Esta función debe llamar a la función *mitjana* para realizar los cálculos.\n",
        "\n",
        "Finalmente, crea una lista de diccionarios y muestra el resultado de llamar a la función *minmax*."
      ]
    },
    {
      "cell_type": "code",
      "execution_count": 125,
      "metadata": {
        "id": "jBZY1qQ4YtvB"
      },
      "outputs": [
        {
          "name": "stdout",
          "output_type": "stream",
          "text": [
            "[7.2, 7.6, 5.5, 9.0, 3.6, 6.9, 9.3, 4.4]\n",
            "Minimum average grade: 3.6\n",
            "Maximum average grade: 9.3\n"
          ]
        }
      ],
      "source": [
        "def average(data: dict) -> float:\n",
        "\treturn sum(data.values()) / len(data)\n",
        "\n",
        "def minmax(data: list) -> tuple:\n",
        "\taverages = list(map(average, data))\n",
        "\treturn min(averages), max(averages)\n",
        "\n",
        "if __name__ == '__main__':\n",
        "\tstudents_grades = [\n",
        "\t\t# Data provided by AI ¯\\_(ツ)_/¯\n",
        "\t\t{5071: 7.5, 5072: 6.0, 5073: 8.0, 5074: 9.0, 5075: 5.5},\n",
        "\t\t{5071: 8.5, 5072: 7.0, 5073: 9.0, 5074: 6.5, 5075: 7.0},\n",
        "\t\t{5071: 5.0, 5072: 4.5, 5073: 6.0, 5074: 5.5, 5075: 6.5},\n",
        "\t\t{5071: 9.0, 5072: 9.5, 5073: 8.5, 5074: 9.0, 5075: 9.0},\n",
        "\t\t{5071: 3.0, 5072: 2.5, 5073: 4.0, 5074: 5.0, 5075: 3.5},\n",
        "\t\t{5071: 6.0, 5072: 7.5, 5073: 7.0, 5074: 6.0, 5075: 8.0},\n",
        "\t\t{5071: 9.5, 5072: 9.0, 5073: 10.0, 5074: 9.5, 5075: 8.5},\n",
        "\t\t{5071: 4.0, 5072: 4.5, 5073: 5.0, 5074: 4.5, 5075: 4.0},\n",
        "   ]\n",
        "\tmin_avg, max_avg = minmax(students_grades)\n",
        "\tprint(f'Minimum average grade: {min_avg}')\n",
        "\tprint(f'Maximum average grade: {max_avg}')\n"
      ]
    },
    {
      "cell_type": "markdown",
      "metadata": {
        "id": "MnU4O00gJ5l2"
      },
      "source": [
        "# Ejercicio 12\n",
        "\n",
        "Crea una clase *Rectangle* con dos atributos, uno con la longitud del lado largo y otro con la longitud del lado corto. Añádele los siguientes métodos:\n",
        "* Métodos getter y setter para los dos atributos.\n",
        "* Un método que retorne el área del rectángulo.\n",
        "* Un método que retorne el perímetro del rectángulo.\n",
        "* Un método que retorne True si es un cuadrado y False en caso contrario.\n",
        "\n",
        "A continuación, haz otra clase *Comparador*, que tenga un método que, pasando como parámetro dos rectángulos, retorne True si el primero es más grande que el segundo o False en caso contrario.\n",
        "\n",
        "Finalmente, crea dos objetos de la clase *Rectangle* y, utilizando el método de la clase *Comparador*, indica cuál de los dos es más grande."
      ]
    },
    {
      "cell_type": "code",
      "execution_count": 128,
      "metadata": {
        "id": "v0qdVOXPQlGP"
      },
      "outputs": [
        {
          "name": "stdout",
          "output_type": "stream",
          "text": [
            "5.4 3.9\n",
            "8.9 1\n",
            "True\n"
          ]
        }
      ],
      "source": [
        "class Rectangle:\n",
        "\tdef __init__(self, long_side: float = 1, short_side: float = 1):\n",
        "\t\tself._long_side = long_side\n",
        "\t\tself._short_side = short_side\n",
        "\n",
        "\t@property\n",
        "\tdef long_side(self):\n",
        "\t\treturn self._long_side\n",
        "\t@property\n",
        "\tdef short_side(self):\n",
        "\t\treturn self._short_side\n",
        "\t\n",
        "\t@long_side.setter\n",
        "\tdef long_side(self, long_side):\n",
        "\t\tself._long_side = long_side\n",
        "\t@short_side.setter\n",
        "\tdef short_side(self, short_side):\n",
        "\t\tself._short_side = short_side\n",
        "\t\n",
        "\tdef area(self) -> float:\n",
        "\t\treturn self._short_side * self._long_side\n",
        "\t\n",
        "\tdef perimeter(self) -> float:\n",
        "\t\treturn (self._short_side + self._long_side) * 2\n",
        "\t\n",
        "\tdef is_square(self) -> bool:\n",
        "\t\treturn True if self._long_side == self._short_side else False\n",
        "\n",
        "class Comparator:\n",
        "\tdef compare_rectangles(r1: Rectangle, r2: Rectangle) -> bool:\n",
        "\t\treturn True if r1.area() > r2.area() else False\n",
        "\n",
        "if __name__ == '__main__':\n",
        "\trectangle1 = Rectangle(long_side=5.4, short_side=3.9)\n",
        "\trectangle2 = Rectangle(long_side=8.9)\n",
        "\tprint(Comparator.compare_rectangles(r1=rectangle1, r2=rectangle2))"
      ]
    }
  ],
  "metadata": {
    "colab": {
      "provenance": []
    },
    "kernelspec": {
      "display_name": "Python 3",
      "name": "python3"
    },
    "language_info": {
      "codemirror_mode": {
        "name": "ipython",
        "version": 3
      },
      "file_extension": ".py",
      "mimetype": "text/x-python",
      "name": "python",
      "nbconvert_exporter": "python",
      "pygments_lexer": "ipython3",
      "version": "3.12.3"
    }
  },
  "nbformat": 4,
  "nbformat_minor": 0
}
