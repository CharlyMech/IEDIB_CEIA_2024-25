{
  "nbformat": 4,
  "nbformat_minor": 0,
  "metadata": {
    "colab": {
      "provenance": []
    },
    "kernelspec": {
      "name": "python3",
      "display_name": "Python 3"
    },
    "language_info": {
      "name": "python"
    }
  },
  "cells": [
    {
      "cell_type": "markdown",
      "source": [
        "Aquest és l'enunciat de la primera tasca de **Programació d'Intel·ligència Artificial**.\n",
        "\n",
        "Hi ha 12 exercicis que has de respondre en la cel·la de codi que hi ha sota cada enunciat (si ho necessites, pots emprar-ne més d'una).\n",
        "\n",
        "Tots els exercicis valen el mateix: sobre un total de 12 punts, cada exercici val 1 punt."
      ],
      "metadata": {
        "id": "Wx1nesh8tcOc"
      }
    },
    {
      "cell_type": "markdown",
      "source": [
        "# Exercici 1\n",
        "\n",
        "Pregunta a l’usuari en quina posició ha acabat un atleta la prova de marató dels Jocs Olímpics. Has de dir quin premi li correspon:\n",
        "* Medalla d’or per al primer\n",
        "* Medalla de plata per al segon\n",
        "* Medalla de bronze per al tercer\n",
        "* Diploma olímpic entre el quart i vuitè\n",
        "* Cap premi a partir del novè"
      ],
      "metadata": {
        "id": "kLaYJXVKgtyj"
      }
    },
    {
      "cell_type": "code",
      "execution_count": null,
      "metadata": {
        "id": "cSrNAzE2gsjV"
      },
      "outputs": [],
      "source": [
        "# Aquí va la teva resposta\n"
      ]
    },
    {
      "cell_type": "markdown",
      "source": [
        "# Exercici 2\n",
        "\n",
        "A un sorteig de loteria, el premi gros ha estat el 12345. Demana a l’usuari quin és el seu número i quants euros ha jugat. Determina quina quantitat li correspon de premi:\n",
        "* Premi gros: ha encertat els 5 números. 10.000 euros per euro jugat\n",
        "* Reintegrament: ha encertat el darrer número, 1 euro per euro jugat\n",
        "* Terminació de 2 xifres: ha encertat les 2 darreres xifres, 10 euros per euro jugat\n",
        "* Terminació de 3 xifres: ha encertat les 3 darreres xifres, 100 euros per euro jugat\n",
        "* Terminació de 4 xifres: ha encertat les 4 darreres xifres, 1.000 euros per euro jugat\n",
        "* Desena de milers: ha encertat la primera xifra, 1 euro per euro jugat\n",
        "* Unitat de milers: ha encertat les 2 primeres xifres, 10 euros per euro jugat\n",
        "* Centena: ha encertat les 3 primeres xifres, 100 euros per euro jugat\n",
        "* Desena: ha encertat les 4 primeres xifres, 1.000 euros per euro jugat\n",
        "\n",
        "Els premis són acumulables.\n"
      ],
      "metadata": {
        "id": "xE45erbugvXQ"
      }
    },
    {
      "cell_type": "code",
      "source": [
        "# Aquí va la teva resposta\n"
      ],
      "metadata": {
        "id": "pDEUdK4vkCc4"
      },
      "execution_count": null,
      "outputs": []
    },
    {
      "cell_type": "markdown",
      "source": [
        "# Exercici 3\n",
        "\n",
        "Demana a l’usuari un nombre enter i determina si és un nombre primer (un nombre que només és divisible per 1 i per ell mateix)\n"
      ],
      "metadata": {
        "id": "Ym6GBAp_g5rP"
      }
    },
    {
      "cell_type": "code",
      "source": [
        "# Aquí va la teva resposta\n"
      ],
      "metadata": {
        "id": "vNCi0-qzhVGw"
      },
      "execution_count": null,
      "outputs": []
    },
    {
      "cell_type": "markdown",
      "source": [
        "# Exercici 4\n",
        "\n",
        "Demana a l’usuari un nombre enter entre 1 i 10 i imprimeix un triangle com aquest (per al 5):\n",
        "\n",
        "1 \\\n",
        "2 1 \\\n",
        "3 2 1 \\\n",
        "4 3 2 1 \\\n",
        "5 4 3 2 1 \\\n"
      ],
      "metadata": {
        "id": "t6kdimEyhBxH"
      }
    },
    {
      "cell_type": "code",
      "source": [
        "# Aquí va la teva resposta\n"
      ],
      "metadata": {
        "id": "RKDs-PAQjkj5"
      },
      "execution_count": null,
      "outputs": []
    },
    {
      "cell_type": "markdown",
      "source": [
        "# Exercici 5\n",
        "\n",
        "Demana a l’usuari que escrigui una frase i guarda-la en una llista de caràcters. Elimina de la llista els caràcters que ocupin posicions senars. Mostra la llista resultant emprant un iterador.\n"
      ],
      "metadata": {
        "id": "KGWe7Ls_hEFf"
      }
    },
    {
      "cell_type": "code",
      "source": [
        "# Aquí va la teva resposta\n"
      ],
      "metadata": {
        "id": "q63IzNGaigv8"
      },
      "execution_count": null,
      "outputs": []
    },
    {
      "cell_type": "markdown",
      "source": [
        "# Exercici 6\n",
        "\n",
        "Demana a l’usuari que escrigui una frase i guarda-la en una llista de caràcters. Compta quantes vegades hi apareix cada vocal."
      ],
      "metadata": {
        "id": "K8JZEID-hGxo"
      }
    },
    {
      "cell_type": "code",
      "source": [
        "# Aquí va la teva resposta\n"
      ],
      "metadata": {
        "id": "jIsepohitUP0"
      },
      "execution_count": null,
      "outputs": []
    },
    {
      "cell_type": "markdown",
      "source": [
        "# Exercici 7\n",
        "\n",
        "Anem a fer feina amb una matriu de dues dimensions. Demana a l’usuari el nombre de files i de columnes que tindrà la matriu. A la primera posició de la matriu hi posarem el valor 2. A partir d’aquí, avançant primer per columnes i després per files, a cada cel·la hi posarem el doble de la cel·la anterior. Acaba imprimint el contingut final de la matriu. Vegem un exemple, per a una matriu de 4 files i 3 columnes:\n",
        "\n",
        "| | | |\n",
        "| --- | --- | --- |\n",
        "| 2 | 32  | 512 |\n",
        "| 4 | 64 | 1024 |\n",
        "| 8 | 128 | 2048 |\n",
        "| 16 | 256 | 4096 |"
      ],
      "metadata": {
        "id": "ANp2RkK_kspq"
      }
    },
    {
      "cell_type": "code",
      "source": [
        "# Aquí va la teva resposta\n"
      ],
      "metadata": {
        "id": "73z9Dmq99TK6"
      },
      "execution_count": null,
      "outputs": []
    },
    {
      "cell_type": "markdown",
      "source": [
        "# Exercici 8\n",
        "\n",
        "Ara ens mourem primer per files i després per columnes. Dins una fila, cada cel·la valdrà 10 + la cel·la anterior. Quan canviam de fila, a la primera posició multiplicam per 2 el valor de la cel·la superior (una fila menys dins la mateixa columna). I continuam omplint la fila igual que abans, sumant 10 a la cel·la anterior. Vegem un exemple, per a una matriu de 4 files i 3 columnes:\n",
        "\n",
        "| | | |\n",
        "| --- | --- | --- |\n",
        "| 2 | 12  | 22 |\n",
        "| 4 | 14 | 24 |\n",
        "| 8 | 18 | 28 |\n",
        "| 16 | 26 | 36 |"
      ],
      "metadata": {
        "id": "PSqvYxs0hLuC"
      }
    },
    {
      "cell_type": "code",
      "source": [
        "# Aquí va la teva resposta\n"
      ],
      "metadata": {
        "id": "38tOi9UIYsnQ"
      },
      "execution_count": null,
      "outputs": []
    },
    {
      "cell_type": "markdown",
      "source": [
        "# Exercici 9\n",
        "\n",
        "Tenim una llista amb cadenes de caràcters. Algunes d’aquestes cadenes contenen nombres enters. Per exemple:\n",
        "['abc', '12', 'x', '3', '36', 'mn', '48', 'aeiou, '95', '4']\n",
        "\n",
        "Emprant una comprensió, genera una llista que contengui els nombres enters de la llista anterior. En el nostre exemple seria:\n",
        "[12, 3, 36, 48, 95, 4]\n",
        "\n",
        "A continuació, emprant també una comprensió, genera una nova llista que contengui només els nombres parells de l’anterior. En el nostre exemple seria:\n",
        "[12, 36, 48, 4]\n",
        "\n",
        "**Nota: **el mètode *isdigit* de la classe str retorna True si la cadena conté un nombre enter\n",
        "\n",
        "\n"
      ],
      "metadata": {
        "id": "JdrxBfZ3TRha"
      }
    },
    {
      "cell_type": "code",
      "source": [
        "# Aquí va la teva resposta\n"
      ],
      "metadata": {
        "id": "gA0IlUHbTR2x"
      },
      "execution_count": null,
      "outputs": []
    },
    {
      "cell_type": "markdown",
      "source": [
        "# Exercici 10\n",
        "\n",
        "Escriu una funció que rebi un diccionari amb el codi dels 5 mòduls del curs d’especialització (5071 a 5075) i les notes d’un alumne (amb decimals). La funció ha de retornar un diccionari amb el nom de cada mòdul i la qualificació corresponent: suspès (menys de 5), aprovat (entre 5 i 7, sense arribar a 7), notable (entre 7 i 9, sense arribar a 9) o excel·lent (entre 9 i 10). Fes una crida a la funció amb un exemple de diccionari i mostra el diccionari resultat.\n"
      ],
      "metadata": {
        "id": "g1rlY4TrhKMo"
      }
    },
    {
      "cell_type": "code",
      "source": [
        "# Aquí va la teva resposta\n"
      ],
      "metadata": {
        "id": "KqDGmXyKvKf3"
      },
      "execution_count": null,
      "outputs": []
    },
    {
      "cell_type": "markdown",
      "source": [
        "# Exercici 11\n",
        "\n",
        "Escriu una funció que es digui *mitjana*, que rebi un diccionari com l’anterior (amb els codis dels mòduls i les notes d’un alumne) i que ens retorni la nota mitjana de tots els mòduls.\n",
        "\n",
        "A continuació, escriu una altra funció que es digui *minmax*, que rebi una llista de diccionaris com l’anterior i que ens retorni la nota mitjana màxima i la nota mijana mínima de la llista. Aquesta funció ha de cridar la funció *mitjana* per fer els càlculs.\n",
        "\n",
        "Finalment, crea una llista de diccionaris i mostra el resultat de cridar a la funció *minmax*.\n"
      ],
      "metadata": {
        "id": "K1MkUYDXuFIY"
      }
    },
    {
      "cell_type": "code",
      "source": [
        "# Aquí va la teva resposta\n"
      ],
      "metadata": {
        "id": "jBZY1qQ4YtvB"
      },
      "execution_count": null,
      "outputs": []
    },
    {
      "cell_type": "markdown",
      "source": [
        "# Exercici 12\n",
        "\n",
        "Crea una classe *Rectangle* amb dos atributs, un amb la longitud del costat llarg i un altre amb la longitud del costat curt. Afegeix-li els mètodes següents:\n",
        "* mètodes getter i setter per als dos atributs\n",
        "* un mètode que retorni l’àrea del rectangle\n",
        "* un mètode que retorni el perímetre del rectangle\n",
        "* un mètode que retorni True si és un quadrat i False en cas contrari\n",
        "\n",
        "A continuació, fes una altra classe *Comparador*, que tengui un mètode que, passant-li per paràmetre dos rectangles, retorni True si el primer és més gran que el segon o False en cas contrari\n",
        "\n",
        "Finalment, crea dos objectes de la classe *Rectangle* i, emprant el mètode de la classe *Comparador*, digues quin dels dos és més gran."
      ],
      "metadata": {
        "id": "MnU4O00gJ5l2"
      }
    },
    {
      "cell_type": "code",
      "source": [
        "# Aquí va la teva resposta\n"
      ],
      "metadata": {
        "id": "v0qdVOXPQlGP"
      },
      "execution_count": null,
      "outputs": []
    }
  ]
}