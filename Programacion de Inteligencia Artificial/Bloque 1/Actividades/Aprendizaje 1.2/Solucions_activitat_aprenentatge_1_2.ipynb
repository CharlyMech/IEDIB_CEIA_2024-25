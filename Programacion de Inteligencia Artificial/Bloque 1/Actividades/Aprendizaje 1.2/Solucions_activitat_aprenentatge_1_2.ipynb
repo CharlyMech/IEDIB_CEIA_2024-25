{
  "nbformat": 4,
  "nbformat_minor": 0,
  "metadata": {
    "colab": {
      "provenance": []
    },
    "kernelspec": {
      "name": "python3",
      "display_name": "Python 3"
    },
    "language_info": {
      "name": "python"
    }
  },
  "cells": [
    {
      "cell_type": "markdown",
      "source": [
        "Aquesta és una possible solució a l'activitat d'aprenentatge CE_5073 1.2 (primer lliurament de **Programació d'Intel·ligència Artificial**). N'hi poden haver moltes altres solucions igualment vàlides."
      ],
      "metadata": {
        "id": "Wx1nesh8tcOc"
      }
    },
    {
      "cell_type": "markdown",
      "source": [
        "# 1. Condicions"
      ],
      "metadata": {
        "id": "kLaYJXVKgtyj"
      }
    },
    {
      "cell_type": "code",
      "execution_count": null,
      "metadata": {
        "id": "cSrNAzE2gsjV",
        "colab": {
          "base_uri": "https://localhost:8080/"
        },
        "outputId": "6523863f-f33d-4669-ad71-b6ea4dd01a31"
      },
      "outputs": [
        {
          "output_type": "stream",
          "name": "stdout",
          "text": [
            "a i b són negatius.\n",
            "a i b són negatius\n"
          ]
        }
      ],
      "source": [
        "# 1.a Agrupa aquestes dues condicions en una de sola\n",
        "\n",
        "a = -3\n",
        "b = -5\n",
        "if a<0:\n",
        "    if b<0:\n",
        "        print(\"a i b són negatius.\")\n",
        "\n",
        "### INICI\n",
        "if a < 0 and b < 0: # <== modifica aquesta línia\n",
        "### FINAL\n",
        "    print(\"a i b són negatius\")"
      ]
    },
    {
      "cell_type": "code",
      "source": [
        "#1.b Escriu l'argument de print usant la funció range, de forma que el resultat\n",
        "# siguin els cinc primers senars [1,3,5,7,9]\n",
        "\n",
        "### INICI\n",
        "print(list(range(1, 10, 2)))\n",
        "### FINAL"
      ],
      "metadata": {
        "id": "TRoXCJBnrr2y",
        "colab": {
          "base_uri": "https://localhost:8080/"
        },
        "outputId": "6601932c-b07c-454a-9f86-9615cb59be44"
      },
      "execution_count": null,
      "outputs": [
        {
          "output_type": "stream",
          "name": "stdout",
          "text": [
            "[1, 3, 5, 7, 9]\n"
          ]
        }
      ]
    },
    {
      "cell_type": "code",
      "source": [
        "# 1.c Escriu les condicions de l'if i l'elseif en lloc de None.\n",
        "# Comprova-les amb diferents valors d'a i b.\n",
        "\n",
        "a = 3\n",
        "b = 5\n",
        "\n",
        "if a % 2 == 0 and b % 2 == 0:\n",
        "  print(\"Tots dos són parells\")\n",
        "elif a % 2 != 0 and b % 2 != 0:\n",
        "  print(\"Tots dos són senars\")\n",
        "else:\n",
        "  print(\"Un és parell i l'altre senar\")"
      ],
      "metadata": {
        "id": "4xF1NRVmruK5",
        "colab": {
          "base_uri": "https://localhost:8080/"
        },
        "outputId": "d2804363-fb17-4b4d-e704-687a6e1c1a6c"
      },
      "execution_count": null,
      "outputs": [
        {
          "output_type": "stream",
          "name": "stdout",
          "text": [
            "Tots dos són senars\n"
          ]
        }
      ]
    },
    {
      "cell_type": "code",
      "source": [
        "# 1.d Escriu el codi següent amb una sola expressió ternària\n",
        "\n",
        "b = False\n",
        "\n",
        "if b:\n",
        "  print(\"b és cert\")\n",
        "else:\n",
        "  print(\"b és fals\")\n",
        "\n",
        "### El vostre codi\n",
        "print (\"b és cert\" if b else \"b és fals\")\n",
        "###"
      ],
      "metadata": {
        "id": "giGW9fUwt5A3",
        "colab": {
          "base_uri": "https://localhost:8080/"
        },
        "outputId": "370a38c8-c6f7-42c3-fc18-7ada770d3ad6"
      },
      "execution_count": null,
      "outputs": [
        {
          "output_type": "stream",
          "name": "stdout",
          "text": [
            "b és fals\n",
            "b és fals\n"
          ]
        }
      ]
    },
    {
      "cell_type": "markdown",
      "source": [
        "# 2. Bucles"
      ],
      "metadata": {
        "id": "xE45erbugvXQ"
      }
    },
    {
      "cell_type": "code",
      "source": [
        "a = 1\n",
        "while a<=10:\n",
        "  a+=1\n",
        "  print(a)\n",
        "\n",
        "\n",
        "# 2.a Escriu el bucle anterior com a for d'una sola línia\n",
        "#\n",
        "for a in range(2, 12):\n",
        "  print(a)\n",
        "#"
      ],
      "metadata": {
        "id": "pDEUdK4vkCc4",
        "colab": {
          "base_uri": "https://localhost:8080/"
        },
        "outputId": "bc44f4ac-ae63-4370-ecb9-9f8fbc4da2fe"
      },
      "execution_count": null,
      "outputs": [
        {
          "output_type": "stream",
          "name": "stdout",
          "text": [
            "2\n",
            "3\n",
            "4\n",
            "5\n",
            "6\n",
            "7\n",
            "8\n",
            "9\n",
            "10\n",
            "11\n",
            "2\n",
            "3\n",
            "4\n",
            "5\n",
            "6\n",
            "7\n",
            "8\n",
            "9\n",
            "10\n",
            "11\n"
          ]
        }
      ]
    },
    {
      "cell_type": "code",
      "source": [
        "# 2.b\n",
        "# El següent bucle usa la instrucció \"continue\".\n",
        "# Reescriu-lo mantenint el mateix resultat però eliminant aquesta instrucció.\n",
        "# Necessitaràs modificar la condició.\n",
        "\n",
        "fruites = [\"albercoc\", \"pruna\", \"cirera\"]\n",
        "for x in fruites:\n",
        "  if x == \"albercoc\":\n",
        "    continue\n",
        "  print(x)\n",
        "\n",
        "fruites = [\"albercoc\", \"pruna\", \"cirera\"]\n",
        "for x in fruites:\n",
        "  if x != \"albercoc\":\n",
        "    print(x)"
      ],
      "metadata": {
        "id": "SI45gemSv5hw",
        "colab": {
          "base_uri": "https://localhost:8080/"
        },
        "outputId": "89d23f56-d614-4147-cf76-eca02e85ba26"
      },
      "execution_count": null,
      "outputs": [
        {
          "output_type": "stream",
          "name": "stdout",
          "text": [
            "pruna\n",
            "cirera\n",
            "pruna\n",
            "cirera\n"
          ]
        }
      ]
    },
    {
      "cell_type": "code",
      "source": [
        "# 2.c\n",
        "# Escriu un bucle niat (dos bucles, un dins de l'altre) per mostrar el resultat següent:\n",
        "#\n",
        "# poma dolça\n",
        "# pera dolça\n",
        "# poma madura\n",
        "# pera madura\n",
        "\n",
        "fruit = ['poma', 'pera']\n",
        "estat = ['dolça', 'madura']\n",
        "\n",
        "#### 3 línies\n",
        "for e in estat:\n",
        "  for f in fruit:\n",
        "    print (f+\" \"+e)\n",
        "####\n"
      ],
      "metadata": {
        "id": "aYLkObq8v7Em",
        "colab": {
          "base_uri": "https://localhost:8080/"
        },
        "outputId": "2fee0832-2b5d-4bf9-ddca-58f7ca7027c6"
      },
      "execution_count": null,
      "outputs": [
        {
          "output_type": "stream",
          "name": "stdout",
          "text": [
            "poma dolça\n",
            "pera dolça\n",
            "poma madura\n",
            "pera madura\n"
          ]
        }
      ]
    },
    {
      "cell_type": "code",
      "source": [
        "# 2.d\n",
        "# Mostrau les taules de multiplicar d'1 a 10, utilitzant bucles.\n",
        "# El resultat ha de començar així:\n",
        "#\n",
        "# 1 x 1 = 1\n",
        "# 1 x 2 = 2\n",
        "# ...\n",
        "for i in range(1,11):\n",
        "  for j in range(1, 11):\n",
        "    print('{} x {} = {}'.format(i, j, i*j))"
      ],
      "metadata": {
        "id": "cZlhN8gjv8Sv",
        "colab": {
          "base_uri": "https://localhost:8080/"
        },
        "outputId": "7eb8015f-3079-4d73-cc07-6c02472450c5"
      },
      "execution_count": null,
      "outputs": [
        {
          "output_type": "stream",
          "name": "stdout",
          "text": [
            "1 x 1 = 1\n",
            "1 x 2 = 2\n",
            "1 x 3 = 3\n",
            "1 x 4 = 4\n",
            "1 x 5 = 5\n",
            "1 x 6 = 6\n",
            "1 x 7 = 7\n",
            "1 x 8 = 8\n",
            "1 x 9 = 9\n",
            "1 x 10 = 10\n",
            "2 x 1 = 2\n",
            "2 x 2 = 4\n",
            "2 x 3 = 6\n",
            "2 x 4 = 8\n",
            "2 x 5 = 10\n",
            "2 x 6 = 12\n",
            "2 x 7 = 14\n",
            "2 x 8 = 16\n",
            "2 x 9 = 18\n",
            "2 x 10 = 20\n",
            "3 x 1 = 3\n",
            "3 x 2 = 6\n",
            "3 x 3 = 9\n",
            "3 x 4 = 12\n",
            "3 x 5 = 15\n",
            "3 x 6 = 18\n",
            "3 x 7 = 21\n",
            "3 x 8 = 24\n",
            "3 x 9 = 27\n",
            "3 x 10 = 30\n",
            "4 x 1 = 4\n",
            "4 x 2 = 8\n",
            "4 x 3 = 12\n",
            "4 x 4 = 16\n",
            "4 x 5 = 20\n",
            "4 x 6 = 24\n",
            "4 x 7 = 28\n",
            "4 x 8 = 32\n",
            "4 x 9 = 36\n",
            "4 x 10 = 40\n",
            "5 x 1 = 5\n",
            "5 x 2 = 10\n",
            "5 x 3 = 15\n",
            "5 x 4 = 20\n",
            "5 x 5 = 25\n",
            "5 x 6 = 30\n",
            "5 x 7 = 35\n",
            "5 x 8 = 40\n",
            "5 x 9 = 45\n",
            "5 x 10 = 50\n",
            "6 x 1 = 6\n",
            "6 x 2 = 12\n",
            "6 x 3 = 18\n",
            "6 x 4 = 24\n",
            "6 x 5 = 30\n",
            "6 x 6 = 36\n",
            "6 x 7 = 42\n",
            "6 x 8 = 48\n",
            "6 x 9 = 54\n",
            "6 x 10 = 60\n",
            "7 x 1 = 7\n",
            "7 x 2 = 14\n",
            "7 x 3 = 21\n",
            "7 x 4 = 28\n",
            "7 x 5 = 35\n",
            "7 x 6 = 42\n",
            "7 x 7 = 49\n",
            "7 x 8 = 56\n",
            "7 x 9 = 63\n",
            "7 x 10 = 70\n",
            "8 x 1 = 8\n",
            "8 x 2 = 16\n",
            "8 x 3 = 24\n",
            "8 x 4 = 32\n",
            "8 x 5 = 40\n",
            "8 x 6 = 48\n",
            "8 x 7 = 56\n",
            "8 x 8 = 64\n",
            "8 x 9 = 72\n",
            "8 x 10 = 80\n",
            "9 x 1 = 9\n",
            "9 x 2 = 18\n",
            "9 x 3 = 27\n",
            "9 x 4 = 36\n",
            "9 x 5 = 45\n",
            "9 x 6 = 54\n",
            "9 x 7 = 63\n",
            "9 x 8 = 72\n",
            "9 x 9 = 81\n",
            "9 x 10 = 90\n",
            "10 x 1 = 10\n",
            "10 x 2 = 20\n",
            "10 x 3 = 30\n",
            "10 x 4 = 40\n",
            "10 x 5 = 50\n",
            "10 x 6 = 60\n",
            "10 x 7 = 70\n",
            "10 x 8 = 80\n",
            "10 x 9 = 90\n",
            "10 x 10 = 100\n"
          ]
        }
      ]
    },
    {
      "cell_type": "markdown",
      "source": [
        "#3. Estructures de dades: llistes"
      ],
      "metadata": {
        "id": "Ym6GBAp_g5rP"
      }
    },
    {
      "cell_type": "code",
      "source": [
        "frase = \"Python és un llenguatge de programació\"\n",
        "\n",
        "# 3.a Transforma la frase anterior en una llista de 6 paraules\n",
        "#\n",
        "llista = frase.split()\n",
        "llista\n",
        "#"
      ],
      "metadata": {
        "id": "vNCi0-qzhVGw",
        "colab": {
          "base_uri": "https://localhost:8080/"
        },
        "outputId": "eb80ec6c-e7ff-4409-9a05-d7da56ddb510"
      },
      "execution_count": null,
      "outputs": [
        {
          "output_type": "execute_result",
          "data": {
            "text/plain": [
              "['Python', 'és', 'un', 'llenguatge', 'de', 'programació']"
            ]
          },
          "metadata": {},
          "execution_count": 9
        }
      ]
    },
    {
      "cell_type": "code",
      "source": [
        "# 3.b Mostra per pantalla quantes paraules té la frase\n",
        "#\n",
        "len(llista)\n",
        "#"
      ],
      "metadata": {
        "id": "3pzakGCNe2Cc",
        "colab": {
          "base_uri": "https://localhost:8080/"
        },
        "outputId": "1d82c1a9-3ced-4b17-a3a3-bc4478c87a6d"
      },
      "execution_count": null,
      "outputs": [
        {
          "output_type": "execute_result",
          "data": {
            "text/plain": [
              "6"
            ]
          },
          "metadata": {},
          "execution_count": 10
        }
      ]
    },
    {
      "cell_type": "code",
      "source": [
        "# 3.c Compta quantes paraules tenen més de dues lletres.\n",
        "#\n",
        "suma = 0\n",
        "for paraula in llista:\n",
        "  if len(paraula) > 2:\n",
        "    suma += 1\n",
        "suma\n",
        "#"
      ],
      "metadata": {
        "id": "VW-a_DhWe38Z",
        "colab": {
          "base_uri": "https://localhost:8080/"
        },
        "outputId": "4400fdbc-214b-4d94-f0c6-d8f48d6a9511"
      },
      "execution_count": null,
      "outputs": [
        {
          "output_type": "execute_result",
          "data": {
            "text/plain": [
              "3"
            ]
          },
          "metadata": {},
          "execution_count": 11
        }
      ]
    },
    {
      "cell_type": "code",
      "source": [
        "# 3.d Mostra les paraules que contenen la lletra 'n'\n",
        "#\n",
        "paraulesn = []\n",
        "for paraula in llista:\n",
        "  if 'n' in paraula:\n",
        "    paraulesn.append(paraula)\n",
        "paraulesn\n",
        "#"
      ],
      "metadata": {
        "id": "ztlPua12e315",
        "colab": {
          "base_uri": "https://localhost:8080/"
        },
        "outputId": "983c849f-6870-45f4-fa64-64f1a7d02d53"
      },
      "execution_count": null,
      "outputs": [
        {
          "output_type": "execute_result",
          "data": {
            "text/plain": [
              "['Python', 'un', 'llenguatge']"
            ]
          },
          "metadata": {},
          "execution_count": 12
        }
      ]
    },
    {
      "cell_type": "markdown",
      "source": [
        "# 4. Estructures de dades: tuples"
      ],
      "metadata": {
        "id": "t6kdimEyhBxH"
      }
    },
    {
      "cell_type": "code",
      "source": [
        "# 4.a Escriu el teu nom complet (nom, primer llinatge i segon llinatge) com una tupla de tres elements. Si no tens segon llinatge, posa-hi None.\n",
        "\n",
        "nom_complet= ('Toni', 'Navarrete', 'Terrasa') # <=modifica aquesta línia"
      ],
      "metadata": {
        "id": "RKDs-PAQjkj5"
      },
      "execution_count": null,
      "outputs": []
    },
    {
      "cell_type": "code",
      "source": [
        "# 4.b Obté una tupla a partir de la variable illa (una cadena de caràcters)\n",
        "\n",
        "illa = 'Mallorca'\n",
        "la_meva_tupla = tuple(illa) # <=modifica aquesta línia\n",
        "print (type(la_meva_tupla))"
      ],
      "metadata": {
        "id": "uvUGJkGrfJ06",
        "colab": {
          "base_uri": "https://localhost:8080/"
        },
        "outputId": "b428a96b-8fde-4d1f-a37c-bad9667fe3e7"
      },
      "execution_count": null,
      "outputs": [
        {
          "output_type": "stream",
          "name": "stdout",
          "text": [
            "<class 'tuple'>\n"
          ]
        }
      ]
    },
    {
      "cell_type": "code",
      "source": [
        "# 4.c Agrupa les dues tuples següents en una de sola\n",
        "# que tengui els valors ('vermell','groc','verd','blanc',negre')\n",
        "\n",
        "bn = ('blanc','negre')\n",
        "rgb = ('vermell','groc','verd')\n",
        "colors = rgb + bn # <=modifica aquesta línia"
      ],
      "metadata": {
        "id": "E3p63-NwfJvj"
      },
      "execution_count": null,
      "outputs": []
    },
    {
      "cell_type": "code",
      "source": [
        "# 4.d Intercanvia els valors de les variables a i b\n",
        "\n",
        "a=3\n",
        "b=5\n",
        "a,b = b,a # <=modifica aquesta línia\n",
        "print(a)\n",
        "print(b)"
      ],
      "metadata": {
        "id": "vlHnbv-yfJs7",
        "colab": {
          "base_uri": "https://localhost:8080/"
        },
        "outputId": "6320e6b9-ed02-4c93-9944-e7512c1233b9"
      },
      "execution_count": null,
      "outputs": [
        {
          "output_type": "stream",
          "name": "stdout",
          "text": [
            "5\n",
            "3\n"
          ]
        }
      ]
    },
    {
      "cell_type": "markdown",
      "source": [
        "#5. Estructures de dades: conjunts"
      ],
      "metadata": {
        "id": "KGWe7Ls_hEFf"
      }
    },
    {
      "cell_type": "code",
      "source": [
        "# 5.a Defineix un conjunt amb les 5 vocals en minúscules\n",
        "#\n",
        "vocals_minus = {'a','e','i','o','u'}\n",
        "#"
      ],
      "metadata": {
        "id": "q63IzNGaigv8"
      },
      "execution_count": null,
      "outputs": []
    },
    {
      "cell_type": "code",
      "source": [
        "# 5.b Mostra per pantalla quantes vocals té la paraula \"ajuntament\", fent servir el teu conjunt\n",
        "#\n",
        "suma = 0\n",
        "for a in \"ajuntament\":\n",
        "  if a in vocals_minus:\n",
        "    suma += 1\n",
        "suma\n",
        "#"
      ],
      "metadata": {
        "id": "1hPmdzOxfiTG",
        "colab": {
          "base_uri": "https://localhost:8080/"
        },
        "outputId": "a4b13fbf-3ae2-48be-f232-97a7928ed1f2"
      },
      "execution_count": null,
      "outputs": [
        {
          "output_type": "execute_result",
          "data": {
            "text/plain": [
              "4"
            ]
          },
          "metadata": {},
          "execution_count": 18
        }
      ]
    },
    {
      "cell_type": "code",
      "source": [
        "# 5.c Crea un altre conjunt a partir de la cadena 'AEIOU'.\n",
        "#\n",
        "vocals_majus = set('AEIOU')\n",
        "vocals_majus\n",
        "#"
      ],
      "metadata": {
        "id": "6rD9kLdBfjKW",
        "colab": {
          "base_uri": "https://localhost:8080/"
        },
        "outputId": "ba88ead1-454e-4d15-bd59-cead15f99a05"
      },
      "execution_count": null,
      "outputs": [
        {
          "output_type": "execute_result",
          "data": {
            "text/plain": [
              "{'A', 'E', 'I', 'O', 'U'}"
            ]
          },
          "metadata": {},
          "execution_count": 19
        }
      ]
    },
    {
      "cell_type": "code",
      "source": [
        "# 5.d A partir dels teus dos conjunts, obté un tercer conjunt amb totes les vocals, majúscules i minúscules\n",
        "#\n",
        "vocals_totes = vocals_minus.union(vocals_majus)\n",
        "vocals_totes\n",
        "#"
      ],
      "metadata": {
        "id": "TSRkku68fi8l",
        "colab": {
          "base_uri": "https://localhost:8080/"
        },
        "outputId": "3729f4a5-fa10-4881-e769-a20664cfd485"
      },
      "execution_count": null,
      "outputs": [
        {
          "output_type": "execute_result",
          "data": {
            "text/plain": [
              "{'A', 'E', 'I', 'O', 'U', 'a', 'e', 'i', 'o', 'u'}"
            ]
          },
          "metadata": {},
          "execution_count": 20
        }
      ]
    },
    {
      "cell_type": "markdown",
      "source": [
        "#6. Estructures de dades: diccionaris"
      ],
      "metadata": {
        "id": "K8JZEID-hGxo"
      }
    },
    {
      "cell_type": "code",
      "source": [
        "# 6.a Defineix un diccionari amb el nom nombres.\n",
        "# Cada entrada del diccionari ha de contenir com a clau el nombre en sí (1, 2, ...) i com a valor el seu nom en català (\"u\", \"dos\", ...)\n",
        "# Fes-ne quatre entrades, per als nombres de l'u fins al quatre.\n",
        "\n",
        "nombres = {1:'u', 2:'dos', 3:'tres', 4:'quatre'}\n",
        "print(nombres)"
      ],
      "metadata": {
        "id": "jIsepohitUP0",
        "colab": {
          "base_uri": "https://localhost:8080/"
        },
        "outputId": "01a3cd75-6881-46df-f380-167632406a1c"
      },
      "execution_count": null,
      "outputs": [
        {
          "output_type": "stream",
          "name": "stdout",
          "text": [
            "{1: 'u', 2: 'dos', 3: 'tres', 4: 'quatre'}\n"
          ]
        }
      ]
    },
    {
      "cell_type": "code",
      "source": [
        "# 6.b Afegeix al teu diccionari les entrades corresponent al cinc i al sis.\n",
        "# No val escriure de nou els valors que ja tenies dins el diccionari.\n",
        "#\n",
        "nombres[5] = 'cinc'\n",
        "nombres[6] = 'sis'\n",
        "#\n",
        "print(nombres)"
      ],
      "metadata": {
        "id": "3I0ZbPmttUDb",
        "colab": {
          "base_uri": "https://localhost:8080/"
        },
        "outputId": "fab5b786-e128-45fc-f378-cf331456b46a"
      },
      "execution_count": null,
      "outputs": [
        {
          "output_type": "stream",
          "name": "stdout",
          "text": [
            "{1: 'u', 2: 'dos', 3: 'tres', 4: 'quatre', 5: 'cinc', 6: 'sis'}\n"
          ]
        }
      ]
    },
    {
      "cell_type": "code",
      "source": [
        "# 6.c Elimina del diccionari l'entrada corresponent al nombre tres\n",
        "#\n",
        "nombres.pop(3)\n",
        "#\n",
        "print(nombres)"
      ],
      "metadata": {
        "id": "01u4Z5nktT67",
        "colab": {
          "base_uri": "https://localhost:8080/"
        },
        "outputId": "9ea39c6a-2f20-4886-ae5c-3030f46e8a6f"
      },
      "execution_count": null,
      "outputs": [
        {
          "output_type": "stream",
          "name": "stdout",
          "text": [
            "{1: 'u', 2: 'dos', 4: 'quatre', 5: 'cinc', 6: 'sis'}\n"
          ]
        }
      ]
    },
    {
      "cell_type": "code",
      "source": [
        "# 6.d Modifica tots els valors dels nombres parells perquè quedin en majúscules\n",
        "#\n",
        "for n in nombres.keys():\n",
        "  if n % 2 == 0:\n",
        "    nombres[n] = str.upper(nombres[n])\n",
        "#\n",
        "print(nombres)"
      ],
      "metadata": {
        "id": "3PkZjgSqhPhQ",
        "colab": {
          "base_uri": "https://localhost:8080/"
        },
        "outputId": "f2ff63a8-127d-4b04-b7b4-fc71c3b85960"
      },
      "execution_count": null,
      "outputs": [
        {
          "output_type": "stream",
          "name": "stdout",
          "text": [
            "{1: 'u', 2: 'DOS', 4: 'QUATRE', 5: 'cinc', 6: 'SIS'}\n"
          ]
        }
      ]
    },
    {
      "cell_type": "markdown",
      "source": [
        "# 7. Comprensions"
      ],
      "metadata": {
        "id": "ANp2RkK_kspq"
      }
    },
    {
      "cell_type": "code",
      "source": [
        "# 7.a Reescriu el bucle següent com a comprensió\n",
        "\n",
        "dades = [4,-1,3,-2,-5,7]\n",
        "\n",
        "negatius = []\n",
        "for val in dades:\n",
        "  if val<0:\n",
        "    negatius.append(val)\n",
        "\n",
        "negatius = [val for val in dades if val < 0]\n",
        "print(negatius)"
      ],
      "metadata": {
        "id": "73z9Dmq99TK6",
        "colab": {
          "base_uri": "https://localhost:8080/"
        },
        "outputId": "2deb8882-608e-44b8-d860-829b1d4ce678"
      },
      "execution_count": null,
      "outputs": [
        {
          "output_type": "stream",
          "name": "stdout",
          "text": [
            "[-1, -2, -5]\n"
          ]
        }
      ]
    },
    {
      "cell_type": "code",
      "source": [
        "# 7.b Reescriu la generació del diccionari nombres de l'apartat anterior (amb els números 1 a 4) fent servir una comprensió\n",
        "noms_numeros = ['u','dos','tres','quatre']\n",
        "nombres = {index : val for index, val in enumerate(noms_numeros,1)}\n",
        "nombres"
      ],
      "metadata": {
        "id": "CYJCEl6PwMqL",
        "colab": {
          "base_uri": "https://localhost:8080/"
        },
        "outputId": "3cddf80d-6150-4a09-fc69-e7d6949debb4"
      },
      "execution_count": null,
      "outputs": [
        {
          "output_type": "execute_result",
          "data": {
            "text/plain": [
              "{1: 'u', 2: 'dos', 3: 'tres', 4: 'quatre'}"
            ]
          },
          "metadata": {},
          "execution_count": 26
        }
      ]
    },
    {
      "cell_type": "code",
      "source": [
        "# 7.c Genera la llista dels cinc primers parells [0,2,4,6,8] i els cinc primers senars [1,3,5,7,9] amb una comprensió\n",
        "\n",
        "# Modifica aquestes dues línies:\n",
        "parells = [val for val in range(0,10) if val%2 == 0]\n",
        "senars = [val for val in range(0,10) if val%2 == 1]\n",
        "#\n",
        "\n",
        "print(parells)\n",
        "print(senars)"
      ],
      "metadata": {
        "id": "AMVgrr5jkuE7",
        "colab": {
          "base_uri": "https://localhost:8080/"
        },
        "outputId": "355f7be2-9534-4603-a805-4f11aac1c383"
      },
      "execution_count": null,
      "outputs": [
        {
          "output_type": "stream",
          "name": "stdout",
          "text": [
            "[0, 2, 4, 6, 8]\n",
            "[1, 3, 5, 7, 9]\n"
          ]
        }
      ]
    },
    {
      "cell_type": "code",
      "source": [
        "# 7.d Mitjançant una comprensió, genera l'array amb les paraules del text (l'olivera compta com una paraula), posant en majúscules aquelles que comencin per 'm''\n",
        "\n",
        "text = \"mon cor estima un arbre més vell que l'olivera\"\n",
        "paraules = [paraula.upper() if paraula[0] == 'm' else paraula for paraula in text.split() ]\n",
        "paraules"
      ],
      "metadata": {
        "id": "eGnkNS80lbvR",
        "colab": {
          "base_uri": "https://localhost:8080/"
        },
        "outputId": "67c2a404-0783-4b43-c373-9f5e7a132f6b"
      },
      "execution_count": null,
      "outputs": [
        {
          "output_type": "execute_result",
          "data": {
            "text/plain": [
              "['MON', 'cor', 'estima', 'un', 'arbre', 'MÉS', 'vell', 'que', \"l'olivera\"]"
            ]
          },
          "metadata": {},
          "execution_count": 28
        }
      ]
    },
    {
      "cell_type": "markdown",
      "source": [
        "# 8. Funcions"
      ],
      "metadata": {
        "id": "PSqvYxs0hLuC"
      }
    },
    {
      "cell_type": "code",
      "source": [
        "# 8.a Escriu una funció que retorni la mitjana aritmètica de dos nombres (la suma dels dos nombres dividit per 2).\n",
        "\n",
        "def mitjana(x1,x2):\n",
        "  return (x1 + x2) / 2\n",
        "mitjana(4,8)"
      ],
      "metadata": {
        "id": "38tOi9UIYsnQ",
        "colab": {
          "base_uri": "https://localhost:8080/"
        },
        "outputId": "d44a18f3-9e3e-44f5-e8b7-f8406681e54a"
      },
      "execution_count": null,
      "outputs": [
        {
          "output_type": "execute_result",
          "data": {
            "text/plain": [
              "6.0"
            ]
          },
          "metadata": {},
          "execution_count": 29
        }
      ]
    },
    {
      "cell_type": "code",
      "source": [
        "# 8.b Generalitza la funció anterior. Escriu una funció que retorni la mitjana aritmètica dels nombres dins una llista:\n",
        "# si la llista té N elements, serà suma de tots els elements de la llista dividit per N\n",
        "\n",
        "def mitjana(x):\n",
        "  if len(x)==0:\n",
        "    return 0\n",
        "  else:\n",
        "    return sum(x)/len(x)\n",
        "mitjana([4,8,10,6])"
      ],
      "metadata": {
        "id": "oThyrS-bYsaB",
        "colab": {
          "base_uri": "https://localhost:8080/"
        },
        "outputId": "c6b98367-28e8-4102-8b5a-75f2bdd08dc5"
      },
      "execution_count": null,
      "outputs": [
        {
          "output_type": "execute_result",
          "data": {
            "text/plain": [
              "7.0"
            ]
          },
          "metadata": {},
          "execution_count": 30
        }
      ]
    },
    {
      "cell_type": "code",
      "source": [
        "# 8.c Escriu una funció que retorni el mínim i el màxim dels elements d'una llista\n",
        "# Implementa-la sense emprar les funcions predefinides min i max.\n",
        "\n",
        "##### El vostre codi\n",
        "def minmax(x):\n",
        "  minim = x[0]\n",
        "  maxim = x[0]\n",
        "  for n in x:\n",
        "    if n < minim:\n",
        "      minim = n\n",
        "    if n > maxim:\n",
        "      maxim = n\n",
        "  return minim, maxim\n",
        "#####\n",
        "\n",
        "# comprovació\n",
        "min, max = minmax([3,5,4,2,9,7])\n",
        "assert max==9, \"El màxim no és correcte\"\n",
        "assert min==2, \"El mínim no és correcte\""
      ],
      "metadata": {
        "id": "KQtkSo07YsFh"
      },
      "execution_count": 1,
      "outputs": []
    },
    {
      "cell_type": "code",
      "source": [
        "# 8.d Escriu una funció lambda anomenada quadrat que calculi el quadrat d'un número x\n",
        "\n",
        "quadrat = lambda x: x*x # <- substitueix per la teva funció lambda anomenada quadrat\n",
        "\n",
        "# comprovació\n",
        "x = quadrat(5)\n",
        "assert x==25, \"El quadrat no és correcte\""
      ],
      "metadata": {
        "id": "ascS-1YYosSw"
      },
      "execution_count": null,
      "outputs": []
    },
    {
      "cell_type": "markdown",
      "source": [
        "#9. Iteradors i generadors"
      ],
      "metadata": {
        "id": "g1rlY4TrhKMo"
      }
    },
    {
      "cell_type": "code",
      "source": [
        "dies = {'dl': 'dilluns', 'dt': 'dimarts', 'dc': 'dimecres', 'dj': 'dijous',\n",
        "        'dv': 'divendres', 'ds': 'dissatbte', 'dg': 'diumenge'}\n",
        "\n",
        "# 9.a Utilitzant un iterador imprimeix totes les claus i valors del diccionari dies amb aquest format:\n",
        "#dilluns (dl)\n",
        "#dimarts (dt)\n",
        "#dimecres (dc)\n",
        "#dijous (dj)\n",
        "#divendres (dv)\n",
        "#dissatbte (ds)\n",
        "#diumenge (dg)\n",
        "\n",
        "for d in dies:\n",
        "  print(dies[d]+\" (\"+d+\")\")"
      ],
      "metadata": {
        "id": "jBZY1qQ4YtvB",
        "colab": {
          "base_uri": "https://localhost:8080/"
        },
        "outputId": "dcba605e-1339-4aac-9d3d-df85dbecdbf7"
      },
      "execution_count": null,
      "outputs": [
        {
          "output_type": "stream",
          "name": "stdout",
          "text": [
            "dilluns (dl)\n",
            "dimarts (dt)\n",
            "dimecres (dc)\n",
            "dijous (dj)\n",
            "divendres (dv)\n",
            "dissatbte (ds)\n",
            "diumenge (dg)\n"
          ]
        }
      ]
    },
    {
      "cell_type": "code",
      "source": [
        "# 9.b Implementa un generador que doni els nombres senars fins a 2N, utilitzant un bucle. Obté els 10 primers valors.\n",
        "\n",
        "def senar(N=10):\n",
        "  for valor in range(1, 2*N, 2):\n",
        "    yield valor\n",
        "\n",
        "gen = senar(10)\n",
        "print(type(gen)) #comprovam que és un generador\n",
        "\n",
        "for x in gen:\n",
        "  print(x)"
      ],
      "metadata": {
        "id": "N6E552J6Yt3p",
        "colab": {
          "base_uri": "https://localhost:8080/"
        },
        "outputId": "2b9c21ef-d1d0-4db6-b7ef-86e90ed5ecda"
      },
      "execution_count": null,
      "outputs": [
        {
          "output_type": "stream",
          "name": "stdout",
          "text": [
            "<class 'generator'>\n",
            "1\n",
            "3\n",
            "5\n",
            "7\n",
            "9\n",
            "11\n",
            "13\n",
            "15\n",
            "17\n",
            "19\n"
          ]
        }
      ]
    },
    {
      "cell_type": "code",
      "source": [
        "# 9.c Implementa el generador de l'apartat anterior, amb una expressió de generador. Obté els 10 primers valors.\n",
        "gen = (val for val in range(1, 20, 2))\n",
        "print(type(gen)) #comprovam que és un generador\n",
        "\n",
        "for x in gen:\n",
        "  print(x)"
      ],
      "metadata": {
        "id": "KZLxbD2NCCo5",
        "colab": {
          "base_uri": "https://localhost:8080/"
        },
        "outputId": "da74df5f-731e-4a26-d65a-d354a372f4d6"
      },
      "execution_count": null,
      "outputs": [
        {
          "output_type": "stream",
          "name": "stdout",
          "text": [
            "<class 'generator'>\n",
            "1\n",
            "3\n",
            "5\n",
            "7\n",
            "9\n",
            "11\n",
            "13\n",
            "15\n",
            "17\n",
            "19\n"
          ]
        }
      ]
    },
    {
      "cell_type": "code",
      "source": [
        "# 9.d Crea el següent diccionari mitjançant un generador:\n",
        "\n",
        "#\n",
        "dicc = { 0: 1, 1: 10, 2:100, 3:1000, 4: 10000, 5:100000}\n",
        "#\n",
        "gen=((val, 10**val) for val in range(6))\n",
        "print(type(gen)) #comprovam que és un generador\n",
        "diccionari = dict(gen)\n",
        "diccionari"
      ],
      "metadata": {
        "id": "0xa2B2dVYtnI",
        "colab": {
          "base_uri": "https://localhost:8080/"
        },
        "outputId": "aa53e534-8fee-4982-daac-02b9f75a80ad"
      },
      "execution_count": null,
      "outputs": [
        {
          "output_type": "stream",
          "name": "stdout",
          "text": [
            "<class 'generator'>\n"
          ]
        },
        {
          "output_type": "execute_result",
          "data": {
            "text/plain": [
              "{0: 1, 1: 10, 2: 100, 3: 1000, 4: 10000, 5: 100000}"
            ]
          },
          "metadata": {},
          "execution_count": 36
        }
      ]
    },
    {
      "cell_type": "markdown",
      "source": [
        "# 10. Classes i objectes"
      ],
      "metadata": {
        "id": "MnU4O00gJ5l2"
      }
    },
    {
      "cell_type": "code",
      "source": [
        "#10.a Crea una classe Quadrat amb un atribut costat i dos mètodes que calculin l'àrea i el perímetre.\n",
        "# Fent servir la teva classe, imprimeix el perímetre d'un quadrat de costat 5.\n",
        "class Quadrat:\n",
        "  def __init__(self, costat):\n",
        "    self.costat = costat\n",
        "\n",
        "  def area(self):\n",
        "    return self.costat * self.costat\n",
        "\n",
        "  def perimetre(self):\n",
        "    return self.costat * 4\n",
        "\n",
        "q = Quadrat(5)\n",
        "print(q.perimetre())"
      ],
      "metadata": {
        "id": "v0qdVOXPQlGP",
        "colab": {
          "base_uri": "https://localhost:8080/"
        },
        "outputId": "27a4dd45-15da-48a6-dcc0-66d210c3540a"
      },
      "execution_count": null,
      "outputs": [
        {
          "output_type": "stream",
          "name": "stdout",
          "text": [
            "20\n"
          ]
        }
      ]
    },
    {
      "cell_type": "code",
      "source": [
        "#10.b Implementa els mètodes getter i setter per a l'atribut costat i canvia-li el nom per indicar que no s'ha de modificar directament.\n",
        "# Fent servir la teva nova classe, imprimeix l'àrea d'un quadrat de costat 3.\n",
        "class Quadrat:\n",
        "  def __init__(self, costat=0):\n",
        "    self._costat = costat\n",
        "\n",
        "  @property\n",
        "  def costat(self):\n",
        "    return self._costat\n",
        "\n",
        "  @costat.setter\n",
        "  def costat(self, costat):\n",
        "    self._costat = costat\n",
        "\n",
        "  def area(self):\n",
        "    return self._costat * self._costat\n",
        "\n",
        "  def perimetre(self):\n",
        "    return self._costat * 4\n",
        "\n",
        "q = Quadrat(3)\n",
        "print(q.perimetre())"
      ],
      "metadata": {
        "id": "Wou77XilQxrV",
        "colab": {
          "base_uri": "https://localhost:8080/"
        },
        "outputId": "bb45d540-520c-4d99-c16a-12fb6bd283be"
      },
      "execution_count": null,
      "outputs": [
        {
          "output_type": "stream",
          "name": "stdout",
          "text": [
            "12\n"
          ]
        }
      ]
    },
    {
      "cell_type": "code",
      "source": [
        "#10.c Crea una nova classe Quadrat2 que hereta de la classe Quadrat i afegeix:\n",
        "# - dos atributs x i y, que són les coordenades de la cantonada inferior esquerre del quadrat\n",
        "# - un mètode cantonada_oposada que retorna les coordenades de la cantonada oposada del quadrat\n",
        "# Nota: els quadrats de la classe Quadrat2 són paral·lels als eixos\n",
        "\n",
        "class Quadrat2(Quadrat):\n",
        "  def __init__(self, x=0, y=0, costat=0):\n",
        "    self.x = x\n",
        "    self.y = y\n",
        "    self.costat = costat\n",
        "\n",
        "  def cantonada_oposada(self):\n",
        "    return self.x + self.costat, self.y + self.costat\n",
        "\n",
        "q = Quadrat2(1,2,5)\n",
        "q.cantonada_oposada()"
      ],
      "metadata": {
        "id": "31qEwpiERqo2",
        "colab": {
          "base_uri": "https://localhost:8080/"
        },
        "outputId": "b8d67565-0224-4570-dd29-10ec2b40741d"
      },
      "execution_count": null,
      "outputs": [
        {
          "output_type": "execute_result",
          "data": {
            "text/plain": [
              "(6, 7)"
            ]
          },
          "metadata": {},
          "execution_count": 39
        }
      ]
    },
    {
      "cell_type": "code",
      "source": [
        "#10.d Crea una nova classe Comparador amb:\n",
        "# - dos atributs, instàncies de la classe Quadrat2\n",
        "# - un mètode interseccio que retorna True si els dos quadrats estan solapats (un damunt de l'altre, almenys en part) i False en cas contrari\n",
        "\n",
        "class Comparador:\n",
        "  def __init__(self, quadrat1, quadrat2):\n",
        "    self.quadrat1 = quadrat1\n",
        "    self.quadrat2 = quadrat2\n",
        "\n",
        "  def interseccio(self):\n",
        "    x1, y1 = self.quadrat1.x, self.quadrat1.y\n",
        "    x1o, y1o = self.quadrat1.cantonada_oposada()\n",
        "    x2, y2 = self.quadrat2.x, self.quadrat2.y\n",
        "    x2o, y2o = self.quadrat2.cantonada_oposada()\n",
        "\n",
        "    if x1 > x2o or x2 > x1o or y1 > y2o or y2 > y1o:\n",
        "      return False\n",
        "    else:\n",
        "      return True;\n",
        "\n",
        "q1 = Quadrat2(0,0,2)\n",
        "q2 = Quadrat2(1,1,3)\n",
        "Comparador(q1,q2).interseccio()"
      ],
      "metadata": {
        "id": "HQrj3nyfTbfG",
        "colab": {
          "base_uri": "https://localhost:8080/"
        },
        "outputId": "19b3a2f7-f880-4cda-9e2c-baa00d34ff47"
      },
      "execution_count": null,
      "outputs": [
        {
          "output_type": "execute_result",
          "data": {
            "text/plain": [
              "True"
            ]
          },
          "metadata": {},
          "execution_count": 40
        }
      ]
    }
  ]
}