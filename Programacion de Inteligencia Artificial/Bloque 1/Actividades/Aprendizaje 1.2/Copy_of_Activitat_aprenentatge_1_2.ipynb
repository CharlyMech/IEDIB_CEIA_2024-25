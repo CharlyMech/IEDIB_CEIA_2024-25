{
  "nbformat": 4,
  "nbformat_minor": 0,
  "metadata": {
    "colab": {
      "provenance": [],
      "collapsed_sections": [
        "kLaYJXVKgtyj",
        "xE45erbugvXQ",
        "Ym6GBAp_g5rP",
        "t6kdimEyhBxH",
        "KGWe7Ls_hEFf",
        "K8JZEID-hGxo",
        "ANp2RkK_kspq",
        "PSqvYxs0hLuC",
        "g1rlY4TrhKMo",
        "MnU4O00gJ5l2"
      ]
    },
    "kernelspec": {
      "name": "python3",
      "display_name": "Python 3"
    },
    "language_info": {
      "name": "python"
    }
  },
  "cells": [
    {
      "cell_type": "markdown",
      "source": [
        "Aquest és l'enunciat de l'activitat d'aprenentatge 1.2 de **Programació d'Intel·ligència Artificial**. S'hi treballen deu temes que hem vist en els apunts. Cadascun d'ells té 4 preguntes. Ves responent-les en les cel·les de codi corresponents."
      ],
      "metadata": {
        "id": "Wx1nesh8tcOc"
      }
    },
    {
      "cell_type": "markdown",
      "source": [
        "# 1. Condicions"
      ],
      "metadata": {
        "id": "kLaYJXVKgtyj"
      }
    },
    {
      "cell_type": "code",
      "execution_count": null,
      "metadata": {
        "id": "cSrNAzE2gsjV",
        "outputId": "5c5a80ad-9e27-4380-94ee-b83f0f1ea4b1",
        "colab": {
          "base_uri": "https://localhost:8080/"
        }
      },
      "outputs": [
        {
          "output_type": "stream",
          "name": "stdout",
          "text": [
            "a i b són negatius.\n",
            "a i b són negatius\n"
          ]
        }
      ],
      "source": [
        "# 1.a Agrupa aquestes dues condicions en una de sola\n",
        "\n",
        "a = -3\n",
        "b = -5\n",
        "if a<0:\n",
        "    if b<0:\n",
        "        print(\"a i b són negatius.\")\n",
        "\n",
        "### INICI\n",
        "if a<0 and b<0: # <== modifica aquesta línia\n",
        "### FINAL\n",
        "    print(\"a i b són negatius\")\n",
        "\n",
        "\n"
      ]
    },
    {
      "cell_type": "code",
      "source": [
        "#1.b Escriu l'argument de print usant la funció range, de forma que el resultat\n",
        "# siguin els cinc primers senars [1,3,5,7,9]\n",
        "\n",
        "### INICI\n",
        "print(list(range(1, 10, 2)))\n",
        "### FINAL"
      ],
      "metadata": {
        "id": "TRoXCJBnrr2y",
        "outputId": "a86b346e-eb3e-484e-e6d0-ec61eda48726",
        "colab": {
          "base_uri": "https://localhost:8080/"
        }
      },
      "execution_count": null,
      "outputs": [
        {
          "output_type": "stream",
          "name": "stdout",
          "text": [
            "[1, 3, 5, 7, 9]\n"
          ]
        }
      ]
    },
    {
      "cell_type": "code",
      "source": [
        "# 1.c Escriu les condicions de l'if i l'elseif en lloc de None.\n",
        "# Comprova-les amb diferents valors d'a i b.\n",
        "\n",
        "a = 2\n",
        "b = 4\n",
        "\n",
        "if (a%2 == 0) and (b%2 == 0):\n",
        "  print(\"Tots dos són parells\")\n",
        "elif (a%2 != 0) and (b%2 != 0):\n",
        "  print(\"Tots dos són senars\")\n",
        "else:\n",
        "  print(\"Un és parell i l'altre senar\")"
      ],
      "metadata": {
        "id": "4xF1NRVmruK5",
        "outputId": "ce5a4d8a-fa38-432e-ac07-553481cf1f88",
        "colab": {
          "base_uri": "https://localhost:8080/"
        }
      },
      "execution_count": null,
      "outputs": [
        {
          "output_type": "stream",
          "name": "stdout",
          "text": [
            "Tots dos són parells\n"
          ]
        }
      ]
    },
    {
      "cell_type": "code",
      "source": [
        "# 1.d Escriu el codi següent amb una sola expressió ternària\n",
        "\n",
        "b = False\n",
        "\n",
        "if b:\n",
        "  print(\"b és cert\")\n",
        "else:\n",
        "  print(\"b és fals\")\n",
        "\n",
        "### El vostre codi\n",
        "print(\"b és cert\") if b else print(\"b és fals\")\n",
        "###"
      ],
      "metadata": {
        "id": "giGW9fUwt5A3",
        "outputId": "42e449d4-ade0-4a5c-ffc5-226a9666160e",
        "colab": {
          "base_uri": "https://localhost:8080/"
        }
      },
      "execution_count": null,
      "outputs": [
        {
          "output_type": "stream",
          "name": "stdout",
          "text": [
            "b és fals\n",
            "b és fals\n"
          ]
        }
      ]
    },
    {
      "cell_type": "markdown",
      "source": [
        "# 2. Bucles"
      ],
      "metadata": {
        "id": "xE45erbugvXQ"
      }
    },
    {
      "cell_type": "code",
      "source": [
        "a = 1\n",
        "while a<=10:\n",
        "  a+=1\n",
        "  print(a)\n",
        "\n",
        "\n",
        "# 2.a Escriu el bucle anterior com a for d'una sola línia\n",
        "#\n",
        "for a in range(2,12):\n",
        "    print(a)\n",
        "#"
      ],
      "metadata": {
        "id": "pDEUdK4vkCc4",
        "outputId": "100e2f8a-bea1-4cd5-cd97-5f159dae1cf4",
        "colab": {
          "base_uri": "https://localhost:8080/"
        }
      },
      "execution_count": null,
      "outputs": [
        {
          "output_type": "stream",
          "name": "stdout",
          "text": [
            "2\n",
            "3\n",
            "4\n",
            "5\n",
            "6\n",
            "7\n",
            "8\n",
            "9\n",
            "10\n",
            "11\n",
            "2\n",
            "3\n",
            "4\n",
            "5\n",
            "6\n",
            "7\n",
            "8\n",
            "9\n",
            "10\n",
            "11\n"
          ]
        }
      ]
    },
    {
      "cell_type": "code",
      "source": [
        "# 2.b\n",
        "# El següent bucle usa la instrucció \"continue\".\n",
        "# Reescriu-lo mantenint el mateix resultat però eliminant aquesta instrucció.\n",
        "# Necessitaràs modificar la condició.\n",
        "\n",
        "fruites = [\"albercoc\", \"pruna\", \"cirera\"]\n",
        "for x in fruites:\n",
        "  if x != \"albercoc\":\n",
        "    print(x)"
      ],
      "metadata": {
        "id": "SI45gemSv5hw",
        "colab": {
          "base_uri": "https://localhost:8080/"
        },
        "outputId": "2cbd412b-ebc7-4d92-a61f-7169fb4d7983"
      },
      "execution_count": null,
      "outputs": [
        {
          "output_type": "stream",
          "name": "stdout",
          "text": [
            "pruna\n",
            "cirera\n"
          ]
        }
      ]
    },
    {
      "cell_type": "code",
      "source": [
        "# 2.c\n",
        "# Escriu un bucle niat (dos bucles, un dins de l'altre) per mostrar el resultat següent:\n",
        "#\n",
        "# poma dolça\n",
        "# pera dolça\n",
        "# poma madura\n",
        "# pera madura\n",
        "\n",
        "fruit = ['poma', 'pera']\n",
        "estat = ['dolça', 'madura']\n",
        "\n",
        "#### 3 línies\n",
        "for e in estat:\n",
        "  for f in fruit:\n",
        "    print(f\"{f} {e}\")\n",
        "\n",
        "\n",
        "####\n"
      ],
      "metadata": {
        "id": "aYLkObq8v7Em",
        "outputId": "3af65ceb-bee0-422a-f013-621f7c0ea8c1",
        "colab": {
          "base_uri": "https://localhost:8080/"
        }
      },
      "execution_count": null,
      "outputs": [
        {
          "output_type": "stream",
          "name": "stdout",
          "text": [
            "poma dolça\n",
            "pera dolça\n",
            "poma madura\n",
            "pera madura\n"
          ]
        }
      ]
    },
    {
      "cell_type": "code",
      "source": [
        "# 2.d\n",
        "# Mostrau les taules de multiplicar d'1 a 10, utilitzant bucles.\n",
        "# El resultat ha de començar així:\n",
        "#\n",
        "# 1 x 1 = 1\n",
        "# 1 x 2 = 2\n",
        "# ...\n",
        "for i in range(11):\n",
        "  for j in range(11):\n",
        "    print(f'{i} x {j} = {i*j}')"
      ],
      "metadata": {
        "id": "cZlhN8gjv8Sv",
        "outputId": "ad3f97e1-432f-4455-c55c-15bdf4c92e86",
        "colab": {
          "base_uri": "https://localhost:8080/"
        }
      },
      "execution_count": null,
      "outputs": [
        {
          "output_type": "stream",
          "name": "stdout",
          "text": [
            "0 x 0 = 0\n",
            "0 x 1 = 0\n",
            "0 x 2 = 0\n",
            "0 x 3 = 0\n",
            "0 x 4 = 0\n",
            "0 x 5 = 0\n",
            "0 x 6 = 0\n",
            "0 x 7 = 0\n",
            "0 x 8 = 0\n",
            "0 x 9 = 0\n",
            "0 x 10 = 0\n",
            "1 x 0 = 0\n",
            "1 x 1 = 1\n",
            "1 x 2 = 2\n",
            "1 x 3 = 3\n",
            "1 x 4 = 4\n",
            "1 x 5 = 5\n",
            "1 x 6 = 6\n",
            "1 x 7 = 7\n",
            "1 x 8 = 8\n",
            "1 x 9 = 9\n",
            "1 x 10 = 10\n",
            "2 x 0 = 0\n",
            "2 x 1 = 2\n",
            "2 x 2 = 4\n",
            "2 x 3 = 6\n",
            "2 x 4 = 8\n",
            "2 x 5 = 10\n",
            "2 x 6 = 12\n",
            "2 x 7 = 14\n",
            "2 x 8 = 16\n",
            "2 x 9 = 18\n",
            "2 x 10 = 20\n",
            "3 x 0 = 0\n",
            "3 x 1 = 3\n",
            "3 x 2 = 6\n",
            "3 x 3 = 9\n",
            "3 x 4 = 12\n",
            "3 x 5 = 15\n",
            "3 x 6 = 18\n",
            "3 x 7 = 21\n",
            "3 x 8 = 24\n",
            "3 x 9 = 27\n",
            "3 x 10 = 30\n",
            "4 x 0 = 0\n",
            "4 x 1 = 4\n",
            "4 x 2 = 8\n",
            "4 x 3 = 12\n",
            "4 x 4 = 16\n",
            "4 x 5 = 20\n",
            "4 x 6 = 24\n",
            "4 x 7 = 28\n",
            "4 x 8 = 32\n",
            "4 x 9 = 36\n",
            "4 x 10 = 40\n",
            "5 x 0 = 0\n",
            "5 x 1 = 5\n",
            "5 x 2 = 10\n",
            "5 x 3 = 15\n",
            "5 x 4 = 20\n",
            "5 x 5 = 25\n",
            "5 x 6 = 30\n",
            "5 x 7 = 35\n",
            "5 x 8 = 40\n",
            "5 x 9 = 45\n",
            "5 x 10 = 50\n",
            "6 x 0 = 0\n",
            "6 x 1 = 6\n",
            "6 x 2 = 12\n",
            "6 x 3 = 18\n",
            "6 x 4 = 24\n",
            "6 x 5 = 30\n",
            "6 x 6 = 36\n",
            "6 x 7 = 42\n",
            "6 x 8 = 48\n",
            "6 x 9 = 54\n",
            "6 x 10 = 60\n",
            "7 x 0 = 0\n",
            "7 x 1 = 7\n",
            "7 x 2 = 14\n",
            "7 x 3 = 21\n",
            "7 x 4 = 28\n",
            "7 x 5 = 35\n",
            "7 x 6 = 42\n",
            "7 x 7 = 49\n",
            "7 x 8 = 56\n",
            "7 x 9 = 63\n",
            "7 x 10 = 70\n",
            "8 x 0 = 0\n",
            "8 x 1 = 8\n",
            "8 x 2 = 16\n",
            "8 x 3 = 24\n",
            "8 x 4 = 32\n",
            "8 x 5 = 40\n",
            "8 x 6 = 48\n",
            "8 x 7 = 56\n",
            "8 x 8 = 64\n",
            "8 x 9 = 72\n",
            "8 x 10 = 80\n",
            "9 x 0 = 0\n",
            "9 x 1 = 9\n",
            "9 x 2 = 18\n",
            "9 x 3 = 27\n",
            "9 x 4 = 36\n",
            "9 x 5 = 45\n",
            "9 x 6 = 54\n",
            "9 x 7 = 63\n",
            "9 x 8 = 72\n",
            "9 x 9 = 81\n",
            "9 x 10 = 90\n",
            "10 x 0 = 0\n",
            "10 x 1 = 10\n",
            "10 x 2 = 20\n",
            "10 x 3 = 30\n",
            "10 x 4 = 40\n",
            "10 x 5 = 50\n",
            "10 x 6 = 60\n",
            "10 x 7 = 70\n",
            "10 x 8 = 80\n",
            "10 x 9 = 90\n",
            "10 x 10 = 100\n"
          ]
        }
      ]
    },
    {
      "cell_type": "markdown",
      "source": [
        "#3. Estructures de dades: llistes"
      ],
      "metadata": {
        "id": "Ym6GBAp_g5rP"
      }
    },
    {
      "cell_type": "code",
      "source": [
        "frase = \"Python és un llenguatge de programació\"\n",
        "\n",
        "# 3.a Transforma la frase anterior en una llista de 6 paraules\n",
        "#\n",
        "phrase_list = frase.split()\n",
        "phrase_list\n",
        "#"
      ],
      "metadata": {
        "id": "vNCi0-qzhVGw",
        "outputId": "35919b23-c5e4-4408-9e28-e12b3fc6e0ff",
        "colab": {
          "base_uri": "https://localhost:8080/"
        }
      },
      "execution_count": null,
      "outputs": [
        {
          "output_type": "execute_result",
          "data": {
            "text/plain": [
              "['Python', 'és', 'un', 'llenguatge', 'de', 'programació']"
            ]
          },
          "metadata": {},
          "execution_count": 19
        }
      ]
    },
    {
      "cell_type": "code",
      "source": [
        "# 3.b Mostra per pantalla quantes paraules té la frase\n",
        "#\n",
        "len(phrase_list)\n",
        "#"
      ],
      "metadata": {
        "id": "3pzakGCNe2Cc",
        "outputId": "a2a1c17e-d55f-416f-b230-237b1d174e43",
        "colab": {
          "base_uri": "https://localhost:8080/"
        }
      },
      "execution_count": null,
      "outputs": [
        {
          "output_type": "execute_result",
          "data": {
            "text/plain": [
              "6"
            ]
          },
          "metadata": {},
          "execution_count": 20
        }
      ]
    },
    {
      "cell_type": "code",
      "source": [
        "# 3.c Compta quantes paraules tenen més de dues lletres.\n",
        "#\n",
        "count = 0\n",
        "for word in phrase_list:\n",
        "  if len(word) >= 2: count+=1\n",
        "\n",
        "count\n",
        "#"
      ],
      "metadata": {
        "id": "VW-a_DhWe38Z",
        "outputId": "47a29631-74fe-4a81-e87a-91329997cdac",
        "colab": {
          "base_uri": "https://localhost:8080/"
        }
      },
      "execution_count": null,
      "outputs": [
        {
          "output_type": "execute_result",
          "data": {
            "text/plain": [
              "6"
            ]
          },
          "metadata": {},
          "execution_count": 21
        }
      ]
    },
    {
      "cell_type": "code",
      "source": [
        "# 3.d Mostra les paraules que contenen la lletra 'n'\n",
        "#\n",
        "n_word = []\n",
        "for word in phrase_list:\n",
        "  if 'n' in word: n_word.append(word)\n",
        "\n",
        "n_word\n",
        "#"
      ],
      "metadata": {
        "id": "ztlPua12e315",
        "outputId": "fa2716ef-c715-4652-a0c5-234d2bb81af3",
        "colab": {
          "base_uri": "https://localhost:8080/"
        }
      },
      "execution_count": null,
      "outputs": [
        {
          "output_type": "execute_result",
          "data": {
            "text/plain": [
              "['Python', 'un', 'llenguatge']"
            ]
          },
          "metadata": {},
          "execution_count": 22
        }
      ]
    },
    {
      "cell_type": "markdown",
      "source": [
        "# 4. Estructures de dades: tuples"
      ],
      "metadata": {
        "id": "t6kdimEyhBxH"
      }
    },
    {
      "cell_type": "code",
      "source": [
        "# 4.a Escriu el teu nom complet (nom, primer llinatge i segon llinatge) com una tupla de tres elements. Si no tens segon llinatge, posa-hi None.\n",
        "\n",
        "nom_complet= 'Carlos', 'Sánchez', 'Recio' # <=modifica aquesta línia\n",
        "nom_complet"
      ],
      "metadata": {
        "id": "RKDs-PAQjkj5",
        "outputId": "99cdc0af-b0d9-4a2c-bfee-436bb632b798",
        "colab": {
          "base_uri": "https://localhost:8080/"
        }
      },
      "execution_count": null,
      "outputs": [
        {
          "output_type": "execute_result",
          "data": {
            "text/plain": [
              "('Carlos', 'Sánchez', 'Recio')"
            ]
          },
          "metadata": {},
          "execution_count": 23
        }
      ]
    },
    {
      "cell_type": "code",
      "source": [
        "# 4.b Obté una tupla a partir de la variable illa (una cadena de caràcters)\n",
        "\n",
        "illa = 'Mallorca'\n",
        "la_meva_tupla = tuple(illa) # <=modifica aquesta línia\n",
        "print (type(la_meva_tupla))"
      ],
      "metadata": {
        "id": "uvUGJkGrfJ06",
        "outputId": "14118efb-d9e9-491a-ca65-f2b47c434226",
        "colab": {
          "base_uri": "https://localhost:8080/"
        }
      },
      "execution_count": null,
      "outputs": [
        {
          "output_type": "stream",
          "name": "stdout",
          "text": [
            "<class 'tuple'>\n"
          ]
        }
      ]
    },
    {
      "cell_type": "code",
      "source": [
        "# 4.c Agrupa les dues tuples següents en una de sola\n",
        "# que tengui els valors ('vermell','groc','verd','blanc',negre')\n",
        "\n",
        "bn = ('blanc','negre')\n",
        "rgb = ('vermell','groc','verd')\n",
        "colors = rgb+bn # <=modifica aquesta línia\n",
        "colors"
      ],
      "metadata": {
        "id": "E3p63-NwfJvj",
        "outputId": "752fcb70-b847-4b30-a731-ab63096cb86f",
        "colab": {
          "base_uri": "https://localhost:8080/"
        }
      },
      "execution_count": null,
      "outputs": [
        {
          "output_type": "execute_result",
          "data": {
            "text/plain": [
              "('vermell', 'groc', 'verd', 'blanc', 'negre')"
            ]
          },
          "metadata": {},
          "execution_count": 26
        }
      ]
    },
    {
      "cell_type": "code",
      "source": [
        "# 4.d Intercanvia els valors de les variables a i b\n",
        "\n",
        "a=3\n",
        "b=5\n",
        "a, b = b, a # <=modifica aquesta línia\n",
        "print(a)\n",
        "print(b)"
      ],
      "metadata": {
        "id": "vlHnbv-yfJs7",
        "outputId": "19852b88-72cd-4627-8036-29ff6d0788d6",
        "colab": {
          "base_uri": "https://localhost:8080/"
        }
      },
      "execution_count": null,
      "outputs": [
        {
          "output_type": "stream",
          "name": "stdout",
          "text": [
            "5\n",
            "3\n"
          ]
        }
      ]
    },
    {
      "cell_type": "markdown",
      "source": [
        "#5. Estructures de dades: conjunts"
      ],
      "metadata": {
        "id": "KGWe7Ls_hEFf"
      }
    },
    {
      "cell_type": "code",
      "source": [
        "# 5.a Defineix un conjunt amb les 5 vocals en minúscules\n",
        "#\n",
        "vocals = {'a', 'e', 'i', 'o', 'u'}\n",
        "#"
      ],
      "metadata": {
        "id": "q63IzNGaigv8"
      },
      "execution_count": null,
      "outputs": []
    },
    {
      "cell_type": "code",
      "source": [
        "# 5.b Mostra per pantalla quantes vocals té la paraula \"ajuntament\", fent servir el teu conjunt\n",
        "#\n",
        "count = 0\n",
        "for i in 'ajuntament':\n",
        "  if i in vocals: count+=1\n",
        "\n",
        "count\n",
        "#"
      ],
      "metadata": {
        "id": "1hPmdzOxfiTG",
        "outputId": "248e6b08-35ac-4362-9c4b-202415149191",
        "colab": {
          "base_uri": "https://localhost:8080/"
        }
      },
      "execution_count": null,
      "outputs": [
        {
          "output_type": "execute_result",
          "data": {
            "text/plain": [
              "4"
            ]
          },
          "metadata": {},
          "execution_count": 29
        }
      ]
    },
    {
      "cell_type": "code",
      "source": [
        "# 5.c Crea un altre conjunt a partir de la cadena 'AEIOU'.\n",
        "#\n",
        "upper_vocals = set('AEIOU')\n",
        "upper_vocals\n",
        "#"
      ],
      "metadata": {
        "id": "6rD9kLdBfjKW",
        "outputId": "90efbe98-ee78-4747-b8a0-de863a2c095e",
        "colab": {
          "base_uri": "https://localhost:8080/"
        }
      },
      "execution_count": null,
      "outputs": [
        {
          "output_type": "execute_result",
          "data": {
            "text/plain": [
              "{'A', 'E', 'I', 'O', 'U'}"
            ]
          },
          "metadata": {},
          "execution_count": 32
        }
      ]
    },
    {
      "cell_type": "code",
      "source": [
        "# 5.d A partir dels teus dos conjunts, obté un tercer conjunt amb totes les vocals, majúscules i minúscules\n",
        "#\n",
        "all_vocals = vocals.union(upper_vocals)\n",
        "all_vocals\n",
        "#"
      ],
      "metadata": {
        "id": "TSRkku68fi8l",
        "outputId": "7d2f9bab-0f5a-44b3-8692-7280d4466779",
        "colab": {
          "base_uri": "https://localhost:8080/"
        }
      },
      "execution_count": null,
      "outputs": [
        {
          "output_type": "execute_result",
          "data": {
            "text/plain": [
              "{'A', 'E', 'I', 'O', 'U', 'a', 'e', 'i', 'o', 'u'}"
            ]
          },
          "metadata": {},
          "execution_count": 33
        }
      ]
    },
    {
      "cell_type": "markdown",
      "source": [
        "#6. Estructures de dades: diccionaris"
      ],
      "metadata": {
        "id": "K8JZEID-hGxo"
      }
    },
    {
      "cell_type": "code",
      "source": [
        "# 6.a Defineix un diccionari amb el nom nombres.\n",
        "# Cada entrada del diccionari ha de contenir com a clau el nombre en sí (1, 2, ...) i com a valor el seu nom en català (\"u\", \"dos\", ...)\n",
        "# Fes-ne quatre entrades, per als nombres de l'u fins al quatre.\n",
        "\n",
        "pass\n",
        "nombres = {1: 'u', 2: 'dos', 3: 'tres', 4: 'quatre'}\n",
        "print(nombres)"
      ],
      "metadata": {
        "id": "jIsepohitUP0",
        "outputId": "01a9b11f-9227-4618-c23f-d3f137ef70d6",
        "colab": {
          "base_uri": "https://localhost:8080/"
        }
      },
      "execution_count": null,
      "outputs": [
        {
          "output_type": "stream",
          "name": "stdout",
          "text": [
            "{1: 'u', 2: 'dos', 3: 'tres', 4: 'quatre'}\n"
          ]
        }
      ]
    },
    {
      "cell_type": "code",
      "source": [
        "# 6.b Afegeix al teu diccionari les entrades corresponent al cinc i al sis.\n",
        "# No val escriure de nou els valors que ja tenies dins el diccionari.\n",
        "#\n",
        "new = {5: 'cinc', 6: 'sis'}\n",
        "nombres.update(new)\n",
        "#\n",
        "print(nombres)"
      ],
      "metadata": {
        "id": "3I0ZbPmttUDb",
        "outputId": "e974e408-2826-4dbb-f1f1-e549b59ca60d",
        "colab": {
          "base_uri": "https://localhost:8080/"
        }
      },
      "execution_count": null,
      "outputs": [
        {
          "output_type": "stream",
          "name": "stdout",
          "text": [
            "{1: 'u', 2: 'dos', 3: 'tres', 4: 'quatre', 5: 'cinc', 6: 'sis'}\n"
          ]
        }
      ]
    },
    {
      "cell_type": "code",
      "source": [
        "# 6.c Elimina del diccionari l'entrada corresponent al nombre tres\n",
        "#\n",
        "del nombres[3]\n",
        "#\n",
        "print(nombres)"
      ],
      "metadata": {
        "id": "01u4Z5nktT67",
        "outputId": "e866b13f-69aa-41bf-b9f4-8db15c00e9de",
        "colab": {
          "base_uri": "https://localhost:8080/"
        }
      },
      "execution_count": null,
      "outputs": [
        {
          "output_type": "stream",
          "name": "stdout",
          "text": [
            "{1: 'u', 2: 'dos', 4: 'quatre', 5: 'cinc', 6: 'sis'}\n"
          ]
        }
      ]
    },
    {
      "cell_type": "code",
      "source": [
        "# 6.d Modifica tots els valors dels nombres parells perquè quedin en majúscules\n",
        "#\n",
        "for k in nombres.keys():\n",
        "  if k%2 == 0: nombres[k] = nombres[k].upper()\n",
        "#\n",
        "print(nombres)"
      ],
      "metadata": {
        "id": "3PkZjgSqhPhQ",
        "outputId": "67850a75-2fa9-4d37-aa0a-cff5ff7ae06c",
        "colab": {
          "base_uri": "https://localhost:8080/"
        }
      },
      "execution_count": null,
      "outputs": [
        {
          "output_type": "stream",
          "name": "stdout",
          "text": [
            "{1: 'u', 2: 'DOS', 4: 'QUATRE', 5: 'cinc', 6: 'SIS'}\n"
          ]
        }
      ]
    },
    {
      "cell_type": "markdown",
      "source": [
        "# 7. Comprensions"
      ],
      "metadata": {
        "id": "ANp2RkK_kspq"
      }
    },
    {
      "cell_type": "code",
      "source": [
        "# 7.a Reescriu el bucle següent com a comprensió\n",
        "\n",
        "dades = [4,-1,3,-2,-5,7]\n",
        "\n",
        "negatius = []\n",
        "for val in dades:\n",
        "  if val<0:\n",
        "    negatius.append(val)\n",
        "negatives_comprehension = [num for num in dades if num < 0]\n",
        "print(negatius)\n",
        "print(negatives_comprehension)"
      ],
      "metadata": {
        "id": "73z9Dmq99TK6",
        "colab": {
          "base_uri": "https://localhost:8080/"
        },
        "outputId": "68bb11ec-a27d-4979-b7bc-29fc06ef23bf"
      },
      "execution_count": null,
      "outputs": [
        {
          "output_type": "stream",
          "name": "stdout",
          "text": [
            "[-1, -2, -5]\n",
            "[-1, -2, -5]\n"
          ]
        }
      ]
    },
    {
      "cell_type": "code",
      "source": [
        "# 7.b Reescriu la generació del diccionari nombres de l'apartat anterior (amb els números 1 a 4) fent servir una comprensió\n",
        "names = ['un', 'dos', 'tres', 'quatre']\n",
        "new_nombres = {index : value for index, value in enumerate(names,1)}\n",
        "new_nombres"
      ],
      "metadata": {
        "id": "CYJCEl6PwMqL",
        "outputId": "c2c0a697-a5c9-4da1-e8bc-00b701466d08",
        "colab": {
          "base_uri": "https://localhost:8080/"
        }
      },
      "execution_count": null,
      "outputs": [
        {
          "output_type": "execute_result",
          "data": {
            "text/plain": [
              "{1: 'un', 2: 'dos', 3: 'tres', 4: 'quatre'}"
            ]
          },
          "metadata": {},
          "execution_count": 41
        }
      ]
    },
    {
      "cell_type": "code",
      "source": [
        "# 7.c Genera la llista dels cinc primers parells [0,2,4,6,8] i els cinc primers senars [1,3,5,7,9] amb una comprensió\n",
        "\n",
        "# Modifica aquestes dues línies:\n",
        "parells = list(range(0, 10, 2))\n",
        "senars = list(range(1, 10, 2))\n",
        "#\n",
        "\n",
        "print(parells)\n",
        "print(senars)"
      ],
      "metadata": {
        "id": "AMVgrr5jkuE7",
        "outputId": "ce8e6b29-d8f2-4927-81ae-db29d9e29333",
        "colab": {
          "base_uri": "https://localhost:8080/"
        }
      },
      "execution_count": null,
      "outputs": [
        {
          "output_type": "stream",
          "name": "stdout",
          "text": [
            "[0, 2, 4, 6, 8]\n",
            "[1, 3, 5, 7, 9]\n"
          ]
        }
      ]
    },
    {
      "cell_type": "code",
      "source": [
        "# 7.d Mitjançant una comprensió, genera l'array amb les paraules del text (l'olivera compta com una paraula), posant en majúscules aquelles que comencin per 'm''\n",
        "\n",
        "text = \"mon cor estima un arbre més vell que l'olivera\"\n",
        "text_list = [word.upper() if word[0].lower() == 'm' else word for word in text.split()]\n",
        "text_list"
      ],
      "metadata": {
        "id": "eGnkNS80lbvR",
        "outputId": "233862aa-92fd-4c74-ffc3-223ecdbdf620",
        "colab": {
          "base_uri": "https://localhost:8080/"
        }
      },
      "execution_count": null,
      "outputs": [
        {
          "output_type": "execute_result",
          "data": {
            "text/plain": [
              "['MON', 'cor', 'estima', 'un', 'arbre', 'MÉS', 'vell', 'que', \"l'olivera\"]"
            ]
          },
          "metadata": {},
          "execution_count": 44
        }
      ]
    },
    {
      "cell_type": "markdown",
      "source": [
        "# 8. Funcions"
      ],
      "metadata": {
        "id": "PSqvYxs0hLuC"
      }
    },
    {
      "cell_type": "code",
      "source": [
        "# 8.a Escriu una funció que retorni la mitjana aritmètica de dos nombres (la suma dels dos nombres dividit per 2).\n",
        "\n",
        "def mitjana(x1,x2):\n",
        "  return (x1 + x2)/2\n",
        "\n",
        "mitjana(2, 4)"
      ],
      "metadata": {
        "id": "38tOi9UIYsnQ",
        "outputId": "6521b472-c5f9-4c0a-8887-40ddf92b8da1",
        "colab": {
          "base_uri": "https://localhost:8080/"
        }
      },
      "execution_count": null,
      "outputs": [
        {
          "output_type": "execute_result",
          "data": {
            "text/plain": [
              "3.0"
            ]
          },
          "metadata": {},
          "execution_count": 45
        }
      ]
    },
    {
      "cell_type": "code",
      "source": [
        "# 8.b Generalitza la funció anterior. Escriu una funció que retorni la mitjana aritmètica dels nombres dins una llista:\n",
        "# si la llista té N elements, serà suma de tots els elements de la llista dividit per N\n",
        "\n",
        "def mitjana(x: list) -> float:\n",
        "  length = len(x)\n",
        "  list_sum = sum(x)\n",
        "  return list_sum/length\n",
        "\n",
        "mitjana([1,2,3,4,5])"
      ],
      "metadata": {
        "id": "oThyrS-bYsaB",
        "outputId": "c67d1f3b-d4a9-4f4a-fd6a-3491f38989c9",
        "colab": {
          "base_uri": "https://localhost:8080/"
        }
      },
      "execution_count": null,
      "outputs": [
        {
          "output_type": "execute_result",
          "data": {
            "text/plain": [
              "3.0"
            ]
          },
          "metadata": {},
          "execution_count": 49
        }
      ]
    },
    {
      "cell_type": "code",
      "source": [
        "# 8.c Escriu una funció que retorni el mínim i el màxim dels elements d'una llista\n",
        "# Implementa-la sense emprar les funcions predefinides min i max.\n",
        "\n",
        "##### El vostre codi\n",
        "def minmax(x: list[float | int]) -> tuple:\n",
        "  min_val = x[0]\n",
        "  max_val = x[0]\n",
        "  for n in x:\n",
        "    if n > max_val:\n",
        "      max_val = n\n",
        "    if n < min_val:\n",
        "      min_val = n\n",
        "  return min_val, max_val\n",
        "#####\n",
        "\n",
        "# comprovació\n",
        "min_val, max_val = minmax([3,5,4,2,9,7])\n",
        "assert max_val==9, \"El màxim no és correcte\"\n",
        "assert min_val==2, \"El mínim no és correcte\""
      ],
      "metadata": {
        "id": "KQtkSo07YsFh"
      },
      "execution_count": null,
      "outputs": []
    },
    {
      "cell_type": "code",
      "source": [
        "# 8.d Escriu una funció lambda anomenada quadrat que calculi el quadrat d'un número x\n",
        "\n",
        "quadrat = lambda x: x**2 # <- substitueix per la teva funció lambda anomenada quadrat\n",
        "\n",
        "# comprovació\n",
        "x = quadrat(5)\n",
        "assert x==25, \"El quadrat no és correcte\""
      ],
      "metadata": {
        "id": "ascS-1YYosSw",
        "outputId": "fc247ef5-0561-4211-c4bf-66bc33ad8e3d",
        "colab": {
          "base_uri": "https://localhost:8080/"
        }
      },
      "execution_count": null,
      "outputs": [
        {
          "output_type": "stream",
          "name": "stdout",
          "text": [
            "25\n"
          ]
        }
      ]
    },
    {
      "cell_type": "markdown",
      "source": [
        "#9. Iteradors i generadors"
      ],
      "metadata": {
        "id": "g1rlY4TrhKMo"
      }
    },
    {
      "cell_type": "code",
      "source": [
        "dies = {'dl': 'dilluns', 'dt': 'dimarts', 'dc': 'dimecres', 'dj': 'dijous',\n",
        "        'dv': 'divendres', 'ds': 'dissatbte', 'dg': 'diumenge'}\n",
        "\n",
        "# 9.a Utilitzant un iterador imprimeix totes les claus i valors del diccionari dies amb aquest format:\n",
        "#dilluns (dl)\n",
        "#dimarts (dt)\n",
        "#dimecres (dc)\n",
        "#dijous (dj)\n",
        "#divendres (dv)\n",
        "#dissatbte (ds)\n",
        "#diumenge (dg)\n",
        "for dia in dies:\n",
        "  print(f'{dies[dia]} ({dia})')"
      ],
      "metadata": {
        "id": "jBZY1qQ4YtvB",
        "outputId": "56362424-5a09-463f-ad75-23095ea3fb8d",
        "colab": {
          "base_uri": "https://localhost:8080/"
        }
      },
      "execution_count": null,
      "outputs": [
        {
          "output_type": "stream",
          "name": "stdout",
          "text": [
            "dilluns (dl)\n",
            "dimarts (dt)\n",
            "dimecres (dc)\n",
            "dijous (dj)\n",
            "divendres (dv)\n",
            "dissatbte (ds)\n",
            "diumenge (dg)\n"
          ]
        }
      ]
    },
    {
      "cell_type": "code",
      "source": [
        "# 9.b Implementa un generador que doni els nombres senars fins a 2N, utilitzant un bucle. Obté els 10 primers valors.\n",
        "\n",
        "def senar(N=10):\n",
        "  for n in range(1, 2*N, 2):\n",
        "    yield n\n",
        "\n",
        "gen = senar(10)\n",
        "for n in gen:\n",
        "  print(n)\n"
      ],
      "metadata": {
        "id": "N6E552J6Yt3p",
        "outputId": "1f46dc40-3be3-4448-bc31-8cee9f3bb9e9",
        "colab": {
          "base_uri": "https://localhost:8080/"
        }
      },
      "execution_count": null,
      "outputs": [
        {
          "output_type": "stream",
          "name": "stdout",
          "text": [
            "1\n",
            "3\n",
            "5\n",
            "7\n",
            "9\n",
            "11\n",
            "13\n",
            "15\n",
            "17\n",
            "19\n"
          ]
        }
      ]
    },
    {
      "cell_type": "code",
      "source": [
        "# 9.c Implementa el generador de l'apartat anterior, amb una expressió de generador. Obté els 10 primers valors.\n",
        "N = 10\n",
        "gen = [n for n in range (1, 2*N, 2)]\n",
        "for n in gen:\n",
        "  print(n)"
      ],
      "metadata": {
        "id": "KZLxbD2NCCo5",
        "outputId": "efbfa7f1-0545-4a8a-8aa9-036fbd23d427",
        "colab": {
          "base_uri": "https://localhost:8080/"
        }
      },
      "execution_count": null,
      "outputs": [
        {
          "output_type": "stream",
          "name": "stdout",
          "text": [
            "1\n",
            "3\n",
            "5\n",
            "7\n",
            "9\n",
            "11\n",
            "13\n",
            "15\n",
            "17\n",
            "19\n"
          ]
        }
      ]
    },
    {
      "cell_type": "code",
      "source": [
        "# 9.d Crea el següent diccionari mitjançant un generador:\n",
        "\n",
        "#\n",
        "dicc = { 0: 1, 1: 10, 2:100, 3:1000, 4: 10000, 5:100000}\n",
        "gen_dicc = { n : 10**n for n in range(len(dicc.keys())) }\n",
        "print(gen_dicc)\n",
        "#"
      ],
      "metadata": {
        "id": "0xa2B2dVYtnI",
        "outputId": "adb46d40-15db-443b-9823-872cabb2c312",
        "colab": {
          "base_uri": "https://localhost:8080/"
        }
      },
      "execution_count": null,
      "outputs": [
        {
          "output_type": "stream",
          "name": "stdout",
          "text": [
            "{0: 1, 1: 10, 2: 100, 3: 1000, 4: 10000, 5: 100000}\n"
          ]
        }
      ]
    },
    {
      "cell_type": "markdown",
      "source": [
        "# 10. Classes i objectes"
      ],
      "metadata": {
        "id": "MnU4O00gJ5l2"
      }
    },
    {
      "cell_type": "code",
      "source": [
        "#10.a Crea una classe Quadrat amb un atribut costat i dos mètodes que calculin l'àrea i el perímetre.\n",
        "# Fent servir la teva classe, imprimeix el perímetre d'un quadrat de costat 5.\n",
        "class Quadrat:\n",
        "  def __init__(self, costat):\n",
        "    self.costat = costat\n",
        "\n",
        "  def area(self):\n",
        "    return self.costat**2\n",
        "\n",
        "  def perimetre(self):\n",
        "    return self.costat*4\n",
        "\n",
        "q = Quadrat(5)\n",
        "print(q.perimetre())\n"
      ],
      "metadata": {
        "id": "v0qdVOXPQlGP",
        "outputId": "dc2793cd-e8d0-4159-b997-fa6b322e0798",
        "colab": {
          "base_uri": "https://localhost:8080/"
        }
      },
      "execution_count": null,
      "outputs": [
        {
          "output_type": "stream",
          "name": "stdout",
          "text": [
            "20\n"
          ]
        }
      ]
    },
    {
      "cell_type": "code",
      "source": [
        "#10.b Implementa els mètodes getter i setter per a l'atribut costat i canvia-li el nom per indicar que no s'ha de modificar directament.\n",
        "# Fent servir la teva nova classe, imprimeix l'àrea d'un quadrat de costat 3.\n",
        "class Quadrat:\n",
        "  def __init__(self, costat):\n",
        "    self._costat = costat\n",
        "\n",
        "  @property\n",
        "  def costat(self):\n",
        "    return self._costat\n",
        "\n",
        "  @costat.setter\n",
        "  def costat(self, costat):\n",
        "    self._costat = costat\n",
        "\n",
        "  def area(self):\n",
        "    return self.costat**2\n",
        "\n",
        "  def perimetre(self):\n",
        "    return self.costat*4\n",
        "\n",
        "q = Quadrat(3)\n",
        "print(q.area())\n"
      ],
      "metadata": {
        "id": "Wou77XilQxrV",
        "outputId": "fe80b31b-d304-4e62-bc40-870a81f10b25",
        "colab": {
          "base_uri": "https://localhost:8080/"
        }
      },
      "execution_count": null,
      "outputs": [
        {
          "output_type": "stream",
          "name": "stdout",
          "text": [
            "9\n"
          ]
        }
      ]
    },
    {
      "cell_type": "code",
      "source": [
        "#10.c Crea una nova classe Quadrat2 que hereta de la classe Quadrat i afegeix:\n",
        "# - dos atributs x i y, que són les coordenades de la cantonada inferior esquerre del quadrat\n",
        "# - un mètode cantonada_oposada que retorna les coordenades de la cantonada oposada del quadrat\n",
        "# Nota: els quadrats de la classe Quadrat2 són paral·lels als eixos\n",
        "class Quadrat2(Quadrat):\n",
        "  def __init__ (self, costat, x, y):\n",
        "    super().__init__(costat)\n",
        "    self._x = x\n",
        "    self._y = y\n",
        "\n",
        "  @property\n",
        "  def x(self):\n",
        "    return self._x\n",
        "  @property\n",
        "  def y(self):\n",
        "    return self._y\n",
        "\n",
        "  @x.setter\n",
        "  def x(self, x):\n",
        "    self._x = x\n",
        "  @y.setter\n",
        "  def y(self, y):\n",
        "    self._y = y\n",
        "\n",
        "  def cantonada_oposada(self):\n",
        "    return (self._x + self._costat, self._y + self._costat)\n",
        "\n",
        "q2 = Quadrat2(3, 3, 7)\n",
        "q2.cantonada_oposada()"
      ],
      "metadata": {
        "id": "31qEwpiERqo2",
        "outputId": "0c0183e0-c728-4f32-e7f3-c385d7936211",
        "colab": {
          "base_uri": "https://localhost:8080/"
        }
      },
      "execution_count": null,
      "outputs": [
        {
          "output_type": "execute_result",
          "data": {
            "text/plain": [
              "(6, 10)"
            ]
          },
          "metadata": {},
          "execution_count": 99
        }
      ]
    },
    {
      "cell_type": "code",
      "source": [
        "#10.d Crea una nova classe Comparador amb:\n",
        "# - dos atributs, instàncies de la classe Quadrat2\n",
        "# - un mètode interseccio que retorna True si els dos quadrats estan solapats (un damunt de l'altre, almenys en part) i False en cas contrari\n",
        "\n",
        "class Comparador:\n",
        "  def __init__(self, q21, q22):\n",
        "    self._q21 = q21\n",
        "    self._q22 = q22\n",
        "\n",
        "  @property\n",
        "  def q21(self):\n",
        "    return self._q21\n",
        "  @property\n",
        "  def q22(self):\n",
        "    return self._q21\n",
        "\n",
        "  @q21.setter\n",
        "  def q21(self, q21):\n",
        "    self._q21 = q21\n",
        "  @q22.setter\n",
        "  def q22(self, q22):\n",
        "    self._q22 = q22\n",
        "\n",
        "  def insercio(self) -> bool:\n",
        "    q21_bottom_left = (self._q21.x, self._q21.y)\n",
        "    q21_top_right = self._q21.cantonada_oposada()\n",
        "\n",
        "    q22_bottom_left = (self._q22.x, self._q22.y)\n",
        "    q22_top_right = self._q22.cantonada_oposada()\n",
        "\n",
        "    return (q21_bottom_left[0] < q22_top_right[0] and\n",
        "            q21_top_right[0] > q22_bottom_left[0] and\n",
        "            q21_bottom_left[1] < q22_top_right[1] and\n",
        "            q21_top_right[1] > q22_bottom_left[1])\n",
        "\n",
        "comp = Comparador(Quadrat2(3, -3, -3), Quadrat2(2, 0, 0))\n",
        "print(comp.insercio())"
      ],
      "metadata": {
        "id": "HQrj3nyfTbfG",
        "outputId": "d0d25c26-3446-46da-c6b1-378fa08f67d1",
        "colab": {
          "base_uri": "https://localhost:8080/"
        }
      },
      "execution_count": null,
      "outputs": [
        {
          "output_type": "stream",
          "name": "stdout",
          "text": [
            "(0, 0) (2, 2)\n",
            "False\n"
          ]
        }
      ]
    },
    {
      "cell_type": "code",
      "source": [],
      "metadata": {
        "id": "LwfUcays0PNA"
      },
      "execution_count": null,
      "outputs": []
    }
  ]
}