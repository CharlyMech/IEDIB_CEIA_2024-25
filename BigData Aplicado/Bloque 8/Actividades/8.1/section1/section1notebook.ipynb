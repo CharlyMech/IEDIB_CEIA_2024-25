{
 "cells": [
  {
   "cell_type": "code",
   "execution_count": 0,
   "metadata": {
    "application/vnd.databricks.v1+cell": {
     "cellMetadata": {
      "byteLimit": 2048000,
      "rowLimit": 10000
     },
     "inputWidgets": {},
     "nuid": "118e6474-e4c2-4c3a-afee-9d395baa3d2b",
     "showTitle": false,
     "tableResultSettingsMap": {},
     "title": ""
    }
   },
   "outputs": [],
   "source": [
    "df_goalscorers = spark.read.table('hive_metastore.default.goalscorers')\n",
    "df_results = spark.read.table('hive_metastore.default.results')"
   ]
  },
  {
   "cell_type": "code",
   "execution_count": 0,
   "metadata": {
    "application/vnd.databricks.v1+cell": {
     "cellMetadata": {
      "byteLimit": 2048000,
      "rowLimit": 10000
     },
     "inputWidgets": {},
     "nuid": "9ab9bd8d-ad3f-45ff-9b25-b3a2fcf16dac",
     "showTitle": false,
     "tableResultSettingsMap": {},
     "title": ""
    }
   },
   "outputs": [
    {
     "output_type": "execute_result",
     "data": {
      "text/plain": [
       "Row(date=datetime.date(1916, 7, 2), home_team='Chile', away_team='Uruguay', team='Uruguay', scorer='José Piendibene', minute='44', own_goal=False, penalty=False)"
      ]
     },
     "execution_count": 3,
     "metadata": {},
     "output_type": "execute_result"
    }
   ],
   "source": [
    "df_goalscorers.head()"
   ]
  },
  {
   "cell_type": "code",
   "execution_count": 0,
   "metadata": {
    "application/vnd.databricks.v1+cell": {
     "cellMetadata": {
      "byteLimit": 2048000,
      "rowLimit": 10000
     },
     "inputWidgets": {},
     "nuid": "0ef0a6ee-9872-4d5e-af43-f17f76e33039",
     "showTitle": false,
     "tableResultSettingsMap": {},
     "title": ""
    }
   },
   "outputs": [
    {
     "output_type": "execute_result",
     "data": {
      "text/plain": [
       "Row(date=datetime.date(1872, 11, 30), home_team='Scotland', away_team='England', home_score=0, away_score=0, tournament='Friendly', city='Glasgow', country='Scotland', neutral=False)"
      ]
     },
     "execution_count": 4,
     "metadata": {},
     "output_type": "execute_result"
    }
   ],
   "source": [
    "df_results.head()"
   ]
  },
  {
   "cell_type": "markdown",
   "metadata": {
    "application/vnd.databricks.v1+cell": {
     "cellMetadata": {},
     "inputWidgets": {},
     "nuid": "d95d1426-909a-4612-8ec5-010b1ef2e7ad",
     "showTitle": false,
     "tableResultSettingsMap": {},
     "title": ""
    }
   },
   "source": [
    "### 1. Number of goals scored by Lionel Messi (excluding own goals)."
   ]
  },
  {
   "cell_type": "code",
   "execution_count": 0,
   "metadata": {
    "application/vnd.databricks.v1+cell": {
     "cellMetadata": {
      "byteLimit": 2048000,
      "rowLimit": 10000
     },
     "inputWidgets": {},
     "nuid": "6d589a73-2c49-444e-8758-f54d0cfa34de",
     "showTitle": false,
     "tableResultSettingsMap": {},
     "title": ""
    }
   },
   "outputs": [
    {
     "output_type": "stream",
     "name": "stdout",
     "output_type": "stream",
     "text": [
      "+-----------+\n|messi_goals|\n+-----------+\n|         55|\n+-----------+\n\n"
     ]
    }
   ],
   "source": [
    "df_goalscorers.createOrReplaceTempView('goalscorers')\n",
    "spark.sql('SELECT COUNT(*) AS messi_goals FROM goalscorers WHERE scorer = \"Lionel Messi\" AND own_goal = \"FALSE\"').show()\n"
   ]
  },
  {
   "cell_type": "markdown",
   "metadata": {
    "application/vnd.databricks.v1+cell": {
     "cellMetadata": {},
     "inputWidgets": {},
     "nuid": "158a5427-f2dc-4aec-bdb8-aca895c13fbd",
     "showTitle": false,
     "tableResultSettingsMap": {},
     "title": ""
    }
   },
   "source": [
    "### 2. List of the 5 most recent matches played by the Spanish national team."
   ]
  },
  {
   "cell_type": "code",
   "execution_count": 0,
   "metadata": {
    "application/vnd.databricks.v1+cell": {
     "cellMetadata": {
      "byteLimit": 2048000,
      "rowLimit": 10000
     },
     "inputWidgets": {},
     "nuid": "cfc92f92-f88f-4463-9670-ce97c797d117",
     "showTitle": false,
     "tableResultSettingsMap": {},
     "title": ""
    }
   },
   "outputs": [
    {
     "output_type": "stream",
     "name": "stdout",
     "output_type": "stream",
     "text": [
      "+----------+---------+---------+-------+-----------------+------+--------+-------+\n|      date|home_team|away_team|   team|           scorer|minute|own_goal|penalty|\n+----------+---------+---------+-------+-----------------+------+--------+-------+\n|2024-07-14|    Spain|  England|  Spain|    Nico Williams|    47|   false|  false|\n|2024-07-14|    Spain|  England|England|      Cole Palmer|    73|   false|  false|\n|2024-07-14|    Spain|  England|  Spain|  Mikel Oyarzabal|    86|   false|  false|\n|2024-07-09|    Spain|   France|  Spain|     Lamine Yamal|    21|   false|  false|\n|2024-07-09|    Spain|   France| France|Randal Kolo Muani|     9|   false|  false|\n+----------+---------+---------+-------+-----------------+------+--------+-------+\n\n"
     ]
    }
   ],
   "source": [
    "# Using goalscorers table\n",
    "df_goalscorers.createOrReplaceTempView('goalscorers')\n",
    "spark.sql('SELECT * FROM goalscorers WHERE home_team = \"Spain\" OR away_team = \"Spain\" ORDER BY date DESC LIMIT 5').show()"
   ]
  },
  {
   "cell_type": "code",
   "execution_count": 0,
   "metadata": {
    "application/vnd.databricks.v1+cell": {
     "cellMetadata": {
      "byteLimit": 2048000,
      "rowLimit": 10000
     },
     "inputWidgets": {},
     "nuid": "1d3adbf2-9829-488b-bd4f-1f273f106281",
     "showTitle": false,
     "tableResultSettingsMap": {},
     "title": ""
    }
   },
   "outputs": [
    {
     "output_type": "stream",
     "name": "stdout",
     "output_type": "stream",
     "text": [
      "+----------+-----------+-----------+----------+----------+-------------------+--------------------+-----------+-------+\n|      date|  home_team|  away_team|home_score|away_score|         tournament|                city|    country|neutral|\n+----------+-----------+-----------+----------+----------+-------------------+--------------------+-----------+-------+\n|2025-03-23|      Spain|Netherlands|         3|         3|UEFA Nations League|            Valencia|      Spain|  false|\n|2025-03-20|Netherlands|      Spain|         2|         2|UEFA Nations League|           Rotterdam|Netherlands|  false|\n|2024-11-18|      Spain|Switzerland|         3|         2|UEFA Nations League|Santa Cruz de Ten...|      Spain|  false|\n|2024-11-15|    Denmark|      Spain|         1|         2|UEFA Nations League|          Copenhagen|    Denmark|  false|\n|2024-10-15|      Spain|     Serbia|         3|         0|UEFA Nations League|             Cordoba|      Spain|  false|\n+----------+-----------+-----------+----------+----------+-------------------+--------------------+-----------+-------+\n\n"
     ]
    }
   ],
   "source": [
    "# Using results table\n",
    "df_results.createOrReplaceTempView('results')\n",
    "spark.sql('SELECT * FROM results WHERE home_team = \"Spain\" OR away_team = \"Spain\" ORDER BY date DESC LIMIT 5').show()"
   ]
  },
  {
   "cell_type": "markdown",
   "metadata": {
    "application/vnd.databricks.v1+cell": {
     "cellMetadata": {},
     "inputWidgets": {},
     "nuid": "d4150013-d15f-4cd8-a799-573050a1f434",
     "showTitle": false,
     "tableResultSettingsMap": {},
     "title": ""
    }
   },
   "source": [
    "### 3. Number of goals scored by Spain in its entire history. This information must be taken from results, as goalscorers does not contain all goals."
   ]
  },
  {
   "cell_type": "code",
   "execution_count": 0,
   "metadata": {
    "application/vnd.databricks.v1+cell": {
     "cellMetadata": {
      "byteLimit": 2048000,
      "rowLimit": 10000
     },
     "inputWidgets": {},
     "nuid": "c9133540-9c99-4f3b-a762-03c01c21d9a9",
     "showTitle": false,
     "tableResultSettingsMap": {},
     "title": ""
    }
   },
   "outputs": [
    {
     "output_type": "stream",
     "name": "stdout",
     "output_type": "stream",
     "text": [
      "+-----------------+\n|total_spain_goals|\n+-----------------+\n|             1567|\n+-----------------+\n\n"
     ]
    }
   ],
   "source": [
    "df_results.createOrReplaceTempView('results')\n",
    "spark.sql('''\n",
    "    SELECT \n",
    "        SUM(CASE WHEN home_team = 'Spain' THEN home_score ELSE 0 END) +\n",
    "        SUM(CASE WHEN away_team = 'Spain' THEN away_score ELSE 0 END) AS total_spain_goals\n",
    "    FROM results\n",
    "''').show()"
   ]
  },
  {
   "cell_type": "markdown",
   "metadata": {
    "application/vnd.databricks.v1+cell": {
     "cellMetadata": {},
     "inputWidgets": {},
     "nuid": "d907d713-364a-47d4-8adf-6c1906ccd2ed",
     "showTitle": false,
     "tableResultSettingsMap": {},
     "title": ""
    }
   },
   "source": [
    "### 4. List of the 5 highest scorers with the Spanish national team (excluding own goals)."
   ]
  },
  {
   "cell_type": "code",
   "execution_count": 0,
   "metadata": {
    "application/vnd.databricks.v1+cell": {
     "cellMetadata": {
      "byteLimit": 2048000,
      "rowLimit": 10000
     },
     "inputWidgets": {},
     "nuid": "66f30964-49da-41c9-80fd-d6761b948c28",
     "showTitle": false,
     "tableResultSettingsMap": {},
     "title": ""
    }
   },
   "outputs": [
    {
     "output_type": "stream",
     "name": "stdout",
     "output_type": "stream",
     "text": [
      "+---------------+-----+\n|         scorer|goals|\n+---------------+-----+\n|    David Villa|   41|\n|           Raúl|   32|\n|  Álvaro Morata|   29|\n|Fernando Torres|   28|\n|Fernando Hierro|   25|\n+---------------+-----+\n\n"
     ]
    }
   ],
   "source": [
    "df_goalscorers.createOrReplaceTempView('goalscorers')\n",
    "spark.sql('''\n",
    "    SELECT scorer, COUNT(*) AS goals\n",
    "    FROM goalscorers\n",
    "    WHERE team = 'Spain' AND own_goal = 'FALSE'\n",
    "    GROUP BY scorer\n",
    "    ORDER BY goals DESC\n",
    "    LIMIT 5\n",
    "''').show()"
   ]
  },
  {
   "cell_type": "markdown",
   "metadata": {
    "application/vnd.databricks.v1+cell": {
     "cellMetadata": {},
     "inputWidgets": {},
     "nuid": "5af348e2-4e45-4c37-8ba5-0ff54ca09b5d",
     "showTitle": false,
     "tableResultSettingsMap": {},
     "title": ""
    }
   },
   "source": [
    "### 5. List of Spanish players who have scored a penalty goal in a European Championship (UEFA Euro), sorted alphabetically."
   ]
  },
  {
   "cell_type": "code",
   "execution_count": 0,
   "metadata": {
    "application/vnd.databricks.v1+cell": {
     "cellMetadata": {
      "byteLimit": 2048000,
      "rowLimit": 10000
     },
     "inputWidgets": {},
     "nuid": "363e1e2c-f4e0-4160-a1f8-28cb5e2b1ce7",
     "showTitle": false,
     "tableResultSettingsMap": {},
     "title": ""
    }
   },
   "outputs": [
    {
     "output_type": "stream",
     "name": "stdout",
     "output_type": "stream",
     "text": [
      "+--------------------+\n|              scorer|\n+--------------------+\n|      Andrés Iniesta|\n|         Daniel Ruiz|\n|         David Villa|\n|     Fernando Hierro|\n|Francisco José Ca...|\n|     Gaizka Mendieta|\n|      José Claramunt|\n|  Juan Antonio Señor|\n|              Míchel|\n|               Pirri|\n|        Sergio Ramos|\n|         Xabi Alonso|\n|       Álvaro Morata|\n+--------------------+\n\n"
     ]
    }
   ],
   "source": [
    "df_goalscorers.createOrReplaceTempView('goalscorers')\n",
    "df_results.createOrReplaceTempView('reults')\n",
    "spark.sql('''\n",
    "    SELECT DISTINCT scorer\n",
    "    FROM results r\n",
    "    JOIN goalscorers g\n",
    "    ON r.date = g.date AND r.home_team = g.home_team AND r.away_team = g.away_team\n",
    "    WHERE g.team = 'Spain' AND g.penalty = 'TRUE' AND r.tournament LIKE '%Euro%'\n",
    "    ORDER BY scorer\n",
    "''').show()"
   ]
  },
  {
   "cell_type": "markdown",
   "metadata": {
    "application/vnd.databricks.v1+cell": {
     "cellMetadata": {},
     "inputWidgets": {},
     "nuid": "9631bb29-7b4d-4218-8a97-9de0f97045d3",
     "showTitle": false,
     "tableResultSettingsMap": {},
     "title": ""
    }
   },
   "source": [
    "### 6. List of the 5 highest scorers in the final stages of the World Cup (FIFA World Cup) (excluding own goals)."
   ]
  },
  {
   "cell_type": "code",
   "execution_count": 0,
   "metadata": {
    "application/vnd.databricks.v1+cell": {
     "cellMetadata": {
      "byteLimit": 2048000,
      "rowLimit": 10000
     },
     "inputWidgets": {},
     "nuid": "c710df6a-3019-4e75-b230-1f3587b87c3c",
     "showTitle": false,
     "tableResultSettingsMap": {},
     "title": ""
    }
   },
   "outputs": [
    {
     "output_type": "stream",
     "name": "stdout",
     "output_type": "stream",
     "text": [
      "+--------------+-----+\n|        scorer|goals|\n+--------------+-----+\n|Miroslav Klose|   16|\n|       Ronaldo|   15|\n|   Gerd Müller|   14|\n|  Lionel Messi|   13|\n| Just Fontaine|   13|\n+--------------+-----+\n\n"
     ]
    }
   ],
   "source": [
    "df_goalscorers.createOrReplaceTempView('goalscorers')\n",
    "df_results.createOrReplaceTempView('reults')\n",
    "spark.sql('''\n",
    "    SELECT scorer, COUNT(*) AS goals\n",
    "    FROM results r\n",
    "    JOIN goalscorers g\n",
    "    ON r.date = g.date AND r.home_team = g.home_team AND r.away_team = g.away_team\n",
    "    WHERE r.tournament = 'FIFA World Cup' AND g.own_goal = 'FALSE'\n",
    "    GROUP BY scorer\n",
    "    ORDER BY goals DESC\n",
    "    LIMIT 5\n",
    "''').show()"
   ]
  }
 ],
 "metadata": {
  "application/vnd.databricks.v1+notebook": {
   "computePreferences": null,
   "dashboards": [],
   "environmentMetadata": {
    "base_environment": "",
    "environment_version": "2"
   },
   "inputWidgetPreferences": null,
   "language": "python",
   "notebookMetadata": {
    "pythonIndentUnit": 4
   },
   "notebookName": "section1notebook",
   "widgets": {}
  },
  "language_info": {
   "name": "python"
  }
 },
 "nbformat": 4,
 "nbformat_minor": 0
}