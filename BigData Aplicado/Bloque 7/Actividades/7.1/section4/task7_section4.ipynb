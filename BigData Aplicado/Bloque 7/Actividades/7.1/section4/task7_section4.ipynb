{
  "nbformat": 4,
  "nbformat_minor": 0,
  "metadata": {
    "colab": {
      "provenance": [],
      "authorship_tag": "ABX9TyO3DO5UawClZ2JW3yD7ufHT",
      "include_colab_link": true
    },
    "kernelspec": {
      "name": "python3",
      "display_name": "Python 3"
    },
    "language_info": {
      "name": "python"
    }
  },
  "cells": [
    {
      "cell_type": "markdown",
      "metadata": {
        "id": "view-in-github",
        "colab_type": "text"
      },
      "source": [
        "<a href=\"https://colab.research.google.com/github/CharlyMech/IEDIB_CEIA_2024-25/blob/main/BigData%20Aplicado/Bloque%207/Actividades/7.1/section4/task7_section4.ipynb\" target=\"_parent\"><img src=\"https://colab.research.google.com/assets/colab-badge.svg\" alt=\"Open In Colab\"/></a>"
      ]
    },
    {
      "cell_type": "code",
      "execution_count": 1,
      "metadata": {
        "colab": {
          "base_uri": "https://localhost:8080/",
          "height": 197
        },
        "id": "rVdF1d5dbxY1",
        "outputId": "4a9edc4e-ae5f-43f1-bc83-ebca21b78021"
      },
      "outputs": [
        {
          "output_type": "execute_result",
          "data": {
            "text/plain": [
              "<SparkContext master=local appName=AirbnbPrices>"
            ],
            "text/html": [
              "\n",
              "        <div>\n",
              "            <p><b>SparkContext</b></p>\n",
              "\n",
              "            <p><a href=\"http://4e1b352d250a:4040\">Spark UI</a></p>\n",
              "\n",
              "            <dl>\n",
              "              <dt>Version</dt>\n",
              "                <dd><code>v3.5.5</code></dd>\n",
              "              <dt>Master</dt>\n",
              "                <dd><code>local</code></dd>\n",
              "              <dt>AppName</dt>\n",
              "                <dd><code>AirbnbPrices</code></dd>\n",
              "            </dl>\n",
              "        </div>\n",
              "        "
            ]
          },
          "metadata": {},
          "execution_count": 1
        }
      ],
      "source": [
        "from pyspark import SparkContext\n",
        "\n",
        "# Initialize SparkContext\n",
        "sc = SparkContext(\"local\", \"AirbnbPrices\")\n",
        "sc"
      ]
    },
    {
      "cell_type": "code",
      "source": [
        "from google.colab import drive\n",
        "\n",
        "# Mount drive\n",
        "DRIVE = '/content/drive'\n",
        "drive.mount(DRIVE)"
      ],
      "metadata": {
        "colab": {
          "base_uri": "https://localhost:8080/"
        },
        "id": "rzDagK-jcezB",
        "outputId": "ac78ea31-417a-401b-8be4-6b7dbcd6fe3f"
      },
      "execution_count": 2,
      "outputs": [
        {
          "output_type": "stream",
          "name": "stdout",
          "text": [
            "Mounted at /content/drive\n"
          ]
        }
      ]
    },
    {
      "cell_type": "code",
      "source": [
        "# Load data form mounted drive file\n",
        "rdd = sc.textFile(f'{DRIVE}/MyDrive/data/preus.txt')\n",
        "# Parse data to float and remove headers and non numeric values\n",
        "prices_rdd = rdd.filter(lambda x: x.strip().isdigit()).map(lambda x: float(x.strip()))"
      ],
      "metadata": {
        "id": "PKQhvvYtcohh"
      },
      "execution_count": 3,
      "outputs": []
    },
    {
      "cell_type": "code",
      "source": [
        "# Number of accommodations\n",
        "num_accommodations = prices_rdd.count()\n",
        "print(f'Number of accomodations: {num_accommodations}')"
      ],
      "metadata": {
        "colab": {
          "base_uri": "https://localhost:8080/"
        },
        "id": "cStWpPI_dBm6",
        "outputId": "8095c290-98e4-4303-bc4c-f16698fe1046"
      },
      "execution_count": 4,
      "outputs": [
        {
          "output_type": "stream",
          "name": "stdout",
          "text": [
            "Number of accomodations: 1048253\n"
          ]
        }
      ]
    },
    {
      "cell_type": "code",
      "source": [
        "# Min and Max price value\n",
        "min_price = prices_rdd.min()\n",
        "max_price = prices_rdd.max()\n",
        "print(f'Minimun: {min_price} - Maximum: {max_price}')"
      ],
      "metadata": {
        "colab": {
          "base_uri": "https://localhost:8080/"
        },
        "id": "NGpFtkXadDb5",
        "outputId": "6a71a450-5ddb-411d-d306-67cfc85e4eb9"
      },
      "execution_count": 5,
      "outputs": [
        {
          "output_type": "stream",
          "name": "stdout",
          "text": [
            "Minimun: 10.0 - Maximum: 23229.0\n"
          ]
        }
      ]
    },
    {
      "cell_type": "code",
      "source": [
        "# Mean and standard deviation\n",
        "mean_price = prices_rdd.mean()\n",
        "stdev_price = prices_rdd.stdev()\n",
        "print(f'Mean: {mean_price} - Standard deviation: {stdev_price}')"
      ],
      "metadata": {
        "colab": {
          "base_uri": "https://localhost:8080/"
        },
        "id": "svLKXrJMdYjh",
        "outputId": "8fce6bec-8845-4d12-fb80-90f5134a62f1"
      },
      "execution_count": 6,
      "outputs": [
        {
          "output_type": "stream",
          "name": "stdout",
          "text": [
            "Mean: 436.0350125399073 - Standard deviation: 1188.3904253821997\n"
          ]
        }
      ]
    },
    {
      "cell_type": "code",
      "source": [
        "# Update price values\n",
        "new_price_rdd = prices_rdd.map(lambda x: x * 1.02 if x < 1000 else x * 1.03)\n",
        "\n",
        "# New mean and standard deviation\n",
        "new_mean_price = new_price_rdd.mean()\n",
        "new_stdev_price = new_price_rdd.stdev()\n",
        "print(f'NEW Mean: {new_mean_price} - NEW Standard deviation: {new_stdev_price}')"
      ],
      "metadata": {
        "colab": {
          "base_uri": "https://localhost:8080/"
        },
        "id": "3PAM7OCUdvIw",
        "outputId": "9cb868fe-1fe5-4cb4-d072-9018de2d928f"
      },
      "execution_count": 7,
      "outputs": [
        {
          "output_type": "stream",
          "name": "stdout",
          "text": [
            "NEW Mean: 446.8178788517739 - NEW Standard deviation: 1224.0973352938518\n"
          ]
        }
      ]
    },
    {
      "cell_type": "code",
      "source": [
        "# Count accommodations by groups\n",
        "#! I'll suppose that this part makes reference to the updated values\n",
        "price_groups = {\n",
        "\t'Group 1': new_price_rdd.filter(lambda x: x <= 150).count(),\n",
        "\t'Group 2': new_price_rdd.filter(lambda x: 151 <= x <= 300).count(),\n",
        "\t'Group 3': new_price_rdd.filter(lambda x: 301 <= x <= 500).count(),\n",
        "\t'Group 4': new_price_rdd.filter(lambda x: x > 500).count()\n",
        "}\n",
        "for group, count in price_groups.items():\n",
        "\tprint(f'{group}: {count}')"
      ],
      "metadata": {
        "colab": {
          "base_uri": "https://localhost:8080/"
        },
        "id": "xrU47d90dyGg",
        "outputId": "47580a4e-4121-4276-856c-cf247ab5aa85"
      },
      "execution_count": 8,
      "outputs": [
        {
          "output_type": "stream",
          "name": "stdout",
          "text": [
            "Group 1: 396986\n",
            "Group 2: 300880\n",
            "Group 3: 145719\n",
            "Group 4: 199829\n"
          ]
        }
      ]
    }
  ]
}