{
 "cells": [
  {
   "cell_type": "markdown",
   "metadata": {},
   "source": [
    "---\n",
    "\n",
    "This part of the file is not present in the JupyterLab file since this part is the local execution"
   ]
  },
  {
   "cell_type": "code",
   "execution_count": 1,
   "metadata": {},
   "outputs": [
    {
     "name": "stdout",
     "output_type": "stream",
     "text": [
      "Requirement already satisfied: appnope==0.1.4 in ./.venv/lib/python3.12/site-packages (from -r requirements.txt (line 1)) (0.1.4)\n",
      "Requirement already satisfied: asttokens==3.0.0 in ./.venv/lib/python3.12/site-packages (from -r requirements.txt (line 2)) (3.0.0)\n",
      "Requirement already satisfied: comm==0.2.2 in ./.venv/lib/python3.12/site-packages (from -r requirements.txt (line 3)) (0.2.2)\n",
      "Requirement already satisfied: debugpy==1.8.13 in ./.venv/lib/python3.12/site-packages (from -r requirements.txt (line 4)) (1.8.13)\n",
      "Requirement already satisfied: decorator==5.2.1 in ./.venv/lib/python3.12/site-packages (from -r requirements.txt (line 5)) (5.2.1)\n",
      "Requirement already satisfied: executing==2.2.0 in ./.venv/lib/python3.12/site-packages (from -r requirements.txt (line 6)) (2.2.0)\n",
      "Requirement already satisfied: ipykernel==6.29.5 in ./.venv/lib/python3.12/site-packages (from -r requirements.txt (line 7)) (6.29.5)\n",
      "Requirement already satisfied: ipython==9.0.2 in ./.venv/lib/python3.12/site-packages (from -r requirements.txt (line 8)) (9.0.2)\n",
      "Requirement already satisfied: ipython_pygments_lexers==1.1.1 in ./.venv/lib/python3.12/site-packages (from -r requirements.txt (line 9)) (1.1.1)\n",
      "Requirement already satisfied: jedi==0.19.2 in ./.venv/lib/python3.12/site-packages (from -r requirements.txt (line 10)) (0.19.2)\n",
      "Requirement already satisfied: jupyter_client==8.6.3 in ./.venv/lib/python3.12/site-packages (from -r requirements.txt (line 11)) (8.6.3)\n",
      "Requirement already satisfied: jupyter_core==5.7.2 in ./.venv/lib/python3.12/site-packages (from -r requirements.txt (line 12)) (5.7.2)\n",
      "Requirement already satisfied: matplotlib-inline==0.1.7 in ./.venv/lib/python3.12/site-packages (from -r requirements.txt (line 13)) (0.1.7)\n",
      "Requirement already satisfied: nest-asyncio==1.6.0 in ./.venv/lib/python3.12/site-packages (from -r requirements.txt (line 14)) (1.6.0)\n",
      "Requirement already satisfied: packaging==24.2 in ./.venv/lib/python3.12/site-packages (from -r requirements.txt (line 15)) (24.2)\n",
      "Requirement already satisfied: parso==0.8.4 in ./.venv/lib/python3.12/site-packages (from -r requirements.txt (line 16)) (0.8.4)\n",
      "Requirement already satisfied: pexpect==4.9.0 in ./.venv/lib/python3.12/site-packages (from -r requirements.txt (line 17)) (4.9.0)\n",
      "Requirement already satisfied: platformdirs==4.3.7 in ./.venv/lib/python3.12/site-packages (from -r requirements.txt (line 18)) (4.3.7)\n",
      "Requirement already satisfied: prompt_toolkit==3.0.50 in ./.venv/lib/python3.12/site-packages (from -r requirements.txt (line 19)) (3.0.50)\n",
      "Requirement already satisfied: psutil==7.0.0 in ./.venv/lib/python3.12/site-packages (from -r requirements.txt (line 20)) (7.0.0)\n",
      "Requirement already satisfied: ptyprocess==0.7.0 in ./.venv/lib/python3.12/site-packages (from -r requirements.txt (line 21)) (0.7.0)\n",
      "Requirement already satisfied: pure_eval==0.2.3 in ./.venv/lib/python3.12/site-packages (from -r requirements.txt (line 22)) (0.2.3)\n",
      "Collecting py4j==0.10.9.7 (from -r requirements.txt (line 23))\n",
      "  Using cached py4j-0.10.9.7-py2.py3-none-any.whl.metadata (1.5 kB)\n",
      "Requirement already satisfied: Pygments==2.19.1 in ./.venv/lib/python3.12/site-packages (from -r requirements.txt (line 24)) (2.19.1)\n",
      "Collecting pyspark==3.5.5 (from -r requirements.txt (line 25))\n",
      "  Using cached pyspark-3.5.5-py2.py3-none-any.whl\n",
      "Requirement already satisfied: python-dateutil==2.9.0.post0 in ./.venv/lib/python3.12/site-packages (from -r requirements.txt (line 26)) (2.9.0.post0)\n",
      "Requirement already satisfied: pyzmq==26.3.0 in ./.venv/lib/python3.12/site-packages (from -r requirements.txt (line 27)) (26.3.0)\n",
      "Requirement already satisfied: six==1.17.0 in ./.venv/lib/python3.12/site-packages (from -r requirements.txt (line 28)) (1.17.0)\n",
      "Requirement already satisfied: stack-data==0.6.3 in ./.venv/lib/python3.12/site-packages (from -r requirements.txt (line 29)) (0.6.3)\n",
      "Requirement already satisfied: tornado==6.4.2 in ./.venv/lib/python3.12/site-packages (from -r requirements.txt (line 30)) (6.4.2)\n",
      "Requirement already satisfied: traitlets==5.14.3 in ./.venv/lib/python3.12/site-packages (from -r requirements.txt (line 31)) (5.14.3)\n",
      "Requirement already satisfied: wcwidth==0.2.13 in ./.venv/lib/python3.12/site-packages (from -r requirements.txt (line 32)) (0.2.13)\n",
      "Using cached py4j-0.10.9.7-py2.py3-none-any.whl (200 kB)\n",
      "Installing collected packages: py4j, pyspark\n",
      "Successfully installed py4j-0.10.9.7 pyspark-3.5.5\n",
      "\n",
      "\u001b[1m[\u001b[0m\u001b[34;49mnotice\u001b[0m\u001b[1;39;49m]\u001b[0m\u001b[39;49m A new release of pip is available: \u001b[0m\u001b[31;49m24.0\u001b[0m\u001b[39;49m -> \u001b[0m\u001b[32;49m25.0.1\u001b[0m\n",
      "\u001b[1m[\u001b[0m\u001b[34;49mnotice\u001b[0m\u001b[1;39;49m]\u001b[0m\u001b[39;49m To update, run: \u001b[0m\u001b[32;49mpip install --upgrade pip\u001b[0m\n",
      "Note: you may need to restart the kernel to use updated packages.\n"
     ]
    }
   ],
   "source": [
    "%pip install -r requirements.txt"
   ]
  },
  {
   "cell_type": "markdown",
   "metadata": {},
   "source": [
    "---"
   ]
  },
  {
   "cell_type": "code",
   "execution_count": 2,
   "metadata": {},
   "outputs": [
    {
     "name": "stderr",
     "output_type": "stream",
     "text": [
      "Setting default log level to \"WARN\".\n",
      "To adjust logging level use sc.setLogLevel(newLevel). For SparkR, use setLogLevel(newLevel).\n",
      "25/03/26 22:31:55 WARN NativeCodeLoader: Unable to load native-hadoop library for your platform... using builtin-java classes where applicable\n"
     ]
    },
    {
     "data": {
      "text/html": [
       "\n",
       "        <div>\n",
       "            <p><b>SparkContext</b></p>\n",
       "\n",
       "            <p><a href=\"http://192.168.1.116:4040\">Spark UI</a></p>\n",
       "\n",
       "            <dl>\n",
       "              <dt>Version</dt>\n",
       "                <dd><code>v3.5.5</code></dd>\n",
       "              <dt>Master</dt>\n",
       "                <dd><code>local</code></dd>\n",
       "              <dt>AppName</dt>\n",
       "                <dd><code>AirbnbPrices</code></dd>\n",
       "            </dl>\n",
       "        </div>\n",
       "        "
      ],
      "text/plain": [
       "<SparkContext master=local appName=AirbnbPrices>"
      ]
     },
     "execution_count": 2,
     "metadata": {},
     "output_type": "execute_result"
    }
   ],
   "source": [
    "from pyspark import SparkContext\n",
    "\n",
    "# Initialize SparkContext\n",
    "sc = SparkContext(\"local\", \"AirbnbPrices\")\n",
    "sc"
   ]
  },
  {
   "cell_type": "code",
   "execution_count": 4,
   "metadata": {},
   "outputs": [],
   "source": [
    "# Load data from file\n",
    "rdd = sc.textFile('preus.txt')\n",
    "# Parse data to float and remove headers and non numeric values\n",
    "prices_rdd = rdd.filter(lambda x: x.strip().isdigit()).map(lambda x: float(x.strip()))"
   ]
  },
  {
   "cell_type": "code",
   "execution_count": 5,
   "metadata": {},
   "outputs": [
    {
     "name": "stderr",
     "output_type": "stream",
     "text": [
      "[Stage 0:>                                                          (0 + 1) / 1]\r"
     ]
    },
    {
     "name": "stdout",
     "output_type": "stream",
     "text": [
      "Number of accomodations: 1048253\n"
     ]
    },
    {
     "name": "stderr",
     "output_type": "stream",
     "text": [
      "                                                                                \r"
     ]
    }
   ],
   "source": [
    "# Number of accommodations\n",
    "num_accommodations = prices_rdd.count()\n",
    "print(f'Number of accomodations: {num_accommodations}')"
   ]
  },
  {
   "cell_type": "code",
   "execution_count": 6,
   "metadata": {},
   "outputs": [
    {
     "name": "stderr",
     "output_type": "stream",
     "text": [
      "                                                                                \r"
     ]
    },
    {
     "name": "stdout",
     "output_type": "stream",
     "text": [
      "Minimun: 10.0 - Maximum: 23229.0\n"
     ]
    }
   ],
   "source": [
    "# Min and Max price value\n",
    "min_price = prices_rdd.min()\n",
    "max_price = prices_rdd.max()\n",
    "print(f'Minimun: {min_price} - Maximum: {max_price}')"
   ]
  },
  {
   "cell_type": "code",
   "execution_count": 7,
   "metadata": {},
   "outputs": [
    {
     "name": "stderr",
     "output_type": "stream",
     "text": [
      "                                                                                \r"
     ]
    },
    {
     "name": "stdout",
     "output_type": "stream",
     "text": [
      "Mean: 436.0350125399073 - Standard deviation: 1188.3904253821997\n"
     ]
    },
    {
     "name": "stderr",
     "output_type": "stream",
     "text": [
      "                                                                                \r"
     ]
    }
   ],
   "source": [
    "# Mean and standard deviation\n",
    "mean_price = prices_rdd.mean()\n",
    "stdev_price = prices_rdd.stdev()\n",
    "print(f'Mean: {mean_price} - Standard deviation: {stdev_price}')"
   ]
  },
  {
   "cell_type": "code",
   "execution_count": 8,
   "metadata": {},
   "outputs": [
    {
     "name": "stderr",
     "output_type": "stream",
     "text": [
      "[Stage 6:>                                                          (0 + 1) / 1]\r"
     ]
    },
    {
     "name": "stdout",
     "output_type": "stream",
     "text": [
      "NEW Mean: 446.8178788517739 - NEW Standard deviation: 1224.0973352938518\n"
     ]
    },
    {
     "name": "stderr",
     "output_type": "stream",
     "text": [
      "                                                                                \r"
     ]
    }
   ],
   "source": [
    "# Update price values\n",
    "new_price_rdd = prices_rdd.map(lambda x: x * 1.02 if x < 1000 else x * 1.03)\n",
    "\n",
    "# New mean and standard deviation\n",
    "new_mean_price = new_price_rdd.mean()\n",
    "new_stdev_price = new_price_rdd.stdev()\n",
    "print(f'NEW Mean: {new_mean_price} - NEW Standard deviation: {new_stdev_price}')"
   ]
  },
  {
   "cell_type": "code",
   "execution_count": 9,
   "metadata": {},
   "outputs": [
    {
     "name": "stderr",
     "output_type": "stream",
     "text": [
      "                                                                                \r"
     ]
    },
    {
     "name": "stdout",
     "output_type": "stream",
     "text": [
      "Group 1: 396986\n",
      "Group 2: 300880\n",
      "Group 3: 145719\n",
      "Group 4: 199829\n"
     ]
    }
   ],
   "source": [
    "# Count accommodations by groups\n",
    "#! I'll suppose that this part makes reference to the updated values \n",
    "price_groups = {\n",
    "\t'Group 1': new_price_rdd.filter(lambda x: x <= 150).count(),\n",
    "\t'Group 2': new_price_rdd.filter(lambda x: 151 <= x <= 300).count(),\n",
    "\t'Group 3': new_price_rdd.filter(lambda x: 301 <= x <= 500).count(),\n",
    "\t'Group 4': new_price_rdd.filter(lambda x: x > 500).count()\n",
    "}\n",
    "for group, count in price_groups.items():\n",
    "\tprint(f'{group}: {count}')"
   ]
  },
  {
   "cell_type": "code",
   "execution_count": 10,
   "metadata": {},
   "outputs": [],
   "source": [
    "# Stop SparkContext\n",
    "sc.stop()"
   ]
  }
 ],
 "metadata": {
  "kernelspec": {
   "display_name": ".venv",
   "language": "python",
   "name": "python3"
  },
  "language_info": {
   "codemirror_mode": {
    "name": "ipython",
    "version": 3
   },
   "file_extension": ".py",
   "mimetype": "text/x-python",
   "name": "python",
   "nbconvert_exporter": "python",
   "pygments_lexer": "ipython3",
   "version": "3.12.3"
  }
 },
 "nbformat": 4,
 "nbformat_minor": 2
}
