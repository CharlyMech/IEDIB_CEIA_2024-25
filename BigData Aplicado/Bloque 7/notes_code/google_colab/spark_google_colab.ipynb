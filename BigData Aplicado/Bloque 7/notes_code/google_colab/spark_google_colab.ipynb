{
  "nbformat": 4,
  "nbformat_minor": 0,
  "metadata": {
    "colab": {
      "provenance": [],
      "authorship_tag": "ABX9TyNBS5E2w6hbKP08Uj+WpJ9J",
      "include_colab_link": true
    },
    "kernelspec": {
      "name": "python3",
      "display_name": "Python 3"
    },
    "language_info": {
      "name": "python"
    }
  },
  "cells": [
    {
      "cell_type": "markdown",
      "metadata": {
        "id": "view-in-github",
        "colab_type": "text"
      },
      "source": [
        "<a href=\"https://colab.research.google.com/github/CharlyMech/IEDIB_CEIA_2024-25/blob/main/BigData%20Aplicado/Bloque%207/notes_code/google_colab/spark_google_colab.ipynb\" target=\"_parent\"><img src=\"https://colab.research.google.com/assets/colab-badge.svg\" alt=\"Open In Colab\"/></a>"
      ]
    },
    {
      "cell_type": "code",
      "execution_count": 1,
      "metadata": {
        "id": "dnlz4EKEbkcp"
      },
      "outputs": [],
      "source": [
        "from pyspark.context import SparkContext\n",
        "sc = SparkContext(\"local\", \"Spark en Google Colab\")"
      ]
    },
    {
      "cell_type": "code",
      "source": [
        "sc"
      ],
      "metadata": {
        "colab": {
          "base_uri": "https://localhost:8080/",
          "height": 197
        },
        "id": "_ag3edV3cCBP",
        "outputId": "a7718708-66ff-4dfd-83b1-35c74cf6c06e"
      },
      "execution_count": 2,
      "outputs": [
        {
          "output_type": "execute_result",
          "data": {
            "text/plain": [
              "<SparkContext master=local appName=Spark en Google Colab>"
            ],
            "text/html": [
              "\n",
              "        <div>\n",
              "            <p><b>SparkContext</b></p>\n",
              "\n",
              "            <p><a href=\"http://c572a94665ad:4040\">Spark UI</a></p>\n",
              "\n",
              "            <dl>\n",
              "              <dt>Version</dt>\n",
              "                <dd><code>v3.5.5</code></dd>\n",
              "              <dt>Master</dt>\n",
              "                <dd><code>local</code></dd>\n",
              "              <dt>AppName</dt>\n",
              "                <dd><code>Spark en Google Colab</code></dd>\n",
              "            </dl>\n",
              "        </div>\n",
              "        "
            ]
          },
          "metadata": {},
          "execution_count": 2
        }
      ]
    },
    {
      "cell_type": "code",
      "source": [
        "dies = (\"dilluns\",\"dimarts\",\"dimecres\",\"dijous\",\"divendres\",\"dissabte\",\"diumenge\")\n",
        "diesRDD = sc.parallelize(dies)\n",
        "diesRDD.collect()"
      ],
      "metadata": {
        "colab": {
          "base_uri": "https://localhost:8080/"
        },
        "id": "wSuV1aT6cFX0",
        "outputId": "ebd9b15d-9493-4ba7-8d63-d3edac3d37ac"
      },
      "execution_count": 3,
      "outputs": [
        {
          "output_type": "execute_result",
          "data": {
            "text/plain": [
              "['dilluns',\n",
              " 'dimarts',\n",
              " 'dimecres',\n",
              " 'dijous',\n",
              " 'divendres',\n",
              " 'dissabte',\n",
              " 'diumenge']"
            ]
          },
          "metadata": {},
          "execution_count": 3
        }
      ]
    },
    {
      "cell_type": "code",
      "source": [
        "from google.colab import drive\n",
        "\n",
        "DRIVE = '/content/drive'\n",
        "\n",
        "drive.mount(DRIVE)\n",
        "\n",
        "personesRDD = sc.textFile(f'{DRIVE}/MyDrive/data/persones.txt')\n",
        "personesRDD.collect()"
      ],
      "metadata": {
        "colab": {
          "base_uri": "https://localhost:8080/"
        },
        "id": "QyunnFjfcG23",
        "outputId": "ab85682d-bb5c-4517-aa0f-0fb78ee20598"
      },
      "execution_count": 4,
      "outputs": [
        {
          "output_type": "stream",
          "name": "stdout",
          "text": [
            "Mounted at /content/drive\n"
          ]
        },
        {
          "output_type": "execute_result",
          "data": {
            "text/plain": [
              "['1, Joan, 50', '2, Aina, 30', '3, Pep, 40 ']"
            ]
          },
          "metadata": {},
          "execution_count": 4
        }
      ]
    }
  ]
}