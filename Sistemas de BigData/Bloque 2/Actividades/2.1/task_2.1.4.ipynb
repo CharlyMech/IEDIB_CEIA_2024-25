{
 "cells": [
  {
   "cell_type": "code",
   "execution_count": 4,
   "metadata": {},
   "outputs": [],
   "source": [
    "# Import required libraries and load data from file\n",
    "from scipy.stats import binom"
   ]
  },
  {
   "cell_type": "code",
   "execution_count": 6,
   "metadata": {},
   "outputs": [
    {
     "name": "stdout",
     "output_type": "stream",
     "text": [
      "Non defective product probability: 51.20%\n",
      "1 or 2 defective product probability: 48.00%\n",
      "All 3 defective product probability: 0.80%\n"
     ]
    }
   ],
   "source": [
    "# 1 #\n",
    "d_product = 0.2\n",
    "n_product = 3\n",
    "\n",
    "# a.\n",
    "prob_0 = binom.pmf(0, n_product, d_product)\n",
    "print(f'Non defective product probability: {prob_0*100:.2f}%')\n",
    "\n",
    "# b.\n",
    "prob_1 = binom.pmf(1, n_product, d_product)\n",
    "prob_2 = binom.pmf(2, n_product, d_product)\n",
    "prob_1_or_2 = prob_1 + prob_2\n",
    "print(f'1 or 2 defective product probability: {prob_1_or_2*100:.2f}%')\n",
    "\n",
    "# c. \n",
    "prob_3 = binom.pmf(3, n_product, d_product)\n",
    "print(f'All 3 defective product probability: {prob_3*100:.2f}%')\n"
   ]
  },
  {
   "cell_type": "code",
   "execution_count": 7,
   "metadata": {},
   "outputs": [
    {
     "name": "stdout",
     "output_type": "stream",
     "text": [
      "All 5 patients get better probability: 32.77%\n",
      "At least 3 patients get better probability: 94.21%\n"
     ]
    }
   ],
   "source": [
    "# 2 #\n",
    "\n",
    "get_better_prob = 0.8\n",
    "n_patients = 5\n",
    "\n",
    "# a. \n",
    "prob_5_get_better = binom.pmf(5, n_patients, get_better_prob)\n",
    "print(f'All 5 patients get better probability: {prob_5_get_better*100:.2f}%')\n",
    "\n",
    "# b.\n",
    "prob_atleast_3_get_better = binom.sf(2, n_patients, get_better_prob)\n",
    "print(f'At least 3 patients get better probability: {prob_atleast_3_get_better*100:.2f}%')"
   ]
  }
 ],
 "metadata": {
  "kernelspec": {
   "display_name": ".venv",
   "language": "python",
   "name": "python3"
  },
  "language_info": {
   "codemirror_mode": {
    "name": "ipython",
    "version": 3
   },
   "file_extension": ".py",
   "mimetype": "text/x-python",
   "name": "python",
   "nbconvert_exporter": "python",
   "pygments_lexer": "ipython3",
   "version": "3.12.3"
  }
 },
 "nbformat": 4,
 "nbformat_minor": 2
}
