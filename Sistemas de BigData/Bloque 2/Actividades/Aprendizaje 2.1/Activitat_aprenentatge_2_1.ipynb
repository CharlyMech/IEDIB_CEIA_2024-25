{
  "nbformat": 4,
  "nbformat_minor": 0,
  "metadata": {
    "colab": {
      "provenance": []
    },
    "kernelspec": {
      "name": "python3",
      "display_name": "Python 3"
    },
    "language_info": {
      "name": "python"
    }
  },
  "cells": [
    {
      "cell_type": "markdown",
      "source": [
        "#Activitat d'aprenentatge CE_5074 2.1"
      ],
      "metadata": {
        "id": "k8kmJKdJGuQ3"
      }
    },
    {
      "cell_type": "code",
      "execution_count": null,
      "metadata": {
        "id": "RvzPnEMc3zMF"
      },
      "outputs": [],
      "source": [
        "dades = [2, 32, 32, 92, 33, 3, 10, 60, 31, 1,\n",
        " 21, 90, 44, 92, 81, 26, 91, 74, 32, 16,\n",
        " 22, 100, 32, 34, 10, 65, 51, 61, 41, 90]"
      ]
    },
    {
      "cell_type": "markdown",
      "source": [
        "Nombre de valors"
      ],
      "metadata": {
        "id": "A36GCD6SGpnG"
      }
    },
    {
      "cell_type": "code",
      "source": [
        "print('Nombre de valors: ', len(dades))"
      ],
      "metadata": {
        "id": "ypOGnATS7BoV",
        "colab": {
          "base_uri": "https://localhost:8080/"
        },
        "outputId": "7b7e10ed-cc4b-4207-e077-6cd814d0ff06"
      },
      "execution_count": null,
      "outputs": [
        {
          "output_type": "stream",
          "name": "stdout",
          "text": [
            "Nombre de valors:  30\n"
          ]
        }
      ]
    },
    {
      "cell_type": "markdown",
      "source": [
        "Valors màxim i mínim"
      ],
      "metadata": {
        "id": "-Cg-94gDG4JO"
      }
    },
    {
      "cell_type": "code",
      "source": [
        "print('Valor mínim: ', min(dades))\n",
        "print('Valor màxim: ', max(dades))"
      ],
      "metadata": {
        "colab": {
          "base_uri": "https://localhost:8080/"
        },
        "id": "faBn5Ly_HvJu",
        "outputId": "d9d70292-aec6-43d3-fa2f-fa80ff62c547"
      },
      "execution_count": null,
      "outputs": [
        {
          "output_type": "stream",
          "name": "stdout",
          "text": [
            "Valor mínim:  1\n",
            "Valor màxim:  100\n"
          ]
        }
      ]
    },
    {
      "cell_type": "markdown",
      "source": [
        "Mitjana"
      ],
      "metadata": {
        "id": "_Nbo48hMG99e"
      }
    },
    {
      "cell_type": "code",
      "source": [
        "import numpy as np\n",
        "\n",
        "print('Mitjana: ', np.mean(dades))"
      ],
      "metadata": {
        "colab": {
          "base_uri": "https://localhost:8080/"
        },
        "id": "1XM84TMCHrLv",
        "outputId": "bf308d56-4a2d-46a0-bbc9-93cc2d8e509c"
      },
      "execution_count": null,
      "outputs": [
        {
          "output_type": "stream",
          "name": "stdout",
          "text": [
            "Mitjana:  45.63333333333333\n"
          ]
        }
      ]
    },
    {
      "cell_type": "markdown",
      "source": [
        "Mediana i percentils 25 i 75"
      ],
      "metadata": {
        "id": "6W-4C3WHHAPu"
      }
    },
    {
      "cell_type": "code",
      "source": [
        "print('Mediana: ', np.median(dades))\n",
        "print('Percentil 25: ', np.percentile(dades,25))\n",
        "print('Percentil 75: ', np.percentile(dades,75))"
      ],
      "metadata": {
        "colab": {
          "base_uri": "https://localhost:8080/"
        },
        "id": "uuMwjvfTIgjB",
        "outputId": "8b2488c2-3e46-4c9d-8f2a-1874c2d7afc7"
      },
      "execution_count": null,
      "outputs": [
        {
          "output_type": "stream",
          "name": "stdout",
          "text": [
            "Mediana:  33.5\n",
            "Percentil 25:  23.0\n",
            "Percentil 75:  71.75\n"
          ]
        }
      ]
    },
    {
      "cell_type": "markdown",
      "source": [
        "Moda"
      ],
      "metadata": {
        "id": "FYG6qjMoHBy_"
      }
    },
    {
      "cell_type": "code",
      "source": [
        "import scipy.stats as stats\n",
        "moda = stats.mode(dades)\n",
        "print('Moda: ', moda.mode, '(', moda.count,' vegades)')"
      ],
      "metadata": {
        "colab": {
          "base_uri": "https://localhost:8080/"
        },
        "id": "_GdaQ6ooIfwH",
        "outputId": "ab3c7986-80b3-4440-e524-5f1f30d1775b"
      },
      "execution_count": null,
      "outputs": [
        {
          "output_type": "stream",
          "name": "stdout",
          "text": [
            "Moda:  32 ( 4  vegades)\n"
          ]
        }
      ]
    },
    {
      "cell_type": "markdown",
      "source": [
        "Variància"
      ],
      "metadata": {
        "id": "E1J2YhW3HDO2"
      }
    },
    {
      "cell_type": "code",
      "source": [
        "print('Variància: ', np.var(dades))"
      ],
      "metadata": {
        "colab": {
          "base_uri": "https://localhost:8080/"
        },
        "id": "jJCcta0-NzjR",
        "outputId": "0d36ecac-60bd-4d0b-c5f9-e6747674e0de"
      },
      "execution_count": null,
      "outputs": [
        {
          "output_type": "stream",
          "name": "stdout",
          "text": [
            "Mediana:  937.0322222222222\n"
          ]
        }
      ]
    },
    {
      "cell_type": "markdown",
      "source": [
        "Desviació estàndard"
      ],
      "metadata": {
        "id": "oWjfVeHuHE03"
      }
    },
    {
      "cell_type": "code",
      "source": [
        "print('Desviació estàndard: ', np.std(dades))\n"
      ],
      "metadata": {
        "colab": {
          "base_uri": "https://localhost:8080/"
        },
        "id": "bKp3d6QxOZIY",
        "outputId": "98e48f47-41f7-4ccf-91dc-e95ab65d80ef"
      },
      "execution_count": null,
      "outputs": [
        {
          "output_type": "stream",
          "name": "stdout",
          "text": [
            "Desviació estàndard:  30.610982052561173\n"
          ]
        }
      ]
    }
  ]
}