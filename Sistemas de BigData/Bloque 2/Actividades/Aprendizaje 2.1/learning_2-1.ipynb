{
 "cells": [
  {
   "cell_type": "markdown",
   "metadata": {},
   "source": [
    "Import required libraries:\n"
   ]
  },
  {
   "cell_type": "code",
   "execution_count": 4,
   "metadata": {},
   "outputs": [],
   "source": [
    "import numpy as np\n",
    "import pandas as pd"
   ]
  },
  {
   "cell_type": "code",
   "execution_count": 18,
   "metadata": {},
   "outputs": [
    {
     "name": "stdout",
     "output_type": "stream",
     "text": [
      "Data: [2, 32, 32, 92, 33, 3, 10, 60, 31, 1, 21, 90, 44, 92, 81, 26, 91, 74, 32, 16, 22, 100, 32, 34, 10, 65, 51, 61, 41, 90]\n",
      "Data length: 30\n",
      "Max value: 100 - Min value: 1\n",
      "Average: 45.63333333333333\n",
      "Median: 33.5\n",
      "25 percentile: 23.0 - 75 percentile: 71.75\n",
      "Mode: 32 - Frequency: 4\n",
      "Variance: 937.0322222222222\n",
      "Standard desviation: 30.610982052561173\n"
     ]
    }
   ],
   "source": [
    "data = [2, 32, 32, 92, 33, 3, 10, 60, 31, 1, 21, 90, 44, 92, 81, 26, 91, 74, 32, 16, 22, 100, 32, 34, 10, 65, 51, 61, 41, 90]\n",
    "\n",
    "print(f'Data: {data}')\n",
    "print(f'Data length: {len(data)}')\n",
    "print(f'Max value: {max(data)} - Min value: {min(data)}')\n",
    "# Classical way: average = sum(data) / len(data)\n",
    "print(f'Average: {np.mean(data)}') # Alternative: np.average(data)\n",
    "print(f'Median: {np.median(data)}')\n",
    "print(f'25 percentile: {np.percentile(data, 25)} - 75 percentile: {np.percentile(data, 75)}')\n",
    "mode_value = pd.Series(data).mode()[0]\n",
    "print(f'Mode: {mode_value} - Frequency: {pd.Series(data).value_counts()[mode_value]}')\n",
    "print(f'Variance: {np.var(data)}')\n",
    "print(f'Standard desviation: {np.std(data)}')\n"
   ]
  }
 ],
 "metadata": {
  "kernelspec": {
   "display_name": ".venv",
   "language": "python",
   "name": "python3"
  },
  "language_info": {
   "codemirror_mode": {
    "name": "ipython",
    "version": 3
   },
   "file_extension": ".py",
   "mimetype": "text/x-python",
   "name": "python",
   "nbconvert_exporter": "python",
   "pygments_lexer": "ipython3",
   "version": "3.12.3"
  }
 },
 "nbformat": 4,
 "nbformat_minor": 2
}
