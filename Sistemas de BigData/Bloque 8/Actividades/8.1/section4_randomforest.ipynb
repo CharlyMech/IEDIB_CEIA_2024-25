{
 "cells": [
  {
   "cell_type": "code",
   "execution_count": 2,
   "metadata": {},
   "outputs": [
    {
     "name": "stdout",
     "output_type": "stream",
     "text": [
      "Initial DataFrame size: 344 rows\n",
      "Cleaned DataFrame size: 342 rows\n"
     ]
    }
   ],
   "source": [
    "import pyspark\n",
    "from pyspark.sql import SparkSession\n",
    "from pyspark.sql.functions import col\n",
    "from pyspark.ml.feature import VectorAssembler, StringIndexer\n",
    "from pyspark.ml.classification import RandomForestClassifier\n",
    "from pyspark.ml.evaluation import MulticlassClassificationEvaluator\n",
    "from pyspark.mllib.evaluation import MulticlassMetrics\n",
    "from pyspark.ml import Pipeline\n",
    "\n",
    "# Create a Spark session\n",
    "spark = SparkSession.builder.appName(\"Penguins Species Cluster Analysis\").getOrCreate()\n",
    "\n",
    "df = spark.read.csv(\"data/penguins_size.csv\", header=True, inferSchema=True)\n",
    "print(f'Initial DataFrame size: {df.count()} rows')\n",
    "\n",
    "# Drop rows with NA strings and cast safely\n",
    "df_clean = df.filter((col(\"culmen_length_mm\").isNotNull()) & \n",
    "                     (col(\"culmen_depth_mm\").isNotNull()) &\n",
    "                     (col(\"culmen_length_mm\") != \"NA\") &\n",
    "                     (col(\"culmen_depth_mm\") != \"NA\")) \\\n",
    "\t.withColumn(\"culmen_length_mm\", col(\"culmen_length_mm\").cast(\"double\")) \\\n",
    "\t.withColumn(\"culmen_depth_mm\", col(\"culmen_depth_mm\").cast(\"double\")) \\\n",
    "\t.withColumn(\"flipper_length_mm\", col(\"flipper_length_mm\").cast(\"double\")) \\\n",
    "\t.withColumn(\"body_mass_g\", col(\"body_mass_g\").cast(\"double\"))\n",
    "df_clean = df_clean.filter(col(\"culmen_length_mm\").isNotNull() \n",
    "\t\t\t\t\t\t\t\t   & col(\"culmen_depth_mm\").isNotNull() \n",
    "\t\t\t\t\t\t\t\t\t& col(\"flipper_length_mm\").isNotNull() \n",
    "\t\t\t\t\t\t\t\t\t& col(\"body_mass_g\").isNotNull())\n",
    "# df_clean.cache()\n",
    "print(f'Cleaned DataFrame size: {df_clean.count()} rows')\n",
    "df.createOrReplaceTempView(\"penguins\")"
   ]
  },
  {
   "cell_type": "code",
   "execution_count": 3,
   "metadata": {},
   "outputs": [],
   "source": [
    "label_indexer = StringIndexer(inputCol=\"species\", outputCol=\"label\")\n",
    "sex_indexer = StringIndexer(inputCol=\"sex\", outputCol=\"sex_indexed\")\n",
    "\n",
    "# Features vector\n",
    "assembler = VectorAssembler(\n",
    "\tinputCols=[\"culmen_length_mm\", \"culmen_depth_mm\", \"flipper_length_mm\", \"body_mass_g\", \"sex_indexed\"],\n",
    "\toutputCol=\"features\"\n",
    ")"
   ]
  },
  {
   "cell_type": "code",
   "execution_count": 4,
   "metadata": {},
   "outputs": [],
   "source": [
    "# Create classification model\n",
    "rf = RandomForestClassifier(labelCol=\"label\", featuresCol=\"features\", numTrees=100)\n",
    "pipeline = Pipeline(stages=[label_indexer, sex_indexer, assembler, rf])"
   ]
  },
  {
   "cell_type": "code",
   "execution_count": 5,
   "metadata": {},
   "outputs": [],
   "source": [
    "train_data, test_data = df_clean.randomSplit([0.8, 0.2], seed=42)\n",
    "model = pipeline.fit(train_data) # train\n",
    "predictions = model.transform(test_data) # predict"
   ]
  },
  {
   "cell_type": "code",
   "execution_count": 6,
   "metadata": {},
   "outputs": [
    {
     "name": "stdout",
     "output_type": "stream",
     "text": [
      "Accuracy: 0.9811\n"
     ]
    }
   ],
   "source": [
    "evaluator = MulticlassClassificationEvaluator(labelCol='label', predictionCol='prediction', metricName='accuracy')\n",
    "accuracy = evaluator.evaluate(predictions)\n",
    "print(f'Accuracy: {accuracy:.4f}')"
   ]
  },
  {
   "cell_type": "code",
   "execution_count": 7,
   "metadata": {},
   "outputs": [
    {
     "name": "stderr",
     "output_type": "stream",
     "text": [
      "/Users/carlos/Development/IEDIB_CEIA_2024-25/Sistemas de BigData/Bloque 8/Actividades/8.1/.venv/lib/python3.12/site-packages/pyspark/sql/context.py:158: FutureWarning: Deprecated in 3.0.0. Use SparkSession.builder.getOrCreate() instead.\n",
      "  warnings.warn(\n"
     ]
    },
    {
     "name": "stdout",
     "output_type": "stream",
     "text": [
      "Confusion Matrix:\n",
      " DenseMatrix([[24.,  0.,  0.],\n",
      "             [ 0., 19.,  1.],\n",
      "             [ 0.,  0.,  9.]])\n"
     ]
    }
   ],
   "source": [
    "prediction_and_labels = predictions.select('prediction', 'label').rdd\n",
    "metrics = MulticlassMetrics(prediction_and_labels)\n",
    "\n",
    "# Confusion matrix\n",
    "conf_matrix = metrics.confusionMatrix()\n",
    "print(f'Confusion Matrix:\\n {conf_matrix}')"
   ]
  },
  {
   "cell_type": "code",
   "execution_count": 8,
   "metadata": {},
   "outputs": [
    {
     "data": {
      "image/png": "[encoded data removed]",
      "text/plain": [
       "<Figure size 1000x800 with 2 Axes>"
      ]
     },
     "metadata": {},
     "output_type": "display_data"
    }
   ],
   "source": [
    "import seaborn as sns\n",
    "import matplotlib.pyplot as plt\n",
    "import numpy as np\n",
    "\n",
    "labels = model.stages[0].labels \n",
    "conf_matrix_np = np.array(metrics.confusionMatrix().toArray())\n",
    "\n",
    "plt.figure(figsize=(10, 8))\n",
    "sns.heatmap(conf_matrix_np, annot=True, fmt='g', cmap='Blues', xticklabels=labels, yticklabels=labels)\n",
    "plt.title('Confusion Matrix - Random Forest')\n",
    "plt.xlabel('Prediction')\n",
    "plt.ylabel('Real Label')\n",
    "plt.show()"
   ]
  }
 ],
 "metadata": {
  "kernelspec": {
   "display_name": ".venv",
   "language": "python",
   "name": "python3"
  },
  "language_info": {
   "codemirror_mode": {
    "name": "ipython",
    "version": 3
   },
   "file_extension": ".py",
   "mimetype": "text/x-python",
   "name": "python",
   "nbconvert_exporter": "python",
   "pygments_lexer": "ipython3",
   "version": "3.12.3"
  }
 },
 "nbformat": 4,
 "nbformat_minor": 2
}
