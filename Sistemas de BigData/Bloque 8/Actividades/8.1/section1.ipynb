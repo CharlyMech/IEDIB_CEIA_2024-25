{
 "cells": [
  {
   "cell_type": "code",
   "execution_count": 2,
   "metadata": {},
   "outputs": [
    {
     "name": "stdout",
     "output_type": "stream",
     "text": [
      "+---------------------+-----+\n",
      "|municipi             |count|\n",
      "+---------------------+-----+\n",
      "|Alaior               |16   |\n",
      "|Ciutadella de Menorca|34   |\n",
      "|Es Mercadal          |11   |\n",
      "|Ferreries            |1    |\n",
      "|Mahón                |2    |\n",
      "|Sant Lluís           |9    |\n",
      "+---------------------+-----+\n",
      "\n"
     ]
    }
   ],
   "source": [
    "from pyspark.sql import SparkSession\n",
    "\n",
    "# Create a Spark session\n",
    "spark = SparkSession.builder.appName(\"Menorcar's Airbnb Analysis\").getOrCreate()\n",
    "\n",
    "df = spark.read.csv(\"data/listings.csv\", header=True, inferSchema=True)\n",
    "df.createOrReplaceTempView(\"airbnb_listings\")\n",
    "\n",
    "query = \"\"\"\n",
    "SELECT\n",
    "    neighbourhood AS municipi,\n",
    "    COUNT(*) AS count\n",
    "FROM\n",
    "    airbnb_listings\n",
    "WHERE\n",
    "    room_type = 'Entire home/apt'\n",
    "    AND license IS NOT NULL\n",
    "    AND TRIM(license) != ''\n",
    "    AND number_of_reviews >= 100\n",
    "GROUP BY\n",
    "    neighbourhood\n",
    "ORDER BY\n",
    "    municipi ASC\n",
    "\"\"\"\n",
    "\n",
    "result = spark.sql(query)\n",
    "result.show(100, False)\n",
    "spark.stop()"
   ]
  }
 ],
 "metadata": {
  "kernelspec": {
   "display_name": ".venv",
   "language": "python",
   "name": "python3"
  },
  "language_info": {
   "codemirror_mode": {
    "name": "ipython",
    "version": 3
   },
   "file_extension": ".py",
   "mimetype": "text/x-python",
   "name": "python",
   "nbconvert_exporter": "python",
   "pygments_lexer": "ipython3",
   "version": "3.12.3"
  }
 },
 "nbformat": 4,
 "nbformat_minor": 2
}
