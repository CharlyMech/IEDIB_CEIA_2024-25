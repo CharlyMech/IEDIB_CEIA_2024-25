{
 "cells": [
  {
   "cell_type": "code",
   "execution_count": 25,
   "metadata": {},
   "outputs": [],
   "source": [
    "from pyspark.sql import SparkSession\n",
    "from pyspark.sql.functions import when, sum as spark_sum, col, count\n",
    "\n",
    "# Create a Spark session\n",
    "spark = SparkSession.builder.appName(\"Soccer Analysis\").getOrCreate()\n",
    "\n",
    "goalscorers_df = spark.read.csv(\"data/goalscorers.csv\", header=True, inferSchema=True)\n",
    "results_df = spark.read.csv(\"data/results.csv\", header=True, inferSchema=True)\n",
    "\n",
    "goalscorers_df.createOrReplaceTempView(\"goalscorers\")\n",
    "results_df.createOrReplaceTempView(\"results\")"
   ]
  },
  {
   "cell_type": "markdown",
   "metadata": {},
   "source": [
    "# 1) Number of goals scored by Lionel Messi (excluding own goals)."
   ]
  },
  {
   "cell_type": "code",
   "execution_count": null,
   "metadata": {},
   "outputs": [
    {
     "name": "stdout",
     "output_type": "stream",
     "text": [
      "+-----------+\n",
      "|messi_goals|\n",
      "+-----------+\n",
      "|         55|\n",
      "+-----------+\n",
      "\n"
     ]
    }
   ],
   "source": [
    "# SQL\n",
    "spark.sql('''\n",
    "\tSELECT COUNT(*) AS messi_goals\n",
    "\tFROM goalscorers \n",
    "\tWHERE scorer = \"Lionel Messi\" AND own_goal = \"FALSE\"''').show()"
   ]
  },
  {
   "cell_type": "code",
   "execution_count": null,
   "metadata": {},
   "outputs": [
    {
     "data": {
      "text/plain": [
       "55"
      ]
     },
     "execution_count": 16,
     "metadata": {},
     "output_type": "execute_result"
    }
   ],
   "source": [
    "# DataFrame API\n",
    "goalscorers_df.filter(\n",
    "   (col(\"scorer\") == \"Lionel Messi\") & (col(\"own_goal\") == False)\n",
    ").count()"
   ]
  },
  {
   "cell_type": "markdown",
   "metadata": {},
   "source": [
    "# 2) List of the 5 most recent matches played by the Spanish national team."
   ]
  },
  {
   "cell_type": "code",
   "execution_count": 15,
   "metadata": {},
   "outputs": [
    {
     "name": "stdout",
     "output_type": "stream",
     "text": [
      "+----------+---------+---------+-------+---------------+------+--------+-------+\n",
      "|      date|home_team|away_team|   team|         scorer|minute|own_goal|penalty|\n",
      "+----------+---------+---------+-------+---------------+------+--------+-------+\n",
      "|2024-07-14|    Spain|  England|  Spain|Mikel Oyarzabal|    86|   false|  false|\n",
      "|2024-07-14|    Spain|  England|  Spain|  Nico Williams|    47|   false|  false|\n",
      "|2024-07-14|    Spain|  England|England|    Cole Palmer|    73|   false|  false|\n",
      "|2024-07-09|    Spain|   France|  Spain|      Dani Olmo|    25|   false|  false|\n",
      "|2024-07-09|    Spain|   France|  Spain|   Lamine Yamal|    21|   false|  false|\n",
      "+----------+---------+---------+-------+---------------+------+--------+-------+\n",
      "\n"
     ]
    }
   ],
   "source": [
    "# SQL\n",
    "spark.sql('''\n",
    "\tSELECT * FROM goalscorers \n",
    "\tWHERE home_team = \"Spain\" OR away_team = \"Spain\" \n",
    "\tORDER BY date DESC \n",
    "\tLIMIT 5''').show()"
   ]
  },
  {
   "cell_type": "code",
   "execution_count": 17,
   "metadata": {},
   "outputs": [
    {
     "name": "stdout",
     "output_type": "stream",
     "text": [
      "+----------+---------+---------+-------+---------------+------+--------+-------+\n",
      "|      date|home_team|away_team|   team|         scorer|minute|own_goal|penalty|\n",
      "+----------+---------+---------+-------+---------------+------+--------+-------+\n",
      "|2024-07-14|    Spain|  England|  Spain|Mikel Oyarzabal|    86|   false|  false|\n",
      "|2024-07-14|    Spain|  England|  Spain|  Nico Williams|    47|   false|  false|\n",
      "|2024-07-14|    Spain|  England|England|    Cole Palmer|    73|   false|  false|\n",
      "|2024-07-09|    Spain|   France|  Spain|      Dani Olmo|    25|   false|  false|\n",
      "|2024-07-09|    Spain|   France|  Spain|   Lamine Yamal|    21|   false|  false|\n",
      "+----------+---------+---------+-------+---------------+------+--------+-------+\n",
      "\n"
     ]
    }
   ],
   "source": [
    "# DataFrame API\n",
    "goalscorers_df.filter(\n",
    "   (col(\"home_team\") == \"Spain\") | (col(\"away_team\") == \"Spain\")\n",
    ").orderBy(col(\"date\").desc()).limit(5).show()"
   ]
  },
  {
   "cell_type": "markdown",
   "metadata": {},
   "source": [
    "# 3) Number of goals scored by Spain in its entire history. This information must be taken from results, as goalscorers does not contain all goals."
   ]
  },
  {
   "cell_type": "code",
   "execution_count": null,
   "metadata": {},
   "outputs": [
    {
     "name": "stdout",
     "output_type": "stream",
     "text": [
      "+-----------------+\n",
      "|total_spain_goals|\n",
      "+-----------------+\n",
      "|             1567|\n",
      "+-----------------+\n",
      "\n"
     ]
    }
   ],
   "source": [
    "# SQL\n",
    "spark.sql('''\n",
    "\tSELECT \n",
    "\t\tSUM(CASE WHEN home_team = 'Spain' THEN home_score ELSE 0 END) +\n",
    "\t\tSUM(CASE WHEN away_team = 'Spain' THEN away_score ELSE 0 END) AS total_spain_goals\n",
    "\tFROM results\n",
    "''').show()"
   ]
  },
  {
   "cell_type": "code",
   "execution_count": null,
   "metadata": {},
   "outputs": [
    {
     "name": "stdout",
     "output_type": "stream",
     "text": [
      "+-----------------+\n",
      "|total_spain_goals|\n",
      "+-----------------+\n",
      "|             1567|\n",
      "+-----------------+\n",
      "\n"
     ]
    }
   ],
   "source": [
    "# DataFrame API\n",
    "results_df.select(\n",
    "\t(sum(when(col(\"home_team\") == \"Spain\", col(\"home_score\")).otherwise(0)) +\n",
    "\tsum(when(col(\"away_team\") == \"Spain\", col(\"away_score\")).otherwise(0))\n",
    "\t).alias(\"total_spain_goals\")\n",
    ").show()"
   ]
  },
  {
   "cell_type": "markdown",
   "metadata": {},
   "source": [
    "# 4) List of the 5 highest scorers with the Spanish national team (excluding own goals)."
   ]
  },
  {
   "cell_type": "code",
   "execution_count": null,
   "metadata": {},
   "outputs": [
    {
     "name": "stdout",
     "output_type": "stream",
     "text": [
      "+---------------+-----+\n",
      "|         scorer|goals|\n",
      "+---------------+-----+\n",
      "|    David Villa|   41|\n",
      "|           Raúl|   32|\n",
      "|  Álvaro Morata|   29|\n",
      "|Fernando Torres|   28|\n",
      "|Fernando Hierro|   25|\n",
      "+---------------+-----+\n",
      "\n"
     ]
    }
   ],
   "source": [
    "# SQL\n",
    "spark.sql('''\n",
    "\tSELECT scorer, COUNT(*) AS goals\n",
    "\tFROM goalscorers\n",
    "\tWHERE team = 'Spain' AND own_goal = 'FALSE'\n",
    "\tGROUP BY scorer\n",
    "\tORDER BY goals DESC\n",
    "\tLIMIT 5\n",
    "''').show()"
   ]
  },
  {
   "cell_type": "code",
   "execution_count": 26,
   "metadata": {},
   "outputs": [
    {
     "name": "stdout",
     "output_type": "stream",
     "text": [
      "+---------------+-----+\n",
      "|         scorer|goals|\n",
      "+---------------+-----+\n",
      "|    David Villa|   41|\n",
      "|           Raúl|   32|\n",
      "|  Álvaro Morata|   29|\n",
      "|Fernando Torres|   28|\n",
      "|Fernando Hierro|   25|\n",
      "+---------------+-----+\n",
      "\n"
     ]
    }
   ],
   "source": [
    "# DataFrame API\n",
    "goalscorers_df.filter(\n",
    "    (col(\"team\") == \"Spain\") & (col(\"own_goal\") == \"FALSE\")\n",
    ").groupBy(\"scorer\") \\\n",
    " .agg(count(\"*\").alias(\"goals\")) \\\n",
    " .orderBy(col(\"goals\").desc()) \\\n",
    " .limit(5) \\\n",
    " .show()"
   ]
  },
  {
   "cell_type": "markdown",
   "metadata": {},
   "source": [
    "# 5) List of Spanish players who have scored a penalty goal in a European Championship (UEFA Euro), sorted alphabetically."
   ]
  },
  {
   "cell_type": "code",
   "execution_count": 28,
   "metadata": {},
   "outputs": [
    {
     "name": "stdout",
     "output_type": "stream",
     "text": [
      "+--------------------+\n",
      "|              scorer|\n",
      "+--------------------+\n",
      "|      Andrés Iniesta|\n",
      "|         Daniel Ruiz|\n",
      "|         David Villa|\n",
      "|     Fernando Hierro|\n",
      "|Francisco José Ca...|\n",
      "|     Gaizka Mendieta|\n",
      "|      José Claramunt|\n",
      "|  Juan Antonio Señor|\n",
      "|              Míchel|\n",
      "|               Pirri|\n",
      "|        Sergio Ramos|\n",
      "|         Xabi Alonso|\n",
      "|       Álvaro Morata|\n",
      "+--------------------+\n",
      "\n"
     ]
    }
   ],
   "source": [
    "# SQL\n",
    "spark.sql('''\n",
    "\tSELECT DISTINCT scorer\n",
    "\tFROM results r\n",
    "\tJOIN goalscorers g\n",
    "\tON r.date = g.date AND r.home_team = g.home_team AND r.away_team = g.away_team\n",
    "\tWHERE g.team = 'Spain' AND g.penalty = 'TRUE' AND r.tournament LIKE '%Euro%'\n",
    "\tORDER BY scorer\n",
    "''').show()"
   ]
  },
  {
   "cell_type": "code",
   "execution_count": 27,
   "metadata": {},
   "outputs": [
    {
     "name": "stdout",
     "output_type": "stream",
     "text": [
      "+--------------------+\n",
      "|              scorer|\n",
      "+--------------------+\n",
      "|      Andrés Iniesta|\n",
      "|         Daniel Ruiz|\n",
      "|         David Villa|\n",
      "|     Fernando Hierro|\n",
      "|Francisco José Ca...|\n",
      "|     Gaizka Mendieta|\n",
      "|      José Claramunt|\n",
      "|  Juan Antonio Señor|\n",
      "|              Míchel|\n",
      "|               Pirri|\n",
      "|        Sergio Ramos|\n",
      "|         Xabi Alonso|\n",
      "|       Álvaro Morata|\n",
      "+--------------------+\n",
      "\n"
     ]
    }
   ],
   "source": [
    "# DataFrame API\n",
    "\n",
    "# Join results and goalscorers on date, home_team, and away_team\n",
    "joined_df = results_df.join(\n",
    "\tgoalscorers_df,\n",
    "\ton=[\"date\", \"home_team\", \"away_team\"]\n",
    ")\n",
    "# Apply filters and select distinct scorers\n",
    "joined_df.filter(\n",
    "\t(col(\"team\") == \"Spain\") &\n",
    "\t(col(\"penalty\") == \"TRUE\") &\n",
    "\t(col(\"tournament\").like(\"%Euro%\"))\n",
    ").select(\"scorer\").distinct().orderBy(\"scorer\").show()"
   ]
  },
  {
   "cell_type": "markdown",
   "metadata": {},
   "source": [
    "# 6) List of the 5 highest scorers in the final stages of the World Cup (FIFA World Cup) (excluding own goals)."
   ]
  },
  {
   "cell_type": "code",
   "execution_count": 29,
   "metadata": {},
   "outputs": [
    {
     "name": "stdout",
     "output_type": "stream",
     "text": [
      "+--------------+-----+\n",
      "|        scorer|goals|\n",
      "+--------------+-----+\n",
      "|Miroslav Klose|   16|\n",
      "|       Ronaldo|   15|\n",
      "|   Gerd Müller|   14|\n",
      "| Just Fontaine|   13|\n",
      "|  Lionel Messi|   13|\n",
      "+--------------+-----+\n",
      "\n"
     ]
    }
   ],
   "source": [
    "# SQL\n",
    "spark.sql('''\n",
    "\tSELECT scorer, COUNT(*) AS goals\n",
    "\tFROM results r\n",
    "\tJOIN goalscorers g\n",
    "\tON r.date = g.date AND r.home_team = g.home_team AND r.away_team = g.away_team\n",
    "\tWHERE r.tournament = 'FIFA World Cup' AND g.own_goal = 'FALSE'\n",
    "\tGROUP BY scorer\n",
    "\tORDER BY goals DESC\n",
    "\tLIMIT 5\n",
    "''').show()"
   ]
  },
  {
   "cell_type": "code",
   "execution_count": 30,
   "metadata": {},
   "outputs": [
    {
     "name": "stdout",
     "output_type": "stream",
     "text": [
      "+--------------+-----+\n",
      "|        scorer|goals|\n",
      "+--------------+-----+\n",
      "|Miroslav Klose|   16|\n",
      "|       Ronaldo|   15|\n",
      "|   Gerd Müller|   14|\n",
      "| Just Fontaine|   13|\n",
      "|  Lionel Messi|   13|\n",
      "+--------------+-----+\n",
      "\n"
     ]
    }
   ],
   "source": [
    "# DataFrame API\n",
    "\n",
    "# Using the joined DataFrame from the previous example\n",
    "joined_df.filter(\n",
    "\t(col(\"tournament\") == \"FIFA World Cup\") &\n",
    "\t(col(\"own_goal\") == \"FALSE\")\n",
    ").groupBy(\"scorer\") \\\n",
    " .agg(count(\"*\").alias(\"goals\")) \\\n",
    " .orderBy(col(\"goals\").desc()) \\\n",
    " .limit(5) \\\n",
    " .show()"
   ]
  },
  {
   "cell_type": "code",
   "execution_count": 31,
   "metadata": {},
   "outputs": [],
   "source": [
    "spark.stop()"
   ]
  }
 ],
 "metadata": {
  "kernelspec": {
   "display_name": ".venv",
   "language": "python",
   "name": "python3"
  },
  "language_info": {
   "codemirror_mode": {
    "name": "ipython",
    "version": 3
   },
   "file_extension": ".py",
   "mimetype": "text/x-python",
   "name": "python",
   "nbconvert_exporter": "python",
   "pygments_lexer": "ipython3",
   "version": "3.12.3"
  }
 },
 "nbformat": 4,
 "nbformat_minor": 2
}
