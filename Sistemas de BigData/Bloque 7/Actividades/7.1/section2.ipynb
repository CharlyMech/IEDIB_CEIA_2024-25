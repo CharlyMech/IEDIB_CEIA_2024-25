{
 "cells": [
  {
   "cell_type": "markdown",
   "metadata": {},
   "source": [
    "#### Generate a random sample of 100 values ​​for each of the two variables (height and weight), using one decimal precision.\n",
    "\n",
    "##### As we have seen in the Data Rescaler section of the notes, before applying a machine learning algorithm, it is convenient to normalize this data, so that the two samples have a mean of 0 and a standard deviation of 1.\n",
    "\n",
    "#### 2.1. Obtain a dataframe that has two columns, respectively with the normalized heights and weights from the two samples."
   ]
  }
 ],
 "metadata": {
  "language_info": {
   "name": "python"
  }
 },
 "nbformat": 4,
 "nbformat_minor": 2
}
