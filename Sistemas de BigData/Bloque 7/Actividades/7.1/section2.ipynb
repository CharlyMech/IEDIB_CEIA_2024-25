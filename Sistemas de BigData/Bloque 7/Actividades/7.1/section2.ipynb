{
 "cells": [
  {
   "cell_type": "markdown",
   "metadata": {},
   "source": [
    "#### Generate a random sample of 100 values ​​for each of the two variables (height and weight), using one decimal precision.\n",
    "\n",
    "##### As we have seen in the Data Rescaler section of the notes, before applying a machine learning algorithm, it is convenient to normalize this data, so that the two samples have a mean of 0 and a standard deviation of 1.\n",
    "\n",
    "#### 2.1. Obtain a dataframe that has two columns, respectively with the normalized heights and weights from the two samples."
   ]
  },
  {
   "cell_type": "code",
   "execution_count": 1,
   "metadata": {},
   "outputs": [
    {
     "name": "stdout",
     "output_type": "stream",
     "text": [
      "Original DataFrame:\n",
      "   Height  Weight\n",
      "0   167.2    42.0\n",
      "1   163.4    52.3\n",
      "2   168.2    53.1\n",
      "3   173.5    48.3\n",
      "4   162.8    54.9\n",
      "\n",
      "Standardized DataFrame:\n",
      "     Height    Weight\n",
      "0  0.658783 -1.516850\n",
      "1 -0.030852 -0.463269\n",
      "2  0.840265 -0.381437\n",
      "3  1.802124 -0.872427\n",
      "4 -0.139742 -0.197316\n"
     ]
    }
   ],
   "source": [
    "import numpy as np\n",
    "import pandas as pd\n",
    "from sklearn.preprocessing import StandardScaler\n",
    "\n",
    "# Parameters\n",
    "HEIGHT_AVG = 164.2\n",
    "HEIGHT_STD = 6.1\n",
    "WEIGHT_AVG = 56.6\n",
    "WEIGHT_STD = 10.3\n",
    "SAMPLE_SIZE = 100\n",
    "np.random.seed(42) # For reproducibility\n",
    "\n",
    "# Generate the sample data\n",
    "sample_height = np.round(np.random.normal(HEIGHT_AVG, HEIGHT_STD, SAMPLE_SIZE), 1)\n",
    "sample_weight = np.round(np.random.normal(WEIGHT_AVG, WEIGHT_STD, SAMPLE_SIZE), 1)\n",
    "df = pd.DataFrame({'Height': sample_height, 'Weight': sample_weight})\n",
    "\n",
    "# Standardize the data\n",
    "ss = StandardScaler()\n",
    "df_standardized = pd.DataFrame(ss.fit_transform(df), columns=df.columns)\n",
    "\n",
    "# Print data\n",
    "print(\"Original DataFrame:\")\n",
    "print(df.head())\n",
    "print(\"\\nStandardized DataFrame:\")\n",
    "print(df_standardized.head())"
   ]
  }
 ],
 "metadata": {
  "kernelspec": {
   "display_name": ".venv",
   "language": "python",
   "name": "python3"
  },
  "language_info": {
   "codemirror_mode": {
    "name": "ipython",
    "version": 3
   },
   "file_extension": ".py",
   "mimetype": "text/x-python",
   "name": "python",
   "nbconvert_exporter": "python",
   "pygments_lexer": "ipython3",
   "version": "3.12.3"
  }
 },
 "nbformat": 4,
 "nbformat_minor": 2
}
