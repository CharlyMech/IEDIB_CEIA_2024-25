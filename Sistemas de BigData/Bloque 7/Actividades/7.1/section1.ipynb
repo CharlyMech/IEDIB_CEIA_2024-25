{
 "cells": [
  {
   "cell_type": "markdown",
   "metadata": {},
   "source": [
    "## Detection of missing or unreliable values\n",
    "\n",
    "#### 1.1: Set SO₂, NO, and NO₂ values to _np.nan_ if their flag is different from ‘V’. Calculate the average of the 3 variables (without regard to the values _np.nan_)."
   ]
  },
  {
   "cell_type": "markdown",
   "metadata": {},
   "source": [
    "#### 1.2: Replace all np.nan values ​​as follows\n",
    "\n",
    "- ##### For SO₂, replace with predecessor value\n",
    "- ##### For NO, replace with successor value\n",
    "- ##### For NO₂, replace with average of non-null values\n",
    "\n",
    "#### Recalculate the average and compare it with the one you obtained in the previous section."
   ]
  }
 ],
 "metadata": {
  "kernelspec": {
   "display_name": ".venv",
   "language": "python",
   "name": "python3"
  },
  "language_info": {
   "name": "python",
   "version": "3.12.3"
  }
 },
 "nbformat": 4,
 "nbformat_minor": 2
}
