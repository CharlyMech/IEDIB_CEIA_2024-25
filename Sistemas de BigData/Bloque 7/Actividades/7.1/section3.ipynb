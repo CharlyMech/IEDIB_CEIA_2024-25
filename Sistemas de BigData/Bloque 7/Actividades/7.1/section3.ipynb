{
 "cells": [
  {
   "cell_type": "markdown",
   "metadata": {},
   "source": [
    "#### Download the file with the summary of the accommodations: [listings.csv](https://raw.githubusercontent.com/tnavarrete-iedib/bigdata-24-25/refs/heads/main/listings.csv). We are going to focus on the price per night (_price_ column).\n",
    "\n",
    "#### 3.1. Show the boxplot of the price per night."
   ]
  },
  {
   "cell_type": "code",
   "execution_count": 1,
   "metadata": {},
   "outputs": [
    {
     "name": "stdout",
     "output_type": "stream",
     "text": [
      "  % Total    % Received % Xferd  Average Speed   Time    Time     Time  Current\n",
      "                                 Dload  Upload   Total   Spent    Left  Speed\n",
      "100  570k  100  570k    0     0  1022k      0 --:--:-- --:--:-- --:--:-- 1023k\n"
     ]
    }
   ],
   "source": [
    "!curl -o section3.csv https://raw.githubusercontent.com/tnavarrete-iedib/bigdata-24-25/refs/heads/main/listings.csv"
   ]
  },
  {
   "cell_type": "code",
   "execution_count": 2,
   "metadata": {},
   "outputs": [
    {
     "data": {
      "text/html": [
       "<div>\n",
       "<style scoped>\n",
       "    .dataframe tbody tr th:only-of-type {\n",
       "        vertical-align: middle;\n",
       "    }\n",
       "\n",
       "    .dataframe tbody tr th {\n",
       "        vertical-align: top;\n",
       "    }\n",
       "\n",
       "    .dataframe thead th {\n",
       "        text-align: right;\n",
       "    }\n",
       "</style>\n",
       "<table border=\"1\" class=\"dataframe\">\n",
       "  <thead>\n",
       "    <tr style=\"text-align: right;\">\n",
       "      <th></th>\n",
       "      <th>id</th>\n",
       "      <th>name</th>\n",
       "      <th>host_id</th>\n",
       "      <th>host_name</th>\n",
       "      <th>neighbourhood_group</th>\n",
       "      <th>neighbourhood</th>\n",
       "      <th>latitude</th>\n",
       "      <th>longitude</th>\n",
       "      <th>room_type</th>\n",
       "      <th>price</th>\n",
       "      <th>minimum_nights</th>\n",
       "      <th>number_of_reviews</th>\n",
       "      <th>last_review</th>\n",
       "      <th>reviews_per_month</th>\n",
       "      <th>calculated_host_listings_count</th>\n",
       "      <th>availability_365</th>\n",
       "      <th>number_of_reviews_ltm</th>\n",
       "      <th>license</th>\n",
       "    </tr>\n",
       "  </thead>\n",
       "  <tbody>\n",
       "    <tr>\n",
       "      <th>0</th>\n",
       "      <td>44085</td>\n",
       "      <td>Villa in Addaia great sea view and fun pool</td>\n",
       "      <td>193043</td>\n",
       "      <td>Manuela</td>\n",
       "      <td>NaN</td>\n",
       "      <td>Es Mercadal</td>\n",
       "      <td>40.00974</td>\n",
       "      <td>4.19958</td>\n",
       "      <td>Entire home/apt</td>\n",
       "      <td>460.0</td>\n",
       "      <td>5</td>\n",
       "      <td>21</td>\n",
       "      <td>2024-08-25</td>\n",
       "      <td>0.14</td>\n",
       "      <td>3</td>\n",
       "      <td>0</td>\n",
       "      <td>1</td>\n",
       "      <td>ET3036ME</td>\n",
       "    </tr>\n",
       "    <tr>\n",
       "      <th>1</th>\n",
       "      <td>102558</td>\n",
       "      <td>appartment in Menorca -Cala Galdana</td>\n",
       "      <td>536023</td>\n",
       "      <td>Yolanda</td>\n",
       "      <td>NaN</td>\n",
       "      <td>Ciutadella de Menorca</td>\n",
       "      <td>39.94340</td>\n",
       "      <td>3.96130</td>\n",
       "      <td>Entire home/apt</td>\n",
       "      <td>121.0</td>\n",
       "      <td>3</td>\n",
       "      <td>67</td>\n",
       "      <td>2024-10-29</td>\n",
       "      <td>0.41</td>\n",
       "      <td>1</td>\n",
       "      <td>343</td>\n",
       "      <td>9</td>\n",
       "      <td>ET2253ME</td>\n",
       "    </tr>\n",
       "    <tr>\n",
       "      <th>2</th>\n",
       "      <td>294398</td>\n",
       "      <td>Son Esquella - Charming Menorca</td>\n",
       "      <td>312145</td>\n",
       "      <td>Sol</td>\n",
       "      <td>NaN</td>\n",
       "      <td>Alaior</td>\n",
       "      <td>39.89082</td>\n",
       "      <td>4.11595</td>\n",
       "      <td>Entire home/apt</td>\n",
       "      <td>NaN</td>\n",
       "      <td>32</td>\n",
       "      <td>11</td>\n",
       "      <td>2019-09-08</td>\n",
       "      <td>0.10</td>\n",
       "      <td>3</td>\n",
       "      <td>0</td>\n",
       "      <td>0</td>\n",
       "      <td>NaN</td>\n",
       "    </tr>\n",
       "    <tr>\n",
       "      <th>3</th>\n",
       "      <td>295705</td>\n",
       "      <td>The Most Perfect Villa in Menorca!</td>\n",
       "      <td>312145</td>\n",
       "      <td>Sol</td>\n",
       "      <td>NaN</td>\n",
       "      <td>Alaior</td>\n",
       "      <td>39.89028</td>\n",
       "      <td>4.11476</td>\n",
       "      <td>Entire home/apt</td>\n",
       "      <td>NaN</td>\n",
       "      <td>32</td>\n",
       "      <td>24</td>\n",
       "      <td>2022-05-30</td>\n",
       "      <td>0.16</td>\n",
       "      <td>3</td>\n",
       "      <td>0</td>\n",
       "      <td>0</td>\n",
       "      <td>NaN</td>\n",
       "    </tr>\n",
       "    <tr>\n",
       "      <th>4</th>\n",
       "      <td>357026</td>\n",
       "      <td>Coqueto apartamento Son Bou Menorca + Rent our...</td>\n",
       "      <td>1740878</td>\n",
       "      <td>Emilio</td>\n",
       "      <td>NaN</td>\n",
       "      <td>Alaior</td>\n",
       "      <td>39.90520</td>\n",
       "      <td>4.07072</td>\n",
       "      <td>Entire home/apt</td>\n",
       "      <td>75.0</td>\n",
       "      <td>5</td>\n",
       "      <td>83</td>\n",
       "      <td>2024-11-03</td>\n",
       "      <td>0.55</td>\n",
       "      <td>1</td>\n",
       "      <td>288</td>\n",
       "      <td>16</td>\n",
       "      <td>Licencia San Jaume Zona 5 APM-1880</td>\n",
       "    </tr>\n",
       "  </tbody>\n",
       "</table>\n",
       "</div>"
      ],
      "text/plain": [
       "       id                                               name  host_id  \\\n",
       "0   44085        Villa in Addaia great sea view and fun pool   193043   \n",
       "1  102558                appartment in Menorca -Cala Galdana   536023   \n",
       "2  294398                    Son Esquella - Charming Menorca   312145   \n",
       "3  295705                 The Most Perfect Villa in Menorca!   312145   \n",
       "4  357026  Coqueto apartamento Son Bou Menorca + Rent our...  1740878   \n",
       "\n",
       "  host_name  neighbourhood_group          neighbourhood  latitude  longitude  \\\n",
       "0   Manuela                  NaN            Es Mercadal  40.00974    4.19958   \n",
       "1   Yolanda                  NaN  Ciutadella de Menorca  39.94340    3.96130   \n",
       "2       Sol                  NaN                 Alaior  39.89082    4.11595   \n",
       "3       Sol                  NaN                 Alaior  39.89028    4.11476   \n",
       "4    Emilio                  NaN                 Alaior  39.90520    4.07072   \n",
       "\n",
       "         room_type  price  minimum_nights  number_of_reviews last_review  \\\n",
       "0  Entire home/apt  460.0               5                 21  2024-08-25   \n",
       "1  Entire home/apt  121.0               3                 67  2024-10-29   \n",
       "2  Entire home/apt    NaN              32                 11  2019-09-08   \n",
       "3  Entire home/apt    NaN              32                 24  2022-05-30   \n",
       "4  Entire home/apt   75.0               5                 83  2024-11-03   \n",
       "\n",
       "   reviews_per_month  calculated_host_listings_count  availability_365  \\\n",
       "0               0.14                               3                 0   \n",
       "1               0.41                               1               343   \n",
       "2               0.10                               3                 0   \n",
       "3               0.16                               3                 0   \n",
       "4               0.55                               1               288   \n",
       "\n",
       "   number_of_reviews_ltm                             license  \n",
       "0                      1                            ET3036ME  \n",
       "1                      9                            ET2253ME  \n",
       "2                      0                                 NaN  \n",
       "3                      0                                 NaN  \n",
       "4                     16  Licencia San Jaume Zona 5 APM-1880  "
      ]
     },
     "execution_count": 2,
     "metadata": {},
     "output_type": "execute_result"
    }
   ],
   "source": [
    "import seaborn as sns\n",
    "import numpy as np\n",
    "import pandas as pd\n",
    "\n",
    "df = pd.read_csv('section3.csv')\n",
    "df.head()"
   ]
  },
  {
   "cell_type": "code",
   "execution_count": 3,
   "metadata": {},
   "outputs": [
    {
     "data": {
      "text/plain": [
       "<Axes: xlabel='price'>"
      ]
     },
     "execution_count": 3,
     "metadata": {},
     "output_type": "execute_result"
    },
    {
     "data": {
      "image/png": "[encoded data removed]",
      "text/plain": [
       "<Figure size 640x480 with 1 Axes>"
      ]
     },
     "metadata": {},
     "output_type": "display_data"
    }
   ],
   "source": [
    "sns.boxplot(x=df['price'])"
   ]
  },
  {
   "cell_type": "markdown",
   "metadata": {},
   "source": [
    "#### 3.2. Calculate the average price and its median. Detect the outliers and replace their values ​​with the average price you have calculated. We will consider as an outlier the one that is separated from the average by more than 2 times the standard deviation. Then, calculate the average and median again. Comment on whether they have changed and, if so, how."
   ]
  },
  {
   "cell_type": "code",
   "execution_count": 3,
   "metadata": {},
   "outputs": [
    {
     "name": "stdout",
     "output_type": "stream",
     "text": [
      "- Standard deviation:\t1188.8051477663794\n",
      "- Mean:\t436.13595816671796\t->\t305.37389295355354\n",
      "- Median:\t192.0\t->\t192.0\n"
     ]
    }
   ],
   "source": [
    "# Calculate current mean, median, and standard deviation values with outliners\n",
    "mean_price = df['price'].mean()\n",
    "median_price = df['price'].median()\n",
    "std_price = df['price'].std()\n",
    "\n",
    "# Detect outliners and replace them\n",
    "df_no_outliners = df.copy() # Just to keep the original dataframe\n",
    "df_no_outliners['price'] = np.where((df['price'] < (mean_price - 2 * std_price)) | (df['price'] > (mean_price + 2 * std_price)), mean_price, df['price'])\n",
    "\n",
    "# Recalculate mean and median values without outliners\n",
    "new_mean_price = df_no_outliners['price'].mean()\n",
    "new_median_price = df_no_outliners['price'].median()\n",
    "\n",
    "# Print results\n",
    "print(f'- Standard deviation:\\t{std_price}')\n",
    "print(f'- Mean:\\t{mean_price}\\t->\\t{new_mean_price}')\n",
    "print(f'- Median:\\t{median_price}\\t->\\t{new_median_price}')"
   ]
  },
  {
   "cell_type": "markdown",
   "metadata": {},
   "source": [
    "Since mean is affected due to the addition of extream values (the outliers), median is not because it's just the central value when data is sorted. Median just gets affected when the central values of the distribution are modified."
   ]
  },
  {
   "cell_type": "markdown",
   "metadata": {},
   "source": [
    "#### 3.3. Calculate the average price (once the outliers have been replaced) per night for each of the municipalities on the island and order them from most expensive to cheapest."
   ]
  },
  {
   "cell_type": "code",
   "execution_count": 4,
   "metadata": {},
   "outputs": [
    {
     "name": "stdout",
     "output_type": "stream",
     "text": [
      "Average price per neighbourhood: neighbourhood\n",
      "Es Migjorn Gran          489.257046\n",
      "Ferreries                403.790431\n",
      "Sant Lluís               398.284436\n",
      "Mahón                    358.397254\n",
      "Alaior                   298.709857\n",
      "Ciutadella de Menorca    271.465242\n",
      "Es Mercadal              269.029271\n",
      "Es Castell               207.100000\n",
      "Name: price, dtype: float64\n"
     ]
    }
   ],
   "source": [
    "avg_price_per_neighbourhood = df_no_outliners.groupby('neighbourhood')['price'].mean()\n",
    "sorted_avg_price = avg_price_per_neighbourhood.sort_values(ascending=False)\n",
    "print(f'Average price per neighbourhood: {sorted_avg_price}')"
   ]
  },
  {
   "cell_type": "markdown",
   "metadata": {},
   "source": [
    "#### Now we will also work with the detailed comments file: [reviews.csv.gz](https://github.com/tnavarrete-iedib/bigdata-24-25/raw/refs/heads/main/reviews.csv.gz)\n",
    "\n",
    "#### 3.4. Tell which are the 10 users (_reviewer\\_id_) who have written the most comments on the accommodations that have a license (_license_ column), sorted from most to least comments."
   ]
  },
  {
   "cell_type": "code",
   "execution_count": null,
   "metadata": {},
   "outputs": [],
   "source": [
    "!curl -L -o reviews.csv.gz https://github.com/tnavarrete-iedib/bigdata-24-25/raw/refs/heads/main/reviews.csv.gz\n",
    "!gzip -d reviews.csv.gz"
   ]
  },
  {
   "cell_type": "code",
   "execution_count": null,
   "metadata": {},
   "outputs": [],
   "source": [
    "df_reviews = pd.read_csv('reviews.csv')\n",
    "df_listings = df.copy()\n",
    "\n",
    "merged_data = df_reviews.merge(df_listings[['id', 'license']], left_on='listing_id', right_on='id') # Merged data\n",
    "licensed_reviews = merged_data[merged_data['license'].notna()] # Filter data -> remove rows that don't have license\n",
    "\n",
    "# Get the top reviewers, sort them and get top 10\n",
    "top_reviewers = licensed_reviews.groupby('reviewer_id').size().reset_index(name='comment_count')\n",
    "sorted_top = top_reviewers.sort_values(by='comment_count', ascending=False)\n",
    "top_10 = sorted_top.head(10)\n",
    "\n",
    "print('TOP 10 REVIEWERS:')\n",
    "print(top_10)"
   ]
  },
  {
   "cell_type": "markdown",
   "metadata": {},
   "source": [
    "#### 3.5. Calculate how many comments there are for each municipality on the island (you cannot use the _number\\_of\\_reviews_ column in the listings file, you have to calculate it from the data in the _reviews_ file). Sort them in descending order by the number of comments."
   ]
  },
  {
   "cell_type": "code",
   "execution_count": 6,
   "metadata": {},
   "outputs": [
    {
     "name": "stdout",
     "output_type": "stream",
     "text": [
      "Comments per neighbourhood:\n",
      "           neighbourhood  comment_count\n",
      "1  Ciutadella de Menorca          32756\n",
      "0                 Alaior          12446\n",
      "3            Es Mercadal          11876\n",
      "7             Sant Lluís           9441\n",
      "6                  Mahón           2990\n",
      "5              Ferreries           2057\n",
      "4        Es Migjorn Gran            729\n",
      "2             Es Castell            717\n"
     ]
    }
   ],
   "source": [
    "# Merge reviews with listings to include neighbourhood column\n",
    "merged_data = df_reviews.merge(df_listings[['id', 'neighbourhood']], left_on='listing_id', right_on='id')\n",
    "\n",
    "# Count and sort\n",
    "comments_per_neighbourhood = merged_data.groupby('neighbourhood').size().reset_index(name='comment_count')\n",
    "sorted_comments = comments_per_neighbourhood.sort_values(by='comment_count', ascending=False)\n",
    "\n",
    "print('Comments per neighbourhood:')\n",
    "print(sorted_comments)"
   ]
  }
 ],
 "metadata": {
  "kernelspec": {
   "display_name": ".venv",
   "language": "python",
   "name": "python3"
  },
  "language_info": {
   "codemirror_mode": {
    "name": "ipython",
    "version": 3
   },
   "file_extension": ".py",
   "mimetype": "text/x-python",
   "name": "python",
   "nbconvert_exporter": "python",
   "pygments_lexer": "ipython3",
   "version": "3.12.3"
  }
 },
 "nbformat": 4,
 "nbformat_minor": 2
}
