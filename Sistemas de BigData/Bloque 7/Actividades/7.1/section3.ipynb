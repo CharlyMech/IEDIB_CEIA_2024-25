{
 "cells": [
  {
   "cell_type": "markdown",
   "metadata": {},
   "source": [
    "#### Download the file with the summary of the accommodations: [listings.csv](https://raw.githubusercontent.com/tnavarrete-iedib/bigdata-24-25/refs/heads/main/listings.csv). We are going to focus on the price per night (_price_ column).\n",
    "\n",
    "#### 3.1. Show the boxplot of the price per night."
   ]
  },
  {
   "cell_type": "markdown",
   "metadata": {},
   "source": [
    "#### 3.2. Calculate the average price and its median. Detect the outliers and replace their values ​​with the average price you have calculated. We will consider as an outlier the one that is separated from the average by more than 2 times the standard deviation. Then, calculate the average and median again. Comment on whether they have changed and, if so, how."
   ]
  },
  {
   "cell_type": "markdown",
   "metadata": {},
   "source": [
    "#### 3.3. Calculate the average price (once the outliers have been replaced) per night for each of the municipalities on the island and order them from most expensive to cheapest."
   ]
  },
  {
   "cell_type": "markdown",
   "metadata": {},
   "source": [
    "#### Now we will also work with the detailed comments file: [reviews.csv.gz](https://github.com/tnavarrete-iedib/bigdata-24-25/raw/refs/heads/main/reviews.csv.gz)\n",
    "\n",
    "#### 3.4. Tell which are the 10 users (_reviewer\\_id_) who have written the most comments on the accommodations that have a license (_license_ column), sorted from most to least comments."
   ]
  },
  {
   "cell_type": "markdown",
   "metadata": {},
   "source": [
    "#### 3.5. Calculate how many comments there are for each municipality on the island (you cannot use the _number\\_of\\_reviews_ column in the listings file, you have to calculate it from the data in the _reviews_ file). Sort them in descending order by the number of comments."
   ]
  }
 ],
 "metadata": {
  "language_info": {
   "name": "python"
  }
 },
 "nbformat": 4,
 "nbformat_minor": 2
}
